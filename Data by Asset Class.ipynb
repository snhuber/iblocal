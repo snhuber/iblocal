{
 "cells": [
  {
   "cell_type": "code",
   "execution_count": 1,
   "metadata": {},
   "outputs": [],
   "source": [
    "from ib_insync import *\n",
    "util.startLoop()"
   ]
  },
  {
   "cell_type": "code",
   "execution_count": 2,
   "metadata": {},
   "outputs": [
    {
     "data": {
      "text/plain": [
       "<IB connected to :7497 clientId=2>"
      ]
     },
     "execution_count": 2,
     "metadata": {},
     "output_type": "execute_result"
    }
   ],
   "source": [
    "ib = IB()\n",
    "ib.connect('', 7497, clientId=2)"
   ]
  },
  {
   "cell_type": "code",
   "execution_count": 3,
   "metadata": {},
   "outputs": [
    {
     "data": {
      "text/plain": [
       "[AccountValue(account='DU1113767', tag='NetLiquidationByCurrency', value='1017820.8326', currency='BASE', modelCode='')]"
      ]
     },
     "execution_count": 3,
     "metadata": {},
     "output_type": "execute_result"
    }
   ],
   "source": [
    "[v for v in ib.accountValues() if v.tag == 'NetLiquidationByCurrency' and v.currency == 'BASE']"
   ]
  },
  {
   "cell_type": "markdown",
   "metadata": {},
   "source": [
    "# Stocks"
   ]
  },
  {
   "cell_type": "code",
   "execution_count": 4,
   "metadata": {
    "scrolled": true
   },
   "outputs": [],
   "source": [
    "contract = Stock('MSFT', 'SMART', 'USD', primaryExchange='NASDAQ')"
   ]
  },
  {
   "cell_type": "code",
   "execution_count": 5,
   "metadata": {},
   "outputs": [],
   "source": [
    "bars = ib.reqHistoricalData(contract,\n",
    "                           endDateTime='',\n",
    "                           durationStr='60 D',\n",
    "                           barSizeSetting='1 hour',\n",
    "                           whatToShow='Trades',\n",
    "                           useRTH=True,\n",
    "                           formatDate=1)"
   ]
  },
  {
   "cell_type": "code",
   "execution_count": 6,
   "metadata": {},
   "outputs": [
    {
     "data": {
      "text/plain": [
       "BarData(date=datetime.datetime(2018, 8, 9, 9, 0), open=109.9, high=109.94, low=109.9, close=109.92, volume=575, barCount=374, average=109.914)"
      ]
     },
     "execution_count": 6,
     "metadata": {},
     "output_type": "execute_result"
    }
   ],
   "source": [
    "bars[-1]"
   ]
  },
  {
   "cell_type": "code",
   "execution_count": 7,
   "metadata": {},
   "outputs": [
    {
     "name": "stderr",
     "output_type": "stream",
     "text": [
      "/Users/lorinfields/anaconda3/lib/python3.6/importlib/_bootstrap.py:219: RuntimeWarning: numpy.dtype size changed, may indicate binary incompatibility. Expected 96, got 88\n",
      "  return f(*args, **kwds)\n",
      "/Users/lorinfields/anaconda3/lib/python3.6/importlib/_bootstrap.py:219: RuntimeWarning: numpy.dtype size changed, may indicate binary incompatibility. Expected 96, got 88\n",
      "  return f(*args, **kwds)\n"
     ]
    },
    {
     "data": {
      "text/html": [
       "<div>\n",
       "<style scoped>\n",
       "    .dataframe tbody tr th:only-of-type {\n",
       "        vertical-align: middle;\n",
       "    }\n",
       "\n",
       "    .dataframe tbody tr th {\n",
       "        vertical-align: top;\n",
       "    }\n",
       "\n",
       "    .dataframe thead th {\n",
       "        text-align: right;\n",
       "    }\n",
       "</style>\n",
       "<table border=\"1\" class=\"dataframe\">\n",
       "  <thead>\n",
       "    <tr style=\"text-align: right;\">\n",
       "      <th></th>\n",
       "      <th>date</th>\n",
       "      <th>open</th>\n",
       "      <th>high</th>\n",
       "      <th>low</th>\n",
       "      <th>close</th>\n",
       "      <th>volume</th>\n",
       "      <th>barCount</th>\n",
       "      <th>average</th>\n",
       "    </tr>\n",
       "  </thead>\n",
       "  <tbody>\n",
       "    <tr>\n",
       "      <th>0</th>\n",
       "      <td>2018-05-16 06:30:00</td>\n",
       "      <td>97.35</td>\n",
       "      <td>97.38</td>\n",
       "      <td>96.61</td>\n",
       "      <td>97.14</td>\n",
       "      <td>19549</td>\n",
       "      <td>9476</td>\n",
       "      <td>97.027</td>\n",
       "    </tr>\n",
       "    <tr>\n",
       "      <th>1</th>\n",
       "      <td>2018-05-16 07:00:00</td>\n",
       "      <td>97.15</td>\n",
       "      <td>97.34</td>\n",
       "      <td>96.87</td>\n",
       "      <td>97.01</td>\n",
       "      <td>25577</td>\n",
       "      <td>14121</td>\n",
       "      <td>97.171</td>\n",
       "    </tr>\n",
       "    <tr>\n",
       "      <th>2</th>\n",
       "      <td>2018-05-16 08:00:00</td>\n",
       "      <td>97.01</td>\n",
       "      <td>97.02</td>\n",
       "      <td>96.66</td>\n",
       "      <td>96.95</td>\n",
       "      <td>15988</td>\n",
       "      <td>9316</td>\n",
       "      <td>96.850</td>\n",
       "    </tr>\n",
       "    <tr>\n",
       "      <th>3</th>\n",
       "      <td>2018-05-16 09:00:00</td>\n",
       "      <td>96.96</td>\n",
       "      <td>97.40</td>\n",
       "      <td>96.95</td>\n",
       "      <td>97.25</td>\n",
       "      <td>15807</td>\n",
       "      <td>9686</td>\n",
       "      <td>97.199</td>\n",
       "    </tr>\n",
       "    <tr>\n",
       "      <th>4</th>\n",
       "      <td>2018-05-16 10:00:00</td>\n",
       "      <td>97.24</td>\n",
       "      <td>97.27</td>\n",
       "      <td>96.80</td>\n",
       "      <td>96.94</td>\n",
       "      <td>11847</td>\n",
       "      <td>7205</td>\n",
       "      <td>97.066</td>\n",
       "    </tr>\n",
       "  </tbody>\n",
       "</table>\n",
       "</div>"
      ],
      "text/plain": [
       "                 date   open   high    low  close  volume  barCount  average\n",
       "0 2018-05-16 06:30:00  97.35  97.38  96.61  97.14   19549      9476   97.027\n",
       "1 2018-05-16 07:00:00  97.15  97.34  96.87  97.01   25577     14121   97.171\n",
       "2 2018-05-16 08:00:00  97.01  97.02  96.66  96.95   15988      9316   96.850\n",
       "3 2018-05-16 09:00:00  96.96  97.40  96.95  97.25   15807      9686   97.199\n",
       "4 2018-05-16 10:00:00  97.24  97.27  96.80  96.94   11847      7205   97.066"
      ]
     },
     "metadata": {},
     "output_type": "display_data"
    },
    {
     "data": {
      "text/html": [
       "<div>\n",
       "<style scoped>\n",
       "    .dataframe tbody tr th:only-of-type {\n",
       "        vertical-align: middle;\n",
       "    }\n",
       "\n",
       "    .dataframe tbody tr th {\n",
       "        vertical-align: top;\n",
       "    }\n",
       "\n",
       "    .dataframe thead th {\n",
       "        text-align: right;\n",
       "    }\n",
       "</style>\n",
       "<table border=\"1\" class=\"dataframe\">\n",
       "  <thead>\n",
       "    <tr style=\"text-align: right;\">\n",
       "      <th></th>\n",
       "      <th>date</th>\n",
       "      <th>open</th>\n",
       "      <th>high</th>\n",
       "      <th>low</th>\n",
       "      <th>close</th>\n",
       "      <th>volume</th>\n",
       "      <th>barCount</th>\n",
       "      <th>average</th>\n",
       "    </tr>\n",
       "  </thead>\n",
       "  <tbody>\n",
       "    <tr>\n",
       "      <th>409</th>\n",
       "      <td>2018-08-08 12:00:00</td>\n",
       "      <td>109.43</td>\n",
       "      <td>109.75</td>\n",
       "      <td>109.40</td>\n",
       "      <td>109.48</td>\n",
       "      <td>29104</td>\n",
       "      <td>16925</td>\n",
       "      <td>109.573</td>\n",
       "    </tr>\n",
       "    <tr>\n",
       "      <th>410</th>\n",
       "      <td>2018-08-09 06:30:00</td>\n",
       "      <td>109.84</td>\n",
       "      <td>110.16</td>\n",
       "      <td>109.71</td>\n",
       "      <td>109.91</td>\n",
       "      <td>19989</td>\n",
       "      <td>9697</td>\n",
       "      <td>109.992</td>\n",
       "    </tr>\n",
       "    <tr>\n",
       "      <th>411</th>\n",
       "      <td>2018-08-09 07:00:00</td>\n",
       "      <td>109.92</td>\n",
       "      <td>110.05</td>\n",
       "      <td>109.71</td>\n",
       "      <td>109.94</td>\n",
       "      <td>18964</td>\n",
       "      <td>10801</td>\n",
       "      <td>109.932</td>\n",
       "    </tr>\n",
       "    <tr>\n",
       "      <th>412</th>\n",
       "      <td>2018-08-09 08:00:00</td>\n",
       "      <td>109.95</td>\n",
       "      <td>110.11</td>\n",
       "      <td>109.77</td>\n",
       "      <td>109.91</td>\n",
       "      <td>14078</td>\n",
       "      <td>8450</td>\n",
       "      <td>109.969</td>\n",
       "    </tr>\n",
       "    <tr>\n",
       "      <th>413</th>\n",
       "      <td>2018-08-09 09:00:00</td>\n",
       "      <td>109.90</td>\n",
       "      <td>109.94</td>\n",
       "      <td>109.90</td>\n",
       "      <td>109.92</td>\n",
       "      <td>575</td>\n",
       "      <td>374</td>\n",
       "      <td>109.914</td>\n",
       "    </tr>\n",
       "  </tbody>\n",
       "</table>\n",
       "</div>"
      ],
      "text/plain": [
       "                   date    open    high     low   close  volume  barCount  \\\n",
       "409 2018-08-08 12:00:00  109.43  109.75  109.40  109.48   29104     16925   \n",
       "410 2018-08-09 06:30:00  109.84  110.16  109.71  109.91   19989      9697   \n",
       "411 2018-08-09 07:00:00  109.92  110.05  109.71  109.94   18964     10801   \n",
       "412 2018-08-09 08:00:00  109.95  110.11  109.77  109.91   14078      8450   \n",
       "413 2018-08-09 09:00:00  109.90  109.94  109.90  109.92     575       374   \n",
       "\n",
       "     average  \n",
       "409  109.573  \n",
       "410  109.992  \n",
       "411  109.932  \n",
       "412  109.969  \n",
       "413  109.914  "
      ]
     },
     "metadata": {},
     "output_type": "display_data"
    }
   ],
   "source": [
    "df = util.df(bars)\n",
    "display(df.head())\n",
    "display(df.tail())"
   ]
  },
  {
   "cell_type": "code",
   "execution_count": 40,
   "metadata": {},
   "outputs": [
    {
     "name": "stdout",
     "output_type": "stream",
     "text": [
      "setCallback will be depreciated, use events instead\n"
     ]
    }
   ],
   "source": [
    "def onBarUpdate(bars, hasNewBar):\n",
    "    print(bars[-1])\n",
    "\n",
    "ib.setCallback('barUpdate', onBarUpdate)"
   ]
  },
  {
   "cell_type": "code",
   "execution_count": 41,
   "metadata": {},
   "outputs": [
    {
     "name": "stdout",
     "output_type": "stream",
     "text": [
      "RealTimeBar(time=datetime.datetime(2018, 8, 8, 19, 22, 5, tzinfo=datetime.timezone.utc), open=109.495, high=109.495, low=109.495, close=109.495, volume=-1, wap=-1.0, count=-1)\n"
     ]
    }
   ],
   "source": [
    "bars = ib.reqRealTimeBars(contract, 5, 'MIDPOINT', False)"
   ]
  },
  {
   "cell_type": "code",
   "execution_count": 8,
   "metadata": {},
   "outputs": [],
   "source": [
    "ib.sleep(10)\n",
    "ib.cancelRealTimeBars(bars)"
   ]
  },
  {
   "cell_type": "code",
   "execution_count": 46,
   "metadata": {},
   "outputs": [
    {
     "data": {
      "text/html": [
       "<div>\n",
       "<style scoped>\n",
       "    .dataframe tbody tr th:only-of-type {\n",
       "        vertical-align: middle;\n",
       "    }\n",
       "\n",
       "    .dataframe tbody tr th {\n",
       "        vertical-align: top;\n",
       "    }\n",
       "\n",
       "    .dataframe thead th {\n",
       "        text-align: right;\n",
       "    }\n",
       "</style>\n",
       "<table border=\"1\" class=\"dataframe\">\n",
       "  <thead>\n",
       "    <tr style=\"text-align: right;\">\n",
       "      <th></th>\n",
       "      <th>bidSize</th>\n",
       "      <th>bidPrice</th>\n",
       "      <th>askPrice</th>\n",
       "      <th>askSize</th>\n",
       "    </tr>\n",
       "  </thead>\n",
       "  <tbody>\n",
       "    <tr>\n",
       "      <th>0</th>\n",
       "      <td>0</td>\n",
       "      <td>0</td>\n",
       "      <td>0</td>\n",
       "      <td>0</td>\n",
       "    </tr>\n",
       "    <tr>\n",
       "      <th>1</th>\n",
       "      <td>0</td>\n",
       "      <td>0</td>\n",
       "      <td>0</td>\n",
       "      <td>0</td>\n",
       "    </tr>\n",
       "    <tr>\n",
       "      <th>2</th>\n",
       "      <td>0</td>\n",
       "      <td>0</td>\n",
       "      <td>0</td>\n",
       "      <td>0</td>\n",
       "    </tr>\n",
       "    <tr>\n",
       "      <th>3</th>\n",
       "      <td>0</td>\n",
       "      <td>0</td>\n",
       "      <td>0</td>\n",
       "      <td>0</td>\n",
       "    </tr>\n",
       "    <tr>\n",
       "      <th>4</th>\n",
       "      <td>0</td>\n",
       "      <td>0</td>\n",
       "      <td>0</td>\n",
       "      <td>0</td>\n",
       "    </tr>\n",
       "  </tbody>\n",
       "</table>\n",
       "</div>"
      ],
      "text/plain": [
       "   bidSize  bidPrice  askPrice  askSize\n",
       "0        0         0         0        0\n",
       "1        0         0         0        0\n",
       "2        0         0         0        0\n",
       "3        0         0         0        0\n",
       "4        0         0         0        0"
      ]
     },
     "metadata": {},
     "output_type": "display_data"
    }
   ],
   "source": [
    "ticker = ib.reqMktDepth(contract)\n",
    "from IPython.display import display, clear_output\n",
    "import pandas as pd\n",
    "\n",
    "df = pd.DataFrame(index=range(5),\n",
    "        columns='bidSize bidPrice askPrice askSize'.split())\n",
    "\n",
    "for t in ib.loopUntil(timeout=15):\n",
    "    l = ticker.domBids\n",
    "for i in range(5):\n",
    "    df.iloc[i, 0] = l[i].size if i < len(l) else 0\n",
    "    df.iloc[i, 1] = l[i].price if i < len(l) else 0\n",
    "l = ticker.domAsks\n",
    "for i in range(5):\n",
    "    df.iloc[i, 2] = l[i].price if i < len(l) else 0\n",
    "    df.iloc[i, 3] = l[i].size if i < len(l) else 0\n",
    "clear_output(wait=True)\n",
    "display(df)\n",
    "\n",
    "    \n",
    "    "
   ]
  },
  {
   "cell_type": "code",
   "execution_count": 9,
   "metadata": {},
   "outputs": [
    {
     "name": "stderr",
     "output_type": "stream",
     "text": [
      "ERROR:ib_insync.ib:cancelMktDepth: No reqId found for contract Stock(symbol='MSFT', exchange='SMART', primaryExchange='NASDAQ', currency='USD')\n"
     ]
    }
   ],
   "source": [
    "ib.cancelMktDepth(contract)"
   ]
  },
  {
   "cell_type": "code",
   "execution_count": 11,
   "metadata": {},
   "outputs": [],
   "source": [
    "ib.qualifyContracts(contract)\n",
    "\n",
    "order = MarketOrder('BUY', 100)"
   ]
  },
  {
   "cell_type": "code",
   "execution_count": 12,
   "metadata": {},
   "outputs": [],
   "source": [
    "trade = ib.placeOrder(contract, order)"
   ]
  },
  {
   "cell_type": "code",
   "execution_count": 13,
   "metadata": {},
   "outputs": [
    {
     "data": {
      "text/plain": [
       "[TradeLogEntry(time=datetime.datetime(2018, 8, 9, 16, 3, 3, 495105, tzinfo=datetime.timezone.utc), status='PendingSubmit', message=''),\n",
       " TradeLogEntry(time=datetime.datetime(2018, 8, 9, 16, 3, 3, 729869, tzinfo=datetime.timezone.utc), status='PreSubmitted', message=''),\n",
       " TradeLogEntry(time=datetime.datetime(2018, 8, 9, 16, 3, 3, 833259, tzinfo=datetime.timezone.utc), status='PreSubmitted', message='Fill 100.0@109.94'),\n",
       " TradeLogEntry(time=datetime.datetime(2018, 8, 9, 16, 3, 3, 833835, tzinfo=datetime.timezone.utc), status='Filled', message='')]"
      ]
     },
     "execution_count": 13,
     "metadata": {},
     "output_type": "execute_result"
    },
    {
     "name": "stderr",
     "output_type": "stream",
     "text": [
      "ERROR:ib_insync.wrapper:Error 1100, reqId -1: Connectivity between IB and Trader Workstation has been lost.\n",
      "ERROR:ib_insync.wrapper:Error 1102, reqId -1: Connectivity between IB and Trader Workstation has been restored - data maintained.\n",
      "ERROR:ib_insync.wrapper:Error 1100, reqId -1: Connectivity between IB and Trader Workstation has been lost.\n",
      "ERROR:ib_insync.wrapper:Error 1102, reqId -1: Connectivity between IB and Trader Workstation has been restored - data maintained.\n",
      "ERROR:ib_insync.client:Peer closed connection\n"
     ]
    }
   ],
   "source": [
    "ib.sleep(1)\n",
    "trade.log\n"
   ]
  },
  {
   "cell_type": "markdown",
   "metadata": {},
   "source": [
    "# Futures\n"
   ]
  },
  {
   "cell_type": "code",
   "execution_count": 52,
   "metadata": {},
   "outputs": [],
   "source": [
    "contract = Future('ES', '20180921', 'GLOBEX')"
   ]
  },
  {
   "cell_type": "code",
   "execution_count": null,
   "metadata": {},
   "outputs": [],
   "source": [
    "bars = ib.reqHistoricalData(contract,\n",
    "                           endDateTime='',\n",
    "                           durationStr='60 D',\n",
    "                           barSizeSetting='1 hour',\n",
    "                           whatToShow='Trades',\n",
    "                           useRTH=True,\n",
    "                           formatDate=1)"
   ]
  },
  {
   "cell_type": "code",
   "execution_count": 54,
   "metadata": {},
   "outputs": [
    {
     "data": {
      "text/plain": [
       "BarData(date=datetime.datetime(2018, 5, 15, 6, 30), open=2721.0, high=2721.0, low=2707.25, close=2707.5, volume=335, barCount=128, average=2713.175)"
      ]
     },
     "execution_count": 54,
     "metadata": {},
     "output_type": "execute_result"
    }
   ],
   "source": [
    "bars[0]"
   ]
  },
  {
   "cell_type": "code",
   "execution_count": 55,
   "metadata": {},
   "outputs": [
    {
     "data": {
      "text/html": [
       "<div>\n",
       "<style scoped>\n",
       "    .dataframe tbody tr th:only-of-type {\n",
       "        vertical-align: middle;\n",
       "    }\n",
       "\n",
       "    .dataframe tbody tr th {\n",
       "        vertical-align: top;\n",
       "    }\n",
       "\n",
       "    .dataframe thead th {\n",
       "        text-align: right;\n",
       "    }\n",
       "</style>\n",
       "<table border=\"1\" class=\"dataframe\">\n",
       "  <thead>\n",
       "    <tr style=\"text-align: right;\">\n",
       "      <th></th>\n",
       "      <th>date</th>\n",
       "      <th>open</th>\n",
       "      <th>high</th>\n",
       "      <th>low</th>\n",
       "      <th>close</th>\n",
       "      <th>volume</th>\n",
       "      <th>barCount</th>\n",
       "      <th>average</th>\n",
       "    </tr>\n",
       "  </thead>\n",
       "  <tbody>\n",
       "    <tr>\n",
       "      <th>0</th>\n",
       "      <td>2018-05-15 06:30:00</td>\n",
       "      <td>2721.00</td>\n",
       "      <td>2721.0</td>\n",
       "      <td>2707.25</td>\n",
       "      <td>2707.50</td>\n",
       "      <td>335</td>\n",
       "      <td>128</td>\n",
       "      <td>2713.175</td>\n",
       "    </tr>\n",
       "    <tr>\n",
       "      <th>1</th>\n",
       "      <td>2018-05-15 07:00:00</td>\n",
       "      <td>2707.00</td>\n",
       "      <td>2719.5</td>\n",
       "      <td>2707.00</td>\n",
       "      <td>2713.25</td>\n",
       "      <td>349</td>\n",
       "      <td>173</td>\n",
       "      <td>2714.500</td>\n",
       "    </tr>\n",
       "    <tr>\n",
       "      <th>2</th>\n",
       "      <td>2018-05-15 08:00:00</td>\n",
       "      <td>2714.75</td>\n",
       "      <td>2718.0</td>\n",
       "      <td>2710.25</td>\n",
       "      <td>2711.00</td>\n",
       "      <td>110</td>\n",
       "      <td>60</td>\n",
       "      <td>2714.125</td>\n",
       "    </tr>\n",
       "    <tr>\n",
       "      <th>3</th>\n",
       "      <td>2018-05-15 09:00:00</td>\n",
       "      <td>2711.50</td>\n",
       "      <td>2718.0</td>\n",
       "      <td>2707.25</td>\n",
       "      <td>2714.50</td>\n",
       "      <td>204</td>\n",
       "      <td>98</td>\n",
       "      <td>2711.750</td>\n",
       "    </tr>\n",
       "    <tr>\n",
       "      <th>4</th>\n",
       "      <td>2018-05-15 10:00:00</td>\n",
       "      <td>2714.50</td>\n",
       "      <td>2714.5</td>\n",
       "      <td>2705.25</td>\n",
       "      <td>2705.25</td>\n",
       "      <td>84</td>\n",
       "      <td>52</td>\n",
       "      <td>2710.850</td>\n",
       "    </tr>\n",
       "  </tbody>\n",
       "</table>\n",
       "</div>"
      ],
      "text/plain": [
       "                 date     open    high      low    close  volume  barCount  \\\n",
       "0 2018-05-15 06:30:00  2721.00  2721.0  2707.25  2707.50     335       128   \n",
       "1 2018-05-15 07:00:00  2707.00  2719.5  2707.00  2713.25     349       173   \n",
       "2 2018-05-15 08:00:00  2714.75  2718.0  2710.25  2711.00     110        60   \n",
       "3 2018-05-15 09:00:00  2711.50  2718.0  2707.25  2714.50     204        98   \n",
       "4 2018-05-15 10:00:00  2714.50  2714.5  2705.25  2705.25      84        52   \n",
       "\n",
       "    average  \n",
       "0  2713.175  \n",
       "1  2714.500  \n",
       "2  2714.125  \n",
       "3  2711.750  \n",
       "4  2710.850  "
      ]
     },
     "metadata": {},
     "output_type": "display_data"
    },
    {
     "data": {
      "text/html": [
       "<div>\n",
       "<style scoped>\n",
       "    .dataframe tbody tr th:only-of-type {\n",
       "        vertical-align: middle;\n",
       "    }\n",
       "\n",
       "    .dataframe tbody tr th {\n",
       "        vertical-align: top;\n",
       "    }\n",
       "\n",
       "    .dataframe thead th {\n",
       "        text-align: right;\n",
       "    }\n",
       "</style>\n",
       "<table border=\"1\" class=\"dataframe\">\n",
       "  <thead>\n",
       "    <tr style=\"text-align: right;\">\n",
       "      <th></th>\n",
       "      <th>date</th>\n",
       "      <th>open</th>\n",
       "      <th>high</th>\n",
       "      <th>low</th>\n",
       "      <th>close</th>\n",
       "      <th>volume</th>\n",
       "      <th>barCount</th>\n",
       "      <th>average</th>\n",
       "    </tr>\n",
       "  </thead>\n",
       "  <tbody>\n",
       "    <tr>\n",
       "      <th>530</th>\n",
       "      <td>2018-08-08 09:00:00</td>\n",
       "      <td>2857.75</td>\n",
       "      <td>2859.5</td>\n",
       "      <td>2855.50</td>\n",
       "      <td>2857.75</td>\n",
       "      <td>52308</td>\n",
       "      <td>8350</td>\n",
       "      <td>2857.525</td>\n",
       "    </tr>\n",
       "    <tr>\n",
       "      <th>531</th>\n",
       "      <td>2018-08-08 10:00:00</td>\n",
       "      <td>2857.50</td>\n",
       "      <td>2860.5</td>\n",
       "      <td>2857.00</td>\n",
       "      <td>2860.00</td>\n",
       "      <td>40521</td>\n",
       "      <td>5721</td>\n",
       "      <td>2858.350</td>\n",
       "    </tr>\n",
       "    <tr>\n",
       "      <th>532</th>\n",
       "      <td>2018-08-08 11:00:00</td>\n",
       "      <td>2860.25</td>\n",
       "      <td>2861.0</td>\n",
       "      <td>2859.00</td>\n",
       "      <td>2859.75</td>\n",
       "      <td>40427</td>\n",
       "      <td>5507</td>\n",
       "      <td>2859.975</td>\n",
       "    </tr>\n",
       "    <tr>\n",
       "      <th>533</th>\n",
       "      <td>2018-08-08 12:00:00</td>\n",
       "      <td>2859.75</td>\n",
       "      <td>2862.5</td>\n",
       "      <td>2857.25</td>\n",
       "      <td>2857.75</td>\n",
       "      <td>119646</td>\n",
       "      <td>12759</td>\n",
       "      <td>2859.975</td>\n",
       "    </tr>\n",
       "    <tr>\n",
       "      <th>534</th>\n",
       "      <td>2018-08-08 13:00:00</td>\n",
       "      <td>2858.00</td>\n",
       "      <td>2858.5</td>\n",
       "      <td>2856.75</td>\n",
       "      <td>2857.00</td>\n",
       "      <td>25899</td>\n",
       "      <td>1881</td>\n",
       "      <td>2857.475</td>\n",
       "    </tr>\n",
       "  </tbody>\n",
       "</table>\n",
       "</div>"
      ],
      "text/plain": [
       "                   date     open    high      low    close  volume  barCount  \\\n",
       "530 2018-08-08 09:00:00  2857.75  2859.5  2855.50  2857.75   52308      8350   \n",
       "531 2018-08-08 10:00:00  2857.50  2860.5  2857.00  2860.00   40521      5721   \n",
       "532 2018-08-08 11:00:00  2860.25  2861.0  2859.00  2859.75   40427      5507   \n",
       "533 2018-08-08 12:00:00  2859.75  2862.5  2857.25  2857.75  119646     12759   \n",
       "534 2018-08-08 13:00:00  2858.00  2858.5  2856.75  2857.00   25899      1881   \n",
       "\n",
       "      average  \n",
       "530  2857.525  \n",
       "531  2858.350  \n",
       "532  2859.975  \n",
       "533  2859.975  \n",
       "534  2857.475  "
      ]
     },
     "metadata": {},
     "output_type": "display_data"
    }
   ],
   "source": [
    "df = util.df(bars)\n",
    "\n",
    "display(df.head())\n",
    "display(df.tail())"
   ]
  },
  {
   "cell_type": "code",
   "execution_count": 56,
   "metadata": {},
   "outputs": [
    {
     "name": "stdout",
     "output_type": "stream",
     "text": [
      "setCallback will be depreciated, use events instead\n"
     ]
    }
   ],
   "source": [
    "def onBarUpdate(bars, hasNewBar):\n",
    "        print(bars[-1])\n",
    "        \n",
    "ib.setCallback('barUpdate', onBarUpdate)"
   ]
  },
  {
   "cell_type": "code",
   "execution_count": 57,
   "metadata": {
    "scrolled": true
   },
   "outputs": [
    {
     "name": "stdout",
     "output_type": "stream",
     "text": [
      "RealTimeBar(time=datetime.datetime(2018, 8, 8, 20, 9, tzinfo=datetime.timezone.utc), open=2856.125, high=2856.125, low=2856.125, close=2856.125, volume=-1, wap=-1.0, count=-1)\n",
      "RealTimeBar(time=datetime.datetime(2018, 8, 8, 20, 9, 5, tzinfo=datetime.timezone.utc), open=2856.125, high=2856.125, low=2856.125, close=2856.125, volume=-1, wap=-1.0, count=-1)\n",
      "RealTimeBar(time=datetime.datetime(2018, 8, 8, 20, 9, 10, tzinfo=datetime.timezone.utc), open=2856.125, high=2856.125, low=2856.125, close=2856.125, volume=-1, wap=-1.0, count=-1)\n",
      "RealTimeBar(time=datetime.datetime(2018, 8, 8, 20, 9, 15, tzinfo=datetime.timezone.utc), open=2856.125, high=2856.375, low=2856.125, close=2856.375, volume=-1, wap=-1.0, count=-1)\n",
      "RealTimeBar(time=datetime.datetime(2018, 8, 8, 20, 9, 20, tzinfo=datetime.timezone.utc), open=2856.375, high=2856.375, low=2856.375, close=2856.375, volume=-1, wap=-1.0, count=-1)\n",
      "RealTimeBar(time=datetime.datetime(2018, 8, 8, 20, 9, 25, tzinfo=datetime.timezone.utc), open=2856.375, high=2856.625, low=2856.375, close=2856.625, volume=-1, wap=-1.0, count=-1)\n",
      "RealTimeBar(time=datetime.datetime(2018, 8, 8, 20, 9, 30, tzinfo=datetime.timezone.utc), open=2856.625, high=2856.625, low=2856.375, close=2856.375, volume=-1, wap=-1.0, count=-1)\n",
      "RealTimeBar(time=datetime.datetime(2018, 8, 8, 20, 9, 35, tzinfo=datetime.timezone.utc), open=2856.375, high=2856.625, low=2856.375, close=2856.375, volume=-1, wap=-1.0, count=-1)\n",
      "RealTimeBar(time=datetime.datetime(2018, 8, 8, 20, 9, 40, tzinfo=datetime.timezone.utc), open=2856.375, high=2856.625, low=2856.375, close=2856.375, volume=-1, wap=-1.0, count=-1)\n",
      "RealTimeBar(time=datetime.datetime(2018, 8, 8, 20, 9, 45, tzinfo=datetime.timezone.utc), open=2856.375, high=2856.625, low=2856.375, close=2856.375, volume=-1, wap=-1.0, count=-1)\n",
      "RealTimeBar(time=datetime.datetime(2018, 8, 8, 20, 9, 50, tzinfo=datetime.timezone.utc), open=2856.375, high=2856.375, low=2856.375, close=2856.375, volume=-1, wap=-1.0, count=-1)\n",
      "RealTimeBar(time=datetime.datetime(2018, 8, 8, 20, 9, 55, tzinfo=datetime.timezone.utc), open=2856.375, high=2856.375, low=2856.375, close=2856.375, volume=-1, wap=-1.0, count=-1)\n",
      "RealTimeBar(time=datetime.datetime(2018, 8, 8, 20, 10, tzinfo=datetime.timezone.utc), open=2856.375, high=2856.375, low=2856.375, close=2856.375, volume=-1, wap=-1.0, count=-1)\n",
      "RealTimeBar(time=datetime.datetime(2018, 8, 8, 20, 10, 5, tzinfo=datetime.timezone.utc), open=2856.375, high=2856.375, low=2856.375, close=2856.375, volume=-1, wap=-1.0, count=-1)\n",
      "RealTimeBar(time=datetime.datetime(2018, 8, 8, 20, 10, 10, tzinfo=datetime.timezone.utc), open=2856.375, high=2856.375, low=2856.375, close=2856.375, volume=-1, wap=-1.0, count=-1)\n",
      "RealTimeBar(time=datetime.datetime(2018, 8, 8, 20, 10, 15, tzinfo=datetime.timezone.utc), open=2856.375, high=2856.625, low=2856.375, close=2856.625, volume=-1, wap=-1.0, count=-1)\n",
      "RealTimeBar(time=datetime.datetime(2018, 8, 8, 20, 10, 20, tzinfo=datetime.timezone.utc), open=2856.625, high=2856.625, low=2856.375, close=2856.375, volume=-1, wap=-1.0, count=-1)\n",
      "RealTimeBar(time=datetime.datetime(2018, 8, 8, 20, 10, 25, tzinfo=datetime.timezone.utc), open=2856.375, high=2856.375, low=2856.375, close=2856.375, volume=-1, wap=-1.0, count=-1)\n",
      "RealTimeBar(time=datetime.datetime(2018, 8, 8, 20, 10, 30, tzinfo=datetime.timezone.utc), open=2856.375, high=2856.375, low=2856.375, close=2856.375, volume=-1, wap=-1.0, count=-1)\n",
      "RealTimeBar(time=datetime.datetime(2018, 8, 8, 20, 10, 35, tzinfo=datetime.timezone.utc), open=2856.375, high=2856.375, low=2856.375, close=2856.375, volume=-1, wap=-1.0, count=-1)\n",
      "RealTimeBar(time=datetime.datetime(2018, 8, 8, 20, 10, 40, tzinfo=datetime.timezone.utc), open=2856.375, high=2856.375, low=2856.375, close=2856.375, volume=-1, wap=-1.0, count=-1)\n",
      "RealTimeBar(time=datetime.datetime(2018, 8, 8, 20, 10, 45, tzinfo=datetime.timezone.utc), open=2856.375, high=2856.375, low=2856.375, close=2856.375, volume=-1, wap=-1.0, count=-1)\n"
     ]
    }
   ],
   "source": [
    "bars = ib.reqRealTimeBars(contract, 5, 'MIDPOINT', False)"
   ]
  },
  {
   "cell_type": "code",
   "execution_count": 58,
   "metadata": {},
   "outputs": [
    {
     "name": "stdout",
     "output_type": "stream",
     "text": [
      "RealTimeBar(time=datetime.datetime(2018, 8, 8, 20, 10, 50, tzinfo=datetime.timezone.utc), open=2856.375, high=2856.375, low=2856.375, close=2856.375, volume=-1, wap=-1.0, count=-1)\n",
      "RealTimeBar(time=datetime.datetime(2018, 8, 8, 20, 10, 55, tzinfo=datetime.timezone.utc), open=2856.375, high=2856.375, low=2856.375, close=2856.375, volume=-1, wap=-1.0, count=-1)\n"
     ]
    }
   ],
   "source": [
    "ib.sleep(10)\n",
    "ib.cancelRealTimeBars(bars)"
   ]
  },
  {
   "cell_type": "code",
   "execution_count": 59,
   "metadata": {},
   "outputs": [
    {
     "data": {
      "text/html": [
       "<div>\n",
       "<style scoped>\n",
       "    .dataframe tbody tr th:only-of-type {\n",
       "        vertical-align: middle;\n",
       "    }\n",
       "\n",
       "    .dataframe tbody tr th {\n",
       "        vertical-align: top;\n",
       "    }\n",
       "\n",
       "    .dataframe thead th {\n",
       "        text-align: right;\n",
       "    }\n",
       "</style>\n",
       "<table border=\"1\" class=\"dataframe\">\n",
       "  <thead>\n",
       "    <tr style=\"text-align: right;\">\n",
       "      <th></th>\n",
       "      <th>bidSize</th>\n",
       "      <th>bidPrice</th>\n",
       "      <th>askPrice</th>\n",
       "      <th>askSize</th>\n",
       "    </tr>\n",
       "  </thead>\n",
       "  <tbody>\n",
       "    <tr>\n",
       "      <th>0</th>\n",
       "      <td>0</td>\n",
       "      <td>0</td>\n",
       "      <td>0</td>\n",
       "      <td>0</td>\n",
       "    </tr>\n",
       "    <tr>\n",
       "      <th>1</th>\n",
       "      <td>0</td>\n",
       "      <td>0</td>\n",
       "      <td>0</td>\n",
       "      <td>0</td>\n",
       "    </tr>\n",
       "    <tr>\n",
       "      <th>2</th>\n",
       "      <td>0</td>\n",
       "      <td>0</td>\n",
       "      <td>0</td>\n",
       "      <td>0</td>\n",
       "    </tr>\n",
       "    <tr>\n",
       "      <th>3</th>\n",
       "      <td>0</td>\n",
       "      <td>0</td>\n",
       "      <td>0</td>\n",
       "      <td>0</td>\n",
       "    </tr>\n",
       "    <tr>\n",
       "      <th>4</th>\n",
       "      <td>0</td>\n",
       "      <td>0</td>\n",
       "      <td>0</td>\n",
       "      <td>0</td>\n",
       "    </tr>\n",
       "  </tbody>\n",
       "</table>\n",
       "</div>"
      ],
      "text/plain": [
       "   bidSize  bidPrice  askPrice  askSize\n",
       "0        0         0         0        0\n",
       "1        0         0         0        0\n",
       "2        0         0         0        0\n",
       "3        0         0         0        0\n",
       "4        0         0         0        0"
      ]
     },
     "metadata": {},
     "output_type": "display_data"
    }
   ],
   "source": [
    "ticker = ib.reqMktDepth(contract)\n",
    "from IPython.display import display, clear_output\n",
    "import pandas as pd\n",
    "\n",
    "df = pd.DataFrame(index=range(5),\n",
    "        columns='bidSize bidPrice askPrice askSize'.split())\n",
    "\n",
    "for t in ib.loopUntil(timeout=15):\n",
    "    l = ticker.domBids\n",
    "for i in range(5):\n",
    "    df.iloc[i, 0] = l[i].size if i < len(l) else 0\n",
    "    df.iloc[i, 1] = l[i].price if i < len(l) else 0\n",
    "l = ticker.domAsks\n",
    "for i in range(5):\n",
    "    df.iloc[i, 2] = l[i].price if i < len(l) else 0\n",
    "    df.iloc[i, 3] = l[i].size if i < len(l) else 0\n",
    "clear_output(wait=True)\n",
    "display(df)"
   ]
  },
  {
   "cell_type": "code",
   "execution_count": 60,
   "metadata": {},
   "outputs": [
    {
     "name": "stderr",
     "output_type": "stream",
     "text": [
      "ERROR:ib_insync.wrapper:Error 310, reqId 11: Can't find the subscribed market depth with tickerId:11\n"
     ]
    }
   ],
   "source": [
    "ib.cancelMktDepth(contract)"
   ]
  },
  {
   "cell_type": "code",
   "execution_count": 63,
   "metadata": {},
   "outputs": [],
   "source": [
    "ib.qualifyContracts(contract)\n",
    "\n",
    "order = MarketOrder('BUY', 5)"
   ]
  },
  {
   "cell_type": "code",
   "execution_count": 64,
   "metadata": {},
   "outputs": [],
   "source": [
    "trade = ib.placeOrder(contract, order)"
   ]
  },
  {
   "cell_type": "raw",
   "metadata": {},
   "source": [
    "ib.sleep(1)\n",
    "trade.log"
   ]
  },
  {
   "cell_type": "markdown",
   "metadata": {},
   "source": [
    "# FOREX"
   ]
  },
  {
   "cell_type": "code",
   "execution_count": 65,
   "metadata": {},
   "outputs": [],
   "source": [
    "contract = Forex('USDJPY')"
   ]
  },
  {
   "cell_type": "code",
   "execution_count": 66,
   "metadata": {},
   "outputs": [],
   "source": [
    "bars = ib.reqHistoricalData(contract,\n",
    "                           endDateTime='',\n",
    "                           durationStr='60 D',\n",
    "                           barSizeSetting='1 hour',\n",
    "                           whatToShow='BID',\n",
    "                           useRTH=False,\n",
    "                           formatDate=1)"
   ]
  },
  {
   "cell_type": "code",
   "execution_count": 76,
   "metadata": {},
   "outputs": [
    {
     "data": {
      "text/plain": [
       "RealTimeBar(time=datetime.datetime(2018, 8, 8, 20, 53, 25, tzinfo=datetime.timezone.utc), open=110.9485, high=110.949, low=110.9485, close=110.949, volume=-1, wap=-1.0, count=-1)"
      ]
     },
     "execution_count": 76,
     "metadata": {},
     "output_type": "execute_result"
    }
   ],
   "source": [
    "bars[-1]"
   ]
  },
  {
   "cell_type": "code",
   "execution_count": 77,
   "metadata": {},
   "outputs": [
    {
     "data": {
      "text/html": [
       "<div>\n",
       "<style scoped>\n",
       "    .dataframe tbody tr th:only-of-type {\n",
       "        vertical-align: middle;\n",
       "    }\n",
       "\n",
       "    .dataframe tbody tr th {\n",
       "        vertical-align: top;\n",
       "    }\n",
       "\n",
       "    .dataframe thead th {\n",
       "        text-align: right;\n",
       "    }\n",
       "</style>\n",
       "<table border=\"1\" class=\"dataframe\">\n",
       "  <thead>\n",
       "    <tr style=\"text-align: right;\">\n",
       "      <th></th>\n",
       "      <th>time</th>\n",
       "      <th>endTime</th>\n",
       "      <th>open</th>\n",
       "      <th>high</th>\n",
       "      <th>low</th>\n",
       "      <th>close</th>\n",
       "      <th>volume</th>\n",
       "      <th>wap</th>\n",
       "      <th>count</th>\n",
       "    </tr>\n",
       "  </thead>\n",
       "  <tbody>\n",
       "    <tr>\n",
       "      <th>0</th>\n",
       "      <td>2018-08-08 20:52:45+00:00</td>\n",
       "      <td>-1</td>\n",
       "      <td>110.9450</td>\n",
       "      <td>110.9460</td>\n",
       "      <td>110.9445</td>\n",
       "      <td>110.9445</td>\n",
       "      <td>-1</td>\n",
       "      <td>-1.0</td>\n",
       "      <td>-1</td>\n",
       "    </tr>\n",
       "    <tr>\n",
       "      <th>1</th>\n",
       "      <td>2018-08-08 20:52:50+00:00</td>\n",
       "      <td>-1</td>\n",
       "      <td>110.9445</td>\n",
       "      <td>110.9455</td>\n",
       "      <td>110.9425</td>\n",
       "      <td>110.9445</td>\n",
       "      <td>-1</td>\n",
       "      <td>-1.0</td>\n",
       "      <td>-1</td>\n",
       "    </tr>\n",
       "    <tr>\n",
       "      <th>2</th>\n",
       "      <td>2018-08-08 20:52:55+00:00</td>\n",
       "      <td>-1</td>\n",
       "      <td>110.9445</td>\n",
       "      <td>110.9450</td>\n",
       "      <td>110.9445</td>\n",
       "      <td>110.9450</td>\n",
       "      <td>-1</td>\n",
       "      <td>-1.0</td>\n",
       "      <td>-1</td>\n",
       "    </tr>\n",
       "    <tr>\n",
       "      <th>3</th>\n",
       "      <td>2018-08-08 20:53:00+00:00</td>\n",
       "      <td>-1</td>\n",
       "      <td>110.9450</td>\n",
       "      <td>110.9450</td>\n",
       "      <td>110.9445</td>\n",
       "      <td>110.9445</td>\n",
       "      <td>-1</td>\n",
       "      <td>-1.0</td>\n",
       "      <td>-1</td>\n",
       "    </tr>\n",
       "    <tr>\n",
       "      <th>4</th>\n",
       "      <td>2018-08-08 20:53:05+00:00</td>\n",
       "      <td>-1</td>\n",
       "      <td>110.9445</td>\n",
       "      <td>110.9485</td>\n",
       "      <td>110.9445</td>\n",
       "      <td>110.9480</td>\n",
       "      <td>-1</td>\n",
       "      <td>-1.0</td>\n",
       "      <td>-1</td>\n",
       "    </tr>\n",
       "  </tbody>\n",
       "</table>\n",
       "</div>"
      ],
      "text/plain": [
       "                       time  endTime      open      high       low     close  \\\n",
       "0 2018-08-08 20:52:45+00:00       -1  110.9450  110.9460  110.9445  110.9445   \n",
       "1 2018-08-08 20:52:50+00:00       -1  110.9445  110.9455  110.9425  110.9445   \n",
       "2 2018-08-08 20:52:55+00:00       -1  110.9445  110.9450  110.9445  110.9450   \n",
       "3 2018-08-08 20:53:00+00:00       -1  110.9450  110.9450  110.9445  110.9445   \n",
       "4 2018-08-08 20:53:05+00:00       -1  110.9445  110.9485  110.9445  110.9480   \n",
       "\n",
       "   volume  wap  count  \n",
       "0      -1 -1.0     -1  \n",
       "1      -1 -1.0     -1  \n",
       "2      -1 -1.0     -1  \n",
       "3      -1 -1.0     -1  \n",
       "4      -1 -1.0     -1  "
      ]
     },
     "metadata": {},
     "output_type": "display_data"
    },
    {
     "data": {
      "text/html": [
       "<div>\n",
       "<style scoped>\n",
       "    .dataframe tbody tr th:only-of-type {\n",
       "        vertical-align: middle;\n",
       "    }\n",
       "\n",
       "    .dataframe tbody tr th {\n",
       "        vertical-align: top;\n",
       "    }\n",
       "\n",
       "    .dataframe thead th {\n",
       "        text-align: right;\n",
       "    }\n",
       "</style>\n",
       "<table border=\"1\" class=\"dataframe\">\n",
       "  <thead>\n",
       "    <tr style=\"text-align: right;\">\n",
       "      <th></th>\n",
       "      <th>time</th>\n",
       "      <th>endTime</th>\n",
       "      <th>open</th>\n",
       "      <th>high</th>\n",
       "      <th>low</th>\n",
       "      <th>close</th>\n",
       "      <th>volume</th>\n",
       "      <th>wap</th>\n",
       "      <th>count</th>\n",
       "    </tr>\n",
       "  </thead>\n",
       "  <tbody>\n",
       "    <tr>\n",
       "      <th>4</th>\n",
       "      <td>2018-08-08 20:53:05+00:00</td>\n",
       "      <td>-1</td>\n",
       "      <td>110.9445</td>\n",
       "      <td>110.9485</td>\n",
       "      <td>110.9445</td>\n",
       "      <td>110.9480</td>\n",
       "      <td>-1</td>\n",
       "      <td>-1.0</td>\n",
       "      <td>-1</td>\n",
       "    </tr>\n",
       "    <tr>\n",
       "      <th>5</th>\n",
       "      <td>2018-08-08 20:53:10+00:00</td>\n",
       "      <td>-1</td>\n",
       "      <td>110.9480</td>\n",
       "      <td>110.9480</td>\n",
       "      <td>110.9480</td>\n",
       "      <td>110.9480</td>\n",
       "      <td>-1</td>\n",
       "      <td>-1.0</td>\n",
       "      <td>-1</td>\n",
       "    </tr>\n",
       "    <tr>\n",
       "      <th>6</th>\n",
       "      <td>2018-08-08 20:53:15+00:00</td>\n",
       "      <td>-1</td>\n",
       "      <td>110.9480</td>\n",
       "      <td>110.9485</td>\n",
       "      <td>110.9480</td>\n",
       "      <td>110.9485</td>\n",
       "      <td>-1</td>\n",
       "      <td>-1.0</td>\n",
       "      <td>-1</td>\n",
       "    </tr>\n",
       "    <tr>\n",
       "      <th>7</th>\n",
       "      <td>2018-08-08 20:53:20+00:00</td>\n",
       "      <td>-1</td>\n",
       "      <td>110.9485</td>\n",
       "      <td>110.9485</td>\n",
       "      <td>110.9485</td>\n",
       "      <td>110.9485</td>\n",
       "      <td>-1</td>\n",
       "      <td>-1.0</td>\n",
       "      <td>-1</td>\n",
       "    </tr>\n",
       "    <tr>\n",
       "      <th>8</th>\n",
       "      <td>2018-08-08 20:53:25+00:00</td>\n",
       "      <td>-1</td>\n",
       "      <td>110.9485</td>\n",
       "      <td>110.9490</td>\n",
       "      <td>110.9485</td>\n",
       "      <td>110.9490</td>\n",
       "      <td>-1</td>\n",
       "      <td>-1.0</td>\n",
       "      <td>-1</td>\n",
       "    </tr>\n",
       "  </tbody>\n",
       "</table>\n",
       "</div>"
      ],
      "text/plain": [
       "                       time  endTime      open      high       low     close  \\\n",
       "4 2018-08-08 20:53:05+00:00       -1  110.9445  110.9485  110.9445  110.9480   \n",
       "5 2018-08-08 20:53:10+00:00       -1  110.9480  110.9480  110.9480  110.9480   \n",
       "6 2018-08-08 20:53:15+00:00       -1  110.9480  110.9485  110.9480  110.9485   \n",
       "7 2018-08-08 20:53:20+00:00       -1  110.9485  110.9485  110.9485  110.9485   \n",
       "8 2018-08-08 20:53:25+00:00       -1  110.9485  110.9490  110.9485  110.9490   \n",
       "\n",
       "   volume  wap  count  \n",
       "4      -1 -1.0     -1  \n",
       "5      -1 -1.0     -1  \n",
       "6      -1 -1.0     -1  \n",
       "7      -1 -1.0     -1  \n",
       "8      -1 -1.0     -1  "
      ]
     },
     "metadata": {},
     "output_type": "display_data"
    }
   ],
   "source": [
    "df = util.df(bars)\n",
    "\n",
    "display(df.head())\n",
    "display(df.tail())"
   ]
  },
  {
   "cell_type": "code",
   "execution_count": 78,
   "metadata": {},
   "outputs": [
    {
     "name": "stdout",
     "output_type": "stream",
     "text": [
      "setCallback will be depreciated, use events instead\n"
     ]
    }
   ],
   "source": [
    "def onBarUpdate(bars, hasNewBar):\n",
    "        print(bars[-1])\n",
    "        \n",
    "ib.setCallback('barUpdate', onBarUpdate)"
   ]
  },
  {
   "cell_type": "code",
   "execution_count": 80,
   "metadata": {
    "scrolled": true
   },
   "outputs": [],
   "source": [
    "bars = ib.reqRealTimeBars(contract, 5, 'MIDPOINT', False)"
   ]
  },
  {
   "cell_type": "code",
   "execution_count": 81,
   "metadata": {},
   "outputs": [],
   "source": [
    "ib.sleep(10)\n",
    "ib.cancelRealTimeBars(bars)"
   ]
  },
  {
   "cell_type": "code",
   "execution_count": 82,
   "metadata": {},
   "outputs": [
    {
     "data": {
      "text/html": [
       "<div>\n",
       "<style scoped>\n",
       "    .dataframe tbody tr th:only-of-type {\n",
       "        vertical-align: middle;\n",
       "    }\n",
       "\n",
       "    .dataframe tbody tr th {\n",
       "        vertical-align: top;\n",
       "    }\n",
       "\n",
       "    .dataframe thead th {\n",
       "        text-align: right;\n",
       "    }\n",
       "</style>\n",
       "<table border=\"1\" class=\"dataframe\">\n",
       "  <thead>\n",
       "    <tr style=\"text-align: right;\">\n",
       "      <th></th>\n",
       "      <th>bidSize</th>\n",
       "      <th>bidPrice</th>\n",
       "      <th>askPrice</th>\n",
       "      <th>askSize</th>\n",
       "    </tr>\n",
       "  </thead>\n",
       "  <tbody>\n",
       "    <tr>\n",
       "      <th>0</th>\n",
       "      <td>1000000</td>\n",
       "      <td>110.948</td>\n",
       "      <td>110.952</td>\n",
       "      <td>2000000</td>\n",
       "    </tr>\n",
       "    <tr>\n",
       "      <th>1</th>\n",
       "      <td>6000000</td>\n",
       "      <td>110.947</td>\n",
       "      <td>110.953</td>\n",
       "      <td>3500000</td>\n",
       "    </tr>\n",
       "    <tr>\n",
       "      <th>2</th>\n",
       "      <td>2000000</td>\n",
       "      <td>110.946</td>\n",
       "      <td>110.954</td>\n",
       "      <td>12000000</td>\n",
       "    </tr>\n",
       "    <tr>\n",
       "      <th>3</th>\n",
       "      <td>4000000</td>\n",
       "      <td>110.945</td>\n",
       "      <td>110.955</td>\n",
       "      <td>3000000</td>\n",
       "    </tr>\n",
       "    <tr>\n",
       "      <th>4</th>\n",
       "      <td>1000000</td>\n",
       "      <td>110.944</td>\n",
       "      <td>110.957</td>\n",
       "      <td>1000000</td>\n",
       "    </tr>\n",
       "  </tbody>\n",
       "</table>\n",
       "</div>"
      ],
      "text/plain": [
       "   bidSize bidPrice askPrice   askSize\n",
       "0  1000000  110.948  110.952   2000000\n",
       "1  6000000  110.947  110.953   3500000\n",
       "2  2000000  110.946  110.954  12000000\n",
       "3  4000000  110.945  110.955   3000000\n",
       "4  1000000  110.944  110.957   1000000"
      ]
     },
     "metadata": {},
     "output_type": "display_data"
    }
   ],
   "source": [
    "ticker = ib.reqMktDepth(contract)\n",
    "from IPython.display import display, clear_output\n",
    "import pandas as pd\n",
    "\n",
    "df = pd.DataFrame(index=range(5),\n",
    "        columns='bidSize bidPrice askPrice askSize'.split())\n",
    "\n",
    "for t in ib.loopUntil(timeout=15):\n",
    "    l = ticker.domBids\n",
    "for i in range(5):\n",
    "    df.iloc[i, 0] = l[i].size if i < len(l) else 0\n",
    "    df.iloc[i, 1] = l[i].price if i < len(l) else 0\n",
    "l = ticker.domAsks\n",
    "for i in range(5):\n",
    "    df.iloc[i, 2] = l[i].price if i < len(l) else 0\n",
    "    df.iloc[i, 3] = l[i].size if i < len(l) else 0\n",
    "clear_output(wait=True)\n",
    "display(df)"
   ]
  },
  {
   "cell_type": "code",
   "execution_count": 83,
   "metadata": {},
   "outputs": [],
   "source": [
    "ib.cancelMktDepth(contract)"
   ]
  },
  {
   "cell_type": "code",
   "execution_count": 84,
   "metadata": {},
   "outputs": [],
   "source": [
    "ib.qualifyContracts(contract)\n",
    "\n",
    "order = MarketOrder('BUY', 10000)"
   ]
  },
  {
   "cell_type": "code",
   "execution_count": 86,
   "metadata": {},
   "outputs": [],
   "source": [
    "trade = ib.placeOrder(contract, order)"
   ]
  },
  {
   "cell_type": "raw",
   "metadata": {},
   "source": [
    "ib.sleep(1)\n",
    "trade.log"
   ]
  },
  {
   "cell_type": "markdown",
   "metadata": {},
   "source": [
    "# Options"
   ]
  },
  {
   "cell_type": "code",
   "execution_count": 109,
   "metadata": {},
   "outputs": [
    {
     "data": {
      "text/plain": [
       "[Stock(conId=8314, symbol='IBM', exchange='SMART', primaryExchange='NYSE', currency='USD', localSymbol='IBM', tradingClass='IBM')]"
      ]
     },
     "execution_count": 109,
     "metadata": {},
     "output_type": "execute_result"
    }
   ],
   "source": [
    "contract = Stock('IBM', exchange='SMART', primaryExchange='NYSE')\n",
    "\n",
    "ib.qualifyContracts(contract)"
   ]
  },
  {
   "cell_type": "code",
   "execution_count": 110,
   "metadata": {},
   "outputs": [
    {
     "data": {
      "text/html": [
       "<div>\n",
       "<style scoped>\n",
       "    .dataframe tbody tr th:only-of-type {\n",
       "        vertical-align: middle;\n",
       "    }\n",
       "\n",
       "    .dataframe tbody tr th {\n",
       "        vertical-align: top;\n",
       "    }\n",
       "\n",
       "    .dataframe thead th {\n",
       "        text-align: right;\n",
       "    }\n",
       "</style>\n",
       "<table border=\"1\" class=\"dataframe\">\n",
       "  <thead>\n",
       "    <tr style=\"text-align: right;\">\n",
       "      <th></th>\n",
       "      <th>exchange</th>\n",
       "      <th>underlyingConId</th>\n",
       "      <th>tradingClass</th>\n",
       "      <th>multiplier</th>\n",
       "      <th>expirations</th>\n",
       "      <th>strikes</th>\n",
       "    </tr>\n",
       "  </thead>\n",
       "  <tbody>\n",
       "    <tr>\n",
       "      <th>0</th>\n",
       "      <td>NASDAQOM</td>\n",
       "      <td>8314</td>\n",
       "      <td>IBM</td>\n",
       "      <td>100</td>\n",
       "      <td>{20180824, 20180907, 20180817, 20180831, 20180...</td>\n",
       "      <td>{128.0, 129.0, 130.0, 131.0, 132.0, 133.0, 134...</td>\n",
       "    </tr>\n",
       "    <tr>\n",
       "      <th>1</th>\n",
       "      <td>PSE</td>\n",
       "      <td>8314</td>\n",
       "      <td>IBM</td>\n",
       "      <td>100</td>\n",
       "      <td>{20180824, 20180907, 20180817, 20180831, 20180...</td>\n",
       "      <td>{128.0, 129.0, 130.0, 131.0, 132.0, 133.0, 134...</td>\n",
       "    </tr>\n",
       "    <tr>\n",
       "      <th>2</th>\n",
       "      <td>PHLX</td>\n",
       "      <td>8314</td>\n",
       "      <td>IBM</td>\n",
       "      <td>100</td>\n",
       "      <td>{20180824, 20180907, 20180817, 20180831, 20180...</td>\n",
       "      <td>{128.0, 129.0, 130.0, 131.0, 132.0, 133.0, 134...</td>\n",
       "    </tr>\n",
       "    <tr>\n",
       "      <th>3</th>\n",
       "      <td>BOX</td>\n",
       "      <td>8314</td>\n",
       "      <td>IBM</td>\n",
       "      <td>100</td>\n",
       "      <td>{20180824, 20180907, 20180817, 20180831, 20180...</td>\n",
       "      <td>{128.0, 129.0, 130.0, 131.0, 132.0, 133.0, 134...</td>\n",
       "    </tr>\n",
       "    <tr>\n",
       "      <th>4</th>\n",
       "      <td>PEARL</td>\n",
       "      <td>8314</td>\n",
       "      <td>IBM</td>\n",
       "      <td>100</td>\n",
       "      <td>{20180824, 20180907, 20180817, 20180831, 20180...</td>\n",
       "      <td>{128.0, 129.0, 130.0, 131.0, 132.0, 133.0, 134...</td>\n",
       "    </tr>\n",
       "    <tr>\n",
       "      <th>5</th>\n",
       "      <td>CBOE2</td>\n",
       "      <td>8314</td>\n",
       "      <td>IBM</td>\n",
       "      <td>100</td>\n",
       "      <td>{20180824, 20180907, 20180817, 20180831, 20180...</td>\n",
       "      <td>{128.0, 129.0, 130.0, 131.0, 132.0, 133.0, 134...</td>\n",
       "    </tr>\n",
       "    <tr>\n",
       "      <th>6</th>\n",
       "      <td>EDGX</td>\n",
       "      <td>8314</td>\n",
       "      <td>IBM</td>\n",
       "      <td>100</td>\n",
       "      <td>{20180824, 20180907, 20180817, 20180831, 20180...</td>\n",
       "      <td>{128.0, 129.0, 130.0, 131.0, 132.0, 133.0, 134...</td>\n",
       "    </tr>\n",
       "    <tr>\n",
       "      <th>7</th>\n",
       "      <td>GEMINI</td>\n",
       "      <td>8314</td>\n",
       "      <td>IBM</td>\n",
       "      <td>100</td>\n",
       "      <td>{20180824, 20180907, 20180817, 20180831, 20180...</td>\n",
       "      <td>{128.0, 129.0, 130.0, 131.0, 132.0, 133.0, 134...</td>\n",
       "    </tr>\n",
       "    <tr>\n",
       "      <th>8</th>\n",
       "      <td>MERCURY</td>\n",
       "      <td>8314</td>\n",
       "      <td>IBM</td>\n",
       "      <td>100</td>\n",
       "      <td>{20180824, 20180907, 20180817, 20180831, 20180...</td>\n",
       "      <td>{128.0, 129.0, 130.0, 131.0, 132.0, 133.0, 134...</td>\n",
       "    </tr>\n",
       "    <tr>\n",
       "      <th>9</th>\n",
       "      <td>MIAX</td>\n",
       "      <td>8314</td>\n",
       "      <td>IBM</td>\n",
       "      <td>100</td>\n",
       "      <td>{20180824, 20180907, 20180817, 20180831, 20180...</td>\n",
       "      <td>{128.0, 129.0, 130.0, 131.0, 132.0, 133.0, 134...</td>\n",
       "    </tr>\n",
       "    <tr>\n",
       "      <th>10</th>\n",
       "      <td>CBOE</td>\n",
       "      <td>8314</td>\n",
       "      <td>IBM</td>\n",
       "      <td>100</td>\n",
       "      <td>{20180824, 20180907, 20180817, 20180831, 20180...</td>\n",
       "      <td>{128.0, 129.0, 130.0, 131.0, 132.0, 133.0, 134...</td>\n",
       "    </tr>\n",
       "    <tr>\n",
       "      <th>11</th>\n",
       "      <td>NASDAQBX</td>\n",
       "      <td>8314</td>\n",
       "      <td>IBM</td>\n",
       "      <td>100</td>\n",
       "      <td>{20180824, 20180907, 20180817, 20180831, 20180...</td>\n",
       "      <td>{128.0, 129.0, 130.0, 131.0, 132.0, 133.0, 134...</td>\n",
       "    </tr>\n",
       "    <tr>\n",
       "      <th>12</th>\n",
       "      <td>ISE</td>\n",
       "      <td>8314</td>\n",
       "      <td>IBM</td>\n",
       "      <td>100</td>\n",
       "      <td>{20180824, 20180907, 20180817, 20180831, 20180...</td>\n",
       "      <td>{128.0, 129.0, 130.0, 131.0, 132.0, 133.0, 134...</td>\n",
       "    </tr>\n",
       "    <tr>\n",
       "      <th>13</th>\n",
       "      <td>BATS</td>\n",
       "      <td>8314</td>\n",
       "      <td>IBM</td>\n",
       "      <td>100</td>\n",
       "      <td>{20180824, 20180907, 20180817, 20180831, 20180...</td>\n",
       "      <td>{128.0, 129.0, 130.0, 131.0, 132.0, 133.0, 134...</td>\n",
       "    </tr>\n",
       "    <tr>\n",
       "      <th>14</th>\n",
       "      <td>AMEX</td>\n",
       "      <td>8314</td>\n",
       "      <td>IBM</td>\n",
       "      <td>100</td>\n",
       "      <td>{20180824, 20180907, 20180817, 20180831, 20180...</td>\n",
       "      <td>{128.0, 129.0, 130.0, 131.0, 132.0, 133.0, 134...</td>\n",
       "    </tr>\n",
       "    <tr>\n",
       "      <th>15</th>\n",
       "      <td>SMART</td>\n",
       "      <td>8314</td>\n",
       "      <td>IBM</td>\n",
       "      <td>100</td>\n",
       "      <td>{20180824, 20180907, 20180817, 20180831, 20180...</td>\n",
       "      <td>{128.0, 129.0, 130.0, 131.0, 132.0, 133.0, 134...</td>\n",
       "    </tr>\n",
       "  </tbody>\n",
       "</table>\n",
       "</div>"
      ],
      "text/plain": [
       "    exchange  underlyingConId tradingClass multiplier  \\\n",
       "0   NASDAQOM             8314          IBM        100   \n",
       "1        PSE             8314          IBM        100   \n",
       "2       PHLX             8314          IBM        100   \n",
       "3        BOX             8314          IBM        100   \n",
       "4      PEARL             8314          IBM        100   \n",
       "5      CBOE2             8314          IBM        100   \n",
       "6       EDGX             8314          IBM        100   \n",
       "7     GEMINI             8314          IBM        100   \n",
       "8    MERCURY             8314          IBM        100   \n",
       "9       MIAX             8314          IBM        100   \n",
       "10      CBOE             8314          IBM        100   \n",
       "11  NASDAQBX             8314          IBM        100   \n",
       "12       ISE             8314          IBM        100   \n",
       "13      BATS             8314          IBM        100   \n",
       "14      AMEX             8314          IBM        100   \n",
       "15     SMART             8314          IBM        100   \n",
       "\n",
       "                                          expirations  \\\n",
       "0   {20180824, 20180907, 20180817, 20180831, 20180...   \n",
       "1   {20180824, 20180907, 20180817, 20180831, 20180...   \n",
       "2   {20180824, 20180907, 20180817, 20180831, 20180...   \n",
       "3   {20180824, 20180907, 20180817, 20180831, 20180...   \n",
       "4   {20180824, 20180907, 20180817, 20180831, 20180...   \n",
       "5   {20180824, 20180907, 20180817, 20180831, 20180...   \n",
       "6   {20180824, 20180907, 20180817, 20180831, 20180...   \n",
       "7   {20180824, 20180907, 20180817, 20180831, 20180...   \n",
       "8   {20180824, 20180907, 20180817, 20180831, 20180...   \n",
       "9   {20180824, 20180907, 20180817, 20180831, 20180...   \n",
       "10  {20180824, 20180907, 20180817, 20180831, 20180...   \n",
       "11  {20180824, 20180907, 20180817, 20180831, 20180...   \n",
       "12  {20180824, 20180907, 20180817, 20180831, 20180...   \n",
       "13  {20180824, 20180907, 20180817, 20180831, 20180...   \n",
       "14  {20180824, 20180907, 20180817, 20180831, 20180...   \n",
       "15  {20180824, 20180907, 20180817, 20180831, 20180...   \n",
       "\n",
       "                                              strikes  \n",
       "0   {128.0, 129.0, 130.0, 131.0, 132.0, 133.0, 134...  \n",
       "1   {128.0, 129.0, 130.0, 131.0, 132.0, 133.0, 134...  \n",
       "2   {128.0, 129.0, 130.0, 131.0, 132.0, 133.0, 134...  \n",
       "3   {128.0, 129.0, 130.0, 131.0, 132.0, 133.0, 134...  \n",
       "4   {128.0, 129.0, 130.0, 131.0, 132.0, 133.0, 134...  \n",
       "5   {128.0, 129.0, 130.0, 131.0, 132.0, 133.0, 134...  \n",
       "6   {128.0, 129.0, 130.0, 131.0, 132.0, 133.0, 134...  \n",
       "7   {128.0, 129.0, 130.0, 131.0, 132.0, 133.0, 134...  \n",
       "8   {128.0, 129.0, 130.0, 131.0, 132.0, 133.0, 134...  \n",
       "9   {128.0, 129.0, 130.0, 131.0, 132.0, 133.0, 134...  \n",
       "10  {128.0, 129.0, 130.0, 131.0, 132.0, 133.0, 134...  \n",
       "11  {128.0, 129.0, 130.0, 131.0, 132.0, 133.0, 134...  \n",
       "12  {128.0, 129.0, 130.0, 131.0, 132.0, 133.0, 134...  \n",
       "13  {128.0, 129.0, 130.0, 131.0, 132.0, 133.0, 134...  \n",
       "14  {128.0, 129.0, 130.0, 131.0, 132.0, 133.0, 134...  \n",
       "15  {128.0, 129.0, 130.0, 131.0, 132.0, 133.0, 134...  "
      ]
     },
     "execution_count": 110,
     "metadata": {},
     "output_type": "execute_result"
    }
   ],
   "source": [
    "chains = ib.reqSecDefOptParams(contract.symbol, '',\n",
    "                                contract.secType, contract.conId)\n",
    "\n",
    "util.df(chains)"
   ]
  },
  {
   "cell_type": "code",
   "execution_count": 111,
   "metadata": {},
   "outputs": [
    {
     "data": {
      "text/plain": [
       "[Stock(conId=756733, symbol='SPY', exchange='SMART', primaryExchange='ARCA', currency='USD', localSymbol='SPY', tradingClass='SPY')]"
      ]
     },
     "execution_count": 111,
     "metadata": {},
     "output_type": "execute_result"
    }
   ],
   "source": [
    "ticker = 'SPY'\n",
    "contract = Stock(ticker, exchange='SMART', primaryExchange='NYSE')\n",
    "\n",
    "ib.qualifyContracts(contract)"
   ]
  },
  {
   "cell_type": "code",
   "execution_count": 112,
   "metadata": {},
   "outputs": [
    {
     "data": {
      "text/html": [
       "<div>\n",
       "<style scoped>\n",
       "    .dataframe tbody tr th:only-of-type {\n",
       "        vertical-align: middle;\n",
       "    }\n",
       "\n",
       "    .dataframe tbody tr th {\n",
       "        vertical-align: top;\n",
       "    }\n",
       "\n",
       "    .dataframe thead th {\n",
       "        text-align: right;\n",
       "    }\n",
       "</style>\n",
       "<table border=\"1\" class=\"dataframe\">\n",
       "  <thead>\n",
       "    <tr style=\"text-align: right;\">\n",
       "      <th></th>\n",
       "      <th>exchange</th>\n",
       "      <th>underlyingConId</th>\n",
       "      <th>tradingClass</th>\n",
       "      <th>multiplier</th>\n",
       "      <th>expirations</th>\n",
       "      <th>strikes</th>\n",
       "    </tr>\n",
       "  </thead>\n",
       "  <tbody>\n",
       "    <tr>\n",
       "      <th>0</th>\n",
       "      <td>NASDAQOM</td>\n",
       "      <td>756733</td>\n",
       "      <td>SPY</td>\n",
       "      <td>100</td>\n",
       "      <td>{20180824, 20200619, 20180831, 20180815, 20200...</td>\n",
       "      <td>{346.0, 306.0, 306.5, 307.0, 10.0, 307.5, 308....</td>\n",
       "    </tr>\n",
       "    <tr>\n",
       "      <th>1</th>\n",
       "      <td>PSE</td>\n",
       "      <td>756733</td>\n",
       "      <td>SPY</td>\n",
       "      <td>100</td>\n",
       "      <td>{20180824, 20200619, 20180831, 20180815, 20200...</td>\n",
       "      <td>{346.0, 306.0, 306.5, 307.0, 10.0, 307.5, 308....</td>\n",
       "    </tr>\n",
       "    <tr>\n",
       "      <th>2</th>\n",
       "      <td>BATS</td>\n",
       "      <td>756733</td>\n",
       "      <td>SPY</td>\n",
       "      <td>100</td>\n",
       "      <td>{20180824, 20200619, 20180831, 20180815, 20200...</td>\n",
       "      <td>{346.0, 306.0, 306.5, 307.0, 10.0, 307.5, 308....</td>\n",
       "    </tr>\n",
       "    <tr>\n",
       "      <th>3</th>\n",
       "      <td>AMEX</td>\n",
       "      <td>756733</td>\n",
       "      <td>SPY</td>\n",
       "      <td>100</td>\n",
       "      <td>{20180824, 20200619, 20180831, 20180815, 20200...</td>\n",
       "      <td>{346.0, 306.0, 306.5, 307.0, 10.0, 307.5, 308....</td>\n",
       "    </tr>\n",
       "    <tr>\n",
       "      <th>4</th>\n",
       "      <td>PEARL</td>\n",
       "      <td>756733</td>\n",
       "      <td>SPY</td>\n",
       "      <td>100</td>\n",
       "      <td>{20180824, 20200619, 20180831, 20180815, 20200...</td>\n",
       "      <td>{346.0, 306.0, 306.5, 307.0, 10.0, 307.5, 308....</td>\n",
       "    </tr>\n",
       "    <tr>\n",
       "      <th>5</th>\n",
       "      <td>NASDAQBX</td>\n",
       "      <td>756733</td>\n",
       "      <td>SPY</td>\n",
       "      <td>100</td>\n",
       "      <td>{20180824, 20200619, 20180831, 20180815, 20200...</td>\n",
       "      <td>{346.0, 306.0, 306.5, 307.0, 10.0, 307.5, 308....</td>\n",
       "    </tr>\n",
       "    <tr>\n",
       "      <th>6</th>\n",
       "      <td>ISE</td>\n",
       "      <td>756733</td>\n",
       "      <td>SPY</td>\n",
       "      <td>100</td>\n",
       "      <td>{20180824, 20200619, 20180831, 20180815, 20200...</td>\n",
       "      <td>{346.0, 306.0, 306.5, 307.0, 10.0, 307.5, 308....</td>\n",
       "    </tr>\n",
       "    <tr>\n",
       "      <th>7</th>\n",
       "      <td>MIAX</td>\n",
       "      <td>756733</td>\n",
       "      <td>SPY</td>\n",
       "      <td>100</td>\n",
       "      <td>{20180824, 20200619, 20180831, 20180815, 20200...</td>\n",
       "      <td>{346.0, 306.0, 306.5, 307.0, 10.0, 307.5, 308....</td>\n",
       "    </tr>\n",
       "    <tr>\n",
       "      <th>8</th>\n",
       "      <td>SMART</td>\n",
       "      <td>756733</td>\n",
       "      <td>SPY</td>\n",
       "      <td>100</td>\n",
       "      <td>{20180824, 20200619, 20180831, 20180815, 20200...</td>\n",
       "      <td>{346.0, 306.0, 306.5, 307.0, 10.0, 307.5, 308....</td>\n",
       "    </tr>\n",
       "    <tr>\n",
       "      <th>9</th>\n",
       "      <td>CBOE</td>\n",
       "      <td>756733</td>\n",
       "      <td>SPY</td>\n",
       "      <td>100</td>\n",
       "      <td>{20180824, 20200619, 20180831, 20180815, 20200...</td>\n",
       "      <td>{346.0, 306.0, 306.5, 307.0, 10.0, 307.5, 308....</td>\n",
       "    </tr>\n",
       "    <tr>\n",
       "      <th>10</th>\n",
       "      <td>MERCURY</td>\n",
       "      <td>756733</td>\n",
       "      <td>SPY</td>\n",
       "      <td>100</td>\n",
       "      <td>{20180824, 20200619, 20180831, 20180815, 20200...</td>\n",
       "      <td>{346.0, 306.0, 306.5, 307.0, 10.0, 307.5, 308....</td>\n",
       "    </tr>\n",
       "    <tr>\n",
       "      <th>11</th>\n",
       "      <td>EDGX</td>\n",
       "      <td>756733</td>\n",
       "      <td>SPY</td>\n",
       "      <td>100</td>\n",
       "      <td>{20180824, 20200619, 20180831, 20180815, 20200...</td>\n",
       "      <td>{346.0, 306.0, 306.5, 307.0, 10.0, 307.5, 308....</td>\n",
       "    </tr>\n",
       "    <tr>\n",
       "      <th>12</th>\n",
       "      <td>GEMINI</td>\n",
       "      <td>756733</td>\n",
       "      <td>SPY</td>\n",
       "      <td>100</td>\n",
       "      <td>{20180824, 20200619, 20180831, 20180815, 20200...</td>\n",
       "      <td>{346.0, 306.0, 306.5, 307.0, 10.0, 307.5, 308....</td>\n",
       "    </tr>\n",
       "    <tr>\n",
       "      <th>13</th>\n",
       "      <td>BOX</td>\n",
       "      <td>756733</td>\n",
       "      <td>SPY</td>\n",
       "      <td>100</td>\n",
       "      <td>{20180824, 20200619, 20180831, 20180815, 20200...</td>\n",
       "      <td>{346.0, 306.0, 306.5, 307.0, 10.0, 307.5, 308....</td>\n",
       "    </tr>\n",
       "    <tr>\n",
       "      <th>14</th>\n",
       "      <td>CBOE2</td>\n",
       "      <td>756733</td>\n",
       "      <td>SPY</td>\n",
       "      <td>100</td>\n",
       "      <td>{20180824, 20200619, 20180831, 20180815, 20200...</td>\n",
       "      <td>{346.0, 306.0, 306.5, 307.0, 10.0, 307.5, 308....</td>\n",
       "    </tr>\n",
       "    <tr>\n",
       "      <th>15</th>\n",
       "      <td>PHLX</td>\n",
       "      <td>756733</td>\n",
       "      <td>SPY</td>\n",
       "      <td>100</td>\n",
       "      <td>{20180824, 20200619, 20180831, 20180815, 20200...</td>\n",
       "      <td>{346.0, 306.0, 306.5, 307.0, 10.0, 307.5, 308....</td>\n",
       "    </tr>\n",
       "  </tbody>\n",
       "</table>\n",
       "</div>"
      ],
      "text/plain": [
       "    exchange  underlyingConId tradingClass multiplier  \\\n",
       "0   NASDAQOM           756733          SPY        100   \n",
       "1        PSE           756733          SPY        100   \n",
       "2       BATS           756733          SPY        100   \n",
       "3       AMEX           756733          SPY        100   \n",
       "4      PEARL           756733          SPY        100   \n",
       "5   NASDAQBX           756733          SPY        100   \n",
       "6        ISE           756733          SPY        100   \n",
       "7       MIAX           756733          SPY        100   \n",
       "8      SMART           756733          SPY        100   \n",
       "9       CBOE           756733          SPY        100   \n",
       "10   MERCURY           756733          SPY        100   \n",
       "11      EDGX           756733          SPY        100   \n",
       "12    GEMINI           756733          SPY        100   \n",
       "13       BOX           756733          SPY        100   \n",
       "14     CBOE2           756733          SPY        100   \n",
       "15      PHLX           756733          SPY        100   \n",
       "\n",
       "                                          expirations  \\\n",
       "0   {20180824, 20200619, 20180831, 20180815, 20200...   \n",
       "1   {20180824, 20200619, 20180831, 20180815, 20200...   \n",
       "2   {20180824, 20200619, 20180831, 20180815, 20200...   \n",
       "3   {20180824, 20200619, 20180831, 20180815, 20200...   \n",
       "4   {20180824, 20200619, 20180831, 20180815, 20200...   \n",
       "5   {20180824, 20200619, 20180831, 20180815, 20200...   \n",
       "6   {20180824, 20200619, 20180831, 20180815, 20200...   \n",
       "7   {20180824, 20200619, 20180831, 20180815, 20200...   \n",
       "8   {20180824, 20200619, 20180831, 20180815, 20200...   \n",
       "9   {20180824, 20200619, 20180831, 20180815, 20200...   \n",
       "10  {20180824, 20200619, 20180831, 20180815, 20200...   \n",
       "11  {20180824, 20200619, 20180831, 20180815, 20200...   \n",
       "12  {20180824, 20200619, 20180831, 20180815, 20200...   \n",
       "13  {20180824, 20200619, 20180831, 20180815, 20200...   \n",
       "14  {20180824, 20200619, 20180831, 20180815, 20200...   \n",
       "15  {20180824, 20200619, 20180831, 20180815, 20200...   \n",
       "\n",
       "                                              strikes  \n",
       "0   {346.0, 306.0, 306.5, 307.0, 10.0, 307.5, 308....  \n",
       "1   {346.0, 306.0, 306.5, 307.0, 10.0, 307.5, 308....  \n",
       "2   {346.0, 306.0, 306.5, 307.0, 10.0, 307.5, 308....  \n",
       "3   {346.0, 306.0, 306.5, 307.0, 10.0, 307.5, 308....  \n",
       "4   {346.0, 306.0, 306.5, 307.0, 10.0, 307.5, 308....  \n",
       "5   {346.0, 306.0, 306.5, 307.0, 10.0, 307.5, 308....  \n",
       "6   {346.0, 306.0, 306.5, 307.0, 10.0, 307.5, 308....  \n",
       "7   {346.0, 306.0, 306.5, 307.0, 10.0, 307.5, 308....  \n",
       "8   {346.0, 306.0, 306.5, 307.0, 10.0, 307.5, 308....  \n",
       "9   {346.0, 306.0, 306.5, 307.0, 10.0, 307.5, 308....  \n",
       "10  {346.0, 306.0, 306.5, 307.0, 10.0, 307.5, 308....  \n",
       "11  {346.0, 306.0, 306.5, 307.0, 10.0, 307.5, 308....  \n",
       "12  {346.0, 306.0, 306.5, 307.0, 10.0, 307.5, 308....  \n",
       "13  {346.0, 306.0, 306.5, 307.0, 10.0, 307.5, 308....  \n",
       "14  {346.0, 306.0, 306.5, 307.0, 10.0, 307.5, 308....  \n",
       "15  {346.0, 306.0, 306.5, 307.0, 10.0, 307.5, 308....  "
      ]
     },
     "execution_count": 112,
     "metadata": {},
     "output_type": "execute_result"
    }
   ],
   "source": [
    "chains = ib.reqSecDefOptParams(contract.symbol, '',\n",
    "                                contract.secType, contract.conId)\n",
    "\n",
    "util.df(chains)"
   ]
  },
  {
   "cell_type": "code",
   "execution_count": 113,
   "metadata": {},
   "outputs": [
    {
     "data": {
      "text/plain": [
       "OptionChain(exchange='SMART', underlyingConId=756733, tradingClass='SPY', multiplier='100', expirations={'20180824', '20200619', '20180831', '20180815', '20200117', '20180912', '20190329', '20190118', '20190621', '20200320', '20180907', '20180914', '20180829', '20180928', '20180810', '20180910', '20180808', '20191220', '20190628', '20190920', '20181221', '20190315', '20180820', '20201218', '20180905', '20180813', '20180817', '20180921', '20180827', '20181116', '20181231', '20180822', '20181019', '20180904'}, strikes={346.0, 306.0, 306.5, 307.0, 10.0, 307.5, 308.5, 15.0, 20.0, 245.5, 25.0, 311.0, 30.0, 312.0, 35.0, 312.5, 254.5, 40.0, 45.0, 246.5, 50.0, 316.0, 55.0, 317.5, 60.0, 65.0, 70.0, 247.5, 75.0, 80.0, 321.0, 85.0, 322.5, 253.5, 90.0, 95.0, 248.5, 100.0, 105.0, 326.0, 110.0, 327.5, 115.0, 120.0, 249.5, 125.0, 130.0, 331.0, 135.0, 332.0, 140.0, 145.0, 250.5, 150.0, 155.0, 336.0, 160.0, 165.0, 170.0, 251.5, 174.5, 175.0, 175.5, 176.0, 176.5, 177.0, 178.0, 179.0, 180.0, 181.0, 182.0, 183.0, 184.0, 185.0, 186.0, 187.0, 188.0, 189.0, 190.0, 191.0, 192.0, 193.0, 194.0, 195.0, 196.0, 197.0, 198.0, 199.0, 200.0, 201.0, 204.0, 202.0, 203.0, 205.0, 206.0, 209.0, 207.0, 208.0, 210.0, 211.0, 214.0, 212.0, 213.0, 215.0, 216.0, 219.0, 217.0, 218.0, 220.0, 221.0, 222.0, 223.0, 224.0, 225.0, 226.0, 227.0, 228.0, 229.0, 230.0, 231.0, 232.0, 233.0, 234.0, 235.0, 236.0, 237.0, 237.5, 238.0, 239.0, 239.5, 240.0, 240.5, 241.0, 241.5, 242.0, 242.5, 243.0, 243.5, 244.0, 244.5, 245.0, 246.0, 247.0, 248.0, 249.0, 250.0, 251.0, 252.0, 253.0, 254.0, 255.0, 255.5, 256.0, 256.5, 259.0, 260.0, 257.0, 257.5, 263.0, 264.0, 265.0, 258.0, 258.5, 268.0, 269.0, 270.0, 259.5, 272.0, 273.0, 274.0, 275.0, 260.5, 277.0, 278.0, 279.0, 280.0, 261.0, 261.5, 283.0, 284.0, 285.0, 262.0, 262.5, 288.0, 289.0, 290.0, 263.5, 292.0, 293.0, 294.0, 295.0, 264.5, 297.0, 298.0, 299.0, 300.0, 265.5, 302.0, 303.0, 304.0, 305.0, 266.0, 266.5, 308.0, 309.0, 310.0, 267.0, 267.5, 313.0, 314.0, 315.0, 268.5, 317.0, 318.0, 319.0, 320.0, 269.5, 322.0, 323.0, 324.0, 325.0, 270.5, 327.0, 328.0, 329.0, 330.0, 271.0, 271.5, 333.0, 334.0, 335.0, 272.5, 337.0, 338.0, 339.0, 340.0, 273.5, 342.0, 343.0, 344.0, 345.0, 274.5, 347.0, 348.0, 349.0, 350.0, 275.5, 355.0, 360.0, 276.0, 276.5, 365.0, 277.5, 370.0, 278.5, 375.0, 279.5, 380.0, 280.5, 385.0, 341.0, 281.0, 281.5, 390.0, 282.0, 282.5, 395.0, 283.5, 400.0, 284.5, 405.0, 285.5, 410.0, 286.0, 286.5, 287.0, 287.5, 420.0, 288.5, 430.0, 289.5, 290.5, 440.0, 291.0, 291.5, 292.5, 450.0, 293.5, 294.5, 460.0, 295.5, 296.0, 296.5, 297.5, 252.5, 298.5, 299.5, 300.5, 301.0, 301.5, 302.5, 303.5, 304.5, 305.5})"
      ]
     },
     "execution_count": 113,
     "metadata": {},
     "output_type": "execute_result"
    }
   ],
   "source": [
    "chain = next(c for c in chains if c.exchange =='SMART')\n",
    "chain"
   ]
  },
  {
   "cell_type": "code",
   "execution_count": 114,
   "metadata": {},
   "outputs": [],
   "source": [
    "[ticker_details] = ib.reqTickers(contract)"
   ]
  },
  {
   "cell_type": "code",
   "execution_count": 115,
   "metadata": {},
   "outputs": [],
   "source": [
    "import datetime\n",
    "\n",
    "def isFriday(date):\n",
    "    y = int(date[0:4])\n",
    "    m = int(date[4:6])    \n",
    "    d = int(date[6:8])    \n",
    "    dd = datetime.date(y,m,d)\n",
    "    return dd.weekday() == 4 and dd > datetime.date.today()\n"
   ]
  },
  {
   "cell_type": "code",
   "execution_count": 116,
   "metadata": {
    "scrolled": true
   },
   "outputs": [
    {
     "name": "stdout",
     "output_type": "stream",
     "text": [
      "48\n",
      "\n",
      "Option(conId=324254475, symbol='SPY', lastTradeDateOrContractMonth='20180810', strike=265.0, right='P', multiplier='100', exchange='SMART', currency='USD', localSymbol='SPY   180810P00265000', tradingClass='SPY')\n"
     ]
    }
   ],
   "source": [
    "strikes = [strike for strike in chain.strikes if \n",
    "           strike % 5 == 0 and \n",
    "            ticker_details.marketPrice() - 20 < strike < ticker_details.marketPrice() + 20]\n",
    "expirations = sorted(exp for exp in chain.expirations if isFriday(exp))[:3]\n",
    "rights = ['P','C']\n",
    "\n",
    "contracts = [Option(ticker, expiration, strike, right, 'SMART')\n",
    "             for right in rights for expiration in expirations for strike in strikes]\n",
    "\n",
    "ib.qualifyContracts(*contracts)\n",
    "\n",
    "print(len(contracts))\n",
    "print()\n",
    "print(contracts[0])"
   ]
  },
  {
   "cell_type": "code",
   "execution_count": 102,
   "metadata": {
    "scrolled": true
   },
   "outputs": [
    {
     "name": "stdout",
     "output_type": "stream",
     "text": [
      "RealTimeBar(time=datetime.datetime(2018, 8, 8, 21, 43, 5, tzinfo=datetime.timezone.utc), open=110.925, high=110.925, low=110.924, close=110.924, volume=-1, wap=-1.0, count=-1)\n",
      "RealTimeBar(time=datetime.datetime(2018, 8, 8, 21, 43, 10, tzinfo=datetime.timezone.utc), open=110.924, high=110.924, low=110.924, close=110.924, volume=-1, wap=-1.0, count=-1)\n"
     ]
    },
    {
     "data": {
      "text/plain": [
       "Ticker(contract=Option(conId=324945729, symbol='SPY', lastTradeDateOrContractMonth='20180824', strike=305.0, right='C', multiplier='100', exchange='SMART', currency='USD', localSymbol='SPY   180824C00305000', tradingClass='SPY'), time=datetime.datetime(2018, 8, 8, 21, 43, 8, 87828, tzinfo=datetime.timezone.utc), bid=-1.0, bidSize=0, ask=-1.0, askSize=0, close=0.01, ticks=[], tickByTicks=[], domBids=[], domAsks=[], domTicks=[])"
      ]
     },
     "execution_count": 102,
     "metadata": {},
     "output_type": "execute_result"
    },
    {
     "name": "stdout",
     "output_type": "stream",
     "text": [
      "RealTimeBar(time=datetime.datetime(2018, 8, 8, 21, 43, 15, tzinfo=datetime.timezone.utc), open=110.924, high=110.924, low=110.923, close=110.923, volume=-1, wap=-1.0, count=-1)\n",
      "RealTimeBar(time=datetime.datetime(2018, 8, 8, 21, 43, 20, tzinfo=datetime.timezone.utc), open=110.923, high=110.927, low=110.9225, close=110.926, volume=-1, wap=-1.0, count=-1)\n",
      "RealTimeBar(time=datetime.datetime(2018, 8, 8, 21, 43, 25, tzinfo=datetime.timezone.utc), open=110.926, high=110.926, low=110.926, close=110.926, volume=-1, wap=-1.0, count=-1)\n",
      "RealTimeBar(time=datetime.datetime(2018, 8, 8, 21, 43, 30, tzinfo=datetime.timezone.utc), open=110.926, high=110.926, low=110.9215, close=110.9225, volume=-1, wap=-1.0, count=-1)\n",
      "RealTimeBar(time=datetime.datetime(2018, 8, 8, 21, 43, 35, tzinfo=datetime.timezone.utc), open=110.9225, high=110.924, low=110.9215, close=110.9235, volume=-1, wap=-1.0, count=-1)\n",
      "RealTimeBar(time=datetime.datetime(2018, 8, 8, 21, 43, 40, tzinfo=datetime.timezone.utc), open=110.9235, high=110.924, low=110.9225, close=110.923, volume=-1, wap=-1.0, count=-1)\n",
      "RealTimeBar(time=datetime.datetime(2018, 8, 8, 21, 43, 45, tzinfo=datetime.timezone.utc), open=110.923, high=110.924, low=110.922, close=110.9235, volume=-1, wap=-1.0, count=-1)\n",
      "RealTimeBar(time=datetime.datetime(2018, 8, 8, 21, 43, 50, tzinfo=datetime.timezone.utc), open=110.9235, high=110.924, low=110.923, close=110.9235, volume=-1, wap=-1.0, count=-1)\n",
      "RealTimeBar(time=datetime.datetime(2018, 8, 8, 21, 43, 55, tzinfo=datetime.timezone.utc), open=110.9235, high=110.924, low=110.922, close=110.922, volume=-1, wap=-1.0, count=-1)\n",
      "RealTimeBar(time=datetime.datetime(2018, 8, 8, 21, 44, tzinfo=datetime.timezone.utc), open=110.922, high=110.9225, low=110.922, close=110.922, volume=-1, wap=-1.0, count=-1)\n",
      "RealTimeBar(time=datetime.datetime(2018, 8, 8, 21, 44, 5, tzinfo=datetime.timezone.utc), open=110.922, high=110.923, low=110.922, close=110.9225, volume=-1, wap=-1.0, count=-1)\n",
      "RealTimeBar(time=datetime.datetime(2018, 8, 8, 21, 44, 10, tzinfo=datetime.timezone.utc), open=110.9225, high=110.9235, low=110.9205, close=110.9205, volume=-1, wap=-1.0, count=-1)\n",
      "RealTimeBar(time=datetime.datetime(2018, 8, 8, 21, 44, 15, tzinfo=datetime.timezone.utc), open=110.9205, high=110.924, low=110.9195, close=110.9205, volume=-1, wap=-1.0, count=-1)\n",
      "RealTimeBar(time=datetime.datetime(2018, 8, 8, 21, 44, 20, tzinfo=datetime.timezone.utc), open=110.9205, high=110.924, low=110.92, close=110.922, volume=-1, wap=-1.0, count=-1)\n",
      "RealTimeBar(time=datetime.datetime(2018, 8, 8, 21, 44, 25, tzinfo=datetime.timezone.utc), open=110.922, high=110.924, low=110.92, close=110.921, volume=-1, wap=-1.0, count=-1)\n",
      "RealTimeBar(time=datetime.datetime(2018, 8, 8, 21, 44, 30, tzinfo=datetime.timezone.utc), open=110.921, high=110.93, low=110.9195, close=110.9275, volume=-1, wap=-1.0, count=-1)\n",
      "RealTimeBar(time=datetime.datetime(2018, 8, 8, 21, 44, 35, tzinfo=datetime.timezone.utc), open=110.9275, high=110.93, low=110.925, close=110.9285, volume=-1, wap=-1.0, count=-1)\n"
     ]
    }
   ],
   "source": [
    "tickers_data = ib.reqTickers(*contracts)\n",
    "\n",
    "tickers_data[-1]"
   ]
  },
  {
   "cell_type": "code",
   "execution_count": 119,
   "metadata": {
    "scrolled": true
   },
   "outputs": [
    {
     "data": {
      "text/plain": [
       "Ticker(contract=Option(conId=315359823, symbol='SPY', lastTradeDateOrContractMonth='20180817', strike=270.0, right='P', multiplier='100', exchange='SMART', currency='USD', localSymbol='SPY   180817P00270000', tradingClass='SPY'), time=datetime.datetime(2018, 8, 8, 21, 43, 8, 87200, tzinfo=datetime.timezone.utc), bid=-1.0, bidSize=0, ask=-1.0, askSize=0, last=0.07, lastSize=60, volume=522, high=0.09, low=0.06, close=0.08, ticks=[], tickByTicks=[], domBids=[], domAsks=[], domTicks=[])"
      ]
     },
     "execution_count": 119,
     "metadata": {},
     "output_type": "execute_result"
    }
   ],
   "source": [
    "tickers_data[8]"
   ]
  },
  {
   "cell_type": "code",
   "execution_count": 120,
   "metadata": {
    "scrolled": true
   },
   "outputs": [
    {
     "data": {
      "text/plain": [
       "Option(conId=315359823, symbol='SPY', lastTradeDateOrContractMonth='20180817', strike=270.0, right='P', multiplier='100', exchange='SMART', currency='USD', localSymbol='SPY   180817P00270000', tradingClass='SPY')"
      ]
     },
     "execution_count": 120,
     "metadata": {},
     "output_type": "execute_result"
    }
   ],
   "source": [
    "tickers_data[8].contract"
   ]
  },
  {
   "cell_type": "code",
   "execution_count": 122,
   "metadata": {
    "scrolled": true
   },
   "outputs": [],
   "source": [
    "ib.qualifyContracts(tickers_data[8].contract)\n",
    "\n",
    "order = MarketOrder('BUY', 5)"
   ]
  },
  {
   "cell_type": "code",
   "execution_count": null,
   "metadata": {},
   "outputs": [],
   "source": []
  },
  {
   "cell_type": "markdown",
   "metadata": {},
   "source": [
    "### placeOrder will place the order and return a Trade object right away (non-blocking)"
   ]
  },
  {
   "cell_type": "code",
   "execution_count": 123,
   "metadata": {},
   "outputs": [
    {
     "data": {
      "text/plain": [
       "Trade(contract=Stock(conId=756733, symbol='SPY', exchange='SMART', primaryExchange='ARCA', currency='USD', localSymbol='SPY', tradingClass='SPY'), order=MarketOrder(orderId=58, action='BUY', totalQuantity=5), orderStatus=OrderStatus(status='PendingSubmit'), fills=[], log=[TradeLogEntry(time=datetime.datetime(2018, 8, 8, 22, 21, 43, 536863, tzinfo=datetime.timezone.utc), status='PendingSubmit', message='')])"
      ]
     },
     "execution_count": 123,
     "metadata": {},
     "output_type": "execute_result"
    }
   ],
   "source": [
    "trade = ib.placeOrder(contract, order)\n",
    "\n",
    "trade"
   ]
  },
  {
   "cell_type": "markdown",
   "metadata": {},
   "source": [
    "### trade contains the order and everything related to it. such as order status fills and a log. it live pdates with status changes or fill of order"
   ]
  },
  {
   "cell_type": "code",
   "execution_count": 124,
   "metadata": {},
   "outputs": [
    {
     "data": {
      "text/plain": [
       "[TradeLogEntry(time=datetime.datetime(2018, 8, 8, 22, 21, 43, 536863, tzinfo=datetime.timezone.utc), status='PendingSubmit', message=''),\n",
       " TradeLogEntry(time=datetime.datetime(2018, 8, 8, 22, 21, 43, 731857, tzinfo=datetime.timezone.utc), status='PreSubmitted', message='')]"
      ]
     },
     "execution_count": 124,
     "metadata": {},
     "output_type": "execute_result"
    }
   ],
   "source": [
    "ib.sleep(1)\n",
    "trade.log"
   ]
  },
  {
   "cell_type": "code",
   "execution_count": 127,
   "metadata": {},
   "outputs": [
    {
     "name": "stderr",
     "output_type": "stream",
     "text": [
      "ERROR:ib_insync.client:Peer closed connection\n",
      "ERROR:ib_insync.client:Peer closed connection\n"
     ]
    }
   ],
   "source": [
    "ib.disconnect()"
   ]
  },
  {
   "cell_type": "code",
   "execution_count": null,
   "metadata": {},
   "outputs": [],
   "source": []
  }
 ],
 "metadata": {
  "kernelspec": {
   "display_name": "Python 3",
   "language": "python",
   "name": "python3"
  },
  "language_info": {
   "codemirror_mode": {
    "name": "ipython",
    "version": 3
   },
   "file_extension": ".py",
   "mimetype": "text/x-python",
   "name": "python",
   "nbconvert_exporter": "python",
   "pygments_lexer": "ipython3",
   "version": "3.6.5"
  }
 },
 "nbformat": 4,
 "nbformat_minor": 2
}
