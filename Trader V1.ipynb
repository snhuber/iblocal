{
 "cells": [
  {
   "cell_type": "markdown",
   "metadata": {},
   "source": [
    "# Connect to Trader Workstation \n",
    "** from Interactive Brokers (testing use port 7497 for paper trading account.) **"
   ]
  },
  {
   "cell_type": "code",
   "execution_count": 2,
   "metadata": {},
   "outputs": [
    {
     "data": {
      "text/plain": [
       "<IB connected to 127.0.0.1:7497 clientId=5>"
      ]
     },
     "execution_count": 2,
     "metadata": {},
     "output_type": "execute_result"
    }
   ],
   "source": [
    "from ib_insync import *\n",
    "util.startLoop()\n",
    "\n",
    "ib = IB()\n",
    "ib.connect('127.0.0.1', 7497, clientId=5)"
   ]
  },
  {
   "cell_type": "markdown",
   "metadata": {},
   "source": [
    "Test for connection"
   ]
  },
  {
   "cell_type": "code",
   "execution_count": 3,
   "metadata": {},
   "outputs": [
    {
     "data": {
      "text/plain": [
       "True"
      ]
     },
     "execution_count": 3,
     "metadata": {},
     "output_type": "execute_result"
    }
   ],
   "source": [
    "ib.isConnected()"
   ]
  },
  {
   "cell_type": "markdown",
   "metadata": {},
   "source": [
    "Show current porfolio"
   ]
  },
  {
   "cell_type": "code",
   "execution_count": 25,
   "metadata": {},
   "outputs": [
    {
     "data": {
      "text/html": [
       "<div>\n",
       "<style scoped>\n",
       "    .dataframe tbody tr th:only-of-type {\n",
       "        vertical-align: middle;\n",
       "    }\n",
       "\n",
       "    .dataframe tbody tr th {\n",
       "        vertical-align: top;\n",
       "    }\n",
       "\n",
       "    .dataframe thead th {\n",
       "        text-align: right;\n",
       "    }\n",
       "</style>\n",
       "<table border=\"1\" class=\"dataframe\">\n",
       "  <thead>\n",
       "    <tr style=\"text-align: right;\">\n",
       "      <th></th>\n",
       "      <th>contract</th>\n",
       "      <th>position</th>\n",
       "      <th>marketPrice</th>\n",
       "      <th>marketValue</th>\n",
       "      <th>averageCost</th>\n",
       "      <th>unrealizedPNL</th>\n",
       "      <th>realizedPNL</th>\n",
       "      <th>account</th>\n",
       "    </tr>\n",
       "  </thead>\n",
       "  <tbody>\n",
       "    <tr>\n",
       "      <th>0</th>\n",
       "      <td>Contract(secType='STK', conId=3691937, symbol=...</td>\n",
       "      <td>100.0</td>\n",
       "      <td>1910.554932</td>\n",
       "      <td>191055.49</td>\n",
       "      <td>1845.910</td>\n",
       "      <td>6464.49</td>\n",
       "      <td>0.0</td>\n",
       "      <td>DU1113767</td>\n",
       "    </tr>\n",
       "    <tr>\n",
       "      <th>1</th>\n",
       "      <td>Contract(secType='FUT', conId=310629209, symbo...</td>\n",
       "      <td>1.0</td>\n",
       "      <td>2858.198242</td>\n",
       "      <td>142909.91</td>\n",
       "      <td>141777.050</td>\n",
       "      <td>1132.86</td>\n",
       "      <td>0.0</td>\n",
       "      <td>DU1113767</td>\n",
       "    </tr>\n",
       "    <tr>\n",
       "      <th>2</th>\n",
       "      <td>Contract(secType='STK', conId=208813720, symbo...</td>\n",
       "      <td>210.0</td>\n",
       "      <td>1236.293823</td>\n",
       "      <td>259621.70</td>\n",
       "      <td>1200.695</td>\n",
       "      <td>7475.75</td>\n",
       "      <td>0.0</td>\n",
       "      <td>DU1113767</td>\n",
       "    </tr>\n",
       "    <tr>\n",
       "      <th>3</th>\n",
       "      <td>Contract(secType='STK', conId=272093, symbol='...</td>\n",
       "      <td>200.0</td>\n",
       "      <td>109.364006</td>\n",
       "      <td>21872.80</td>\n",
       "      <td>109.790</td>\n",
       "      <td>-85.20</td>\n",
       "      <td>0.0</td>\n",
       "      <td>DU1113767</td>\n",
       "    </tr>\n",
       "    <tr>\n",
       "      <th>4</th>\n",
       "      <td>Contract(secType='STK', conId=756733, symbol='...</td>\n",
       "      <td>5.0</td>\n",
       "      <td>283.756012</td>\n",
       "      <td>1418.78</td>\n",
       "      <td>285.730</td>\n",
       "      <td>-9.87</td>\n",
       "      <td>0.0</td>\n",
       "      <td>DU1113767</td>\n",
       "    </tr>\n",
       "  </tbody>\n",
       "</table>\n",
       "</div>"
      ],
      "text/plain": [
       "                                            contract  position  marketPrice  \\\n",
       "0  Contract(secType='STK', conId=3691937, symbol=...     100.0  1910.554932   \n",
       "1  Contract(secType='FUT', conId=310629209, symbo...       1.0  2858.198242   \n",
       "2  Contract(secType='STK', conId=208813720, symbo...     210.0  1236.293823   \n",
       "3  Contract(secType='STK', conId=272093, symbol='...     200.0   109.364006   \n",
       "4  Contract(secType='STK', conId=756733, symbol='...       5.0   283.756012   \n",
       "\n",
       "   marketValue  averageCost  unrealizedPNL  realizedPNL    account  \n",
       "0    191055.49     1845.910        6464.49          0.0  DU1113767  \n",
       "1    142909.91   141777.050        1132.86          0.0  DU1113767  \n",
       "2    259621.70     1200.695        7475.75          0.0  DU1113767  \n",
       "3     21872.80      109.790         -85.20          0.0  DU1113767  \n",
       "4      1418.78      285.730          -9.87          0.0  DU1113767  "
      ]
     },
     "execution_count": 25,
     "metadata": {},
     "output_type": "execute_result"
    },
    {
     "name": "stderr",
     "output_type": "stream",
     "text": [
      "ERROR:ib_insync.client:Peer closed connection\n"
     ]
    }
   ],
   "source": [
    "port = ib.portfolio()\n",
    "portfolio = util.df(port)\n",
    "portfolio.head(5)\n"
   ]
  },
  {
   "cell_type": "markdown",
   "metadata": {},
   "source": [
    "Show current gain / loss"
   ]
  },
  {
   "cell_type": "code",
   "execution_count": null,
   "metadata": {},
   "outputs": [],
   "source": []
  }
 ],
 "metadata": {
  "kernelspec": {
   "display_name": "Python 3",
   "language": "python",
   "name": "python3"
  },
  "language_info": {
   "codemirror_mode": {
    "name": "ipython",
    "version": 3
   },
   "file_extension": ".py",
   "mimetype": "text/x-python",
   "name": "python",
   "nbconvert_exporter": "python",
   "pygments_lexer": "ipython3",
   "version": "3.6.5"
  }
 },
 "nbformat": 4,
 "nbformat_minor": 2
}
