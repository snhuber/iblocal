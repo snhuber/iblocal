{
 "cells": [
  {
   "cell_type": "markdown",
   "metadata": {},
   "source": [
    "# Connect to Trader Workstation \n",
    "** from Interactive Brokers (testing use port 7497 for paper trading account.) **"
   ]
  },
  {
   "cell_type": "code",
   "execution_count": 330,
   "metadata": {
    "scrolled": false
   },
   "outputs": [
    {
     "data": {
      "text/plain": [
       "<IB connected to 127.0.0.1:7497 clientId=3>"
      ]
     },
     "execution_count": 330,
     "metadata": {},
     "output_type": "execute_result"
    }
   ],
   "source": [
    "# common imports\n",
    "import numpy as np\n",
    "import os\n",
    "\n",
    "from ib_insync import *\n",
    "util.startLoop()\n",
    "\n",
    "ib = IB()\n",
    "ib.connect('127.0.0.1', 7497, clientId=3)"
   ]
  },
  {
   "cell_type": "markdown",
   "metadata": {},
   "source": [
    "Test for connection"
   ]
  },
  {
   "cell_type": "code",
   "execution_count": 412,
   "metadata": {},
   "outputs": [
    {
     "data": {
      "text/plain": [
       "True"
      ]
     },
     "execution_count": 412,
     "metadata": {},
     "output_type": "execute_result"
    }
   ],
   "source": [
    "ib.isConnected()"
   ]
  },
  {
   "cell_type": "markdown",
   "metadata": {},
   "source": [
    "Select the Stock we wish to model."
   ]
  },
  {
   "cell_type": "code",
   "execution_count": 413,
   "metadata": {
    "scrolled": true
   },
   "outputs": [
    {
     "data": {
      "text/plain": [
       "datetime.datetime(2010, 6, 29, 8, 0)"
      ]
     },
     "execution_count": 413,
     "metadata": {},
     "output_type": "execute_result"
    }
   ],
   "source": [
    "\n",
    "contract = Stock('TSLA', 'SMART', 'USD')\n",
    "# shows date of first available historical data (how far back we can model).\n",
    "ib.reqHeadTimeStamp(contract, whatToShow='TRADES', useRTH=True)"
   ]
  },
  {
   "cell_type": "code",
   "execution_count": 39,
   "metadata": {},
   "outputs": [],
   "source": [
    "# TRADES HISTORICAL_VOLATILITY OPTION_IMPLIED_VOLATILITY"
   ]
  },
  {
   "cell_type": "code",
   "execution_count": 414,
   "metadata": {},
   "outputs": [],
   "source": [
    "trade_data = ib.reqHistoricalData(\n",
    "        contract,\n",
    "        endDateTime='',\n",
    "        durationStr='90 D',\n",
    "        barSizeSetting='1 min',\n",
    "        whatToShow='TRADES',\n",
    "        useRTH=True,\n",
    "        formatDate=1)"
   ]
  },
  {
   "cell_type": "markdown",
   "metadata": {},
   "source": [
    " Option implied volitiilty data "
   ]
  },
  {
   "cell_type": "code",
   "execution_count": 415,
   "metadata": {},
   "outputs": [],
   "source": [
    "option_implied_vol = ib.reqHistoricalData(\n",
    "        contract,\n",
    "        endDateTime='',\n",
    "        durationStr='90 D',\n",
    "        barSizeSetting='1 min',\n",
    "        whatToShow='OPTION_IMPLIED_VOLATILITY',\n",
    "        useRTH=True,\n",
    "        formatDate=1)"
   ]
  },
  {
   "cell_type": "code",
   "execution_count": 416,
   "metadata": {
    "scrolled": false
   },
   "outputs": [
    {
     "name": "stdout",
     "output_type": "stream",
     "text": [
      "34737\n",
      "BarData(date=datetime.datetime(2018, 4, 11, 6, 31), open=300.12, high=301.6, low=300.1, close=301.5, volume=379, barCount=213, average=301.118)\n",
      "BarData(date=datetime.datetime(2018, 4, 11, 6, 31), open=0.59575441, high=0.59575441, low=0.59575441, close=0.59575441, average=0.59575441)\n"
     ]
    }
   ],
   "source": [
    "option_implied_vol[0]\n",
    "print(len(trade_data))\n",
    "print(trade_data[1])\n",
    "print(option_implied_vol[1])\n",
    "# trade_data[0]"
   ]
  },
  {
   "cell_type": "markdown",
   "metadata": {},
   "source": [
    "Helper function to ready data"
   ]
  },
  {
   "cell_type": "code",
   "execution_count": 417,
   "metadata": {
    "scrolled": true
   },
   "outputs": [],
   "source": [
    "def data_prep(trade_data, option_implied_vol):\n",
    "    # convert into dataframes \n",
    "    df_trades = util.df(trade_data)\n",
    "    df_optImpVol = util.df(option_implied_vol)\n",
    "    # remove empty colums (volume, barcount) and rename columns so they dont conflict with Trades\n",
    "    df_optImpVol.drop(columns=['volume', 'barCount'], inplace=True)\n",
    "    # Rename cols\n",
    "    df_optImpVol.rename(index=str, columns={\"open\": \"volOpen\", \"high\":\"volHigh\", \"low\":\"volLow\", \"close\":\"volClose\", \"average\":\"volAverage\"})\n",
    "    # Merge datasets\n",
    "    df_merged = df_trades.merge(df_optImpVol, left_on='date', right_on='date', how='outer')\n",
    "    #  add new columns and normalize data. \n",
    "    #  ROC_min = close_x - open_x / open_x * 100    # Rate of change per minute\n",
    "    df_merged['ROC_min'] = ( df_merged['close_x'] - df_merged['open_x'] ) / ( df_merged['open_x']  ) \n",
    "    #  perMinVol = high_x - low_x / low_x * 100     # intra minute spread volitity\n",
    "    df_merged['perMinVol'] = ( df_merged['high_x'] - df_merged['low_x'] ) / df_merged['low_x'] \n",
    "    # adding 7day rolling mean for price \n",
    "    df_merged['rollMean_7day'] = df_merged['close_x'].rolling(2940).mean()\n",
    "    # drop unwanted columns: open_x, high_x, low_x, average_x, open_y, hight_y, low_y, average_y \n",
    "    df_merged.drop(columns=['date','open_x', 'high_x', 'low_x', 'average_x', 'open_y', 'high_y', 'low_y', 'average_y'], inplace=True)\n",
    "#     # Rename cols\n",
    "#     df_merged.rename(index=str, columns={\"close_x\":\"price_close\", \"close_y\":\"avgMinVol\"})\n",
    "#     df_merged.head(3)\n",
    "    df_merged.dropna(inplace=True)\n",
    "\n",
    "    return df_merged\n",
    "\n"
   ]
  },
  {
   "cell_type": "code",
   "execution_count": 418,
   "metadata": {
    "scrolled": true
   },
   "outputs": [
    {
     "name": "stdout",
     "output_type": "stream",
     "text": [
      "(31798, 7)\n",
      "      close_x  volume  barCount   close_y   ROC_min  perMinVol  rollMean_7day\n",
      "2939   293.26    52.0      38.0  0.562974  0.000102   0.000546     296.021364\n",
      "2940   293.20    37.0      11.0  0.561831  0.000171   0.000375     296.019034\n",
      "2941   293.06    29.0      14.0  0.561831 -0.000375   0.000682     296.016163\n",
      "(28848, 7)\n",
      "      close_x  volume  barCount   close_y   ROC_min  perMinVol  rollMean_7day\n",
      "5889   301.32   126.0      83.0  0.531574 -0.000564   0.001860     287.974068\n",
      "5890   300.95    93.0      66.0  0.533114 -0.001559   0.001861     287.976544\n",
      "5891   301.47    62.0      33.0  0.533114  0.001096   0.001594     287.979065\n"
     ]
    }
   ],
   "source": [
    "df = data_prep(trade_data, option_implied_vol)\n",
    "print(df.shape)\n",
    "print(df.head(3))\n",
    "# remove the NaN's from rollMean_7day\n",
    "df = df[2950 : ]\n",
    "print(df.shape)\n",
    "print(df.head(3))\n"
   ]
  },
  {
   "cell_type": "code",
   "execution_count": 419,
   "metadata": {
    "scrolled": true
   },
   "outputs": [
    {
     "name": "stdout",
     "output_type": "stream",
     "text": [
      "scaled [0.24391556 0.00851336 0.01359983 0.60413456 0.4784665  0.04182542\n",
      " 0.10906196]\n",
      "This is reframed.head     var1(t-1)  var2(t-1)  var3(t-1)  var4(t-1)  var5(t-1)  var6(t-1)  \\\n",
      "1   0.247214   0.011534   0.017103   0.598993   0.498799   0.041788   \n",
      "2   0.243916   0.008513   0.013600   0.604135   0.478467   0.041825   \n",
      "3   0.248551   0.005676   0.006800   0.604135   0.532701   0.035825   \n",
      "4   0.247482   0.009703   0.010715   0.600477   0.519133   0.034326   \n",
      "5   0.244451   0.013090   0.022666   0.600477   0.486594   0.050766   \n",
      "\n",
      "   var7(t-1)   var1(t)  \n",
      "1   0.109030  0.243916  \n",
      "2   0.109062  0.248551  \n",
      "3   0.109095  0.247482  \n",
      "4   0.109127  0.244451  \n",
      "5   0.109158  0.246144  \n",
      "reframed shape (28847, 8)\n"
     ]
    }
   ],
   "source": [
    "from math import sqrt\n",
    "from numpy import concatenate\n",
    "from matplotlib import pyplot\n",
    "from pandas import read_csv\n",
    "from pandas import DataFrame\n",
    "from pandas import concat\n",
    "from sklearn.preprocessing import MinMaxScaler\n",
    "from sklearn.preprocessing import LabelEncoder\n",
    "from sklearn.metrics import mean_squared_error\n",
    "from keras.models import Sequential\n",
    "from keras.layers import Dense\n",
    "from keras.layers import LSTM\n",
    " \n",
    "# convert series to supervised learning\n",
    "def series_to_supervised(data, n_in=1, n_out=1, dropnan=True):\n",
    "\tn_vars = 1 if type(data) is list else data.shape[1]\n",
    "\tdf = DataFrame(data)\n",
    "\tcols, names = list(), list()\n",
    "\t# input sequence (t-n, ... t-1)\n",
    "\tfor i in range(n_in, 0, -1):\n",
    "\t\tcols.append(df.shift(i))\n",
    "\t\tnames += [('var%d(t-%d)' % (j+1, i)) for j in range(n_vars)]\n",
    "\t# forecast sequence (t, t+1, ... t+n)\n",
    "\tfor i in range(0, n_out):\n",
    "\t\tcols.append(df.shift(-i))\n",
    "\t\tif i == 0:\n",
    "\t\t\tnames += [('var%d(t)' % (j+1)) for j in range(n_vars)]\n",
    "\t\telse:\n",
    "\t\t\tnames += [('var%d(t+%d)' % (j+1, i)) for j in range(n_vars)]\n",
    "\t# put it all together\n",
    "\tagg = concat(cols, axis=1)\n",
    "\tagg.columns = names\n",
    "\t# drop rows with NaN values\n",
    "\tif dropnan:\n",
    "\t\tagg.dropna(inplace=True)\n",
    "\treturn agg\n",
    " \n",
    "# load dataset\n",
    "# dataset = read_csv('/Users/lorinfields/Downloads/pollution.csv', header=0, index_col=0)\n",
    "dataset = df\n",
    "\n",
    "values = dataset.values\n",
    "# integer encode direction\n",
    "# encoder = LabelEncoder()\n",
    "# values[:,4] = encoder.fit_transform(values[:,4])\n",
    "# # ensure all data is float\n",
    "values = values.astype('float32')\n",
    "# normalize features\n",
    "scaler = MinMaxScaler(feature_range=(0, 1))\n",
    "scaled = scaler.fit_transform(values)\n",
    "print('scaled', scaled[1])\n",
    "# frame as supervised learning\n",
    "reframed = series_to_supervised(scaled, 1, 1)\n",
    "\n",
    "# drop columns we don't want to predict\n",
    "reframed.drop(reframed.columns[[8,9,10,11,12,13]], axis=1, inplace=True)\n",
    "print('This is reframed.head ', reframed.head())\n",
    "print('reframed shape', reframed.shape)"
   ]
  },
  {
   "cell_type": "code",
   "execution_count": 420,
   "metadata": {
    "scrolled": true
   },
   "outputs": [
    {
     "name": "stdout",
     "output_type": "stream",
     "text": [
      "(28847, 8)\n",
      "[0.24721408 0.01153424 0.01710282 0.5989927  0.4987994  0.04178792\n",
      " 0.10902977 0.24391556]\n",
      "(25000, 1, 7) (25000,) (3847, 1, 7) (3847,)\n"
     ]
    }
   ],
   "source": [
    " \n",
    "# split into train and test sets\n",
    "values = reframed.values\n",
    "n_train_min = 25000\n",
    "print(values.shape)\n",
    "print(values[0])\n",
    "train = values[:n_train_min, :]\n",
    "test = values[n_train_min:, :]\n",
    "# split into input and outputs\n",
    "train_X, train_y = train[:, :-1], train[:, -1]\n",
    "test_X, test_y = test[:, :-1], test[:, -1]\n",
    "# reshape input to be 3D [samples, timesteps, features]\n",
    "train_X = train_X.reshape((train_X.shape[0], 1, train_X.shape[1]))\n",
    "test_X = test_X.reshape((test_X.shape[0], 1, test_X.shape[1]))\n",
    "print(train_X.shape, train_y.shape, test_X.shape, test_y.shape)\n"
   ]
  },
  {
   "cell_type": "code",
   "execution_count": 421,
   "metadata": {
    "scrolled": true
   },
   "outputs": [
    {
     "name": "stdout",
     "output_type": "stream",
     "text": [
      "Train on 25000 samples, validate on 3847 samples\n",
      "Epoch 1/50\n",
      " - 6s - loss: 0.0174 - val_loss: 0.1563\n",
      "Epoch 2/50\n",
      " - 1s - loss: 0.0128 - val_loss: 0.0990\n",
      "Epoch 3/50\n",
      " - 1s - loss: 0.0087 - val_loss: 0.0471\n",
      "Epoch 4/50\n",
      " - 1s - loss: 0.0047 - val_loss: 0.0094\n",
      "Epoch 5/50\n",
      " - 1s - loss: 0.0025 - val_loss: 0.0020\n",
      "Epoch 6/50\n",
      " - 1s - loss: 0.0016 - val_loss: 0.0108\n",
      "Epoch 7/50\n",
      " - 1s - loss: 0.0011 - val_loss: 0.0178\n",
      "Epoch 8/50\n",
      " - 1s - loss: 7.9390e-04 - val_loss: 0.0194\n",
      "Epoch 9/50\n",
      " - 1s - loss: 5.7103e-04 - val_loss: 0.0175\n",
      "Epoch 10/50\n",
      " - 1s - loss: 4.3080e-04 - val_loss: 0.0143\n",
      "Epoch 11/50\n",
      " - 1s - loss: 3.4998e-04 - val_loss: 0.0110\n",
      "Epoch 12/50\n",
      " - 1s - loss: 3.0453e-04 - val_loss: 0.0084\n",
      "Epoch 13/50\n",
      " - 1s - loss: 2.7555e-04 - val_loss: 0.0066\n",
      "Epoch 14/50\n",
      " - 1s - loss: 2.5151e-04 - val_loss: 0.0054\n",
      "Epoch 15/50\n",
      " - 1s - loss: 2.2735e-04 - val_loss: 0.0048\n",
      "Epoch 16/50\n",
      " - 1s - loss: 2.0225e-04 - val_loss: 0.0045\n",
      "Epoch 17/50\n",
      " - 1s - loss: 1.7763e-04 - val_loss: 0.0043\n",
      "Epoch 18/50\n",
      " - 1s - loss: 1.5548e-04 - val_loss: 0.0042\n",
      "Epoch 19/50\n",
      " - 1s - loss: 1.3740e-04 - val_loss: 0.0041\n",
      "Epoch 20/50\n",
      " - 1s - loss: 1.2425e-04 - val_loss: 0.0040\n",
      "Epoch 21/50\n",
      " - 1s - loss: 1.1574e-04 - val_loss: 0.0038\n",
      "Epoch 22/50\n",
      " - 1s - loss: 1.1054e-04 - val_loss: 0.0036\n",
      "Epoch 23/50\n",
      " - 1s - loss: 1.0715e-04 - val_loss: 0.0034\n",
      "Epoch 24/50\n",
      " - 1s - loss: 1.0474e-04 - val_loss: 0.0032\n",
      "Epoch 25/50\n",
      " - 1s - loss: 1.0302e-04 - val_loss: 0.0030\n",
      "Epoch 26/50\n",
      " - 1s - loss: 1.0188e-04 - val_loss: 0.0028\n",
      "Epoch 27/50\n",
      " - 1s - loss: 1.0122e-04 - val_loss: 0.0026\n",
      "Epoch 28/50\n",
      " - 1s - loss: 1.0092e-04 - val_loss: 0.0023\n",
      "Epoch 29/50\n",
      " - 1s - loss: 1.0083e-04 - val_loss: 0.0021\n",
      "Epoch 30/50\n",
      " - 1s - loss: 1.0090e-04 - val_loss: 0.0019\n",
      "Epoch 31/50\n",
      " - 1s - loss: 1.0101e-04 - val_loss: 0.0017\n",
      "Epoch 32/50\n",
      " - 1s - loss: 1.0112e-04 - val_loss: 0.0015\n",
      "Epoch 33/50\n",
      " - 1s - loss: 1.0119e-04 - val_loss: 0.0014\n",
      "Epoch 34/50\n",
      " - 1s - loss: 1.0120e-04 - val_loss: 0.0012\n",
      "Epoch 35/50\n",
      " - 1s - loss: 1.0112e-04 - val_loss: 0.0010\n",
      "Epoch 36/50\n",
      " - 1s - loss: 1.0092e-04 - val_loss: 8.8812e-04\n",
      "Epoch 37/50\n",
      " - 1s - loss: 1.0059e-04 - val_loss: 7.6125e-04\n",
      "Epoch 38/50\n",
      " - 1s - loss: 1.0012e-04 - val_loss: 6.4828e-04\n",
      "Epoch 39/50\n",
      " - 1s - loss: 9.9511e-05 - val_loss: 5.4902e-04\n",
      "Epoch 40/50\n",
      " - 1s - loss: 9.8745e-05 - val_loss: 4.6308e-04\n",
      "Epoch 41/50\n",
      " - 1s - loss: 9.7826e-05 - val_loss: 3.8993e-04\n",
      "Epoch 42/50\n",
      " - 1s - loss: 9.6748e-05 - val_loss: 3.2907e-04\n",
      "Epoch 43/50\n",
      " - 1s - loss: 9.5507e-05 - val_loss: 2.7990e-04\n",
      "Epoch 44/50\n",
      " - 1s - loss: 9.4104e-05 - val_loss: 2.4184e-04\n",
      "Epoch 45/50\n",
      " - 1s - loss: 9.2531e-05 - val_loss: 2.1438e-04\n",
      "Epoch 46/50\n",
      " - 1s - loss: 9.0786e-05 - val_loss: 1.9713e-04\n",
      "Epoch 47/50\n",
      " - 1s - loss: 8.8871e-05 - val_loss: 1.8976e-04\n",
      "Epoch 48/50\n",
      " - 1s - loss: 8.6781e-05 - val_loss: 1.9219e-04\n",
      "Epoch 49/50\n",
      " - 1s - loss: 8.4527e-05 - val_loss: 2.0455e-04\n",
      "Epoch 50/50\n",
      " - 1s - loss: 8.2118e-05 - val_loss: 2.2723e-04\n"
     ]
    },
    {
     "data": {
      "image/png": "[encoded data removed]",
      "text/plain": [
       "<Figure size 432x288 with 1 Axes>"
      ]
     },
     "metadata": {},
     "output_type": "display_data"
    }
   ],
   "source": [
    "# *** Now we can define and fit our LSTM model.\n",
    "# We will define the LSTM with 50 neurons in the first hidden layer and 1 neuron in the output layer for predicting pollution. The input shape will be 1 time step with 8 features.\n",
    "# We will use the Mean Absolute Error (MAE) loss function and the efficient Adam version of stochastic gradient descent.\n",
    "# The model will be fit for 50 training epochs with a batch size of 72. Remember that the internal state of the LSTM in Keras is reset at the end of each batch, so an internal state that is a function of a number of days may be helpful (try testing this).\n",
    "# Finally, we keep track of both the training and test loss during training by setting the validation_data argument in the fit() function. At the end of the run both the training and test loss are plotted.\n",
    "# ***\n",
    "# design network\n",
    "model = Sequential()\n",
    "model.add(LSTM(50, input_shape=(train_X.shape[1], train_X.shape[2])))\n",
    "model.add(Dense(1))\n",
    "# model.compile(loss='mae', optimizer='adam')\n",
    "model.compile(loss='mse', optimizer='adam')\n",
    "\n",
    "# fit network\n",
    "history = model.fit(train_X, train_y, epochs=50, batch_size=72, validation_data=(test_X, test_y), verbose=2, shuffle=False)\n",
    "# plot history\n",
    "pyplot.plot(history.history['loss'], label='train')\n",
    "pyplot.plot(history.history['val_loss'], label='test')\n",
    "pyplot.legend()\n",
    "pyplot.show()\n",
    " \n"
   ]
  },
  {
   "cell_type": "code",
   "execution_count": 422,
   "metadata": {
    "scrolled": false
   },
   "outputs": [
    {
     "name": "stdout",
     "output_type": "stream",
     "text": [
      "Test RMSE: 1.691\n",
      "(3847,)\n",
      "(3847,)\n",
      "347.1223\n",
      "347.43\n",
      "3847\n",
      "totalGain $ 28522.28825168623\n",
      "totalBuys 604\n",
      "Annualized gain: $ 926974.3681798024\n"
     ]
    }
   ],
   "source": [
    "# make a prediction\n",
    "yhat = model.predict(test_X)\n",
    "test_X = test_X.reshape((test_X.shape[0], test_X.shape[2]))\n",
    "# invert scaling for forecast\n",
    "inv_yhat = concatenate((yhat, test_X[:, 1:]), axis=1)\n",
    "inv_yhat = scaler.inverse_transform(inv_yhat)\n",
    "inv_yhat = inv_yhat[:,0]\n",
    "# invert scaling for actual\n",
    "test_y = test_y.reshape((len(test_y), 1))\n",
    "inv_y = concatenate((test_y, test_X[:, 1:]), axis=1)\n",
    "inv_y = scaler.inverse_transform(inv_y)\n",
    "inv_y = inv_y[:,0]\n",
    "# calculate RMSE\n",
    "rmse = sqrt(mean_squared_error(inv_y, inv_yhat))\n",
    "print('Test RMSE: %.3f' % rmse)\n",
    "print(inv_yhat.shape)\n",
    "print(inv_y.shape)\n",
    "print(inv_yhat[500])\n",
    "print(inv_y[500])\n",
    "runs = len(inv_y)\n",
    "print(runs)\n",
    "# if the model predicts the stock is going up it buys $1M a minute worth of shares and sells the following minute.\n",
    "# if the stock does indeed gain the net is added to total. If it loses the net loss is subtracted \n",
    "# from total.\n",
    "totalGain = 0\n",
    "totalBuys = 0\n",
    "for i in range(runs - 1):\n",
    "    if ((inv_yhat[i + 1] - inv_y[i]) > .3 ):\n",
    "        shares = 1000000 / inv_y[i]\n",
    "        gainPerShare = inv_y[i + 1] - inv_y[i] \n",
    "        totalGain += shares * gainPerShare\n",
    "        totalBuys += 1\n",
    "#         print('gain= ', inv_yhat[i + 1] - inv_y[i])\n",
    "#         print('% gain= ', ((inv_yhat[i + 1] - inv_y[i]) / inv_y[i]))\n",
    "              \n",
    "print('totalGain $', totalGain)\n",
    "print('totalBuys', totalBuys)\n",
    "annGain = totalGain * 32.5\n",
    "print('Annualized gain: $', annGain)\n",
    "# print('real and proj', inv_y[20], inv_yhat[20])\n",
    "    \n",
    "    \n"
   ]
  },
  {
   "cell_type": "code",
   "execution_count": 423,
   "metadata": {},
   "outputs": [],
   "source": [
    "# save the trained model for export\n",
    "# save model to single file\n",
    "model.save('/Users/lorinfields/Dropbox/Lambda/mlai/iblocal/lstm_model.h5')"
   ]
  },
  {
   "cell_type": "code",
   "execution_count": 310,
   "metadata": {},
   "outputs": [],
   "source": [
    "ib.disconnect()"
   ]
  }
 ],
 "metadata": {
  "kernelspec": {
   "display_name": "Python 3",
   "language": "python",
   "name": "python3"
  },
  "language_info": {
   "codemirror_mode": {
    "name": "ipython",
    "version": 3
   },
   "file_extension": ".py",
   "mimetype": "text/x-python",
   "name": "python",
   "nbconvert_exporter": "python",
   "pygments_lexer": "ipython3",
   "version": "3.6.5"
  }
 },
 "nbformat": 4,
 "nbformat_minor": 2
}
