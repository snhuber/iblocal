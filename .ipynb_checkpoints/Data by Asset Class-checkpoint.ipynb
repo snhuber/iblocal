{
 "cells": [
  {
   "cell_type": "code",
   "execution_count": 11,
   "metadata": {},
   "outputs": [],
   "source": [
    "from ib_insync import *\n",
    "util.startLoop()"
   ]
  },
  {
   "cell_type": "code",
   "execution_count": 30,
   "metadata": {},
   "outputs": [
    {
     "data": {
      "text/plain": [
       "<IB connected to :7497 clientId=1>"
      ]
     },
     "execution_count": 30,
     "metadata": {},
     "output_type": "execute_result"
    }
   ],
   "source": [
    "ib = IB()\n",
    "ib.connect('', 7497, clientId=1)"
   ]
  },
  {
   "cell_type": "code",
   "execution_count": 31,
   "metadata": {},
   "outputs": [
    {
     "data": {
      "text/plain": [
       "[AccountValue(account='DU1113767', tag='NetLiquidationByCurrency', value='1017374', currency='BASE', modelCode='')]"
      ]
     },
     "execution_count": 31,
     "metadata": {},
     "output_type": "execute_result"
    }
   ],
   "source": [
    "[v for v in ib.accountValues() if v.tag == 'NetLiquidationByCurrency' and v.currency == 'BASE']"
   ]
  },
  {
   "cell_type": "markdown",
   "metadata": {},
   "source": [
    "# Stocks"
   ]
  },
  {
   "cell_type": "code",
   "execution_count": 32,
   "metadata": {
    "scrolled": true
   },
   "outputs": [],
   "source": [
    "contract = Stock('MSFT', 'SMART', 'USD', primaryExchange='NASDAQ')"
   ]
  },
  {
   "cell_type": "code",
   "execution_count": 33,
   "metadata": {},
   "outputs": [],
   "source": [
    "bars = ib.reqHistoricalData(contract,\n",
    "                           endDateTime='',\n",
    "                           durationStr='60 D',\n",
    "                           barSizeSetting='1 hour',\n",
    "                           whatToShow='Trades',\n",
    "                           useRTH=True,\n",
    "                           formatDate=1)"
   ]
  },
  {
   "cell_type": "code",
   "execution_count": 34,
   "metadata": {},
   "outputs": [
    {
     "data": {
      "text/plain": [
       "BarData(date=datetime.datetime(2018, 8, 8, 12, 0), open=109.43, high=109.54, low=109.4, close=109.52, volume=5164, barCount=2792, average=109.49)"
      ]
     },
     "execution_count": 34,
     "metadata": {},
     "output_type": "execute_result"
    }
   ],
   "source": [
    "bars[-1]"
   ]
  },
  {
   "cell_type": "code",
   "execution_count": 35,
   "metadata": {},
   "outputs": [
    {
     "data": {
      "text/html": [
       "<div>\n",
       "<style scoped>\n",
       "    .dataframe tbody tr th:only-of-type {\n",
       "        vertical-align: middle;\n",
       "    }\n",
       "\n",
       "    .dataframe tbody tr th {\n",
       "        vertical-align: top;\n",
       "    }\n",
       "\n",
       "    .dataframe thead th {\n",
       "        text-align: right;\n",
       "    }\n",
       "</style>\n",
       "<table border=\"1\" class=\"dataframe\">\n",
       "  <thead>\n",
       "    <tr style=\"text-align: right;\">\n",
       "      <th></th>\n",
       "      <th>date</th>\n",
       "      <th>open</th>\n",
       "      <th>high</th>\n",
       "      <th>low</th>\n",
       "      <th>close</th>\n",
       "      <th>volume</th>\n",
       "      <th>barCount</th>\n",
       "      <th>average</th>\n",
       "    </tr>\n",
       "  </thead>\n",
       "  <tbody>\n",
       "    <tr>\n",
       "      <th>0</th>\n",
       "      <td>2018-05-15 06:30:00</td>\n",
       "      <td>97.45</td>\n",
       "      <td>97.85</td>\n",
       "      <td>96.34</td>\n",
       "      <td>96.46</td>\n",
       "      <td>38290</td>\n",
       "      <td>19143</td>\n",
       "      <td>96.813</td>\n",
       "    </tr>\n",
       "    <tr>\n",
       "      <th>1</th>\n",
       "      <td>2018-05-15 07:00:00</td>\n",
       "      <td>96.47</td>\n",
       "      <td>97.44</td>\n",
       "      <td>96.38</td>\n",
       "      <td>96.84</td>\n",
       "      <td>29907</td>\n",
       "      <td>18225</td>\n",
       "      <td>96.951</td>\n",
       "    </tr>\n",
       "    <tr>\n",
       "      <th>2</th>\n",
       "      <td>2018-05-15 08:00:00</td>\n",
       "      <td>96.82</td>\n",
       "      <td>97.22</td>\n",
       "      <td>96.68</td>\n",
       "      <td>96.96</td>\n",
       "      <td>21118</td>\n",
       "      <td>12276</td>\n",
       "      <td>96.924</td>\n",
       "    </tr>\n",
       "    <tr>\n",
       "      <th>3</th>\n",
       "      <td>2018-05-15 09:00:00</td>\n",
       "      <td>96.96</td>\n",
       "      <td>97.20</td>\n",
       "      <td>96.67</td>\n",
       "      <td>97.01</td>\n",
       "      <td>17620</td>\n",
       "      <td>11788</td>\n",
       "      <td>96.946</td>\n",
       "    </tr>\n",
       "    <tr>\n",
       "      <th>4</th>\n",
       "      <td>2018-05-15 10:00:00</td>\n",
       "      <td>97.00</td>\n",
       "      <td>97.08</td>\n",
       "      <td>96.57</td>\n",
       "      <td>96.62</td>\n",
       "      <td>15995</td>\n",
       "      <td>10985</td>\n",
       "      <td>96.877</td>\n",
       "    </tr>\n",
       "  </tbody>\n",
       "</table>\n",
       "</div>"
      ],
      "text/plain": [
       "                 date   open   high    low  close  volume  barCount  average\n",
       "0 2018-05-15 06:30:00  97.45  97.85  96.34  96.46   38290     19143   96.813\n",
       "1 2018-05-15 07:00:00  96.47  97.44  96.38  96.84   29907     18225   96.951\n",
       "2 2018-05-15 08:00:00  96.82  97.22  96.68  96.96   21118     12276   96.924\n",
       "3 2018-05-15 09:00:00  96.96  97.20  96.67  97.01   17620     11788   96.946\n",
       "4 2018-05-15 10:00:00  97.00  97.08  96.57  96.62   15995     10985   96.877"
      ]
     },
     "metadata": {},
     "output_type": "display_data"
    },
    {
     "data": {
      "text/html": [
       "<div>\n",
       "<style scoped>\n",
       "    .dataframe tbody tr th:only-of-type {\n",
       "        vertical-align: middle;\n",
       "    }\n",
       "\n",
       "    .dataframe tbody tr th {\n",
       "        vertical-align: top;\n",
       "    }\n",
       "\n",
       "    .dataframe thead th {\n",
       "        text-align: right;\n",
       "    }\n",
       "</style>\n",
       "<table border=\"1\" class=\"dataframe\">\n",
       "  <thead>\n",
       "    <tr style=\"text-align: right;\">\n",
       "      <th></th>\n",
       "      <th>date</th>\n",
       "      <th>open</th>\n",
       "      <th>high</th>\n",
       "      <th>low</th>\n",
       "      <th>close</th>\n",
       "      <th>volume</th>\n",
       "      <th>barCount</th>\n",
       "      <th>average</th>\n",
       "    </tr>\n",
       "  </thead>\n",
       "  <tbody>\n",
       "    <tr>\n",
       "      <th>412</th>\n",
       "      <td>2018-08-08 08:00:00</td>\n",
       "      <td>109.29</td>\n",
       "      <td>109.41</td>\n",
       "      <td>109.02</td>\n",
       "      <td>109.05</td>\n",
       "      <td>13407</td>\n",
       "      <td>8226</td>\n",
       "      <td>109.292</td>\n",
       "    </tr>\n",
       "    <tr>\n",
       "      <th>413</th>\n",
       "      <td>2018-08-08 09:00:00</td>\n",
       "      <td>109.04</td>\n",
       "      <td>109.23</td>\n",
       "      <td>108.96</td>\n",
       "      <td>109.15</td>\n",
       "      <td>11494</td>\n",
       "      <td>6604</td>\n",
       "      <td>109.108</td>\n",
       "    </tr>\n",
       "    <tr>\n",
       "      <th>414</th>\n",
       "      <td>2018-08-08 10:00:00</td>\n",
       "      <td>109.15</td>\n",
       "      <td>109.30</td>\n",
       "      <td>109.09</td>\n",
       "      <td>109.29</td>\n",
       "      <td>9756</td>\n",
       "      <td>6015</td>\n",
       "      <td>109.199</td>\n",
       "    </tr>\n",
       "    <tr>\n",
       "      <th>415</th>\n",
       "      <td>2018-08-08 11:00:00</td>\n",
       "      <td>109.30</td>\n",
       "      <td>109.52</td>\n",
       "      <td>109.20</td>\n",
       "      <td>109.42</td>\n",
       "      <td>11865</td>\n",
       "      <td>6369</td>\n",
       "      <td>109.375</td>\n",
       "    </tr>\n",
       "    <tr>\n",
       "      <th>416</th>\n",
       "      <td>2018-08-08 12:00:00</td>\n",
       "      <td>109.43</td>\n",
       "      <td>109.54</td>\n",
       "      <td>109.40</td>\n",
       "      <td>109.52</td>\n",
       "      <td>5164</td>\n",
       "      <td>2792</td>\n",
       "      <td>109.490</td>\n",
       "    </tr>\n",
       "  </tbody>\n",
       "</table>\n",
       "</div>"
      ],
      "text/plain": [
       "                   date    open    high     low   close  volume  barCount  \\\n",
       "412 2018-08-08 08:00:00  109.29  109.41  109.02  109.05   13407      8226   \n",
       "413 2018-08-08 09:00:00  109.04  109.23  108.96  109.15   11494      6604   \n",
       "414 2018-08-08 10:00:00  109.15  109.30  109.09  109.29    9756      6015   \n",
       "415 2018-08-08 11:00:00  109.30  109.52  109.20  109.42   11865      6369   \n",
       "416 2018-08-08 12:00:00  109.43  109.54  109.40  109.52    5164      2792   \n",
       "\n",
       "     average  \n",
       "412  109.292  \n",
       "413  109.108  \n",
       "414  109.199  \n",
       "415  109.375  \n",
       "416  109.490  "
      ]
     },
     "metadata": {},
     "output_type": "display_data"
    }
   ],
   "source": [
    "df = util.df(bars)\n",
    "display(df.head())\n",
    "display(df.tail())"
   ]
  },
  {
   "cell_type": "code",
   "execution_count": 40,
   "metadata": {},
   "outputs": [
    {
     "name": "stdout",
     "output_type": "stream",
     "text": [
      "setCallback will be depreciated, use events instead\n"
     ]
    }
   ],
   "source": [
    "def onBarUpdate(bars, hasNewBar):\n",
    "    print(bars[-1])\n",
    "\n",
    "ib.setCallback('barUpdate', onBarUpdate)"
   ]
  },
  {
   "cell_type": "code",
   "execution_count": 41,
   "metadata": {},
   "outputs": [
    {
     "name": "stdout",
     "output_type": "stream",
     "text": [
      "RealTimeBar(time=datetime.datetime(2018, 8, 8, 19, 22, 5, tzinfo=datetime.timezone.utc), open=109.495, high=109.495, low=109.495, close=109.495, volume=-1, wap=-1.0, count=-1)\n"
     ]
    }
   ],
   "source": [
    "bars = ib.reqRealTimeBars(contract, 5, 'MIDPOINT', False)"
   ]
  },
  {
   "cell_type": "code",
   "execution_count": 42,
   "metadata": {},
   "outputs": [
    {
     "name": "stdout",
     "output_type": "stream",
     "text": [
      "RealTimeBar(time=datetime.datetime(2018, 8, 8, 19, 22, 10, tzinfo=datetime.timezone.utc), open=109.495, high=109.495, low=109.495, close=109.495, volume=-1, wap=-1.0, count=-1)\n"
     ]
    }
   ],
   "source": [
    "ib.sleep(10)\n",
    "ib.cancelRealTimeBars(bars)"
   ]
  },
  {
   "cell_type": "code",
   "execution_count": 46,
   "metadata": {},
   "outputs": [
    {
     "data": {
      "text/html": [
       "<div>\n",
       "<style scoped>\n",
       "    .dataframe tbody tr th:only-of-type {\n",
       "        vertical-align: middle;\n",
       "    }\n",
       "\n",
       "    .dataframe tbody tr th {\n",
       "        vertical-align: top;\n",
       "    }\n",
       "\n",
       "    .dataframe thead th {\n",
       "        text-align: right;\n",
       "    }\n",
       "</style>\n",
       "<table border=\"1\" class=\"dataframe\">\n",
       "  <thead>\n",
       "    <tr style=\"text-align: right;\">\n",
       "      <th></th>\n",
       "      <th>bidSize</th>\n",
       "      <th>bidPrice</th>\n",
       "      <th>askPrice</th>\n",
       "      <th>askSize</th>\n",
       "    </tr>\n",
       "  </thead>\n",
       "  <tbody>\n",
       "    <tr>\n",
       "      <th>0</th>\n",
       "      <td>0</td>\n",
       "      <td>0</td>\n",
       "      <td>0</td>\n",
       "      <td>0</td>\n",
       "    </tr>\n",
       "    <tr>\n",
       "      <th>1</th>\n",
       "      <td>0</td>\n",
       "      <td>0</td>\n",
       "      <td>0</td>\n",
       "      <td>0</td>\n",
       "    </tr>\n",
       "    <tr>\n",
       "      <th>2</th>\n",
       "      <td>0</td>\n",
       "      <td>0</td>\n",
       "      <td>0</td>\n",
       "      <td>0</td>\n",
       "    </tr>\n",
       "    <tr>\n",
       "      <th>3</th>\n",
       "      <td>0</td>\n",
       "      <td>0</td>\n",
       "      <td>0</td>\n",
       "      <td>0</td>\n",
       "    </tr>\n",
       "    <tr>\n",
       "      <th>4</th>\n",
       "      <td>0</td>\n",
       "      <td>0</td>\n",
       "      <td>0</td>\n",
       "      <td>0</td>\n",
       "    </tr>\n",
       "  </tbody>\n",
       "</table>\n",
       "</div>"
      ],
      "text/plain": [
       "   bidSize  bidPrice  askPrice  askSize\n",
       "0        0         0         0        0\n",
       "1        0         0         0        0\n",
       "2        0         0         0        0\n",
       "3        0         0         0        0\n",
       "4        0         0         0        0"
      ]
     },
     "metadata": {},
     "output_type": "display_data"
    }
   ],
   "source": [
    "ticker = ib.reqMktDepth(contract)\n",
    "from IPython.display import display, clear_output\n",
    "import pandas as pd\n",
    "\n",
    "df = pd.DataFrame(index=range(5),\n",
    "        columns='bidSize bidPrice askPrice askSize'.split())\n",
    "\n",
    "for t in ib.loopUntil(timeout=15):\n",
    "    l = ticker.domBids\n",
    "for i in range(5):\n",
    "    df.iloc[i, 0] = l[i].size if i < len(l) else 0\n",
    "    df.iloc[i, 1] = l[i].price if i < len(l) else 0\n",
    "l = ticker.domAsks\n",
    "for i in range(5):\n",
    "    df.iloc[i, 2] = l[i].price if i < len(l) else 0\n",
    "    df.iloc[i, 3] = l[i].size if i < len(l) else 0\n",
    "clear_output(wait=True)\n",
    "display(df)\n",
    "\n",
    "    \n",
    "    "
   ]
  },
  {
   "cell_type": "code",
   "execution_count": 47,
   "metadata": {},
   "outputs": [
    {
     "name": "stderr",
     "output_type": "stream",
     "text": [
      "ERROR:ib_insync.wrapper:Error 310, reqId 6: Can't find the subscribed market depth with tickerId:6\n"
     ]
    }
   ],
   "source": [
    "ib.cancelMktDepth(contract)"
   ]
  },
  {
   "cell_type": "code",
   "execution_count": 48,
   "metadata": {},
   "outputs": [],
   "source": [
    "ib.qualifyContracts(contract)\n",
    "\n",
    "order = MarketOrder('BUY', 100)"
   ]
  },
  {
   "cell_type": "code",
   "execution_count": 49,
   "metadata": {},
   "outputs": [],
   "source": [
    "trade = ib.placeOrder(contract, order)"
   ]
  },
  {
   "cell_type": "code",
   "execution_count": 51,
   "metadata": {},
   "outputs": [
    {
     "data": {
      "text/plain": [
       "[TradeLogEntry(time=datetime.datetime(2018, 8, 8, 19, 52, 37, 335228, tzinfo=datetime.timezone.utc), status='PendingSubmit', message=''),\n",
       " TradeLogEntry(time=datetime.datetime(2018, 8, 8, 19, 52, 37, 659344, tzinfo=datetime.timezone.utc), status='PreSubmitted', message=''),\n",
       " TradeLogEntry(time=datetime.datetime(2018, 8, 8, 19, 52, 37, 774147, tzinfo=datetime.timezone.utc), status='PreSubmitted', message='Fill 100.0@109.62'),\n",
       " TradeLogEntry(time=datetime.datetime(2018, 8, 8, 19, 52, 37, 774560, tzinfo=datetime.timezone.utc), status='Filled', message='')]"
      ]
     },
     "execution_count": 51,
     "metadata": {},
     "output_type": "execute_result"
    }
   ],
   "source": [
    "ib.sleep(1)\n",
    "trade.log\n"
   ]
  },
  {
   "cell_type": "markdown",
   "metadata": {},
   "source": [
    "# Futures\n"
   ]
  },
  {
   "cell_type": "code",
   "execution_count": 52,
   "metadata": {},
   "outputs": [],
   "source": [
    "contract = Future('ES', '20180921', 'GLOBEX')"
   ]
  },
  {
   "cell_type": "code",
   "execution_count": null,
   "metadata": {},
   "outputs": [],
   "source": [
    "bars = ib.reqHistoricalData(contract,\n",
    "                           endDateTime='',\n",
    "                           durationStr='60 D',\n",
    "                           barSizeSetting='1 hour',\n",
    "                           whatToShow='Trades',\n",
    "                           useRTH=True,\n",
    "                           formatDate=1)"
   ]
  },
  {
   "cell_type": "code",
   "execution_count": 54,
   "metadata": {},
   "outputs": [
    {
     "data": {
      "text/plain": [
       "BarData(date=datetime.datetime(2018, 5, 15, 6, 30), open=2721.0, high=2721.0, low=2707.25, close=2707.5, volume=335, barCount=128, average=2713.175)"
      ]
     },
     "execution_count": 54,
     "metadata": {},
     "output_type": "execute_result"
    }
   ],
   "source": [
    "bars[0]"
   ]
  },
  {
   "cell_type": "code",
   "execution_count": 55,
   "metadata": {},
   "outputs": [
    {
     "data": {
      "text/html": [
       "<div>\n",
       "<style scoped>\n",
       "    .dataframe tbody tr th:only-of-type {\n",
       "        vertical-align: middle;\n",
       "    }\n",
       "\n",
       "    .dataframe tbody tr th {\n",
       "        vertical-align: top;\n",
       "    }\n",
       "\n",
       "    .dataframe thead th {\n",
       "        text-align: right;\n",
       "    }\n",
       "</style>\n",
       "<table border=\"1\" class=\"dataframe\">\n",
       "  <thead>\n",
       "    <tr style=\"text-align: right;\">\n",
       "      <th></th>\n",
       "      <th>date</th>\n",
       "      <th>open</th>\n",
       "      <th>high</th>\n",
       "      <th>low</th>\n",
       "      <th>close</th>\n",
       "      <th>volume</th>\n",
       "      <th>barCount</th>\n",
       "      <th>average</th>\n",
       "    </tr>\n",
       "  </thead>\n",
       "  <tbody>\n",
       "    <tr>\n",
       "      <th>0</th>\n",
       "      <td>2018-05-15 06:30:00</td>\n",
       "      <td>2721.00</td>\n",
       "      <td>2721.0</td>\n",
       "      <td>2707.25</td>\n",
       "      <td>2707.50</td>\n",
       "      <td>335</td>\n",
       "      <td>128</td>\n",
       "      <td>2713.175</td>\n",
       "    </tr>\n",
       "    <tr>\n",
       "      <th>1</th>\n",
       "      <td>2018-05-15 07:00:00</td>\n",
       "      <td>2707.00</td>\n",
       "      <td>2719.5</td>\n",
       "      <td>2707.00</td>\n",
       "      <td>2713.25</td>\n",
       "      <td>349</td>\n",
       "      <td>173</td>\n",
       "      <td>2714.500</td>\n",
       "    </tr>\n",
       "    <tr>\n",
       "      <th>2</th>\n",
       "      <td>2018-05-15 08:00:00</td>\n",
       "      <td>2714.75</td>\n",
       "      <td>2718.0</td>\n",
       "      <td>2710.25</td>\n",
       "      <td>2711.00</td>\n",
       "      <td>110</td>\n",
       "      <td>60</td>\n",
       "      <td>2714.125</td>\n",
       "    </tr>\n",
       "    <tr>\n",
       "      <th>3</th>\n",
       "      <td>2018-05-15 09:00:00</td>\n",
       "      <td>2711.50</td>\n",
       "      <td>2718.0</td>\n",
       "      <td>2707.25</td>\n",
       "      <td>2714.50</td>\n",
       "      <td>204</td>\n",
       "      <td>98</td>\n",
       "      <td>2711.750</td>\n",
       "    </tr>\n",
       "    <tr>\n",
       "      <th>4</th>\n",
       "      <td>2018-05-15 10:00:00</td>\n",
       "      <td>2714.50</td>\n",
       "      <td>2714.5</td>\n",
       "      <td>2705.25</td>\n",
       "      <td>2705.25</td>\n",
       "      <td>84</td>\n",
       "      <td>52</td>\n",
       "      <td>2710.850</td>\n",
       "    </tr>\n",
       "  </tbody>\n",
       "</table>\n",
       "</div>"
      ],
      "text/plain": [
       "                 date     open    high      low    close  volume  barCount  \\\n",
       "0 2018-05-15 06:30:00  2721.00  2721.0  2707.25  2707.50     335       128   \n",
       "1 2018-05-15 07:00:00  2707.00  2719.5  2707.00  2713.25     349       173   \n",
       "2 2018-05-15 08:00:00  2714.75  2718.0  2710.25  2711.00     110        60   \n",
       "3 2018-05-15 09:00:00  2711.50  2718.0  2707.25  2714.50     204        98   \n",
       "4 2018-05-15 10:00:00  2714.50  2714.5  2705.25  2705.25      84        52   \n",
       "\n",
       "    average  \n",
       "0  2713.175  \n",
       "1  2714.500  \n",
       "2  2714.125  \n",
       "3  2711.750  \n",
       "4  2710.850  "
      ]
     },
     "metadata": {},
     "output_type": "display_data"
    },
    {
     "data": {
      "text/html": [
       "<div>\n",
       "<style scoped>\n",
       "    .dataframe tbody tr th:only-of-type {\n",
       "        vertical-align: middle;\n",
       "    }\n",
       "\n",
       "    .dataframe tbody tr th {\n",
       "        vertical-align: top;\n",
       "    }\n",
       "\n",
       "    .dataframe thead th {\n",
       "        text-align: right;\n",
       "    }\n",
       "</style>\n",
       "<table border=\"1\" class=\"dataframe\">\n",
       "  <thead>\n",
       "    <tr style=\"text-align: right;\">\n",
       "      <th></th>\n",
       "      <th>date</th>\n",
       "      <th>open</th>\n",
       "      <th>high</th>\n",
       "      <th>low</th>\n",
       "      <th>close</th>\n",
       "      <th>volume</th>\n",
       "      <th>barCount</th>\n",
       "      <th>average</th>\n",
       "    </tr>\n",
       "  </thead>\n",
       "  <tbody>\n",
       "    <tr>\n",
       "      <th>530</th>\n",
       "      <td>2018-08-08 09:00:00</td>\n",
       "      <td>2857.75</td>\n",
       "      <td>2859.5</td>\n",
       "      <td>2855.50</td>\n",
       "      <td>2857.75</td>\n",
       "      <td>52308</td>\n",
       "      <td>8350</td>\n",
       "      <td>2857.525</td>\n",
       "    </tr>\n",
       "    <tr>\n",
       "      <th>531</th>\n",
       "      <td>2018-08-08 10:00:00</td>\n",
       "      <td>2857.50</td>\n",
       "      <td>2860.5</td>\n",
       "      <td>2857.00</td>\n",
       "      <td>2860.00</td>\n",
       "      <td>40521</td>\n",
       "      <td>5721</td>\n",
       "      <td>2858.350</td>\n",
       "    </tr>\n",
       "    <tr>\n",
       "      <th>532</th>\n",
       "      <td>2018-08-08 11:00:00</td>\n",
       "      <td>2860.25</td>\n",
       "      <td>2861.0</td>\n",
       "      <td>2859.00</td>\n",
       "      <td>2859.75</td>\n",
       "      <td>40427</td>\n",
       "      <td>5507</td>\n",
       "      <td>2859.975</td>\n",
       "    </tr>\n",
       "    <tr>\n",
       "      <th>533</th>\n",
       "      <td>2018-08-08 12:00:00</td>\n",
       "      <td>2859.75</td>\n",
       "      <td>2862.5</td>\n",
       "      <td>2857.25</td>\n",
       "      <td>2857.75</td>\n",
       "      <td>119646</td>\n",
       "      <td>12759</td>\n",
       "      <td>2859.975</td>\n",
       "    </tr>\n",
       "    <tr>\n",
       "      <th>534</th>\n",
       "      <td>2018-08-08 13:00:00</td>\n",
       "      <td>2858.00</td>\n",
       "      <td>2858.5</td>\n",
       "      <td>2856.75</td>\n",
       "      <td>2857.00</td>\n",
       "      <td>25899</td>\n",
       "      <td>1881</td>\n",
       "      <td>2857.475</td>\n",
       "    </tr>\n",
       "  </tbody>\n",
       "</table>\n",
       "</div>"
      ],
      "text/plain": [
       "                   date     open    high      low    close  volume  barCount  \\\n",
       "530 2018-08-08 09:00:00  2857.75  2859.5  2855.50  2857.75   52308      8350   \n",
       "531 2018-08-08 10:00:00  2857.50  2860.5  2857.00  2860.00   40521      5721   \n",
       "532 2018-08-08 11:00:00  2860.25  2861.0  2859.00  2859.75   40427      5507   \n",
       "533 2018-08-08 12:00:00  2859.75  2862.5  2857.25  2857.75  119646     12759   \n",
       "534 2018-08-08 13:00:00  2858.00  2858.5  2856.75  2857.00   25899      1881   \n",
       "\n",
       "      average  \n",
       "530  2857.525  \n",
       "531  2858.350  \n",
       "532  2859.975  \n",
       "533  2859.975  \n",
       "534  2857.475  "
      ]
     },
     "metadata": {},
     "output_type": "display_data"
    }
   ],
   "source": [
    "df = util.df(bars)\n",
    "\n",
    "display(df.head())\n",
    "display(df.tail())"
   ]
  },
  {
   "cell_type": "code",
   "execution_count": 56,
   "metadata": {},
   "outputs": [
    {
     "name": "stdout",
     "output_type": "stream",
     "text": [
      "setCallback will be depreciated, use events instead\n"
     ]
    }
   ],
   "source": [
    "def onBarUpdate(bars, hasNewBar):\n",
    "        print(bars[-1])\n",
    "        \n",
    "ib.setCallback('barUpdate', onBarUpdate)"
   ]
  },
  {
   "cell_type": "code",
   "execution_count": 57,
   "metadata": {
    "scrolled": true
   },
   "outputs": [
    {
     "name": "stdout",
     "output_type": "stream",
     "text": [
      "RealTimeBar(time=datetime.datetime(2018, 8, 8, 20, 9, tzinfo=datetime.timezone.utc), open=2856.125, high=2856.125, low=2856.125, close=2856.125, volume=-1, wap=-1.0, count=-1)\n",
      "RealTimeBar(time=datetime.datetime(2018, 8, 8, 20, 9, 5, tzinfo=datetime.timezone.utc), open=2856.125, high=2856.125, low=2856.125, close=2856.125, volume=-1, wap=-1.0, count=-1)\n",
      "RealTimeBar(time=datetime.datetime(2018, 8, 8, 20, 9, 10, tzinfo=datetime.timezone.utc), open=2856.125, high=2856.125, low=2856.125, close=2856.125, volume=-1, wap=-1.0, count=-1)\n",
      "RealTimeBar(time=datetime.datetime(2018, 8, 8, 20, 9, 15, tzinfo=datetime.timezone.utc), open=2856.125, high=2856.375, low=2856.125, close=2856.375, volume=-1, wap=-1.0, count=-1)\n",
      "RealTimeBar(time=datetime.datetime(2018, 8, 8, 20, 9, 20, tzinfo=datetime.timezone.utc), open=2856.375, high=2856.375, low=2856.375, close=2856.375, volume=-1, wap=-1.0, count=-1)\n",
      "RealTimeBar(time=datetime.datetime(2018, 8, 8, 20, 9, 25, tzinfo=datetime.timezone.utc), open=2856.375, high=2856.625, low=2856.375, close=2856.625, volume=-1, wap=-1.0, count=-1)\n",
      "RealTimeBar(time=datetime.datetime(2018, 8, 8, 20, 9, 30, tzinfo=datetime.timezone.utc), open=2856.625, high=2856.625, low=2856.375, close=2856.375, volume=-1, wap=-1.0, count=-1)\n",
      "RealTimeBar(time=datetime.datetime(2018, 8, 8, 20, 9, 35, tzinfo=datetime.timezone.utc), open=2856.375, high=2856.625, low=2856.375, close=2856.375, volume=-1, wap=-1.0, count=-1)\n",
      "RealTimeBar(time=datetime.datetime(2018, 8, 8, 20, 9, 40, tzinfo=datetime.timezone.utc), open=2856.375, high=2856.625, low=2856.375, close=2856.375, volume=-1, wap=-1.0, count=-1)\n",
      "RealTimeBar(time=datetime.datetime(2018, 8, 8, 20, 9, 45, tzinfo=datetime.timezone.utc), open=2856.375, high=2856.625, low=2856.375, close=2856.375, volume=-1, wap=-1.0, count=-1)\n",
      "RealTimeBar(time=datetime.datetime(2018, 8, 8, 20, 9, 50, tzinfo=datetime.timezone.utc), open=2856.375, high=2856.375, low=2856.375, close=2856.375, volume=-1, wap=-1.0, count=-1)\n",
      "RealTimeBar(time=datetime.datetime(2018, 8, 8, 20, 9, 55, tzinfo=datetime.timezone.utc), open=2856.375, high=2856.375, low=2856.375, close=2856.375, volume=-1, wap=-1.0, count=-1)\n",
      "RealTimeBar(time=datetime.datetime(2018, 8, 8, 20, 10, tzinfo=datetime.timezone.utc), open=2856.375, high=2856.375, low=2856.375, close=2856.375, volume=-1, wap=-1.0, count=-1)\n",
      "RealTimeBar(time=datetime.datetime(2018, 8, 8, 20, 10, 5, tzinfo=datetime.timezone.utc), open=2856.375, high=2856.375, low=2856.375, close=2856.375, volume=-1, wap=-1.0, count=-1)\n",
      "RealTimeBar(time=datetime.datetime(2018, 8, 8, 20, 10, 10, tzinfo=datetime.timezone.utc), open=2856.375, high=2856.375, low=2856.375, close=2856.375, volume=-1, wap=-1.0, count=-1)\n",
      "RealTimeBar(time=datetime.datetime(2018, 8, 8, 20, 10, 15, tzinfo=datetime.timezone.utc), open=2856.375, high=2856.625, low=2856.375, close=2856.625, volume=-1, wap=-1.0, count=-1)\n",
      "RealTimeBar(time=datetime.datetime(2018, 8, 8, 20, 10, 20, tzinfo=datetime.timezone.utc), open=2856.625, high=2856.625, low=2856.375, close=2856.375, volume=-1, wap=-1.0, count=-1)\n",
      "RealTimeBar(time=datetime.datetime(2018, 8, 8, 20, 10, 25, tzinfo=datetime.timezone.utc), open=2856.375, high=2856.375, low=2856.375, close=2856.375, volume=-1, wap=-1.0, count=-1)\n",
      "RealTimeBar(time=datetime.datetime(2018, 8, 8, 20, 10, 30, tzinfo=datetime.timezone.utc), open=2856.375, high=2856.375, low=2856.375, close=2856.375, volume=-1, wap=-1.0, count=-1)\n",
      "RealTimeBar(time=datetime.datetime(2018, 8, 8, 20, 10, 35, tzinfo=datetime.timezone.utc), open=2856.375, high=2856.375, low=2856.375, close=2856.375, volume=-1, wap=-1.0, count=-1)\n",
      "RealTimeBar(time=datetime.datetime(2018, 8, 8, 20, 10, 40, tzinfo=datetime.timezone.utc), open=2856.375, high=2856.375, low=2856.375, close=2856.375, volume=-1, wap=-1.0, count=-1)\n",
      "RealTimeBar(time=datetime.datetime(2018, 8, 8, 20, 10, 45, tzinfo=datetime.timezone.utc), open=2856.375, high=2856.375, low=2856.375, close=2856.375, volume=-1, wap=-1.0, count=-1)\n"
     ]
    }
   ],
   "source": [
    "bars = ib.reqRealTimeBars(contract, 5, 'MIDPOINT', False)"
   ]
  },
  {
   "cell_type": "code",
   "execution_count": 58,
   "metadata": {},
   "outputs": [
    {
     "name": "stdout",
     "output_type": "stream",
     "text": [
      "RealTimeBar(time=datetime.datetime(2018, 8, 8, 20, 10, 50, tzinfo=datetime.timezone.utc), open=2856.375, high=2856.375, low=2856.375, close=2856.375, volume=-1, wap=-1.0, count=-1)\n",
      "RealTimeBar(time=datetime.datetime(2018, 8, 8, 20, 10, 55, tzinfo=datetime.timezone.utc), open=2856.375, high=2856.375, low=2856.375, close=2856.375, volume=-1, wap=-1.0, count=-1)\n"
     ]
    }
   ],
   "source": [
    "ib.sleep(10)\n",
    "ib.cancelRealTimeBars(bars)"
   ]
  },
  {
   "cell_type": "code",
   "execution_count": 59,
   "metadata": {},
   "outputs": [
    {
     "data": {
      "text/html": [
       "<div>\n",
       "<style scoped>\n",
       "    .dataframe tbody tr th:only-of-type {\n",
       "        vertical-align: middle;\n",
       "    }\n",
       "\n",
       "    .dataframe tbody tr th {\n",
       "        vertical-align: top;\n",
       "    }\n",
       "\n",
       "    .dataframe thead th {\n",
       "        text-align: right;\n",
       "    }\n",
       "</style>\n",
       "<table border=\"1\" class=\"dataframe\">\n",
       "  <thead>\n",
       "    <tr style=\"text-align: right;\">\n",
       "      <th></th>\n",
       "      <th>bidSize</th>\n",
       "      <th>bidPrice</th>\n",
       "      <th>askPrice</th>\n",
       "      <th>askSize</th>\n",
       "    </tr>\n",
       "  </thead>\n",
       "  <tbody>\n",
       "    <tr>\n",
       "      <th>0</th>\n",
       "      <td>0</td>\n",
       "      <td>0</td>\n",
       "      <td>0</td>\n",
       "      <td>0</td>\n",
       "    </tr>\n",
       "    <tr>\n",
       "      <th>1</th>\n",
       "      <td>0</td>\n",
       "      <td>0</td>\n",
       "      <td>0</td>\n",
       "      <td>0</td>\n",
       "    </tr>\n",
       "    <tr>\n",
       "      <th>2</th>\n",
       "      <td>0</td>\n",
       "      <td>0</td>\n",
       "      <td>0</td>\n",
       "      <td>0</td>\n",
       "    </tr>\n",
       "    <tr>\n",
       "      <th>3</th>\n",
       "      <td>0</td>\n",
       "      <td>0</td>\n",
       "      <td>0</td>\n",
       "      <td>0</td>\n",
       "    </tr>\n",
       "    <tr>\n",
       "      <th>4</th>\n",
       "      <td>0</td>\n",
       "      <td>0</td>\n",
       "      <td>0</td>\n",
       "      <td>0</td>\n",
       "    </tr>\n",
       "  </tbody>\n",
       "</table>\n",
       "</div>"
      ],
      "text/plain": [
       "   bidSize  bidPrice  askPrice  askSize\n",
       "0        0         0         0        0\n",
       "1        0         0         0        0\n",
       "2        0         0         0        0\n",
       "3        0         0         0        0\n",
       "4        0         0         0        0"
      ]
     },
     "metadata": {},
     "output_type": "display_data"
    }
   ],
   "source": [
    "ticker = ib.reqMktDepth(contract)\n",
    "from IPython.display import display, clear_output\n",
    "import pandas as pd\n",
    "\n",
    "df = pd.DataFrame(index=range(5),\n",
    "        columns='bidSize bidPrice askPrice askSize'.split())\n",
    "\n",
    "for t in ib.loopUntil(timeout=15):\n",
    "    l = ticker.domBids\n",
    "for i in range(5):\n",
    "    df.iloc[i, 0] = l[i].size if i < len(l) else 0\n",
    "    df.iloc[i, 1] = l[i].price if i < len(l) else 0\n",
    "l = ticker.domAsks\n",
    "for i in range(5):\n",
    "    df.iloc[i, 2] = l[i].price if i < len(l) else 0\n",
    "    df.iloc[i, 3] = l[i].size if i < len(l) else 0\n",
    "clear_output(wait=True)\n",
    "display(df)"
   ]
  },
  {
   "cell_type": "code",
   "execution_count": 60,
   "metadata": {},
   "outputs": [
    {
     "name": "stderr",
     "output_type": "stream",
     "text": [
      "ERROR:ib_insync.wrapper:Error 310, reqId 11: Can't find the subscribed market depth with tickerId:11\n"
     ]
    }
   ],
   "source": [
    "ib.cancelMktDepth(contract)"
   ]
  },
  {
   "cell_type": "code",
   "execution_count": 63,
   "metadata": {},
   "outputs": [],
   "source": [
    "ib.qualifyContracts(contract)\n",
    "\n",
    "order = MarketOrder('BUY', 5)"
   ]
  },
  {
   "cell_type": "code",
   "execution_count": 64,
   "metadata": {},
   "outputs": [],
   "source": [
    "trade = ib.placeOrder(contract, order)"
   ]
  },
  {
   "cell_type": "raw",
   "metadata": {},
   "source": [
    "ib.sleep(1)\n",
    "trade.log"
   ]
  },
  {
   "cell_type": "markdown",
   "metadata": {},
   "source": [
    "# FOREX"
   ]
  },
  {
   "cell_type": "code",
   "execution_count": 65,
   "metadata": {},
   "outputs": [],
   "source": [
    "contract = Forex('USDJPY')"
   ]
  },
  {
   "cell_type": "code",
   "execution_count": 66,
   "metadata": {},
   "outputs": [],
   "source": [
    "bars = ib.reqHistoricalData(contract,\n",
    "                           endDateTime='',\n",
    "                           durationStr='60 D',\n",
    "                           barSizeSetting='1 hour',\n",
    "                           whatToShow='BID',\n",
    "                           useRTH=False,\n",
    "                           formatDate=1)"
   ]
  },
  {
   "cell_type": "code",
   "execution_count": 76,
   "metadata": {},
   "outputs": [
    {
     "data": {
      "text/plain": [
       "RealTimeBar(time=datetime.datetime(2018, 8, 8, 20, 53, 25, tzinfo=datetime.timezone.utc), open=110.9485, high=110.949, low=110.9485, close=110.949, volume=-1, wap=-1.0, count=-1)"
      ]
     },
     "execution_count": 76,
     "metadata": {},
     "output_type": "execute_result"
    }
   ],
   "source": [
    "bars[-1]"
   ]
  },
  {
   "cell_type": "code",
   "execution_count": 77,
   "metadata": {},
   "outputs": [
    {
     "data": {
      "text/html": [
       "<div>\n",
       "<style scoped>\n",
       "    .dataframe tbody tr th:only-of-type {\n",
       "        vertical-align: middle;\n",
       "    }\n",
       "\n",
       "    .dataframe tbody tr th {\n",
       "        vertical-align: top;\n",
       "    }\n",
       "\n",
       "    .dataframe thead th {\n",
       "        text-align: right;\n",
       "    }\n",
       "</style>\n",
       "<table border=\"1\" class=\"dataframe\">\n",
       "  <thead>\n",
       "    <tr style=\"text-align: right;\">\n",
       "      <th></th>\n",
       "      <th>time</th>\n",
       "      <th>endTime</th>\n",
       "      <th>open</th>\n",
       "      <th>high</th>\n",
       "      <th>low</th>\n",
       "      <th>close</th>\n",
       "      <th>volume</th>\n",
       "      <th>wap</th>\n",
       "      <th>count</th>\n",
       "    </tr>\n",
       "  </thead>\n",
       "  <tbody>\n",
       "    <tr>\n",
       "      <th>0</th>\n",
       "      <td>2018-08-08 20:52:45+00:00</td>\n",
       "      <td>-1</td>\n",
       "      <td>110.9450</td>\n",
       "      <td>110.9460</td>\n",
       "      <td>110.9445</td>\n",
       "      <td>110.9445</td>\n",
       "      <td>-1</td>\n",
       "      <td>-1.0</td>\n",
       "      <td>-1</td>\n",
       "    </tr>\n",
       "    <tr>\n",
       "      <th>1</th>\n",
       "      <td>2018-08-08 20:52:50+00:00</td>\n",
       "      <td>-1</td>\n",
       "      <td>110.9445</td>\n",
       "      <td>110.9455</td>\n",
       "      <td>110.9425</td>\n",
       "      <td>110.9445</td>\n",
       "      <td>-1</td>\n",
       "      <td>-1.0</td>\n",
       "      <td>-1</td>\n",
       "    </tr>\n",
       "    <tr>\n",
       "      <th>2</th>\n",
       "      <td>2018-08-08 20:52:55+00:00</td>\n",
       "      <td>-1</td>\n",
       "      <td>110.9445</td>\n",
       "      <td>110.9450</td>\n",
       "      <td>110.9445</td>\n",
       "      <td>110.9450</td>\n",
       "      <td>-1</td>\n",
       "      <td>-1.0</td>\n",
       "      <td>-1</td>\n",
       "    </tr>\n",
       "    <tr>\n",
       "      <th>3</th>\n",
       "      <td>2018-08-08 20:53:00+00:00</td>\n",
       "      <td>-1</td>\n",
       "      <td>110.9450</td>\n",
       "      <td>110.9450</td>\n",
       "      <td>110.9445</td>\n",
       "      <td>110.9445</td>\n",
       "      <td>-1</td>\n",
       "      <td>-1.0</td>\n",
       "      <td>-1</td>\n",
       "    </tr>\n",
       "    <tr>\n",
       "      <th>4</th>\n",
       "      <td>2018-08-08 20:53:05+00:00</td>\n",
       "      <td>-1</td>\n",
       "      <td>110.9445</td>\n",
       "      <td>110.9485</td>\n",
       "      <td>110.9445</td>\n",
       "      <td>110.9480</td>\n",
       "      <td>-1</td>\n",
       "      <td>-1.0</td>\n",
       "      <td>-1</td>\n",
       "    </tr>\n",
       "  </tbody>\n",
       "</table>\n",
       "</div>"
      ],
      "text/plain": [
       "                       time  endTime      open      high       low     close  \\\n",
       "0 2018-08-08 20:52:45+00:00       -1  110.9450  110.9460  110.9445  110.9445   \n",
       "1 2018-08-08 20:52:50+00:00       -1  110.9445  110.9455  110.9425  110.9445   \n",
       "2 2018-08-08 20:52:55+00:00       -1  110.9445  110.9450  110.9445  110.9450   \n",
       "3 2018-08-08 20:53:00+00:00       -1  110.9450  110.9450  110.9445  110.9445   \n",
       "4 2018-08-08 20:53:05+00:00       -1  110.9445  110.9485  110.9445  110.9480   \n",
       "\n",
       "   volume  wap  count  \n",
       "0      -1 -1.0     -1  \n",
       "1      -1 -1.0     -1  \n",
       "2      -1 -1.0     -1  \n",
       "3      -1 -1.0     -1  \n",
       "4      -1 -1.0     -1  "
      ]
     },
     "metadata": {},
     "output_type": "display_data"
    },
    {
     "data": {
      "text/html": [
       "<div>\n",
       "<style scoped>\n",
       "    .dataframe tbody tr th:only-of-type {\n",
       "        vertical-align: middle;\n",
       "    }\n",
       "\n",
       "    .dataframe tbody tr th {\n",
       "        vertical-align: top;\n",
       "    }\n",
       "\n",
       "    .dataframe thead th {\n",
       "        text-align: right;\n",
       "    }\n",
       "</style>\n",
       "<table border=\"1\" class=\"dataframe\">\n",
       "  <thead>\n",
       "    <tr style=\"text-align: right;\">\n",
       "      <th></th>\n",
       "      <th>time</th>\n",
       "      <th>endTime</th>\n",
       "      <th>open</th>\n",
       "      <th>high</th>\n",
       "      <th>low</th>\n",
       "      <th>close</th>\n",
       "      <th>volume</th>\n",
       "      <th>wap</th>\n",
       "      <th>count</th>\n",
       "    </tr>\n",
       "  </thead>\n",
       "  <tbody>\n",
       "    <tr>\n",
       "      <th>4</th>\n",
       "      <td>2018-08-08 20:53:05+00:00</td>\n",
       "      <td>-1</td>\n",
       "      <td>110.9445</td>\n",
       "      <td>110.9485</td>\n",
       "      <td>110.9445</td>\n",
       "      <td>110.9480</td>\n",
       "      <td>-1</td>\n",
       "      <td>-1.0</td>\n",
       "      <td>-1</td>\n",
       "    </tr>\n",
       "    <tr>\n",
       "      <th>5</th>\n",
       "      <td>2018-08-08 20:53:10+00:00</td>\n",
       "      <td>-1</td>\n",
       "      <td>110.9480</td>\n",
       "      <td>110.9480</td>\n",
       "      <td>110.9480</td>\n",
       "      <td>110.9480</td>\n",
       "      <td>-1</td>\n",
       "      <td>-1.0</td>\n",
       "      <td>-1</td>\n",
       "    </tr>\n",
       "    <tr>\n",
       "      <th>6</th>\n",
       "      <td>2018-08-08 20:53:15+00:00</td>\n",
       "      <td>-1</td>\n",
       "      <td>110.9480</td>\n",
       "      <td>110.9485</td>\n",
       "      <td>110.9480</td>\n",
       "      <td>110.9485</td>\n",
       "      <td>-1</td>\n",
       "      <td>-1.0</td>\n",
       "      <td>-1</td>\n",
       "    </tr>\n",
       "    <tr>\n",
       "      <th>7</th>\n",
       "      <td>2018-08-08 20:53:20+00:00</td>\n",
       "      <td>-1</td>\n",
       "      <td>110.9485</td>\n",
       "      <td>110.9485</td>\n",
       "      <td>110.9485</td>\n",
       "      <td>110.9485</td>\n",
       "      <td>-1</td>\n",
       "      <td>-1.0</td>\n",
       "      <td>-1</td>\n",
       "    </tr>\n",
       "    <tr>\n",
       "      <th>8</th>\n",
       "      <td>2018-08-08 20:53:25+00:00</td>\n",
       "      <td>-1</td>\n",
       "      <td>110.9485</td>\n",
       "      <td>110.9490</td>\n",
       "      <td>110.9485</td>\n",
       "      <td>110.9490</td>\n",
       "      <td>-1</td>\n",
       "      <td>-1.0</td>\n",
       "      <td>-1</td>\n",
       "    </tr>\n",
       "  </tbody>\n",
       "</table>\n",
       "</div>"
      ],
      "text/plain": [
       "                       time  endTime      open      high       low     close  \\\n",
       "4 2018-08-08 20:53:05+00:00       -1  110.9445  110.9485  110.9445  110.9480   \n",
       "5 2018-08-08 20:53:10+00:00       -1  110.9480  110.9480  110.9480  110.9480   \n",
       "6 2018-08-08 20:53:15+00:00       -1  110.9480  110.9485  110.9480  110.9485   \n",
       "7 2018-08-08 20:53:20+00:00       -1  110.9485  110.9485  110.9485  110.9485   \n",
       "8 2018-08-08 20:53:25+00:00       -1  110.9485  110.9490  110.9485  110.9490   \n",
       "\n",
       "   volume  wap  count  \n",
       "4      -1 -1.0     -1  \n",
       "5      -1 -1.0     -1  \n",
       "6      -1 -1.0     -1  \n",
       "7      -1 -1.0     -1  \n",
       "8      -1 -1.0     -1  "
      ]
     },
     "metadata": {},
     "output_type": "display_data"
    }
   ],
   "source": [
    "df = util.df(bars)\n",
    "\n",
    "display(df.head())\n",
    "display(df.tail())"
   ]
  },
  {
   "cell_type": "code",
   "execution_count": 78,
   "metadata": {},
   "outputs": [
    {
     "name": "stdout",
     "output_type": "stream",
     "text": [
      "setCallback will be depreciated, use events instead\n"
     ]
    }
   ],
   "source": [
    "def onBarUpdate(bars, hasNewBar):\n",
    "        print(bars[-1])\n",
    "        \n",
    "ib.setCallback('barUpdate', onBarUpdate)"
   ]
  },
  {
   "cell_type": "code",
   "execution_count": 80,
   "metadata": {
    "scrolled": true
   },
   "outputs": [],
   "source": [
    "bars = ib.reqRealTimeBars(contract, 5, 'MIDPOINT', False)"
   ]
  },
  {
   "cell_type": "code",
   "execution_count": 81,
   "metadata": {},
   "outputs": [],
   "source": [
    "ib.sleep(10)\n",
    "ib.cancelRealTimeBars(bars)"
   ]
  },
  {
   "cell_type": "code",
   "execution_count": 82,
   "metadata": {},
   "outputs": [
    {
     "data": {
      "text/html": [
       "<div>\n",
       "<style scoped>\n",
       "    .dataframe tbody tr th:only-of-type {\n",
       "        vertical-align: middle;\n",
       "    }\n",
       "\n",
       "    .dataframe tbody tr th {\n",
       "        vertical-align: top;\n",
       "    }\n",
       "\n",
       "    .dataframe thead th {\n",
       "        text-align: right;\n",
       "    }\n",
       "</style>\n",
       "<table border=\"1\" class=\"dataframe\">\n",
       "  <thead>\n",
       "    <tr style=\"text-align: right;\">\n",
       "      <th></th>\n",
       "      <th>bidSize</th>\n",
       "      <th>bidPrice</th>\n",
       "      <th>askPrice</th>\n",
       "      <th>askSize</th>\n",
       "    </tr>\n",
       "  </thead>\n",
       "  <tbody>\n",
       "    <tr>\n",
       "      <th>0</th>\n",
       "      <td>1000000</td>\n",
       "      <td>110.948</td>\n",
       "      <td>110.952</td>\n",
       "      <td>2000000</td>\n",
       "    </tr>\n",
       "    <tr>\n",
       "      <th>1</th>\n",
       "      <td>6000000</td>\n",
       "      <td>110.947</td>\n",
       "      <td>110.953</td>\n",
       "      <td>3500000</td>\n",
       "    </tr>\n",
       "    <tr>\n",
       "      <th>2</th>\n",
       "      <td>2000000</td>\n",
       "      <td>110.946</td>\n",
       "      <td>110.954</td>\n",
       "      <td>12000000</td>\n",
       "    </tr>\n",
       "    <tr>\n",
       "      <th>3</th>\n",
       "      <td>4000000</td>\n",
       "      <td>110.945</td>\n",
       "      <td>110.955</td>\n",
       "      <td>3000000</td>\n",
       "    </tr>\n",
       "    <tr>\n",
       "      <th>4</th>\n",
       "      <td>1000000</td>\n",
       "      <td>110.944</td>\n",
       "      <td>110.957</td>\n",
       "      <td>1000000</td>\n",
       "    </tr>\n",
       "  </tbody>\n",
       "</table>\n",
       "</div>"
      ],
      "text/plain": [
       "   bidSize bidPrice askPrice   askSize\n",
       "0  1000000  110.948  110.952   2000000\n",
       "1  6000000  110.947  110.953   3500000\n",
       "2  2000000  110.946  110.954  12000000\n",
       "3  4000000  110.945  110.955   3000000\n",
       "4  1000000  110.944  110.957   1000000"
      ]
     },
     "metadata": {},
     "output_type": "display_data"
    }
   ],
   "source": [
    "ticker = ib.reqMktDepth(contract)\n",
    "from IPython.display import display, clear_output\n",
    "import pandas as pd\n",
    "\n",
    "df = pd.DataFrame(index=range(5),\n",
    "        columns='bidSize bidPrice askPrice askSize'.split())\n",
    "\n",
    "for t in ib.loopUntil(timeout=15):\n",
    "    l = ticker.domBids\n",
    "for i in range(5):\n",
    "    df.iloc[i, 0] = l[i].size if i < len(l) else 0\n",
    "    df.iloc[i, 1] = l[i].price if i < len(l) else 0\n",
    "l = ticker.domAsks\n",
    "for i in range(5):\n",
    "    df.iloc[i, 2] = l[i].price if i < len(l) else 0\n",
    "    df.iloc[i, 3] = l[i].size if i < len(l) else 0\n",
    "clear_output(wait=True)\n",
    "display(df)"
   ]
  },
  {
   "cell_type": "code",
   "execution_count": 83,
   "metadata": {},
   "outputs": [],
   "source": [
    "ib.cancelMktDepth(contract)"
   ]
  },
  {
   "cell_type": "code",
   "execution_count": 84,
   "metadata": {},
   "outputs": [],
   "source": [
    "ib.qualifyContracts(contract)\n",
    "\n",
    "order = MarketOrder('BUY', 10000)"
   ]
  },
  {
   "cell_type": "code",
   "execution_count": 86,
   "metadata": {},
   "outputs": [],
   "source": [
    "trade = ib.placeOrder(contract, order)"
   ]
  },
  {
   "cell_type": "raw",
   "metadata": {},
   "source": [
    "ib.sleep(1)\n",
    "trade.log"
   ]
  },
  {
   "cell_type": "markdown",
   "metadata": {},
   "source": [
    "# Options"
   ]
  },
  {
   "cell_type": "code",
   "execution_count": 87,
   "metadata": {},
   "outputs": [
    {
     "data": {
      "text/plain": [
       "[Stock(conId=8314, symbol='IBM', exchange='SMART', primaryExchange='NYSE', currency='USD', localSymbol='IBM', tradingClass='IBM')]"
      ]
     },
     "execution_count": 87,
     "metadata": {},
     "output_type": "execute_result"
    },
    {
     "name": "stdout",
     "output_type": "stream",
     "text": [
      "RealTimeBar(time=datetime.datetime(2018, 8, 8, 21, 15, tzinfo=datetime.timezone.utc), open=110.96, high=110.966, low=110.9575, close=110.9575, volume=-1, wap=-1.0, count=-1)\n",
      "RealTimeBar(time=datetime.datetime(2018, 8, 8, 21, 15, 5, tzinfo=datetime.timezone.utc), open=110.9575, high=110.959, low=110.9575, close=110.958, volume=-1, wap=-1.0, count=-1)\n",
      "RealTimeBar(time=datetime.datetime(2018, 8, 8, 21, 15, 10, tzinfo=datetime.timezone.utc), open=110.958, high=110.958, low=110.956, close=110.956, volume=-1, wap=-1.0, count=-1)\n",
      "RealTimeBar(time=datetime.datetime(2018, 8, 8, 21, 15, 15, tzinfo=datetime.timezone.utc), open=110.956, high=110.963, low=110.9555, close=110.9575, volume=-1, wap=-1.0, count=-1)\n",
      "RealTimeBar(time=datetime.datetime(2018, 8, 8, 21, 15, 20, tzinfo=datetime.timezone.utc), open=110.9575, high=110.9625, low=110.955, close=110.958, volume=-1, wap=-1.0, count=-1)\n",
      "RealTimeBar(time=datetime.datetime(2018, 8, 8, 21, 15, 25, tzinfo=datetime.timezone.utc), open=110.958, high=110.962, low=110.957, close=110.9575, volume=-1, wap=-1.0, count=-1)\n",
      "RealTimeBar(time=datetime.datetime(2018, 8, 8, 21, 15, 30, tzinfo=datetime.timezone.utc), open=110.9575, high=110.9575, low=110.9535, close=110.9535, volume=-1, wap=-1.0, count=-1)\n",
      "RealTimeBar(time=datetime.datetime(2018, 8, 8, 21, 15, 35, tzinfo=datetime.timezone.utc), open=110.9535, high=110.9565, low=110.9535, close=110.9535, volume=-1, wap=-1.0, count=-1)\n",
      "RealTimeBar(time=datetime.datetime(2018, 8, 8, 21, 15, 40, tzinfo=datetime.timezone.utc), open=110.9535, high=110.9565, low=110.9535, close=110.9535, volume=-1, wap=-1.0, count=-1)\n",
      "RealTimeBar(time=datetime.datetime(2018, 8, 8, 21, 15, 45, tzinfo=datetime.timezone.utc), open=110.9535, high=110.9555, low=110.9535, close=110.9545, volume=-1, wap=-1.0, count=-1)\n",
      "RealTimeBar(time=datetime.datetime(2018, 8, 8, 21, 15, 50, tzinfo=datetime.timezone.utc), open=110.9545, high=110.961, low=110.9545, close=110.9595, volume=-1, wap=-1.0, count=-1)\n",
      "RealTimeBar(time=datetime.datetime(2018, 8, 8, 21, 15, 55, tzinfo=datetime.timezone.utc), open=110.9595, high=110.9595, low=110.9585, close=110.9595, volume=-1, wap=-1.0, count=-1)\n",
      "RealTimeBar(time=datetime.datetime(2018, 8, 8, 21, 16, tzinfo=datetime.timezone.utc), open=110.9595, high=110.9595, low=110.959, close=110.9595, volume=-1, wap=-1.0, count=-1)\n",
      "RealTimeBar(time=datetime.datetime(2018, 8, 8, 21, 16, 5, tzinfo=datetime.timezone.utc), open=110.9595, high=110.9595, low=110.953, close=110.953, volume=-1, wap=-1.0, count=-1)\n",
      "RealTimeBar(time=datetime.datetime(2018, 8, 8, 21, 16, 10, tzinfo=datetime.timezone.utc), open=110.953, high=110.9545, low=110.953, close=110.9535, volume=-1, wap=-1.0, count=-1)\n",
      "RealTimeBar(time=datetime.datetime(2018, 8, 8, 21, 16, 15, tzinfo=datetime.timezone.utc), open=110.9535, high=110.9535, low=110.9535, close=110.9535, volume=-1, wap=-1.0, count=-1)\n",
      "RealTimeBar(time=datetime.datetime(2018, 8, 8, 21, 16, 20, tzinfo=datetime.timezone.utc), open=110.9535, high=110.959, low=110.9535, close=110.957, volume=-1, wap=-1.0, count=-1)\n",
      "RealTimeBar(time=datetime.datetime(2018, 8, 8, 21, 16, 25, tzinfo=datetime.timezone.utc), open=110.957, high=110.961, low=110.9495, close=110.9595, volume=-1, wap=-1.0, count=-1)\n",
      "RealTimeBar(time=datetime.datetime(2018, 8, 8, 21, 16, 30, tzinfo=datetime.timezone.utc), open=110.9595, high=110.96, low=110.959, close=110.96, volume=-1, wap=-1.0, count=-1)\n",
      "RealTimeBar(time=datetime.datetime(2018, 8, 8, 21, 16, 35, tzinfo=datetime.timezone.utc), open=110.96, high=110.961, low=110.959, close=110.961, volume=-1, wap=-1.0, count=-1)\n",
      "RealTimeBar(time=datetime.datetime(2018, 8, 8, 21, 16, 40, tzinfo=datetime.timezone.utc), open=110.961, high=110.961, low=110.96, close=110.96, volume=-1, wap=-1.0, count=-1)\n",
      "RealTimeBar(time=datetime.datetime(2018, 8, 8, 21, 16, 45, tzinfo=datetime.timezone.utc), open=110.96, high=110.961, low=110.959, close=110.959, volume=-1, wap=-1.0, count=-1)\n",
      "RealTimeBar(time=datetime.datetime(2018, 8, 8, 21, 16, 50, tzinfo=datetime.timezone.utc), open=110.959, high=110.96, low=110.9555, close=110.9555, volume=-1, wap=-1.0, count=-1)\n",
      "RealTimeBar(time=datetime.datetime(2018, 8, 8, 21, 16, 55, tzinfo=datetime.timezone.utc), open=110.9555, high=110.9555, low=110.9245, close=110.9335, volume=-1, wap=-1.0, count=-1)\n",
      "RealTimeBar(time=datetime.datetime(2018, 8, 8, 21, 17, tzinfo=datetime.timezone.utc), open=110.9335, high=110.9465, low=110.922, close=110.943, volume=-1, wap=-1.0, count=-1)\n",
      "RealTimeBar(time=datetime.datetime(2018, 8, 8, 21, 17, 5, tzinfo=datetime.timezone.utc), open=110.943, high=110.9655, low=110.9425, close=110.962, volume=-1, wap=-1.0, count=-1)\n",
      "RealTimeBar(time=datetime.datetime(2018, 8, 8, 21, 17, 10, tzinfo=datetime.timezone.utc), open=110.962, high=110.966, low=110.9535, close=110.9555, volume=-1, wap=-1.0, count=-1)\n",
      "RealTimeBar(time=datetime.datetime(2018, 8, 8, 21, 17, 15, tzinfo=datetime.timezone.utc), open=110.9555, high=110.956, low=110.954, close=110.956, volume=-1, wap=-1.0, count=-1)\n",
      "RealTimeBar(time=datetime.datetime(2018, 8, 8, 21, 17, 20, tzinfo=datetime.timezone.utc), open=110.956, high=110.956, low=110.953, close=110.9555, volume=-1, wap=-1.0, count=-1)\n",
      "RealTimeBar(time=datetime.datetime(2018, 8, 8, 21, 17, 25, tzinfo=datetime.timezone.utc), open=110.9555, high=110.9555, low=110.9535, close=110.955, volume=-1, wap=-1.0, count=-1)\n",
      "RealTimeBar(time=datetime.datetime(2018, 8, 8, 21, 17, 30, tzinfo=datetime.timezone.utc), open=110.955, high=110.961, low=110.954, close=110.96, volume=-1, wap=-1.0, count=-1)\n",
      "RealTimeBar(time=datetime.datetime(2018, 8, 8, 21, 17, 35, tzinfo=datetime.timezone.utc), open=110.96, high=110.9605, low=110.949, close=110.952, volume=-1, wap=-1.0, count=-1)\n",
      "RealTimeBar(time=datetime.datetime(2018, 8, 8, 21, 17, 40, tzinfo=datetime.timezone.utc), open=110.952, high=110.9635, low=110.948, close=110.9615, volume=-1, wap=-1.0, count=-1)\n",
      "RealTimeBar(time=datetime.datetime(2018, 8, 8, 21, 17, 45, tzinfo=datetime.timezone.utc), open=110.9615, high=110.965, low=110.9565, close=110.9595, volume=-1, wap=-1.0, count=-1)\n",
      "RealTimeBar(time=datetime.datetime(2018, 8, 8, 21, 17, 50, tzinfo=datetime.timezone.utc), open=110.9595, high=110.962, low=110.9575, close=110.961, volume=-1, wap=-1.0, count=-1)\n",
      "RealTimeBar(time=datetime.datetime(2018, 8, 8, 21, 17, 55, tzinfo=datetime.timezone.utc), open=110.961, high=110.9625, low=110.9575, close=110.9595, volume=-1, wap=-1.0, count=-1)\n",
      "RealTimeBar(time=datetime.datetime(2018, 8, 8, 21, 18, tzinfo=datetime.timezone.utc), open=110.9595, high=110.9645, low=110.958, close=110.9625, volume=-1, wap=-1.0, count=-1)\n",
      "RealTimeBar(time=datetime.datetime(2018, 8, 8, 21, 18, 5, tzinfo=datetime.timezone.utc), open=110.9625, high=110.965, low=110.9615, close=110.9625, volume=-1, wap=-1.0, count=-1)\n",
      "RealTimeBar(time=datetime.datetime(2018, 8, 8, 21, 18, 10, tzinfo=datetime.timezone.utc), open=110.9625, high=110.966, low=110.9615, close=110.9625, volume=-1, wap=-1.0, count=-1)\n",
      "RealTimeBar(time=datetime.datetime(2018, 8, 8, 21, 18, 15, tzinfo=datetime.timezone.utc), open=110.9625, high=110.965, low=110.951, close=110.951, volume=-1, wap=-1.0, count=-1)\n",
      "RealTimeBar(time=datetime.datetime(2018, 8, 8, 21, 18, 20, tzinfo=datetime.timezone.utc), open=110.951, high=110.9525, low=110.951, close=110.9525, volume=-1, wap=-1.0, count=-1)\n",
      "RealTimeBar(time=datetime.datetime(2018, 8, 8, 21, 18, 25, tzinfo=datetime.timezone.utc), open=110.9525, high=110.9525, low=110.951, close=110.952, volume=-1, wap=-1.0, count=-1)\n",
      "RealTimeBar(time=datetime.datetime(2018, 8, 8, 21, 18, 30, tzinfo=datetime.timezone.utc), open=110.952, high=110.952, low=110.9465, close=110.947, volume=-1, wap=-1.0, count=-1)\n",
      "RealTimeBar(time=datetime.datetime(2018, 8, 8, 21, 18, 35, tzinfo=datetime.timezone.utc), open=110.947, high=110.959, low=110.9465, close=110.9495, volume=-1, wap=-1.0, count=-1)\n",
      "RealTimeBar(time=datetime.datetime(2018, 8, 8, 21, 18, 40, tzinfo=datetime.timezone.utc), open=110.9495, high=110.9595, low=110.9475, close=110.956, volume=-1, wap=-1.0, count=-1)\n",
      "RealTimeBar(time=datetime.datetime(2018, 8, 8, 21, 18, 45, tzinfo=datetime.timezone.utc), open=110.956, high=110.959, low=110.952, close=110.9545, volume=-1, wap=-1.0, count=-1)\n"
     ]
    },
    {
     "name": "stdout",
     "output_type": "stream",
     "text": [
      "RealTimeBar(time=datetime.datetime(2018, 8, 8, 21, 18, 50, tzinfo=datetime.timezone.utc), open=110.9545, high=110.958, low=110.9495, close=110.953, volume=-1, wap=-1.0, count=-1)\n",
      "RealTimeBar(time=datetime.datetime(2018, 8, 8, 21, 18, 55, tzinfo=datetime.timezone.utc), open=110.953, high=110.954, low=110.9495, close=110.953, volume=-1, wap=-1.0, count=-1)\n"
     ]
    }
   ],
   "source": [
    "contract = Stock('IBM', exchange='SMART', primaryExchange='NYSE')\n",
    "\n",
    "ib.qualifyContracts(contract)"
   ]
  },
  {
   "cell_type": "code",
   "execution_count": 89,
   "metadata": {},
   "outputs": [
    {
     "data": {
      "text/html": [
       "<div>\n",
       "<style scoped>\n",
       "    .dataframe tbody tr th:only-of-type {\n",
       "        vertical-align: middle;\n",
       "    }\n",
       "\n",
       "    .dataframe tbody tr th {\n",
       "        vertical-align: top;\n",
       "    }\n",
       "\n",
       "    .dataframe thead th {\n",
       "        text-align: right;\n",
       "    }\n",
       "</style>\n",
       "<table border=\"1\" class=\"dataframe\">\n",
       "  <thead>\n",
       "    <tr style=\"text-align: right;\">\n",
       "      <th></th>\n",
       "      <th>exchange</th>\n",
       "      <th>underlyingConId</th>\n",
       "      <th>tradingClass</th>\n",
       "      <th>multiplier</th>\n",
       "      <th>expirations</th>\n",
       "      <th>strikes</th>\n",
       "    </tr>\n",
       "  </thead>\n",
       "  <tbody>\n",
       "    <tr>\n",
       "      <th>0</th>\n",
       "      <td>NASDAQOM</td>\n",
       "      <td>8314</td>\n",
       "      <td>IBM</td>\n",
       "      <td>100</td>\n",
       "      <td>{20180824, 20180907, 20180817, 20180831, 20180...</td>\n",
       "      <td>{128.0, 129.0, 130.0, 131.0, 132.0, 133.0, 134...</td>\n",
       "    </tr>\n",
       "    <tr>\n",
       "      <th>1</th>\n",
       "      <td>PSE</td>\n",
       "      <td>8314</td>\n",
       "      <td>IBM</td>\n",
       "      <td>100</td>\n",
       "      <td>{20180824, 20180907, 20180817, 20180831, 20180...</td>\n",
       "      <td>{128.0, 129.0, 130.0, 131.0, 132.0, 133.0, 134...</td>\n",
       "    </tr>\n",
       "    <tr>\n",
       "      <th>2</th>\n",
       "      <td>PHLX</td>\n",
       "      <td>8314</td>\n",
       "      <td>IBM</td>\n",
       "      <td>100</td>\n",
       "      <td>{20180824, 20180907, 20180817, 20180831, 20180...</td>\n",
       "      <td>{128.0, 129.0, 130.0, 131.0, 132.0, 133.0, 134...</td>\n",
       "    </tr>\n",
       "    <tr>\n",
       "      <th>3</th>\n",
       "      <td>BOX</td>\n",
       "      <td>8314</td>\n",
       "      <td>IBM</td>\n",
       "      <td>100</td>\n",
       "      <td>{20180824, 20180907, 20180817, 20180831, 20180...</td>\n",
       "      <td>{128.0, 129.0, 130.0, 131.0, 132.0, 133.0, 134...</td>\n",
       "    </tr>\n",
       "    <tr>\n",
       "      <th>4</th>\n",
       "      <td>PEARL</td>\n",
       "      <td>8314</td>\n",
       "      <td>IBM</td>\n",
       "      <td>100</td>\n",
       "      <td>{20180824, 20180907, 20180817, 20180831, 20180...</td>\n",
       "      <td>{128.0, 129.0, 130.0, 131.0, 132.0, 133.0, 134...</td>\n",
       "    </tr>\n",
       "    <tr>\n",
       "      <th>5</th>\n",
       "      <td>CBOE2</td>\n",
       "      <td>8314</td>\n",
       "      <td>IBM</td>\n",
       "      <td>100</td>\n",
       "      <td>{20180824, 20180907, 20180817, 20180831, 20180...</td>\n",
       "      <td>{128.0, 129.0, 130.0, 131.0, 132.0, 133.0, 134...</td>\n",
       "    </tr>\n",
       "    <tr>\n",
       "      <th>6</th>\n",
       "      <td>EDGX</td>\n",
       "      <td>8314</td>\n",
       "      <td>IBM</td>\n",
       "      <td>100</td>\n",
       "      <td>{20180824, 20180907, 20180817, 20180831, 20180...</td>\n",
       "      <td>{128.0, 129.0, 130.0, 131.0, 132.0, 133.0, 134...</td>\n",
       "    </tr>\n",
       "    <tr>\n",
       "      <th>7</th>\n",
       "      <td>GEMINI</td>\n",
       "      <td>8314</td>\n",
       "      <td>IBM</td>\n",
       "      <td>100</td>\n",
       "      <td>{20180824, 20180907, 20180817, 20180831, 20180...</td>\n",
       "      <td>{128.0, 129.0, 130.0, 131.0, 132.0, 133.0, 134...</td>\n",
       "    </tr>\n",
       "    <tr>\n",
       "      <th>8</th>\n",
       "      <td>MERCURY</td>\n",
       "      <td>8314</td>\n",
       "      <td>IBM</td>\n",
       "      <td>100</td>\n",
       "      <td>{20180824, 20180907, 20180817, 20180831, 20180...</td>\n",
       "      <td>{128.0, 129.0, 130.0, 131.0, 132.0, 133.0, 134...</td>\n",
       "    </tr>\n",
       "    <tr>\n",
       "      <th>9</th>\n",
       "      <td>MIAX</td>\n",
       "      <td>8314</td>\n",
       "      <td>IBM</td>\n",
       "      <td>100</td>\n",
       "      <td>{20180824, 20180907, 20180817, 20180831, 20180...</td>\n",
       "      <td>{128.0, 129.0, 130.0, 131.0, 132.0, 133.0, 134...</td>\n",
       "    </tr>\n",
       "    <tr>\n",
       "      <th>10</th>\n",
       "      <td>CBOE</td>\n",
       "      <td>8314</td>\n",
       "      <td>IBM</td>\n",
       "      <td>100</td>\n",
       "      <td>{20180824, 20180907, 20180817, 20180831, 20180...</td>\n",
       "      <td>{128.0, 129.0, 130.0, 131.0, 132.0, 133.0, 134...</td>\n",
       "    </tr>\n",
       "    <tr>\n",
       "      <th>11</th>\n",
       "      <td>NASDAQBX</td>\n",
       "      <td>8314</td>\n",
       "      <td>IBM</td>\n",
       "      <td>100</td>\n",
       "      <td>{20180824, 20180907, 20180817, 20180831, 20180...</td>\n",
       "      <td>{128.0, 129.0, 130.0, 131.0, 132.0, 133.0, 134...</td>\n",
       "    </tr>\n",
       "    <tr>\n",
       "      <th>12</th>\n",
       "      <td>ISE</td>\n",
       "      <td>8314</td>\n",
       "      <td>IBM</td>\n",
       "      <td>100</td>\n",
       "      <td>{20180824, 20180907, 20180817, 20180831, 20180...</td>\n",
       "      <td>{128.0, 129.0, 130.0, 131.0, 132.0, 133.0, 134...</td>\n",
       "    </tr>\n",
       "    <tr>\n",
       "      <th>13</th>\n",
       "      <td>BATS</td>\n",
       "      <td>8314</td>\n",
       "      <td>IBM</td>\n",
       "      <td>100</td>\n",
       "      <td>{20180824, 20180907, 20180817, 20180831, 20180...</td>\n",
       "      <td>{128.0, 129.0, 130.0, 131.0, 132.0, 133.0, 134...</td>\n",
       "    </tr>\n",
       "    <tr>\n",
       "      <th>14</th>\n",
       "      <td>AMEX</td>\n",
       "      <td>8314</td>\n",
       "      <td>IBM</td>\n",
       "      <td>100</td>\n",
       "      <td>{20180824, 20180907, 20180817, 20180831, 20180...</td>\n",
       "      <td>{128.0, 129.0, 130.0, 131.0, 132.0, 133.0, 134...</td>\n",
       "    </tr>\n",
       "    <tr>\n",
       "      <th>15</th>\n",
       "      <td>SMART</td>\n",
       "      <td>8314</td>\n",
       "      <td>IBM</td>\n",
       "      <td>100</td>\n",
       "      <td>{20180824, 20180907, 20180817, 20180831, 20180...</td>\n",
       "      <td>{128.0, 129.0, 130.0, 131.0, 132.0, 133.0, 134...</td>\n",
       "    </tr>\n",
       "  </tbody>\n",
       "</table>\n",
       "</div>"
      ],
      "text/plain": [
       "    exchange  underlyingConId tradingClass multiplier  \\\n",
       "0   NASDAQOM             8314          IBM        100   \n",
       "1        PSE             8314          IBM        100   \n",
       "2       PHLX             8314          IBM        100   \n",
       "3        BOX             8314          IBM        100   \n",
       "4      PEARL             8314          IBM        100   \n",
       "5      CBOE2             8314          IBM        100   \n",
       "6       EDGX             8314          IBM        100   \n",
       "7     GEMINI             8314          IBM        100   \n",
       "8    MERCURY             8314          IBM        100   \n",
       "9       MIAX             8314          IBM        100   \n",
       "10      CBOE             8314          IBM        100   \n",
       "11  NASDAQBX             8314          IBM        100   \n",
       "12       ISE             8314          IBM        100   \n",
       "13      BATS             8314          IBM        100   \n",
       "14      AMEX             8314          IBM        100   \n",
       "15     SMART             8314          IBM        100   \n",
       "\n",
       "                                          expirations  \\\n",
       "0   {20180824, 20180907, 20180817, 20180831, 20180...   \n",
       "1   {20180824, 20180907, 20180817, 20180831, 20180...   \n",
       "2   {20180824, 20180907, 20180817, 20180831, 20180...   \n",
       "3   {20180824, 20180907, 20180817, 20180831, 20180...   \n",
       "4   {20180824, 20180907, 20180817, 20180831, 20180...   \n",
       "5   {20180824, 20180907, 20180817, 20180831, 20180...   \n",
       "6   {20180824, 20180907, 20180817, 20180831, 20180...   \n",
       "7   {20180824, 20180907, 20180817, 20180831, 20180...   \n",
       "8   {20180824, 20180907, 20180817, 20180831, 20180...   \n",
       "9   {20180824, 20180907, 20180817, 20180831, 20180...   \n",
       "10  {20180824, 20180907, 20180817, 20180831, 20180...   \n",
       "11  {20180824, 20180907, 20180817, 20180831, 20180...   \n",
       "12  {20180824, 20180907, 20180817, 20180831, 20180...   \n",
       "13  {20180824, 20180907, 20180817, 20180831, 20180...   \n",
       "14  {20180824, 20180907, 20180817, 20180831, 20180...   \n",
       "15  {20180824, 20180907, 20180817, 20180831, 20180...   \n",
       "\n",
       "                                              strikes  \n",
       "0   {128.0, 129.0, 130.0, 131.0, 132.0, 133.0, 134...  \n",
       "1   {128.0, 129.0, 130.0, 131.0, 132.0, 133.0, 134...  \n",
       "2   {128.0, 129.0, 130.0, 131.0, 132.0, 133.0, 134...  \n",
       "3   {128.0, 129.0, 130.0, 131.0, 132.0, 133.0, 134...  \n",
       "4   {128.0, 129.0, 130.0, 131.0, 132.0, 133.0, 134...  \n",
       "5   {128.0, 129.0, 130.0, 131.0, 132.0, 133.0, 134...  \n",
       "6   {128.0, 129.0, 130.0, 131.0, 132.0, 133.0, 134...  \n",
       "7   {128.0, 129.0, 130.0, 131.0, 132.0, 133.0, 134...  \n",
       "8   {128.0, 129.0, 130.0, 131.0, 132.0, 133.0, 134...  \n",
       "9   {128.0, 129.0, 130.0, 131.0, 132.0, 133.0, 134...  \n",
       "10  {128.0, 129.0, 130.0, 131.0, 132.0, 133.0, 134...  \n",
       "11  {128.0, 129.0, 130.0, 131.0, 132.0, 133.0, 134...  \n",
       "12  {128.0, 129.0, 130.0, 131.0, 132.0, 133.0, 134...  \n",
       "13  {128.0, 129.0, 130.0, 131.0, 132.0, 133.0, 134...  \n",
       "14  {128.0, 129.0, 130.0, 131.0, 132.0, 133.0, 134...  \n",
       "15  {128.0, 129.0, 130.0, 131.0, 132.0, 133.0, 134...  "
      ]
     },
     "execution_count": 89,
     "metadata": {},
     "output_type": "execute_result"
    },
    {
     "name": "stdout",
     "output_type": "stream",
     "text": [
      "RealTimeBar(time=datetime.datetime(2018, 8, 8, 21, 19, 25, tzinfo=datetime.timezone.utc), open=110.958, high=110.961, low=110.9555, close=110.957, volume=-1, wap=-1.0, count=-1)\n",
      "RealTimeBar(time=datetime.datetime(2018, 8, 8, 21, 19, 30, tzinfo=datetime.timezone.utc), open=110.957, high=110.9575, low=110.9555, close=110.9555, volume=-1, wap=-1.0, count=-1)\n",
      "RealTimeBar(time=datetime.datetime(2018, 8, 8, 21, 19, 35, tzinfo=datetime.timezone.utc), open=110.9555, high=110.9595, low=110.9555, close=110.9585, volume=-1, wap=-1.0, count=-1)\n",
      "RealTimeBar(time=datetime.datetime(2018, 8, 8, 21, 19, 40, tzinfo=datetime.timezone.utc), open=110.9585, high=110.959, low=110.9565, close=110.958, volume=-1, wap=-1.0, count=-1)\n",
      "RealTimeBar(time=datetime.datetime(2018, 8, 8, 21, 19, 45, tzinfo=datetime.timezone.utc), open=110.958, high=110.959, low=110.9565, close=110.959, volume=-1, wap=-1.0, count=-1)\n",
      "RealTimeBar(time=datetime.datetime(2018, 8, 8, 21, 19, 50, tzinfo=datetime.timezone.utc), open=110.959, high=110.9595, low=110.9545, close=110.9545, volume=-1, wap=-1.0, count=-1)\n",
      "RealTimeBar(time=datetime.datetime(2018, 8, 8, 21, 19, 55, tzinfo=datetime.timezone.utc), open=110.9545, high=110.9585, low=110.953, close=110.957, volume=-1, wap=-1.0, count=-1)\n",
      "RealTimeBar(time=datetime.datetime(2018, 8, 8, 21, 20, tzinfo=datetime.timezone.utc), open=110.957, high=110.96, low=110.953, close=110.9565, volume=-1, wap=-1.0, count=-1)\n",
      "RealTimeBar(time=datetime.datetime(2018, 8, 8, 21, 20, 5, tzinfo=datetime.timezone.utc), open=110.956, high=110.956, low=110.956, close=110.956, volume=-1, wap=-1.0, count=-1)\n",
      "RealTimeBar(time=datetime.datetime(2018, 8, 8, 21, 20, 10, tzinfo=datetime.timezone.utc), open=110.956, high=110.956, low=110.956, close=110.956, volume=-1, wap=-1.0, count=-1)\n",
      "RealTimeBar(time=datetime.datetime(2018, 8, 8, 21, 20, 15, tzinfo=datetime.timezone.utc), open=110.9565, high=110.961, low=110.9545, close=110.956, volume=-1, wap=-1.0, count=-1)\n",
      "RealTimeBar(time=datetime.datetime(2018, 8, 8, 21, 20, 20, tzinfo=datetime.timezone.utc), open=110.956, high=110.961, low=110.954, close=110.9575, volume=-1, wap=-1.0, count=-1)\n",
      "RealTimeBar(time=datetime.datetime(2018, 8, 8, 21, 20, 25, tzinfo=datetime.timezone.utc), open=110.9575, high=110.9605, low=110.9535, close=110.954, volume=-1, wap=-1.0, count=-1)\n",
      "RealTimeBar(time=datetime.datetime(2018, 8, 8, 21, 20, 30, tzinfo=datetime.timezone.utc), open=110.954, high=110.9575, low=110.953, close=110.954, volume=-1, wap=-1.0, count=-1)\n",
      "RealTimeBar(time=datetime.datetime(2018, 8, 8, 21, 20, 35, tzinfo=datetime.timezone.utc), open=110.954, high=110.9575, low=110.953, close=110.9575, volume=-1, wap=-1.0, count=-1)\n",
      "RealTimeBar(time=datetime.datetime(2018, 8, 8, 21, 20, 40, tzinfo=datetime.timezone.utc), open=110.9575, high=110.961, low=110.9555, close=110.9585, volume=-1, wap=-1.0, count=-1)\n",
      "RealTimeBar(time=datetime.datetime(2018, 8, 8, 21, 20, 45, tzinfo=datetime.timezone.utc), open=110.9585, high=110.961, low=110.9555, close=110.9575, volume=-1, wap=-1.0, count=-1)\n",
      "RealTimeBar(time=datetime.datetime(2018, 8, 8, 21, 20, 50, tzinfo=datetime.timezone.utc), open=110.9575, high=110.9615, low=110.956, close=110.9565, volume=-1, wap=-1.0, count=-1)\n",
      "RealTimeBar(time=datetime.datetime(2018, 8, 8, 21, 20, 55, tzinfo=datetime.timezone.utc), open=110.9565, high=110.9615, low=110.956, close=110.957, volume=-1, wap=-1.0, count=-1)\n",
      "RealTimeBar(time=datetime.datetime(2018, 8, 8, 21, 21, tzinfo=datetime.timezone.utc), open=110.957, high=110.962, low=110.955, close=110.9565, volume=-1, wap=-1.0, count=-1)\n",
      "RealTimeBar(time=datetime.datetime(2018, 8, 8, 21, 21, 5, tzinfo=datetime.timezone.utc), open=110.9565, high=110.9615, low=110.956, close=110.957, volume=-1, wap=-1.0, count=-1)\n",
      "RealTimeBar(time=datetime.datetime(2018, 8, 8, 21, 21, 10, tzinfo=datetime.timezone.utc), open=110.957, high=110.9615, low=110.956, close=110.957, volume=-1, wap=-1.0, count=-1)\n",
      "RealTimeBar(time=datetime.datetime(2018, 8, 8, 21, 21, 15, tzinfo=datetime.timezone.utc), open=110.957, high=110.9615, low=110.9555, close=110.957, volume=-1, wap=-1.0, count=-1)\n",
      "RealTimeBar(time=datetime.datetime(2018, 8, 8, 21, 21, 20, tzinfo=datetime.timezone.utc), open=110.957, high=110.963, low=110.9555, close=110.9565, volume=-1, wap=-1.0, count=-1)\n"
     ]
    }
   ],
   "source": [
    "chains = ib.reqSecDefOptParams(contract.symbol, '',\n",
    "                                contract.secType, contract.conId)\n",
    "\n",
    "util.df(chains)"
   ]
  },
  {
   "cell_type": "code",
   "execution_count": 90,
   "metadata": {},
   "outputs": [
    {
     "data": {
      "text/plain": [
       "[Stock(conId=756733, symbol='SPY', exchange='SMART', primaryExchange='ARCA', currency='USD', localSymbol='SPY', tradingClass='SPY')]"
      ]
     },
     "execution_count": 90,
     "metadata": {},
     "output_type": "execute_result"
    },
    {
     "name": "stdout",
     "output_type": "stream",
     "text": [
      "RealTimeBar(time=datetime.datetime(2018, 8, 8, 21, 21, 25, tzinfo=datetime.timezone.utc), open=110.9565, high=110.963, low=110.955, close=110.962, volume=-1, wap=-1.0, count=-1)\n",
      "RealTimeBar(time=datetime.datetime(2018, 8, 8, 21, 21, 30, tzinfo=datetime.timezone.utc), open=110.962, high=110.965, low=110.957, close=110.958, volume=-1, wap=-1.0, count=-1)\n",
      "RealTimeBar(time=datetime.datetime(2018, 8, 8, 21, 21, 35, tzinfo=datetime.timezone.utc), open=110.958, high=110.96, low=110.9565, close=110.957, volume=-1, wap=-1.0, count=-1)\n",
      "RealTimeBar(time=datetime.datetime(2018, 8, 8, 21, 21, 40, tzinfo=datetime.timezone.utc), open=110.957, high=110.9575, low=110.9565, close=110.9565, volume=-1, wap=-1.0, count=-1)\n",
      "RealTimeBar(time=datetime.datetime(2018, 8, 8, 21, 21, 45, tzinfo=datetime.timezone.utc), open=110.9565, high=110.961, low=110.9565, close=110.9575, volume=-1, wap=-1.0, count=-1)\n",
      "RealTimeBar(time=datetime.datetime(2018, 8, 8, 21, 21, 50, tzinfo=datetime.timezone.utc), open=110.9575, high=110.963, low=110.957, close=110.962, volume=-1, wap=-1.0, count=-1)\n"
     ]
    }
   ],
   "source": [
    "ticker = 'SPY'\n",
    "contract = Stock(ticker, exchange='SMART', primaryExchange='NYSE')\n",
    "\n",
    "ib.qualifyContracts(contract)"
   ]
  },
  {
   "cell_type": "code",
   "execution_count": 91,
   "metadata": {},
   "outputs": [
    {
     "name": "stdout",
     "output_type": "stream",
     "text": [
      "RealTimeBar(time=datetime.datetime(2018, 8, 8, 21, 21, 55, tzinfo=datetime.timezone.utc), open=110.962, high=110.963, low=110.9605, close=110.9625, volume=-1, wap=-1.0, count=-1)\n"
     ]
    },
    {
     "data": {
      "text/html": [
       "<div>\n",
       "<style scoped>\n",
       "    .dataframe tbody tr th:only-of-type {\n",
       "        vertical-align: middle;\n",
       "    }\n",
       "\n",
       "    .dataframe tbody tr th {\n",
       "        vertical-align: top;\n",
       "    }\n",
       "\n",
       "    .dataframe thead th {\n",
       "        text-align: right;\n",
       "    }\n",
       "</style>\n",
       "<table border=\"1\" class=\"dataframe\">\n",
       "  <thead>\n",
       "    <tr style=\"text-align: right;\">\n",
       "      <th></th>\n",
       "      <th>exchange</th>\n",
       "      <th>underlyingConId</th>\n",
       "      <th>tradingClass</th>\n",
       "      <th>multiplier</th>\n",
       "      <th>expirations</th>\n",
       "      <th>strikes</th>\n",
       "    </tr>\n",
       "  </thead>\n",
       "  <tbody>\n",
       "    <tr>\n",
       "      <th>0</th>\n",
       "      <td>NASDAQOM</td>\n",
       "      <td>756733</td>\n",
       "      <td>SPY</td>\n",
       "      <td>100</td>\n",
       "      <td>{20180824, 20200619, 20180831, 20180815, 20200...</td>\n",
       "      <td>{346.0, 306.0, 306.5, 307.0, 10.0, 307.5, 308....</td>\n",
       "    </tr>\n",
       "    <tr>\n",
       "      <th>1</th>\n",
       "      <td>PSE</td>\n",
       "      <td>756733</td>\n",
       "      <td>SPY</td>\n",
       "      <td>100</td>\n",
       "      <td>{20180824, 20200619, 20180831, 20180815, 20200...</td>\n",
       "      <td>{346.0, 306.0, 306.5, 307.0, 10.0, 307.5, 308....</td>\n",
       "    </tr>\n",
       "    <tr>\n",
       "      <th>2</th>\n",
       "      <td>BATS</td>\n",
       "      <td>756733</td>\n",
       "      <td>SPY</td>\n",
       "      <td>100</td>\n",
       "      <td>{20180824, 20200619, 20180831, 20180815, 20200...</td>\n",
       "      <td>{346.0, 306.0, 306.5, 307.0, 10.0, 307.5, 308....</td>\n",
       "    </tr>\n",
       "    <tr>\n",
       "      <th>3</th>\n",
       "      <td>AMEX</td>\n",
       "      <td>756733</td>\n",
       "      <td>SPY</td>\n",
       "      <td>100</td>\n",
       "      <td>{20180824, 20200619, 20180831, 20180815, 20200...</td>\n",
       "      <td>{346.0, 306.0, 306.5, 307.0, 10.0, 307.5, 308....</td>\n",
       "    </tr>\n",
       "    <tr>\n",
       "      <th>4</th>\n",
       "      <td>PEARL</td>\n",
       "      <td>756733</td>\n",
       "      <td>SPY</td>\n",
       "      <td>100</td>\n",
       "      <td>{20180824, 20200619, 20180831, 20180815, 20200...</td>\n",
       "      <td>{346.0, 306.0, 306.5, 307.0, 10.0, 307.5, 308....</td>\n",
       "    </tr>\n",
       "    <tr>\n",
       "      <th>5</th>\n",
       "      <td>NASDAQBX</td>\n",
       "      <td>756733</td>\n",
       "      <td>SPY</td>\n",
       "      <td>100</td>\n",
       "      <td>{20180824, 20200619, 20180831, 20180815, 20200...</td>\n",
       "      <td>{346.0, 306.0, 306.5, 307.0, 10.0, 307.5, 308....</td>\n",
       "    </tr>\n",
       "    <tr>\n",
       "      <th>6</th>\n",
       "      <td>ISE</td>\n",
       "      <td>756733</td>\n",
       "      <td>SPY</td>\n",
       "      <td>100</td>\n",
       "      <td>{20180824, 20200619, 20180831, 20180815, 20200...</td>\n",
       "      <td>{346.0, 306.0, 306.5, 307.0, 10.0, 307.5, 308....</td>\n",
       "    </tr>\n",
       "    <tr>\n",
       "      <th>7</th>\n",
       "      <td>MIAX</td>\n",
       "      <td>756733</td>\n",
       "      <td>SPY</td>\n",
       "      <td>100</td>\n",
       "      <td>{20180824, 20200619, 20180831, 20180815, 20200...</td>\n",
       "      <td>{346.0, 306.0, 306.5, 307.0, 10.0, 307.5, 308....</td>\n",
       "    </tr>\n",
       "    <tr>\n",
       "      <th>8</th>\n",
       "      <td>SMART</td>\n",
       "      <td>756733</td>\n",
       "      <td>SPY</td>\n",
       "      <td>100</td>\n",
       "      <td>{20180824, 20200619, 20180831, 20180815, 20200...</td>\n",
       "      <td>{346.0, 306.0, 306.5, 307.0, 10.0, 307.5, 308....</td>\n",
       "    </tr>\n",
       "    <tr>\n",
       "      <th>9</th>\n",
       "      <td>CBOE</td>\n",
       "      <td>756733</td>\n",
       "      <td>SPY</td>\n",
       "      <td>100</td>\n",
       "      <td>{20180824, 20200619, 20180831, 20180815, 20200...</td>\n",
       "      <td>{346.0, 306.0, 306.5, 307.0, 10.0, 307.5, 308....</td>\n",
       "    </tr>\n",
       "    <tr>\n",
       "      <th>10</th>\n",
       "      <td>MERCURY</td>\n",
       "      <td>756733</td>\n",
       "      <td>SPY</td>\n",
       "      <td>100</td>\n",
       "      <td>{20180824, 20200619, 20180831, 20180815, 20200...</td>\n",
       "      <td>{346.0, 306.0, 306.5, 307.0, 10.0, 307.5, 308....</td>\n",
       "    </tr>\n",
       "    <tr>\n",
       "      <th>11</th>\n",
       "      <td>EDGX</td>\n",
       "      <td>756733</td>\n",
       "      <td>SPY</td>\n",
       "      <td>100</td>\n",
       "      <td>{20180824, 20200619, 20180831, 20180815, 20200...</td>\n",
       "      <td>{346.0, 306.0, 306.5, 307.0, 10.0, 307.5, 308....</td>\n",
       "    </tr>\n",
       "    <tr>\n",
       "      <th>12</th>\n",
       "      <td>GEMINI</td>\n",
       "      <td>756733</td>\n",
       "      <td>SPY</td>\n",
       "      <td>100</td>\n",
       "      <td>{20180824, 20200619, 20180831, 20180815, 20200...</td>\n",
       "      <td>{346.0, 306.0, 306.5, 307.0, 10.0, 307.5, 308....</td>\n",
       "    </tr>\n",
       "    <tr>\n",
       "      <th>13</th>\n",
       "      <td>BOX</td>\n",
       "      <td>756733</td>\n",
       "      <td>SPY</td>\n",
       "      <td>100</td>\n",
       "      <td>{20180824, 20200619, 20180831, 20180815, 20200...</td>\n",
       "      <td>{346.0, 306.0, 306.5, 307.0, 10.0, 307.5, 308....</td>\n",
       "    </tr>\n",
       "    <tr>\n",
       "      <th>14</th>\n",
       "      <td>CBOE2</td>\n",
       "      <td>756733</td>\n",
       "      <td>SPY</td>\n",
       "      <td>100</td>\n",
       "      <td>{20180824, 20200619, 20180831, 20180815, 20200...</td>\n",
       "      <td>{346.0, 306.0, 306.5, 307.0, 10.0, 307.5, 308....</td>\n",
       "    </tr>\n",
       "    <tr>\n",
       "      <th>15</th>\n",
       "      <td>PHLX</td>\n",
       "      <td>756733</td>\n",
       "      <td>SPY</td>\n",
       "      <td>100</td>\n",
       "      <td>{20180824, 20200619, 20180831, 20180815, 20200...</td>\n",
       "      <td>{346.0, 306.0, 306.5, 307.0, 10.0, 307.5, 308....</td>\n",
       "    </tr>\n",
       "  </tbody>\n",
       "</table>\n",
       "</div>"
      ],
      "text/plain": [
       "    exchange  underlyingConId tradingClass multiplier  \\\n",
       "0   NASDAQOM           756733          SPY        100   \n",
       "1        PSE           756733          SPY        100   \n",
       "2       BATS           756733          SPY        100   \n",
       "3       AMEX           756733          SPY        100   \n",
       "4      PEARL           756733          SPY        100   \n",
       "5   NASDAQBX           756733          SPY        100   \n",
       "6        ISE           756733          SPY        100   \n",
       "7       MIAX           756733          SPY        100   \n",
       "8      SMART           756733          SPY        100   \n",
       "9       CBOE           756733          SPY        100   \n",
       "10   MERCURY           756733          SPY        100   \n",
       "11      EDGX           756733          SPY        100   \n",
       "12    GEMINI           756733          SPY        100   \n",
       "13       BOX           756733          SPY        100   \n",
       "14     CBOE2           756733          SPY        100   \n",
       "15      PHLX           756733          SPY        100   \n",
       "\n",
       "                                          expirations  \\\n",
       "0   {20180824, 20200619, 20180831, 20180815, 20200...   \n",
       "1   {20180824, 20200619, 20180831, 20180815, 20200...   \n",
       "2   {20180824, 20200619, 20180831, 20180815, 20200...   \n",
       "3   {20180824, 20200619, 20180831, 20180815, 20200...   \n",
       "4   {20180824, 20200619, 20180831, 20180815, 20200...   \n",
       "5   {20180824, 20200619, 20180831, 20180815, 20200...   \n",
       "6   {20180824, 20200619, 20180831, 20180815, 20200...   \n",
       "7   {20180824, 20200619, 20180831, 20180815, 20200...   \n",
       "8   {20180824, 20200619, 20180831, 20180815, 20200...   \n",
       "9   {20180824, 20200619, 20180831, 20180815, 20200...   \n",
       "10  {20180824, 20200619, 20180831, 20180815, 20200...   \n",
       "11  {20180824, 20200619, 20180831, 20180815, 20200...   \n",
       "12  {20180824, 20200619, 20180831, 20180815, 20200...   \n",
       "13  {20180824, 20200619, 20180831, 20180815, 20200...   \n",
       "14  {20180824, 20200619, 20180831, 20180815, 20200...   \n",
       "15  {20180824, 20200619, 20180831, 20180815, 20200...   \n",
       "\n",
       "                                              strikes  \n",
       "0   {346.0, 306.0, 306.5, 307.0, 10.0, 307.5, 308....  \n",
       "1   {346.0, 306.0, 306.5, 307.0, 10.0, 307.5, 308....  \n",
       "2   {346.0, 306.0, 306.5, 307.0, 10.0, 307.5, 308....  \n",
       "3   {346.0, 306.0, 306.5, 307.0, 10.0, 307.5, 308....  \n",
       "4   {346.0, 306.0, 306.5, 307.0, 10.0, 307.5, 308....  \n",
       "5   {346.0, 306.0, 306.5, 307.0, 10.0, 307.5, 308....  \n",
       "6   {346.0, 306.0, 306.5, 307.0, 10.0, 307.5, 308....  \n",
       "7   {346.0, 306.0, 306.5, 307.0, 10.0, 307.5, 308....  \n",
       "8   {346.0, 306.0, 306.5, 307.0, 10.0, 307.5, 308....  \n",
       "9   {346.0, 306.0, 306.5, 307.0, 10.0, 307.5, 308....  \n",
       "10  {346.0, 306.0, 306.5, 307.0, 10.0, 307.5, 308....  \n",
       "11  {346.0, 306.0, 306.5, 307.0, 10.0, 307.5, 308....  \n",
       "12  {346.0, 306.0, 306.5, 307.0, 10.0, 307.5, 308....  \n",
       "13  {346.0, 306.0, 306.5, 307.0, 10.0, 307.5, 308....  \n",
       "14  {346.0, 306.0, 306.5, 307.0, 10.0, 307.5, 308....  \n",
       "15  {346.0, 306.0, 306.5, 307.0, 10.0, 307.5, 308....  "
      ]
     },
     "execution_count": 91,
     "metadata": {},
     "output_type": "execute_result"
    },
    {
     "name": "stdout",
     "output_type": "stream",
     "text": [
      "RealTimeBar(time=datetime.datetime(2018, 8, 8, 21, 22, tzinfo=datetime.timezone.utc), open=110.9625, high=110.9635, low=110.9585, close=110.9595, volume=-1, wap=-1.0, count=-1)\n",
      "RealTimeBar(time=datetime.datetime(2018, 8, 8, 21, 22, 5, tzinfo=datetime.timezone.utc), open=110.9595, high=110.961, low=110.9585, close=110.96, volume=-1, wap=-1.0, count=-1)\n",
      "RealTimeBar(time=datetime.datetime(2018, 8, 8, 21, 22, 10, tzinfo=datetime.timezone.utc), open=110.96, high=110.961, low=110.959, close=110.9595, volume=-1, wap=-1.0, count=-1)\n",
      "RealTimeBar(time=datetime.datetime(2018, 8, 8, 21, 22, 15, tzinfo=datetime.timezone.utc), open=110.9595, high=110.9605, low=110.959, close=110.959, volume=-1, wap=-1.0, count=-1)\n",
      "RealTimeBar(time=datetime.datetime(2018, 8, 8, 21, 22, 20, tzinfo=datetime.timezone.utc), open=110.959, high=110.962, low=110.9565, close=110.958, volume=-1, wap=-1.0, count=-1)\n",
      "RealTimeBar(time=datetime.datetime(2018, 8, 8, 21, 22, 25, tzinfo=datetime.timezone.utc), open=110.958, high=110.9595, low=110.956, close=110.9575, volume=-1, wap=-1.0, count=-1)\n",
      "RealTimeBar(time=datetime.datetime(2018, 8, 8, 21, 22, 30, tzinfo=datetime.timezone.utc), open=110.9575, high=110.96, low=110.9545, close=110.9575, volume=-1, wap=-1.0, count=-1)\n",
      "RealTimeBar(time=datetime.datetime(2018, 8, 8, 21, 22, 35, tzinfo=datetime.timezone.utc), open=110.9575, high=110.9585, low=110.9535, close=110.955, volume=-1, wap=-1.0, count=-1)\n",
      "RealTimeBar(time=datetime.datetime(2018, 8, 8, 21, 22, 40, tzinfo=datetime.timezone.utc), open=110.955, high=110.9575, low=110.9535, close=110.956, volume=-1, wap=-1.0, count=-1)\n",
      "RealTimeBar(time=datetime.datetime(2018, 8, 8, 21, 22, 45, tzinfo=datetime.timezone.utc), open=110.956, high=110.957, low=110.9545, close=110.9555, volume=-1, wap=-1.0, count=-1)\n",
      "RealTimeBar(time=datetime.datetime(2018, 8, 8, 21, 22, 50, tzinfo=datetime.timezone.utc), open=110.9555, high=110.9565, low=110.9545, close=110.955, volume=-1, wap=-1.0, count=-1)\n",
      "RealTimeBar(time=datetime.datetime(2018, 8, 8, 21, 22, 55, tzinfo=datetime.timezone.utc), open=110.955, high=110.957, low=110.9545, close=110.9565, volume=-1, wap=-1.0, count=-1)\n",
      "RealTimeBar(time=datetime.datetime(2018, 8, 8, 21, 23, tzinfo=datetime.timezone.utc), open=110.9565, high=110.958, low=110.9545, close=110.956, volume=-1, wap=-1.0, count=-1)\n",
      "RealTimeBar(time=datetime.datetime(2018, 8, 8, 21, 23, 5, tzinfo=datetime.timezone.utc), open=110.956, high=110.958, low=110.955, close=110.957, volume=-1, wap=-1.0, count=-1)\n",
      "RealTimeBar(time=datetime.datetime(2018, 8, 8, 21, 23, 10, tzinfo=datetime.timezone.utc), open=110.957, high=110.9575, low=110.955, close=110.9555, volume=-1, wap=-1.0, count=-1)\n",
      "RealTimeBar(time=datetime.datetime(2018, 8, 8, 21, 23, 15, tzinfo=datetime.timezone.utc), open=110.9555, high=110.956, low=110.954, close=110.9545, volume=-1, wap=-1.0, count=-1)\n",
      "RealTimeBar(time=datetime.datetime(2018, 8, 8, 21, 23, 20, tzinfo=datetime.timezone.utc), open=110.9545, high=110.955, low=110.9535, close=110.954, volume=-1, wap=-1.0, count=-1)\n",
      "RealTimeBar(time=datetime.datetime(2018, 8, 8, 21, 23, 25, tzinfo=datetime.timezone.utc), open=110.954, high=110.9575, low=110.9535, close=110.956, volume=-1, wap=-1.0, count=-1)\n",
      "RealTimeBar(time=datetime.datetime(2018, 8, 8, 21, 23, 30, tzinfo=datetime.timezone.utc), open=110.956, high=110.96, low=110.9525, close=110.9525, volume=-1, wap=-1.0, count=-1)\n",
      "RealTimeBar(time=datetime.datetime(2018, 8, 8, 21, 23, 35, tzinfo=datetime.timezone.utc), open=110.9525, high=110.953, low=110.9515, close=110.953, volume=-1, wap=-1.0, count=-1)\n",
      "RealTimeBar(time=datetime.datetime(2018, 8, 8, 21, 23, 40, tzinfo=datetime.timezone.utc), open=110.953, high=110.953, low=110.952, close=110.952, volume=-1, wap=-1.0, count=-1)\n",
      "RealTimeBar(time=datetime.datetime(2018, 8, 8, 21, 23, 45, tzinfo=datetime.timezone.utc), open=110.952, high=110.953, low=110.952, close=110.952, volume=-1, wap=-1.0, count=-1)\n",
      "RealTimeBar(time=datetime.datetime(2018, 8, 8, 21, 23, 50, tzinfo=datetime.timezone.utc), open=110.952, high=110.9525, low=110.9515, close=110.952, volume=-1, wap=-1.0, count=-1)\n",
      "RealTimeBar(time=datetime.datetime(2018, 8, 8, 21, 23, 55, tzinfo=datetime.timezone.utc), open=110.952, high=110.9525, low=110.951, close=110.9515, volume=-1, wap=-1.0, count=-1)\n",
      "RealTimeBar(time=datetime.datetime(2018, 8, 8, 21, 24, tzinfo=datetime.timezone.utc), open=110.9515, high=110.9525, low=110.951, close=110.952, volume=-1, wap=-1.0, count=-1)\n",
      "RealTimeBar(time=datetime.datetime(2018, 8, 8, 21, 24, 5, tzinfo=datetime.timezone.utc), open=110.952, high=110.953, low=110.9515, close=110.9525, volume=-1, wap=-1.0, count=-1)\n",
      "RealTimeBar(time=datetime.datetime(2018, 8, 8, 21, 24, 10, tzinfo=datetime.timezone.utc), open=110.9525, high=110.9525, low=110.9515, close=110.9525, volume=-1, wap=-1.0, count=-1)\n",
      "RealTimeBar(time=datetime.datetime(2018, 8, 8, 21, 24, 15, tzinfo=datetime.timezone.utc), open=110.9525, high=110.9525, low=110.9515, close=110.9525, volume=-1, wap=-1.0, count=-1)\n",
      "RealTimeBar(time=datetime.datetime(2018, 8, 8, 21, 24, 20, tzinfo=datetime.timezone.utc), open=110.9525, high=110.953, low=110.9515, close=110.9515, volume=-1, wap=-1.0, count=-1)\n",
      "RealTimeBar(time=datetime.datetime(2018, 8, 8, 21, 24, 25, tzinfo=datetime.timezone.utc), open=110.9515, high=110.952, low=110.951, close=110.9515, volume=-1, wap=-1.0, count=-1)\n"
     ]
    }
   ],
   "source": [
    "chains = ib.reqSecDefOptParams(contract.symbol, '',\n",
    "                                contract.secType, contract.conId)\n",
    "\n",
    "util.df(chains)"
   ]
  },
  {
   "cell_type": "code",
   "execution_count": 92,
   "metadata": {},
   "outputs": [
    {
     "data": {
      "text/plain": [
       "OptionChain(exchange='SMART', underlyingConId=756733, tradingClass='SPY', multiplier='100', expirations={'20180824', '20200619', '20180831', '20180815', '20200117', '20180912', '20190329', '20190118', '20190621', '20200320', '20180907', '20180914', '20180829', '20180928', '20180810', '20180910', '20180808', '20191220', '20190628', '20190920', '20181221', '20190315', '20180820', '20201218', '20180905', '20180813', '20180817', '20180921', '20180827', '20181116', '20181231', '20180822', '20181019', '20180904'}, strikes={346.0, 306.0, 306.5, 307.0, 10.0, 307.5, 308.5, 15.0, 20.0, 245.5, 25.0, 311.0, 30.0, 312.0, 35.0, 312.5, 254.5, 40.0, 45.0, 246.5, 50.0, 316.0, 55.0, 317.5, 60.0, 65.0, 70.0, 247.5, 75.0, 80.0, 321.0, 85.0, 322.5, 253.5, 90.0, 95.0, 248.5, 100.0, 105.0, 326.0, 110.0, 327.5, 115.0, 120.0, 249.5, 125.0, 130.0, 331.0, 135.0, 332.0, 140.0, 145.0, 250.5, 150.0, 155.0, 336.0, 160.0, 165.0, 170.0, 251.5, 174.5, 175.0, 175.5, 176.0, 176.5, 177.0, 178.0, 179.0, 180.0, 181.0, 182.0, 183.0, 184.0, 185.0, 186.0, 187.0, 188.0, 189.0, 190.0, 191.0, 192.0, 193.0, 194.0, 195.0, 196.0, 197.0, 198.0, 199.0, 200.0, 201.0, 204.0, 202.0, 203.0, 205.0, 206.0, 209.0, 207.0, 208.0, 210.0, 211.0, 214.0, 212.0, 213.0, 215.0, 216.0, 219.0, 217.0, 218.0, 220.0, 221.0, 222.0, 223.0, 224.0, 225.0, 226.0, 227.0, 228.0, 229.0, 230.0, 231.0, 232.0, 233.0, 234.0, 235.0, 236.0, 237.0, 237.5, 238.0, 239.0, 239.5, 240.0, 240.5, 241.0, 241.5, 242.0, 242.5, 243.0, 243.5, 244.0, 244.5, 245.0, 246.0, 247.0, 248.0, 249.0, 250.0, 251.0, 252.0, 253.0, 254.0, 255.0, 255.5, 256.0, 256.5, 259.0, 260.0, 257.0, 257.5, 263.0, 264.0, 265.0, 258.0, 258.5, 268.0, 269.0, 270.0, 259.5, 272.0, 273.0, 274.0, 275.0, 260.5, 277.0, 278.0, 279.0, 280.0, 261.0, 261.5, 283.0, 284.0, 285.0, 262.0, 262.5, 288.0, 289.0, 290.0, 263.5, 292.0, 293.0, 294.0, 295.0, 264.5, 297.0, 298.0, 299.0, 300.0, 265.5, 302.0, 303.0, 304.0, 305.0, 266.0, 266.5, 308.0, 309.0, 310.0, 267.0, 267.5, 313.0, 314.0, 315.0, 268.5, 317.0, 318.0, 319.0, 320.0, 269.5, 322.0, 323.0, 324.0, 325.0, 270.5, 327.0, 328.0, 329.0, 330.0, 271.0, 271.5, 333.0, 334.0, 335.0, 272.5, 337.0, 338.0, 339.0, 340.0, 273.5, 342.0, 343.0, 344.0, 345.0, 274.5, 347.0, 348.0, 349.0, 350.0, 275.5, 355.0, 360.0, 276.0, 276.5, 365.0, 277.5, 370.0, 278.5, 375.0, 279.5, 380.0, 280.5, 385.0, 341.0, 281.0, 281.5, 390.0, 282.0, 282.5, 395.0, 283.5, 400.0, 284.5, 405.0, 285.5, 410.0, 286.0, 286.5, 287.0, 287.5, 420.0, 288.5, 430.0, 289.5, 290.5, 440.0, 291.0, 291.5, 292.5, 450.0, 293.5, 294.5, 460.0, 295.5, 296.0, 296.5, 297.5, 252.5, 298.5, 299.5, 300.5, 301.0, 301.5, 302.5, 303.5, 304.5, 305.5})"
      ]
     },
     "execution_count": 92,
     "metadata": {},
     "output_type": "execute_result"
    },
    {
     "name": "stdout",
     "output_type": "stream",
     "text": [
      "RealTimeBar(time=datetime.datetime(2018, 8, 8, 21, 24, 30, tzinfo=datetime.timezone.utc), open=110.9515, high=110.9535, low=110.9515, close=110.953, volume=-1, wap=-1.0, count=-1)\n",
      "RealTimeBar(time=datetime.datetime(2018, 8, 8, 21, 24, 35, tzinfo=datetime.timezone.utc), open=110.953, high=110.954, low=110.952, close=110.9525, volume=-1, wap=-1.0, count=-1)\n",
      "RealTimeBar(time=datetime.datetime(2018, 8, 8, 21, 24, 40, tzinfo=datetime.timezone.utc), open=110.9525, high=110.9535, low=110.9525, close=110.953, volume=-1, wap=-1.0, count=-1)\n",
      "RealTimeBar(time=datetime.datetime(2018, 8, 8, 21, 24, 45, tzinfo=datetime.timezone.utc), open=110.953, high=110.9535, low=110.9525, close=110.953, volume=-1, wap=-1.0, count=-1)\n",
      "RealTimeBar(time=datetime.datetime(2018, 8, 8, 21, 24, 50, tzinfo=datetime.timezone.utc), open=110.953, high=110.955, low=110.9525, close=110.9525, volume=-1, wap=-1.0, count=-1)\n",
      "RealTimeBar(time=datetime.datetime(2018, 8, 8, 21, 24, 55, tzinfo=datetime.timezone.utc), open=110.9525, high=110.9545, low=110.9525, close=110.953, volume=-1, wap=-1.0, count=-1)\n",
      "RealTimeBar(time=datetime.datetime(2018, 8, 8, 21, 25, tzinfo=datetime.timezone.utc), open=110.953, high=110.954, low=110.952, close=110.953, volume=-1, wap=-1.0, count=-1)\n",
      "RealTimeBar(time=datetime.datetime(2018, 8, 8, 21, 25, 5, tzinfo=datetime.timezone.utc), open=110.953, high=110.9535, low=110.9515, close=110.9535, volume=-1, wap=-1.0, count=-1)\n"
     ]
    }
   ],
   "source": [
    "chain = next(c for c in chains if c.exchange =='SMART')\n",
    "chain"
   ]
  },
  {
   "cell_type": "code",
   "execution_count": 94,
   "metadata": {},
   "outputs": [
    {
     "name": "stdout",
     "output_type": "stream",
     "text": [
      "RealTimeBar(time=datetime.datetime(2018, 8, 8, 21, 25, 15, tzinfo=datetime.timezone.utc), open=110.9535, high=110.954, low=110.952, close=110.952, volume=-1, wap=-1.0, count=-1)\n",
      "RealTimeBar(time=datetime.datetime(2018, 8, 8, 21, 25, 20, tzinfo=datetime.timezone.utc), open=110.952, high=110.956, low=110.952, close=110.954, volume=-1, wap=-1.0, count=-1)\n",
      "RealTimeBar(time=datetime.datetime(2018, 8, 8, 21, 25, 25, tzinfo=datetime.timezone.utc), open=110.954, high=110.956, low=110.953, close=110.9545, volume=-1, wap=-1.0, count=-1)\n",
      "RealTimeBar(time=datetime.datetime(2018, 8, 8, 21, 25, 30, tzinfo=datetime.timezone.utc), open=110.9545, high=110.956, low=110.9545, close=110.9555, volume=-1, wap=-1.0, count=-1)\n",
      "RealTimeBar(time=datetime.datetime(2018, 8, 8, 21, 25, 35, tzinfo=datetime.timezone.utc), open=110.9555, high=110.956, low=110.955, close=110.955, volume=-1, wap=-1.0, count=-1)\n",
      "RealTimeBar(time=datetime.datetime(2018, 8, 8, 21, 25, 40, tzinfo=datetime.timezone.utc), open=110.955, high=110.956, low=110.9535, close=110.955, volume=-1, wap=-1.0, count=-1)\n",
      "RealTimeBar(time=datetime.datetime(2018, 8, 8, 21, 25, 45, tzinfo=datetime.timezone.utc), open=110.955, high=110.955, low=110.9535, close=110.954, volume=-1, wap=-1.0, count=-1)\n",
      "RealTimeBar(time=datetime.datetime(2018, 8, 8, 21, 25, 50, tzinfo=datetime.timezone.utc), open=110.954, high=110.956, low=110.953, close=110.954, volume=-1, wap=-1.0, count=-1)\n",
      "RealTimeBar(time=datetime.datetime(2018, 8, 8, 21, 25, 55, tzinfo=datetime.timezone.utc), open=110.954, high=110.9555, low=110.9535, close=110.954, volume=-1, wap=-1.0, count=-1)\n",
      "RealTimeBar(time=datetime.datetime(2018, 8, 8, 21, 26, tzinfo=datetime.timezone.utc), open=110.954, high=110.959, low=110.954, close=110.958, volume=-1, wap=-1.0, count=-1)\n",
      "RealTimeBar(time=datetime.datetime(2018, 8, 8, 21, 26, 5, tzinfo=datetime.timezone.utc), open=110.958, high=110.9595, low=110.955, close=110.9585, volume=-1, wap=-1.0, count=-1)\n",
      "RealTimeBar(time=datetime.datetime(2018, 8, 8, 21, 26, 10, tzinfo=datetime.timezone.utc), open=110.9585, high=110.9605, low=110.956, close=110.958, volume=-1, wap=-1.0, count=-1)\n",
      "RealTimeBar(time=datetime.datetime(2018, 8, 8, 21, 26, 15, tzinfo=datetime.timezone.utc), open=110.958, high=110.959, low=110.9545, close=110.956, volume=-1, wap=-1.0, count=-1)\n",
      "RealTimeBar(time=datetime.datetime(2018, 8, 8, 21, 26, 20, tzinfo=datetime.timezone.utc), open=110.956, high=110.958, low=110.954, close=110.955, volume=-1, wap=-1.0, count=-1)\n",
      "RealTimeBar(time=datetime.datetime(2018, 8, 8, 21, 26, 25, tzinfo=datetime.timezone.utc), open=110.955, high=110.9575, low=110.955, close=110.957, volume=-1, wap=-1.0, count=-1)\n",
      "RealTimeBar(time=datetime.datetime(2018, 8, 8, 21, 26, 30, tzinfo=datetime.timezone.utc), open=110.957, high=110.957, low=110.954, close=110.9565, volume=-1, wap=-1.0, count=-1)\n",
      "RealTimeBar(time=datetime.datetime(2018, 8, 8, 21, 26, 35, tzinfo=datetime.timezone.utc), open=110.9565, high=110.9585, low=110.9545, close=110.957, volume=-1, wap=-1.0, count=-1)\n",
      "RealTimeBar(time=datetime.datetime(2018, 8, 8, 21, 26, 40, tzinfo=datetime.timezone.utc), open=110.957, high=110.961, low=110.9555, close=110.9595, volume=-1, wap=-1.0, count=-1)\n",
      "RealTimeBar(time=datetime.datetime(2018, 8, 8, 21, 26, 45, tzinfo=datetime.timezone.utc), open=110.9595, high=110.961, low=110.9555, close=110.9585, volume=-1, wap=-1.0, count=-1)\n",
      "RealTimeBar(time=datetime.datetime(2018, 8, 8, 21, 26, 50, tzinfo=datetime.timezone.utc), open=110.9585, high=110.961, low=110.9545, close=110.9565, volume=-1, wap=-1.0, count=-1)\n",
      "RealTimeBar(time=datetime.datetime(2018, 8, 8, 21, 26, 55, tzinfo=datetime.timezone.utc), open=110.9565, high=110.959, low=110.954, close=110.9585, volume=-1, wap=-1.0, count=-1)\n",
      "RealTimeBar(time=datetime.datetime(2018, 8, 8, 21, 27, tzinfo=datetime.timezone.utc), open=110.9585, high=110.9585, low=110.954, close=110.9565, volume=-1, wap=-1.0, count=-1)\n",
      "RealTimeBar(time=datetime.datetime(2018, 8, 8, 21, 27, 5, tzinfo=datetime.timezone.utc), open=110.9565, high=110.958, low=110.954, close=110.9545, volume=-1, wap=-1.0, count=-1)\n",
      "RealTimeBar(time=datetime.datetime(2018, 8, 8, 21, 27, 10, tzinfo=datetime.timezone.utc), open=110.9545, high=110.958, low=110.9545, close=110.9565, volume=-1, wap=-1.0, count=-1)\n",
      "RealTimeBar(time=datetime.datetime(2018, 8, 8, 21, 27, 15, tzinfo=datetime.timezone.utc), open=110.9565, high=110.9575, low=110.954, close=110.956, volume=-1, wap=-1.0, count=-1)\n",
      "RealTimeBar(time=datetime.datetime(2018, 8, 8, 21, 27, 20, tzinfo=datetime.timezone.utc), open=110.956, high=110.956, low=110.953, close=110.9545, volume=-1, wap=-1.0, count=-1)\n",
      "RealTimeBar(time=datetime.datetime(2018, 8, 8, 21, 27, 25, tzinfo=datetime.timezone.utc), open=110.9545, high=110.9555, low=110.953, close=110.9545, volume=-1, wap=-1.0, count=-1)\n"
     ]
    }
   ],
   "source": [
    "[ticker_details] = ib.reqTickers(contract)"
   ]
  },
  {
   "cell_type": "code",
   "execution_count": 95,
   "metadata": {},
   "outputs": [
    {
     "name": "stdout",
     "output_type": "stream",
     "text": [
      "RealTimeBar(time=datetime.datetime(2018, 8, 8, 21, 27, 30, tzinfo=datetime.timezone.utc), open=110.9545, high=110.9555, low=110.9525, close=110.9545, volume=-1, wap=-1.0, count=-1)\n",
      "RealTimeBar(time=datetime.datetime(2018, 8, 8, 21, 27, 35, tzinfo=datetime.timezone.utc), open=110.9545, high=110.958, low=110.954, close=110.9565, volume=-1, wap=-1.0, count=-1)\n",
      "RealTimeBar(time=datetime.datetime(2018, 8, 8, 21, 27, 40, tzinfo=datetime.timezone.utc), open=110.9565, high=110.9585, low=110.955, close=110.9555, volume=-1, wap=-1.0, count=-1)\n",
      "RealTimeBar(time=datetime.datetime(2018, 8, 8, 21, 27, 45, tzinfo=datetime.timezone.utc), open=110.9555, high=110.9585, low=110.9545, close=110.957, volume=-1, wap=-1.0, count=-1)\n",
      "RealTimeBar(time=datetime.datetime(2018, 8, 8, 21, 27, 50, tzinfo=datetime.timezone.utc), open=110.957, high=110.9585, low=110.955, close=110.9565, volume=-1, wap=-1.0, count=-1)\n",
      "RealTimeBar(time=datetime.datetime(2018, 8, 8, 21, 27, 55, tzinfo=datetime.timezone.utc), open=110.9565, high=110.96, low=110.954, close=110.955, volume=-1, wap=-1.0, count=-1)\n",
      "RealTimeBar(time=datetime.datetime(2018, 8, 8, 21, 28, tzinfo=datetime.timezone.utc), open=110.955, high=110.9565, low=110.954, close=110.955, volume=-1, wap=-1.0, count=-1)\n",
      "RealTimeBar(time=datetime.datetime(2018, 8, 8, 21, 28, 5, tzinfo=datetime.timezone.utc), open=110.955, high=110.9565, low=110.954, close=110.956, volume=-1, wap=-1.0, count=-1)\n",
      "RealTimeBar(time=datetime.datetime(2018, 8, 8, 21, 28, 10, tzinfo=datetime.timezone.utc), open=110.956, high=110.9575, low=110.955, close=110.9555, volume=-1, wap=-1.0, count=-1)\n",
      "RealTimeBar(time=datetime.datetime(2018, 8, 8, 21, 28, 15, tzinfo=datetime.timezone.utc), open=110.9555, high=110.961, low=110.9545, close=110.956, volume=-1, wap=-1.0, count=-1)\n",
      "RealTimeBar(time=datetime.datetime(2018, 8, 8, 21, 28, 20, tzinfo=datetime.timezone.utc), open=110.956, high=110.9605, low=110.952, close=110.952, volume=-1, wap=-1.0, count=-1)\n",
      "RealTimeBar(time=datetime.datetime(2018, 8, 8, 21, 28, 25, tzinfo=datetime.timezone.utc), open=110.952, high=110.954, low=110.949, close=110.95, volume=-1, wap=-1.0, count=-1)\n",
      "RealTimeBar(time=datetime.datetime(2018, 8, 8, 21, 28, 30, tzinfo=datetime.timezone.utc), open=110.95, high=110.951, low=110.949, close=110.9495, volume=-1, wap=-1.0, count=-1)\n",
      "RealTimeBar(time=datetime.datetime(2018, 8, 8, 21, 28, 35, tzinfo=datetime.timezone.utc), open=110.9495, high=110.9515, low=110.9485, close=110.949, volume=-1, wap=-1.0, count=-1)\n",
      "RealTimeBar(time=datetime.datetime(2018, 8, 8, 21, 28, 40, tzinfo=datetime.timezone.utc), open=110.949, high=110.9505, low=110.9475, close=110.9485, volume=-1, wap=-1.0, count=-1)\n",
      "RealTimeBar(time=datetime.datetime(2018, 8, 8, 21, 28, 45, tzinfo=datetime.timezone.utc), open=110.9485, high=110.951, low=110.948, close=110.9485, volume=-1, wap=-1.0, count=-1)\n",
      "RealTimeBar(time=datetime.datetime(2018, 8, 8, 21, 28, 50, tzinfo=datetime.timezone.utc), open=110.9485, high=110.95, low=110.9475, close=110.949, volume=-1, wap=-1.0, count=-1)\n",
      "RealTimeBar(time=datetime.datetime(2018, 8, 8, 21, 28, 55, tzinfo=datetime.timezone.utc), open=110.949, high=110.95, low=110.9485, close=110.95, volume=-1, wap=-1.0, count=-1)\n",
      "RealTimeBar(time=datetime.datetime(2018, 8, 8, 21, 29, tzinfo=datetime.timezone.utc), open=110.95, high=110.95, low=110.9495, close=110.95, volume=-1, wap=-1.0, count=-1)\n",
      "RealTimeBar(time=datetime.datetime(2018, 8, 8, 21, 29, 5, tzinfo=datetime.timezone.utc), open=110.95, high=110.95, low=110.9495, close=110.95, volume=-1, wap=-1.0, count=-1)\n",
      "RealTimeBar(time=datetime.datetime(2018, 8, 8, 21, 29, 10, tzinfo=datetime.timezone.utc), open=110.95, high=110.95, low=110.948, close=110.9485, volume=-1, wap=-1.0, count=-1)\n",
      "RealTimeBar(time=datetime.datetime(2018, 8, 8, 21, 29, 15, tzinfo=datetime.timezone.utc), open=110.9485, high=110.95, low=110.947, close=110.9475, volume=-1, wap=-1.0, count=-1)\n",
      "RealTimeBar(time=datetime.datetime(2018, 8, 8, 21, 29, 20, tzinfo=datetime.timezone.utc), open=110.9475, high=110.9505, low=110.9475, close=110.949, volume=-1, wap=-1.0, count=-1)\n",
      "RealTimeBar(time=datetime.datetime(2018, 8, 8, 21, 29, 25, tzinfo=datetime.timezone.utc), open=110.949, high=110.95, low=110.948, close=110.95, volume=-1, wap=-1.0, count=-1)\n",
      "RealTimeBar(time=datetime.datetime(2018, 8, 8, 21, 29, 30, tzinfo=datetime.timezone.utc), open=110.95, high=110.9505, low=110.9485, close=110.9495, volume=-1, wap=-1.0, count=-1)\n",
      "RealTimeBar(time=datetime.datetime(2018, 8, 8, 21, 29, 35, tzinfo=datetime.timezone.utc), open=110.9495, high=110.9505, low=110.9485, close=110.9505, volume=-1, wap=-1.0, count=-1)\n",
      "RealTimeBar(time=datetime.datetime(2018, 8, 8, 21, 29, 40, tzinfo=datetime.timezone.utc), open=110.9505, high=110.9505, low=110.9475, close=110.9495, volume=-1, wap=-1.0, count=-1)\n",
      "RealTimeBar(time=datetime.datetime(2018, 8, 8, 21, 29, 45, tzinfo=datetime.timezone.utc), open=110.9495, high=110.9495, low=110.9485, close=110.9485, volume=-1, wap=-1.0, count=-1)\n",
      "RealTimeBar(time=datetime.datetime(2018, 8, 8, 21, 29, 50, tzinfo=datetime.timezone.utc), open=110.9485, high=110.9525, low=110.9485, close=110.9515, volume=-1, wap=-1.0, count=-1)\n",
      "RealTimeBar(time=datetime.datetime(2018, 8, 8, 21, 29, 55, tzinfo=datetime.timezone.utc), open=110.9515, high=110.952, low=110.949, close=110.95, volume=-1, wap=-1.0, count=-1)\n",
      "RealTimeBar(time=datetime.datetime(2018, 8, 8, 21, 30, tzinfo=datetime.timezone.utc), open=110.95, high=110.953, low=110.947, close=110.948, volume=-1, wap=-1.0, count=-1)\n",
      "RealTimeBar(time=datetime.datetime(2018, 8, 8, 21, 30, 5, tzinfo=datetime.timezone.utc), open=110.948, high=110.953, low=110.9465, close=110.9525, volume=-1, wap=-1.0, count=-1)\n",
      "RealTimeBar(time=datetime.datetime(2018, 8, 8, 21, 30, 10, tzinfo=datetime.timezone.utc), open=110.9525, high=110.956, low=110.9475, close=110.9535, volume=-1, wap=-1.0, count=-1)\n",
      "RealTimeBar(time=datetime.datetime(2018, 8, 8, 21, 30, 15, tzinfo=datetime.timezone.utc), open=110.9535, high=110.9555, low=110.9505, close=110.953, volume=-1, wap=-1.0, count=-1)\n",
      "RealTimeBar(time=datetime.datetime(2018, 8, 8, 21, 30, 20, tzinfo=datetime.timezone.utc), open=110.953, high=110.9555, low=110.95, close=110.9525, volume=-1, wap=-1.0, count=-1)\n",
      "RealTimeBar(time=datetime.datetime(2018, 8, 8, 21, 30, 25, tzinfo=datetime.timezone.utc), open=110.9525, high=110.956, low=110.9485, close=110.9525, volume=-1, wap=-1.0, count=-1)\n",
      "RealTimeBar(time=datetime.datetime(2018, 8, 8, 21, 30, 30, tzinfo=datetime.timezone.utc), open=110.9525, high=110.957, low=110.95, close=110.953, volume=-1, wap=-1.0, count=-1)\n",
      "RealTimeBar(time=datetime.datetime(2018, 8, 8, 21, 30, 35, tzinfo=datetime.timezone.utc), open=110.953, high=110.9535, low=110.951, close=110.952, volume=-1, wap=-1.0, count=-1)\n",
      "RealTimeBar(time=datetime.datetime(2018, 8, 8, 21, 30, 40, tzinfo=datetime.timezone.utc), open=110.952, high=110.9535, low=110.9505, close=110.9525, volume=-1, wap=-1.0, count=-1)\n",
      "RealTimeBar(time=datetime.datetime(2018, 8, 8, 21, 30, 45, tzinfo=datetime.timezone.utc), open=110.9525, high=110.9535, low=110.951, close=110.9515, volume=-1, wap=-1.0, count=-1)\n",
      "RealTimeBar(time=datetime.datetime(2018, 8, 8, 21, 30, 50, tzinfo=datetime.timezone.utc), open=110.9515, high=110.9535, low=110.9505, close=110.951, volume=-1, wap=-1.0, count=-1)\n",
      "RealTimeBar(time=datetime.datetime(2018, 8, 8, 21, 30, 55, tzinfo=datetime.timezone.utc), open=110.951, high=110.954, low=110.9505, close=110.9525, volume=-1, wap=-1.0, count=-1)\n",
      "RealTimeBar(time=datetime.datetime(2018, 8, 8, 21, 31, tzinfo=datetime.timezone.utc), open=110.9525, high=110.9585, low=110.95, close=110.951, volume=-1, wap=-1.0, count=-1)\n",
      "RealTimeBar(time=datetime.datetime(2018, 8, 8, 21, 31, 5, tzinfo=datetime.timezone.utc), open=110.951, high=110.9545, low=110.949, close=110.9505, volume=-1, wap=-1.0, count=-1)\n",
      "RealTimeBar(time=datetime.datetime(2018, 8, 8, 21, 31, 10, tzinfo=datetime.timezone.utc), open=110.9505, high=110.955, low=110.95, close=110.9525, volume=-1, wap=-1.0, count=-1)\n",
      "RealTimeBar(time=datetime.datetime(2018, 8, 8, 21, 31, 15, tzinfo=datetime.timezone.utc), open=110.9525, high=110.955, low=110.9505, close=110.9505, volume=-1, wap=-1.0, count=-1)\n"
     ]
    },
    {
     "name": "stdout",
     "output_type": "stream",
     "text": [
      "RealTimeBar(time=datetime.datetime(2018, 8, 8, 21, 31, 20, tzinfo=datetime.timezone.utc), open=110.9505, high=110.955, low=110.95, close=110.9505, volume=-1, wap=-1.0, count=-1)\n",
      "RealTimeBar(time=datetime.datetime(2018, 8, 8, 21, 31, 25, tzinfo=datetime.timezone.utc), open=110.9505, high=110.9555, low=110.95, close=110.9525, volume=-1, wap=-1.0, count=-1)\n",
      "RealTimeBar(time=datetime.datetime(2018, 8, 8, 21, 31, 30, tzinfo=datetime.timezone.utc), open=110.9525, high=110.957, low=110.95, close=110.9515, volume=-1, wap=-1.0, count=-1)\n",
      "RealTimeBar(time=datetime.datetime(2018, 8, 8, 21, 31, 35, tzinfo=datetime.timezone.utc), open=110.9515, high=110.955, low=110.951, close=110.953, volume=-1, wap=-1.0, count=-1)\n",
      "RealTimeBar(time=datetime.datetime(2018, 8, 8, 21, 31, 40, tzinfo=datetime.timezone.utc), open=110.953, high=110.9565, low=110.9505, close=110.951, volume=-1, wap=-1.0, count=-1)\n",
      "RealTimeBar(time=datetime.datetime(2018, 8, 8, 21, 31, 45, tzinfo=datetime.timezone.utc), open=110.951, high=110.9565, low=110.951, close=110.953, volume=-1, wap=-1.0, count=-1)\n",
      "RealTimeBar(time=datetime.datetime(2018, 8, 8, 21, 31, 50, tzinfo=datetime.timezone.utc), open=110.953, high=110.957, low=110.9515, close=110.9545, volume=-1, wap=-1.0, count=-1)\n",
      "RealTimeBar(time=datetime.datetime(2018, 8, 8, 21, 31, 55, tzinfo=datetime.timezone.utc), open=110.9545, high=110.957, low=110.9525, close=110.9535, volume=-1, wap=-1.0, count=-1)\n",
      "RealTimeBar(time=datetime.datetime(2018, 8, 8, 21, 32, tzinfo=datetime.timezone.utc), open=110.9535, high=110.958, low=110.951, close=110.9555, volume=-1, wap=-1.0, count=-1)\n",
      "RealTimeBar(time=datetime.datetime(2018, 8, 8, 21, 32, 5, tzinfo=datetime.timezone.utc), open=110.9555, high=110.958, low=110.951, close=110.9535, volume=-1, wap=-1.0, count=-1)\n",
      "RealTimeBar(time=datetime.datetime(2018, 8, 8, 21, 32, 10, tzinfo=datetime.timezone.utc), open=110.9535, high=110.957, low=110.9495, close=110.9545, volume=-1, wap=-1.0, count=-1)\n",
      "RealTimeBar(time=datetime.datetime(2018, 8, 8, 21, 32, 15, tzinfo=datetime.timezone.utc), open=110.9545, high=110.9565, low=110.95, close=110.953, volume=-1, wap=-1.0, count=-1)\n",
      "RealTimeBar(time=datetime.datetime(2018, 8, 8, 21, 32, 20, tzinfo=datetime.timezone.utc), open=110.953, high=110.9565, low=110.9495, close=110.953, volume=-1, wap=-1.0, count=-1)\n",
      "RealTimeBar(time=datetime.datetime(2018, 8, 8, 21, 32, 25, tzinfo=datetime.timezone.utc), open=110.953, high=110.957, low=110.9495, close=110.951, volume=-1, wap=-1.0, count=-1)\n",
      "RealTimeBar(time=datetime.datetime(2018, 8, 8, 21, 32, 30, tzinfo=datetime.timezone.utc), open=110.951, high=110.958, low=110.9495, close=110.951, volume=-1, wap=-1.0, count=-1)\n",
      "RealTimeBar(time=datetime.datetime(2018, 8, 8, 21, 32, 35, tzinfo=datetime.timezone.utc), open=110.951, high=110.9615, low=110.95, close=110.952, volume=-1, wap=-1.0, count=-1)\n",
      "RealTimeBar(time=datetime.datetime(2018, 8, 8, 21, 32, 40, tzinfo=datetime.timezone.utc), open=110.952, high=110.961, low=110.9505, close=110.956, volume=-1, wap=-1.0, count=-1)\n",
      "RealTimeBar(time=datetime.datetime(2018, 8, 8, 21, 32, 45, tzinfo=datetime.timezone.utc), open=110.956, high=110.959, low=110.9515, close=110.9535, volume=-1, wap=-1.0, count=-1)\n",
      "RealTimeBar(time=datetime.datetime(2018, 8, 8, 21, 32, 50, tzinfo=datetime.timezone.utc), open=110.9535, high=110.96, low=110.9485, close=110.953, volume=-1, wap=-1.0, count=-1)\n",
      "RealTimeBar(time=datetime.datetime(2018, 8, 8, 21, 32, 55, tzinfo=datetime.timezone.utc), open=110.953, high=110.954, low=110.9485, close=110.9515, volume=-1, wap=-1.0, count=-1)\n",
      "RealTimeBar(time=datetime.datetime(2018, 8, 8, 21, 33, tzinfo=datetime.timezone.utc), open=110.9515, high=110.9525, low=110.947, close=110.949, volume=-1, wap=-1.0, count=-1)\n",
      "RealTimeBar(time=datetime.datetime(2018, 8, 8, 21, 33, 5, tzinfo=datetime.timezone.utc), open=110.949, high=110.961, low=110.947, close=110.9525, volume=-1, wap=-1.0, count=-1)\n",
      "RealTimeBar(time=datetime.datetime(2018, 8, 8, 21, 33, 10, tzinfo=datetime.timezone.utc), open=110.9525, high=110.9575, low=110.9505, close=110.9545, volume=-1, wap=-1.0, count=-1)\n",
      "RealTimeBar(time=datetime.datetime(2018, 8, 8, 21, 33, 15, tzinfo=datetime.timezone.utc), open=110.9545, high=110.9585, low=110.951, close=110.9545, volume=-1, wap=-1.0, count=-1)\n"
     ]
    }
   ],
   "source": [
    "import datetime\n",
    "\n",
    "def isFriday(date):\n",
    "    y = int(date[0:4])\n",
    "    m = int(date[4:6])    \n",
    "    d = int(date[6:8])    \n",
    "    dd = datetime.date(y,m,d)\n",
    "    return dd.weekday() == 4 and dd > datetime.date.today()\n"
   ]
  },
  {
   "cell_type": "code",
   "execution_count": 97,
   "metadata": {
    "scrolled": true
   },
   "outputs": [
    {
     "name": "stdout",
     "output_type": "stream",
     "text": [
      "48\n",
      "\n",
      "Option(conId=324254514, symbol='SPY', lastTradeDateOrContractMonth='20180810', strike=270.0, right='P', multiplier='100', exchange='SMART', currency='USD', localSymbol='SPY   180810P00270000', tradingClass='SPY')\n",
      "RealTimeBar(time=datetime.datetime(2018, 8, 8, 21, 34, 15, tzinfo=datetime.timezone.utc), open=110.955, high=110.9595, low=110.9525, close=110.955, volume=-1, wap=-1.0, count=-1)\n",
      "RealTimeBar(time=datetime.datetime(2018, 8, 8, 21, 34, 20, tzinfo=datetime.timezone.utc), open=110.955, high=110.9615, low=110.9525, close=110.954, volume=-1, wap=-1.0, count=-1)\n",
      "RealTimeBar(time=datetime.datetime(2018, 8, 8, 21, 34, 25, tzinfo=datetime.timezone.utc), open=110.954, high=110.9595, low=110.9525, close=110.953, volume=-1, wap=-1.0, count=-1)\n",
      "RealTimeBar(time=datetime.datetime(2018, 8, 8, 21, 34, 30, tzinfo=datetime.timezone.utc), open=110.953, high=110.959, low=110.9525, close=110.955, volume=-1, wap=-1.0, count=-1)\n",
      "RealTimeBar(time=datetime.datetime(2018, 8, 8, 21, 34, 35, tzinfo=datetime.timezone.utc), open=110.955, high=110.9565, low=110.952, close=110.954, volume=-1, wap=-1.0, count=-1)\n",
      "RealTimeBar(time=datetime.datetime(2018, 8, 8, 21, 34, 40, tzinfo=datetime.timezone.utc), open=110.954, high=110.9565, low=110.9525, close=110.9525, volume=-1, wap=-1.0, count=-1)\n",
      "RealTimeBar(time=datetime.datetime(2018, 8, 8, 21, 34, 45, tzinfo=datetime.timezone.utc), open=110.9525, high=110.9555, low=110.9485, close=110.9495, volume=-1, wap=-1.0, count=-1)\n",
      "RealTimeBar(time=datetime.datetime(2018, 8, 8, 21, 34, 50, tzinfo=datetime.timezone.utc), open=110.9495, high=110.9495, low=110.9495, close=110.9495, volume=-1, wap=-1.0, count=-1)\n",
      "RealTimeBar(time=datetime.datetime(2018, 8, 8, 21, 34, 55, tzinfo=datetime.timezone.utc), open=110.9495, high=110.9495, low=110.9465, close=110.947, volume=-1, wap=-1.0, count=-1)\n",
      "RealTimeBar(time=datetime.datetime(2018, 8, 8, 21, 35, tzinfo=datetime.timezone.utc), open=110.947, high=110.9535, low=110.946, close=110.953, volume=-1, wap=-1.0, count=-1)\n",
      "RealTimeBar(time=datetime.datetime(2018, 8, 8, 21, 35, 5, tzinfo=datetime.timezone.utc), open=110.953, high=110.954, low=110.952, close=110.9525, volume=-1, wap=-1.0, count=-1)\n",
      "RealTimeBar(time=datetime.datetime(2018, 8, 8, 21, 35, 10, tzinfo=datetime.timezone.utc), open=110.9525, high=110.9545, low=110.9495, close=110.9505, volume=-1, wap=-1.0, count=-1)\n",
      "RealTimeBar(time=datetime.datetime(2018, 8, 8, 21, 35, 15, tzinfo=datetime.timezone.utc), open=110.9505, high=110.952, low=110.949, close=110.952, volume=-1, wap=-1.0, count=-1)\n",
      "RealTimeBar(time=datetime.datetime(2018, 8, 8, 21, 35, 20, tzinfo=datetime.timezone.utc), open=110.952, high=110.953, low=110.949, close=110.9515, volume=-1, wap=-1.0, count=-1)\n",
      "RealTimeBar(time=datetime.datetime(2018, 8, 8, 21, 35, 25, tzinfo=datetime.timezone.utc), open=110.9515, high=110.953, low=110.949, close=110.9515, volume=-1, wap=-1.0, count=-1)\n",
      "RealTimeBar(time=datetime.datetime(2018, 8, 8, 21, 35, 30, tzinfo=datetime.timezone.utc), open=110.9515, high=110.952, low=110.949, close=110.951, volume=-1, wap=-1.0, count=-1)\n",
      "RealTimeBar(time=datetime.datetime(2018, 8, 8, 21, 35, 35, tzinfo=datetime.timezone.utc), open=110.951, high=110.9525, low=110.95, close=110.9505, volume=-1, wap=-1.0, count=-1)\n",
      "RealTimeBar(time=datetime.datetime(2018, 8, 8, 21, 35, 40, tzinfo=datetime.timezone.utc), open=110.9505, high=110.9525, low=110.949, close=110.951, volume=-1, wap=-1.0, count=-1)\n",
      "RealTimeBar(time=datetime.datetime(2018, 8, 8, 21, 35, 45, tzinfo=datetime.timezone.utc), open=110.951, high=110.953, low=110.949, close=110.9525, volume=-1, wap=-1.0, count=-1)\n",
      "RealTimeBar(time=datetime.datetime(2018, 8, 8, 21, 35, 50, tzinfo=datetime.timezone.utc), open=110.9525, high=110.953, low=110.952, close=110.9525, volume=-1, wap=-1.0, count=-1)\n",
      "RealTimeBar(time=datetime.datetime(2018, 8, 8, 21, 35, 55, tzinfo=datetime.timezone.utc), open=110.9525, high=110.9525, low=110.952, close=110.952, volume=-1, wap=-1.0, count=-1)\n",
      "RealTimeBar(time=datetime.datetime(2018, 8, 8, 21, 36, tzinfo=datetime.timezone.utc), open=110.952, high=110.9525, low=110.947, close=110.949, volume=-1, wap=-1.0, count=-1)\n",
      "RealTimeBar(time=datetime.datetime(2018, 8, 8, 21, 36, 5, tzinfo=datetime.timezone.utc), open=110.949, high=110.9525, low=110.947, close=110.948, volume=-1, wap=-1.0, count=-1)\n",
      "RealTimeBar(time=datetime.datetime(2018, 8, 8, 21, 36, 10, tzinfo=datetime.timezone.utc), open=110.948, high=110.9525, low=110.947, close=110.9485, volume=-1, wap=-1.0, count=-1)\n",
      "RealTimeBar(time=datetime.datetime(2018, 8, 8, 21, 36, 15, tzinfo=datetime.timezone.utc), open=110.9485, high=110.9525, low=110.947, close=110.9475, volume=-1, wap=-1.0, count=-1)\n",
      "RealTimeBar(time=datetime.datetime(2018, 8, 8, 21, 36, 20, tzinfo=datetime.timezone.utc), open=110.9475, high=110.9525, low=110.947, close=110.948, volume=-1, wap=-1.0, count=-1)\n",
      "RealTimeBar(time=datetime.datetime(2018, 8, 8, 21, 36, 25, tzinfo=datetime.timezone.utc), open=110.948, high=110.9525, low=110.947, close=110.9475, volume=-1, wap=-1.0, count=-1)\n",
      "RealTimeBar(time=datetime.datetime(2018, 8, 8, 21, 36, 30, tzinfo=datetime.timezone.utc), open=110.9475, high=110.952, low=110.947, close=110.949, volume=-1, wap=-1.0, count=-1)\n",
      "RealTimeBar(time=datetime.datetime(2018, 8, 8, 21, 36, 35, tzinfo=datetime.timezone.utc), open=110.949, high=110.9525, low=110.947, close=110.949, volume=-1, wap=-1.0, count=-1)\n",
      "RealTimeBar(time=datetime.datetime(2018, 8, 8, 21, 36, 40, tzinfo=datetime.timezone.utc), open=110.949, high=110.952, low=110.9455, close=110.947, volume=-1, wap=-1.0, count=-1)\n",
      "RealTimeBar(time=datetime.datetime(2018, 8, 8, 21, 36, 45, tzinfo=datetime.timezone.utc), open=110.947, high=110.948, low=110.939, close=110.941, volume=-1, wap=-1.0, count=-1)\n"
     ]
    }
   ],
   "source": [
    "strikes = [strike for strike in chain.strikes if \n",
    "           strike % 5 == 0 and \n",
    "            ticker_details.marketPrice() - 20 < strike < ticker_details.marketPrice() + 20]\n",
    "expirations = sorted(exp for exp in chain.expirations if isFriday(exp))[:3]\n",
    "rights = ['P','C']\n",
    "\n",
    "contracts = [Option(ticker, expiration, strike, right, 'SMART')\n",
    "             for right in rights for expiration in expirations for strike in strikes]\n",
    "\n",
    "ib.qualifyContracts(*contracts)\n",
    "\n",
    "print(len(contracts))\n",
    "print()\n",
    "print(contracts[0])"
   ]
  },
  {
   "cell_type": "code",
   "execution_count": 102,
   "metadata": {},
   "outputs": [
    {
     "name": "stdout",
     "output_type": "stream",
     "text": [
      "RealTimeBar(time=datetime.datetime(2018, 8, 8, 21, 43, 5, tzinfo=datetime.timezone.utc), open=110.925, high=110.925, low=110.924, close=110.924, volume=-1, wap=-1.0, count=-1)\n",
      "RealTimeBar(time=datetime.datetime(2018, 8, 8, 21, 43, 10, tzinfo=datetime.timezone.utc), open=110.924, high=110.924, low=110.924, close=110.924, volume=-1, wap=-1.0, count=-1)\n"
     ]
    },
    {
     "data": {
      "text/plain": [
       "Ticker(contract=Option(conId=324945729, symbol='SPY', lastTradeDateOrContractMonth='20180824', strike=305.0, right='C', multiplier='100', exchange='SMART', currency='USD', localSymbol='SPY   180824C00305000', tradingClass='SPY'), time=datetime.datetime(2018, 8, 8, 21, 43, 8, 87828, tzinfo=datetime.timezone.utc), bid=-1.0, bidSize=0, ask=-1.0, askSize=0, close=0.01, ticks=[], tickByTicks=[], domBids=[], domAsks=[], domTicks=[])"
      ]
     },
     "execution_count": 102,
     "metadata": {},
     "output_type": "execute_result"
    },
    {
     "name": "stdout",
     "output_type": "stream",
     "text": [
      "RealTimeBar(time=datetime.datetime(2018, 8, 8, 21, 43, 15, tzinfo=datetime.timezone.utc), open=110.924, high=110.924, low=110.923, close=110.923, volume=-1, wap=-1.0, count=-1)\n",
      "RealTimeBar(time=datetime.datetime(2018, 8, 8, 21, 43, 20, tzinfo=datetime.timezone.utc), open=110.923, high=110.927, low=110.9225, close=110.926, volume=-1, wap=-1.0, count=-1)\n",
      "RealTimeBar(time=datetime.datetime(2018, 8, 8, 21, 43, 25, tzinfo=datetime.timezone.utc), open=110.926, high=110.926, low=110.926, close=110.926, volume=-1, wap=-1.0, count=-1)\n",
      "RealTimeBar(time=datetime.datetime(2018, 8, 8, 21, 43, 30, tzinfo=datetime.timezone.utc), open=110.926, high=110.926, low=110.9215, close=110.9225, volume=-1, wap=-1.0, count=-1)\n",
      "RealTimeBar(time=datetime.datetime(2018, 8, 8, 21, 43, 35, tzinfo=datetime.timezone.utc), open=110.9225, high=110.924, low=110.9215, close=110.9235, volume=-1, wap=-1.0, count=-1)\n",
      "RealTimeBar(time=datetime.datetime(2018, 8, 8, 21, 43, 40, tzinfo=datetime.timezone.utc), open=110.9235, high=110.924, low=110.9225, close=110.923, volume=-1, wap=-1.0, count=-1)\n",
      "RealTimeBar(time=datetime.datetime(2018, 8, 8, 21, 43, 45, tzinfo=datetime.timezone.utc), open=110.923, high=110.924, low=110.922, close=110.9235, volume=-1, wap=-1.0, count=-1)\n",
      "RealTimeBar(time=datetime.datetime(2018, 8, 8, 21, 43, 50, tzinfo=datetime.timezone.utc), open=110.9235, high=110.924, low=110.923, close=110.9235, volume=-1, wap=-1.0, count=-1)\n",
      "RealTimeBar(time=datetime.datetime(2018, 8, 8, 21, 43, 55, tzinfo=datetime.timezone.utc), open=110.9235, high=110.924, low=110.922, close=110.922, volume=-1, wap=-1.0, count=-1)\n",
      "RealTimeBar(time=datetime.datetime(2018, 8, 8, 21, 44, tzinfo=datetime.timezone.utc), open=110.922, high=110.9225, low=110.922, close=110.922, volume=-1, wap=-1.0, count=-1)\n",
      "RealTimeBar(time=datetime.datetime(2018, 8, 8, 21, 44, 5, tzinfo=datetime.timezone.utc), open=110.922, high=110.923, low=110.922, close=110.9225, volume=-1, wap=-1.0, count=-1)\n",
      "RealTimeBar(time=datetime.datetime(2018, 8, 8, 21, 44, 10, tzinfo=datetime.timezone.utc), open=110.9225, high=110.9235, low=110.9205, close=110.9205, volume=-1, wap=-1.0, count=-1)\n",
      "RealTimeBar(time=datetime.datetime(2018, 8, 8, 21, 44, 15, tzinfo=datetime.timezone.utc), open=110.9205, high=110.924, low=110.9195, close=110.9205, volume=-1, wap=-1.0, count=-1)\n",
      "RealTimeBar(time=datetime.datetime(2018, 8, 8, 21, 44, 20, tzinfo=datetime.timezone.utc), open=110.9205, high=110.924, low=110.92, close=110.922, volume=-1, wap=-1.0, count=-1)\n",
      "RealTimeBar(time=datetime.datetime(2018, 8, 8, 21, 44, 25, tzinfo=datetime.timezone.utc), open=110.922, high=110.924, low=110.92, close=110.921, volume=-1, wap=-1.0, count=-1)\n",
      "RealTimeBar(time=datetime.datetime(2018, 8, 8, 21, 44, 30, tzinfo=datetime.timezone.utc), open=110.921, high=110.93, low=110.9195, close=110.9275, volume=-1, wap=-1.0, count=-1)\n",
      "RealTimeBar(time=datetime.datetime(2018, 8, 8, 21, 44, 35, tzinfo=datetime.timezone.utc), open=110.9275, high=110.93, low=110.925, close=110.9285, volume=-1, wap=-1.0, count=-1)\n"
     ]
    }
   ],
   "source": [
    "tickers_data = ib.reqTickers(*contracts)\n",
    "\n",
    "tickers_data[-1]"
   ]
  },
  {
   "cell_type": "code",
   "execution_count": 103,
   "metadata": {
    "scrolled": true
   },
   "outputs": [
    {
     "data": {
      "text/plain": [
       "Option(conId=324254645, symbol='SPY', lastTradeDateOrContractMonth='20180810', strike=305.0, right='P', multiplier='100', exchange='SMART', currency='USD', localSymbol='SPY   180810P00305000', tradingClass='SPY')"
      ]
     },
     "execution_count": 103,
     "metadata": {},
     "output_type": "execute_result"
    },
    {
     "name": "stdout",
     "output_type": "stream",
     "text": [
      "RealTimeBar(time=datetime.datetime(2018, 8, 8, 21, 44, 40, tzinfo=datetime.timezone.utc), open=110.9285, high=110.93, low=110.9245, close=110.9275, volume=-1, wap=-1.0, count=-1)\n",
      "RealTimeBar(time=datetime.datetime(2018, 8, 8, 21, 44, 45, tzinfo=datetime.timezone.utc), open=110.9275, high=110.931, low=110.9225, close=110.9255, volume=-1, wap=-1.0, count=-1)\n",
      "RealTimeBar(time=datetime.datetime(2018, 8, 8, 21, 44, 50, tzinfo=datetime.timezone.utc), open=110.9255, high=110.9295, low=110.9225, close=110.9275, volume=-1, wap=-1.0, count=-1)\n",
      "RealTimeBar(time=datetime.datetime(2018, 8, 8, 21, 44, 55, tzinfo=datetime.timezone.utc), open=110.9275, high=110.9275, low=110.9225, close=110.923, volume=-1, wap=-1.0, count=-1)\n",
      "RealTimeBar(time=datetime.datetime(2018, 8, 8, 21, 45, tzinfo=datetime.timezone.utc), open=110.923, high=110.9275, low=110.923, close=110.926, volume=-1, wap=-1.0, count=-1)\n",
      "RealTimeBar(time=datetime.datetime(2018, 8, 8, 21, 45, 5, tzinfo=datetime.timezone.utc), open=110.926, high=110.928, low=110.9235, close=110.9245, volume=-1, wap=-1.0, count=-1)\n",
      "RealTimeBar(time=datetime.datetime(2018, 8, 8, 21, 45, 10, tzinfo=datetime.timezone.utc), open=110.9245, high=110.927, low=110.923, close=110.9255, volume=-1, wap=-1.0, count=-1)\n",
      "RealTimeBar(time=datetime.datetime(2018, 8, 8, 21, 45, 15, tzinfo=datetime.timezone.utc), open=110.9255, high=110.9275, low=110.9235, close=110.925, volume=-1, wap=-1.0, count=-1)\n",
      "RealTimeBar(time=datetime.datetime(2018, 8, 8, 21, 45, 20, tzinfo=datetime.timezone.utc), open=110.925, high=110.928, low=110.925, close=110.928, volume=-1, wap=-1.0, count=-1)\n",
      "RealTimeBar(time=datetime.datetime(2018, 8, 8, 21, 45, 25, tzinfo=datetime.timezone.utc), open=110.928, high=110.928, low=110.9215, close=110.9235, volume=-1, wap=-1.0, count=-1)\n",
      "RealTimeBar(time=datetime.datetime(2018, 8, 8, 21, 45, 30, tzinfo=datetime.timezone.utc), open=110.9235, high=110.9255, low=110.922, close=110.9235, volume=-1, wap=-1.0, count=-1)\n",
      "RealTimeBar(time=datetime.datetime(2018, 8, 8, 21, 45, 35, tzinfo=datetime.timezone.utc), open=110.9235, high=110.924, low=110.9235, close=110.924, volume=-1, wap=-1.0, count=-1)\n",
      "RealTimeBar(time=datetime.datetime(2018, 8, 8, 21, 45, 40, tzinfo=datetime.timezone.utc), open=110.924, high=110.924, low=110.924, close=110.924, volume=-1, wap=-1.0, count=-1)\n",
      "RealTimeBar(time=datetime.datetime(2018, 8, 8, 21, 45, 45, tzinfo=datetime.timezone.utc), open=110.924, high=110.925, low=110.923, close=110.924, volume=-1, wap=-1.0, count=-1)\n",
      "RealTimeBar(time=datetime.datetime(2018, 8, 8, 21, 45, 50, tzinfo=datetime.timezone.utc), open=110.924, high=110.9255, low=110.9225, close=110.924, volume=-1, wap=-1.0, count=-1)\n",
      "RealTimeBar(time=datetime.datetime(2018, 8, 8, 21, 45, 55, tzinfo=datetime.timezone.utc), open=110.924, high=110.925, low=110.9225, close=110.9235, volume=-1, wap=-1.0, count=-1)\n",
      "RealTimeBar(time=datetime.datetime(2018, 8, 8, 21, 46, tzinfo=datetime.timezone.utc), open=110.9235, high=110.925, low=110.9225, close=110.9245, volume=-1, wap=-1.0, count=-1)\n",
      "RealTimeBar(time=datetime.datetime(2018, 8, 8, 21, 46, 5, tzinfo=datetime.timezone.utc), open=110.9245, high=110.925, low=110.9225, close=110.924, volume=-1, wap=-1.0, count=-1)\n",
      "RealTimeBar(time=datetime.datetime(2018, 8, 8, 21, 46, 10, tzinfo=datetime.timezone.utc), open=110.924, high=110.924, low=110.924, close=110.924, volume=-1, wap=-1.0, count=-1)\n",
      "RealTimeBar(time=datetime.datetime(2018, 8, 8, 21, 46, 15, tzinfo=datetime.timezone.utc), open=110.924, high=110.926, low=110.9225, close=110.9235, volume=-1, wap=-1.0, count=-1)\n",
      "RealTimeBar(time=datetime.datetime(2018, 8, 8, 21, 46, 20, tzinfo=datetime.timezone.utc), open=110.9235, high=110.9295, low=110.9225, close=110.9295, volume=-1, wap=-1.0, count=-1)\n",
      "RealTimeBar(time=datetime.datetime(2018, 8, 8, 21, 46, 25, tzinfo=datetime.timezone.utc), open=110.9295, high=110.9305, low=110.9255, close=110.927, volume=-1, wap=-1.0, count=-1)\n",
      "RealTimeBar(time=datetime.datetime(2018, 8, 8, 21, 46, 30, tzinfo=datetime.timezone.utc), open=110.927, high=110.9355, low=110.927, close=110.9355, volume=-1, wap=-1.0, count=-1)\n",
      "RealTimeBar(time=datetime.datetime(2018, 8, 8, 21, 46, 35, tzinfo=datetime.timezone.utc), open=110.9355, high=110.9355, low=110.932, close=110.9335, volume=-1, wap=-1.0, count=-1)\n",
      "RealTimeBar(time=datetime.datetime(2018, 8, 8, 21, 46, 40, tzinfo=datetime.timezone.utc), open=110.9335, high=110.936, low=110.9265, close=110.93, volume=-1, wap=-1.0, count=-1)\n",
      "RealTimeBar(time=datetime.datetime(2018, 8, 8, 21, 46, 45, tzinfo=datetime.timezone.utc), open=110.93, high=110.933, low=110.9265, close=110.93, volume=-1, wap=-1.0, count=-1)\n",
      "RealTimeBar(time=datetime.datetime(2018, 8, 8, 21, 46, 50, tzinfo=datetime.timezone.utc), open=110.93, high=110.9345, low=110.93, close=110.934, volume=-1, wap=-1.0, count=-1)\n",
      "RealTimeBar(time=datetime.datetime(2018, 8, 8, 21, 46, 55, tzinfo=datetime.timezone.utc), open=110.934, high=110.934, low=110.9295, close=110.9305, volume=-1, wap=-1.0, count=-1)\n",
      "RealTimeBar(time=datetime.datetime(2018, 8, 8, 21, 47, tzinfo=datetime.timezone.utc), open=110.9305, high=110.9365, low=110.93, close=110.9335, volume=-1, wap=-1.0, count=-1)\n",
      "RealTimeBar(time=datetime.datetime(2018, 8, 8, 21, 47, 5, tzinfo=datetime.timezone.utc), open=110.9335, high=110.9375, low=110.9325, close=110.936, volume=-1, wap=-1.0, count=-1)\n",
      "RealTimeBar(time=datetime.datetime(2018, 8, 8, 21, 47, 10, tzinfo=datetime.timezone.utc), open=110.936, high=110.938, low=110.9315, close=110.935, volume=-1, wap=-1.0, count=-1)\n",
      "RealTimeBar(time=datetime.datetime(2018, 8, 8, 21, 47, 15, tzinfo=datetime.timezone.utc), open=110.935, high=110.9375, low=110.93, close=110.9335, volume=-1, wap=-1.0, count=-1)\n",
      "RealTimeBar(time=datetime.datetime(2018, 8, 8, 21, 47, 20, tzinfo=datetime.timezone.utc), open=110.9335, high=110.938, low=110.9315, close=110.9325, volume=-1, wap=-1.0, count=-1)\n",
      "RealTimeBar(time=datetime.datetime(2018, 8, 8, 21, 47, 25, tzinfo=datetime.timezone.utc), open=110.9325, high=110.9365, low=110.93, close=110.935, volume=-1, wap=-1.0, count=-1)\n",
      "RealTimeBar(time=datetime.datetime(2018, 8, 8, 21, 47, 30, tzinfo=datetime.timezone.utc), open=110.935, high=110.94, low=110.9325, close=110.9355, volume=-1, wap=-1.0, count=-1)\n",
      "RealTimeBar(time=datetime.datetime(2018, 8, 8, 21, 47, 35, tzinfo=datetime.timezone.utc), open=110.9355, high=110.9385, low=110.9345, close=110.9355, volume=-1, wap=-1.0, count=-1)\n",
      "RealTimeBar(time=datetime.datetime(2018, 8, 8, 21, 47, 40, tzinfo=datetime.timezone.utc), open=110.9355, high=110.955, low=110.934, close=110.944, volume=-1, wap=-1.0, count=-1)\n",
      "RealTimeBar(time=datetime.datetime(2018, 8, 8, 21, 47, 45, tzinfo=datetime.timezone.utc), open=110.944, high=110.947, low=110.941, close=110.945, volume=-1, wap=-1.0, count=-1)\n",
      "RealTimeBar(time=datetime.datetime(2018, 8, 8, 21, 47, 50, tzinfo=datetime.timezone.utc), open=110.945, high=110.9475, low=110.9415, close=110.9435, volume=-1, wap=-1.0, count=-1)\n",
      "RealTimeBar(time=datetime.datetime(2018, 8, 8, 21, 47, 55, tzinfo=datetime.timezone.utc), open=110.9435, high=110.946, low=110.938, close=110.942, volume=-1, wap=-1.0, count=-1)\n",
      "RealTimeBar(time=datetime.datetime(2018, 8, 8, 21, 48, tzinfo=datetime.timezone.utc), open=110.942, high=110.9465, low=110.9385, close=110.944, volume=-1, wap=-1.0, count=-1)\n",
      "RealTimeBar(time=datetime.datetime(2018, 8, 8, 21, 48, 5, tzinfo=datetime.timezone.utc), open=110.944, high=110.946, low=110.935, close=110.9355, volume=-1, wap=-1.0, count=-1)\n",
      "RealTimeBar(time=datetime.datetime(2018, 8, 8, 21, 48, 10, tzinfo=datetime.timezone.utc), open=110.9355, high=110.946, low=110.9335, close=110.937, volume=-1, wap=-1.0, count=-1)\n",
      "RealTimeBar(time=datetime.datetime(2018, 8, 8, 21, 48, 15, tzinfo=datetime.timezone.utc), open=110.937, high=110.9475, low=110.937, close=110.9395, volume=-1, wap=-1.0, count=-1)\n",
      "RealTimeBar(time=datetime.datetime(2018, 8, 8, 21, 48, 20, tzinfo=datetime.timezone.utc), open=110.9395, high=110.9465, low=110.9375, close=110.94, volume=-1, wap=-1.0, count=-1)\n",
      "RealTimeBar(time=datetime.datetime(2018, 8, 8, 21, 48, 25, tzinfo=datetime.timezone.utc), open=110.94, high=110.946, low=110.9375, close=110.9425, volume=-1, wap=-1.0, count=-1)\n"
     ]
    },
    {
     "name": "stdout",
     "output_type": "stream",
     "text": [
      "RealTimeBar(time=datetime.datetime(2018, 8, 8, 21, 48, 30, tzinfo=datetime.timezone.utc), open=110.9425, high=110.948, low=110.937, close=110.939, volume=-1, wap=-1.0, count=-1)\n",
      "RealTimeBar(time=datetime.datetime(2018, 8, 8, 21, 48, 35, tzinfo=datetime.timezone.utc), open=110.939, high=110.948, low=110.9375, close=110.9415, volume=-1, wap=-1.0, count=-1)\n",
      "RealTimeBar(time=datetime.datetime(2018, 8, 8, 21, 48, 40, tzinfo=datetime.timezone.utc), open=110.9415, high=110.946, low=110.9325, close=110.934, volume=-1, wap=-1.0, count=-1)\n",
      "RealTimeBar(time=datetime.datetime(2018, 8, 8, 21, 48, 45, tzinfo=datetime.timezone.utc), open=110.934, high=110.942, low=110.933, close=110.935, volume=-1, wap=-1.0, count=-1)\n",
      "RealTimeBar(time=datetime.datetime(2018, 8, 8, 21, 48, 50, tzinfo=datetime.timezone.utc), open=110.935, high=110.9425, low=110.929, close=110.929, volume=-1, wap=-1.0, count=-1)\n",
      "RealTimeBar(time=datetime.datetime(2018, 8, 8, 21, 48, 55, tzinfo=datetime.timezone.utc), open=110.929, high=110.9315, low=110.9255, close=110.9255, volume=-1, wap=-1.0, count=-1)\n",
      "RealTimeBar(time=datetime.datetime(2018, 8, 8, 21, 49, tzinfo=datetime.timezone.utc), open=110.9255, high=110.9315, low=110.925, close=110.9265, volume=-1, wap=-1.0, count=-1)\n",
      "RealTimeBar(time=datetime.datetime(2018, 8, 8, 21, 49, 5, tzinfo=datetime.timezone.utc), open=110.9265, high=110.933, low=110.9255, close=110.929, volume=-1, wap=-1.0, count=-1)\n",
      "RealTimeBar(time=datetime.datetime(2018, 8, 8, 21, 49, 10, tzinfo=datetime.timezone.utc), open=110.929, high=110.932, low=110.9255, close=110.9285, volume=-1, wap=-1.0, count=-1)\n",
      "RealTimeBar(time=datetime.datetime(2018, 8, 8, 21, 49, 15, tzinfo=datetime.timezone.utc), open=110.9285, high=110.9365, low=110.9285, close=110.93, volume=-1, wap=-1.0, count=-1)\n",
      "RealTimeBar(time=datetime.datetime(2018, 8, 8, 21, 49, 20, tzinfo=datetime.timezone.utc), open=110.93, high=110.9375, low=110.93, close=110.9345, volume=-1, wap=-1.0, count=-1)\n",
      "RealTimeBar(time=datetime.datetime(2018, 8, 8, 21, 49, 25, tzinfo=datetime.timezone.utc), open=110.9345, high=110.942, low=110.934, close=110.935, volume=-1, wap=-1.0, count=-1)\n",
      "RealTimeBar(time=datetime.datetime(2018, 8, 8, 21, 49, 30, tzinfo=datetime.timezone.utc), open=110.935, high=110.943, low=110.934, close=110.9355, volume=-1, wap=-1.0, count=-1)\n",
      "RealTimeBar(time=datetime.datetime(2018, 8, 8, 21, 49, 35, tzinfo=datetime.timezone.utc), open=110.9355, high=110.9425, low=110.934, close=110.9365, volume=-1, wap=-1.0, count=-1)\n",
      "RealTimeBar(time=datetime.datetime(2018, 8, 8, 21, 49, 40, tzinfo=datetime.timezone.utc), open=110.9365, high=110.941, low=110.934, close=110.937, volume=-1, wap=-1.0, count=-1)\n",
      "RealTimeBar(time=datetime.datetime(2018, 8, 8, 21, 49, 45, tzinfo=datetime.timezone.utc), open=110.937, high=110.94, low=110.9355, close=110.9365, volume=-1, wap=-1.0, count=-1)\n",
      "RealTimeBar(time=datetime.datetime(2018, 8, 8, 21, 49, 50, tzinfo=datetime.timezone.utc), open=110.9365, high=110.9415, low=110.935, close=110.9355, volume=-1, wap=-1.0, count=-1)\n",
      "RealTimeBar(time=datetime.datetime(2018, 8, 8, 21, 49, 55, tzinfo=datetime.timezone.utc), open=110.9355, high=110.941, low=110.931, close=110.931, volume=-1, wap=-1.0, count=-1)\n",
      "RealTimeBar(time=datetime.datetime(2018, 8, 8, 21, 50, tzinfo=datetime.timezone.utc), open=110.931, high=110.932, low=110.9305, close=110.9315, volume=-1, wap=-1.0, count=-1)\n",
      "RealTimeBar(time=datetime.datetime(2018, 8, 8, 21, 50, 5, tzinfo=datetime.timezone.utc), open=110.9315, high=110.932, low=110.9225, close=110.9235, volume=-1, wap=-1.0, count=-1)\n",
      "RealTimeBar(time=datetime.datetime(2018, 8, 8, 21, 50, 10, tzinfo=datetime.timezone.utc), open=110.9235, high=110.932, low=110.923, close=110.9285, volume=-1, wap=-1.0, count=-1)\n",
      "RealTimeBar(time=datetime.datetime(2018, 8, 8, 21, 50, 15, tzinfo=datetime.timezone.utc), open=110.9285, high=110.931, low=110.926, close=110.929, volume=-1, wap=-1.0, count=-1)\n",
      "RealTimeBar(time=datetime.datetime(2018, 8, 8, 21, 50, 20, tzinfo=datetime.timezone.utc), open=110.929, high=110.9305, low=110.9265, close=110.927, volume=-1, wap=-1.0, count=-1)\n",
      "RealTimeBar(time=datetime.datetime(2018, 8, 8, 21, 50, 25, tzinfo=datetime.timezone.utc), open=110.927, high=110.931, low=110.925, close=110.925, volume=-1, wap=-1.0, count=-1)\n",
      "RealTimeBar(time=datetime.datetime(2018, 8, 8, 21, 50, 30, tzinfo=datetime.timezone.utc), open=110.925, high=110.925, low=110.925, close=110.925, volume=-1, wap=-1.0, count=-1)\n",
      "RealTimeBar(time=datetime.datetime(2018, 8, 8, 21, 50, 35, tzinfo=datetime.timezone.utc), open=110.925, high=110.925, low=110.925, close=110.925, volume=-1, wap=-1.0, count=-1)\n",
      "RealTimeBar(time=datetime.datetime(2018, 8, 8, 21, 50, 40, tzinfo=datetime.timezone.utc), open=110.925, high=110.925, low=110.922, close=110.922, volume=-1, wap=-1.0, count=-1)\n",
      "RealTimeBar(time=datetime.datetime(2018, 8, 8, 21, 50, 45, tzinfo=datetime.timezone.utc), open=110.922, high=110.922, low=110.9215, close=110.9215, volume=-1, wap=-1.0, count=-1)\n",
      "RealTimeBar(time=datetime.datetime(2018, 8, 8, 21, 50, 50, tzinfo=datetime.timezone.utc), open=110.9215, high=110.9215, low=110.9215, close=110.9215, volume=-1, wap=-1.0, count=-1)\n",
      "RealTimeBar(time=datetime.datetime(2018, 8, 8, 21, 50, 55, tzinfo=datetime.timezone.utc), open=110.9215, high=110.9225, low=110.9215, close=110.9225, volume=-1, wap=-1.0, count=-1)\n",
      "RealTimeBar(time=datetime.datetime(2018, 8, 8, 21, 51, tzinfo=datetime.timezone.utc), open=110.9225, high=110.9225, low=110.9225, close=110.9225, volume=-1, wap=-1.0, count=-1)\n",
      "RealTimeBar(time=datetime.datetime(2018, 8, 8, 21, 51, 5, tzinfo=datetime.timezone.utc), open=110.9225, high=110.9225, low=110.9225, close=110.9225, volume=-1, wap=-1.0, count=-1)\n",
      "RealTimeBar(time=datetime.datetime(2018, 8, 8, 21, 51, 10, tzinfo=datetime.timezone.utc), open=110.9225, high=110.9225, low=110.9225, close=110.9225, volume=-1, wap=-1.0, count=-1)\n",
      "RealTimeBar(time=datetime.datetime(2018, 8, 8, 21, 51, 15, tzinfo=datetime.timezone.utc), open=110.9225, high=110.923, low=110.9225, close=110.923, volume=-1, wap=-1.0, count=-1)\n",
      "RealTimeBar(time=datetime.datetime(2018, 8, 8, 21, 51, 20, tzinfo=datetime.timezone.utc), open=110.923, high=110.923, low=110.923, close=110.923, volume=-1, wap=-1.0, count=-1)\n",
      "RealTimeBar(time=datetime.datetime(2018, 8, 8, 21, 51, 25, tzinfo=datetime.timezone.utc), open=110.923, high=110.9235, low=110.922, close=110.922, volume=-1, wap=-1.0, count=-1)\n",
      "RealTimeBar(time=datetime.datetime(2018, 8, 8, 21, 51, 30, tzinfo=datetime.timezone.utc), open=110.922, high=110.9235, low=110.922, close=110.9235, volume=-1, wap=-1.0, count=-1)\n",
      "RealTimeBar(time=datetime.datetime(2018, 8, 8, 21, 51, 35, tzinfo=datetime.timezone.utc), open=110.9235, high=110.9235, low=110.922, close=110.922, volume=-1, wap=-1.0, count=-1)\n",
      "RealTimeBar(time=datetime.datetime(2018, 8, 8, 21, 51, 40, tzinfo=datetime.timezone.utc), open=110.922, high=110.9235, low=110.922, close=110.922, volume=-1, wap=-1.0, count=-1)\n",
      "RealTimeBar(time=datetime.datetime(2018, 8, 8, 21, 51, 45, tzinfo=datetime.timezone.utc), open=110.922, high=110.9235, low=110.922, close=110.922, volume=-1, wap=-1.0, count=-1)\n",
      "RealTimeBar(time=datetime.datetime(2018, 8, 8, 21, 51, 50, tzinfo=datetime.timezone.utc), open=110.922, high=110.9235, low=110.922, close=110.922, volume=-1, wap=-1.0, count=-1)\n",
      "RealTimeBar(time=datetime.datetime(2018, 8, 8, 21, 51, 55, tzinfo=datetime.timezone.utc), open=110.922, high=110.9235, low=110.922, close=110.922, volume=-1, wap=-1.0, count=-1)\n",
      "RealTimeBar(time=datetime.datetime(2018, 8, 8, 21, 52, tzinfo=datetime.timezone.utc), open=110.922, high=110.9245, low=110.922, close=110.9245, volume=-1, wap=-1.0, count=-1)\n",
      "RealTimeBar(time=datetime.datetime(2018, 8, 8, 21, 52, 5, tzinfo=datetime.timezone.utc), open=110.9245, high=110.9245, low=110.923, close=110.923, volume=-1, wap=-1.0, count=-1)\n",
      "RealTimeBar(time=datetime.datetime(2018, 8, 8, 21, 52, 10, tzinfo=datetime.timezone.utc), open=110.923, high=110.9245, low=110.9225, close=110.924, volume=-1, wap=-1.0, count=-1)\n",
      "RealTimeBar(time=datetime.datetime(2018, 8, 8, 21, 52, 15, tzinfo=datetime.timezone.utc), open=110.924, high=110.924, low=110.9225, close=110.9225, volume=-1, wap=-1.0, count=-1)\n"
     ]
    }
   ],
   "source": [
    "tickers_data[7].contract"
   ]
  },
  {
   "cell_type": "code",
   "execution_count": 101,
   "metadata": {
    "scrolled": true
   },
   "outputs": [
    {
     "name": "stdout",
     "output_type": "stream",
     "text": [
      "RealTimeBar(time=datetime.datetime(2018, 8, 8, 21, 39, 50, tzinfo=datetime.timezone.utc), open=110.918, high=110.919, low=110.918, close=110.919, volume=-1, wap=-1.0, count=-1)\n",
      "RealTimeBar(time=datetime.datetime(2018, 8, 8, 21, 39, 55, tzinfo=datetime.timezone.utc), open=110.919, high=110.9195, low=110.918, close=110.919, volume=-1, wap=-1.0, count=-1)\n",
      "RealTimeBar(time=datetime.datetime(2018, 8, 8, 21, 40, tzinfo=datetime.timezone.utc), open=110.919, high=110.92, low=110.918, close=110.9185, volume=-1, wap=-1.0, count=-1)\n",
      "RealTimeBar(time=datetime.datetime(2018, 8, 8, 21, 40, 5, tzinfo=datetime.timezone.utc), open=110.9185, high=110.9195, low=110.9185, close=110.9195, volume=-1, wap=-1.0, count=-1)\n",
      "RealTimeBar(time=datetime.datetime(2018, 8, 8, 21, 40, 10, tzinfo=datetime.timezone.utc), open=110.9195, high=110.9195, low=110.9195, close=110.9195, volume=-1, wap=-1.0, count=-1)\n",
      "RealTimeBar(time=datetime.datetime(2018, 8, 8, 21, 40, 15, tzinfo=datetime.timezone.utc), open=110.9195, high=110.92, low=110.918, close=110.9195, volume=-1, wap=-1.0, count=-1)\n",
      "RealTimeBar(time=datetime.datetime(2018, 8, 8, 21, 40, 20, tzinfo=datetime.timezone.utc), open=110.9195, high=110.9195, low=110.9185, close=110.9185, volume=-1, wap=-1.0, count=-1)\n",
      "RealTimeBar(time=datetime.datetime(2018, 8, 8, 21, 40, 25, tzinfo=datetime.timezone.utc), open=110.9185, high=110.919, low=110.918, close=110.9185, volume=-1, wap=-1.0, count=-1)\n",
      "RealTimeBar(time=datetime.datetime(2018, 8, 8, 21, 40, 30, tzinfo=datetime.timezone.utc), open=110.9185, high=110.92, low=110.9185, close=110.92, volume=-1, wap=-1.0, count=-1)\n",
      "RealTimeBar(time=datetime.datetime(2018, 8, 8, 21, 40, 35, tzinfo=datetime.timezone.utc), open=110.92, high=110.92, low=110.9185, close=110.9185, volume=-1, wap=-1.0, count=-1)\n",
      "RealTimeBar(time=datetime.datetime(2018, 8, 8, 21, 40, 40, tzinfo=datetime.timezone.utc), open=110.9185, high=110.9195, low=110.9185, close=110.9185, volume=-1, wap=-1.0, count=-1)\n",
      "RealTimeBar(time=datetime.datetime(2018, 8, 8, 21, 40, 45, tzinfo=datetime.timezone.utc), open=110.9185, high=110.919, low=110.9185, close=110.919, volume=-1, wap=-1.0, count=-1)\n",
      "RealTimeBar(time=datetime.datetime(2018, 8, 8, 21, 40, 50, tzinfo=datetime.timezone.utc), open=110.919, high=110.919, low=110.919, close=110.919, volume=-1, wap=-1.0, count=-1)\n",
      "RealTimeBar(time=datetime.datetime(2018, 8, 8, 21, 40, 55, tzinfo=datetime.timezone.utc), open=110.919, high=110.919, low=110.919, close=110.919, volume=-1, wap=-1.0, count=-1)\n",
      "RealTimeBar(time=datetime.datetime(2018, 8, 8, 21, 41, tzinfo=datetime.timezone.utc), open=110.919, high=110.919, low=110.919, close=110.919, volume=-1, wap=-1.0, count=-1)\n",
      "RealTimeBar(time=datetime.datetime(2018, 8, 8, 21, 41, 5, tzinfo=datetime.timezone.utc), open=110.919, high=110.919, low=110.9185, close=110.9185, volume=-1, wap=-1.0, count=-1)\n",
      "RealTimeBar(time=datetime.datetime(2018, 8, 8, 21, 41, 10, tzinfo=datetime.timezone.utc), open=110.9185, high=110.9185, low=110.9185, close=110.9185, volume=-1, wap=-1.0, count=-1)\n",
      "RealTimeBar(time=datetime.datetime(2018, 8, 8, 21, 41, 15, tzinfo=datetime.timezone.utc), open=110.9185, high=110.919, low=110.9185, close=110.919, volume=-1, wap=-1.0, count=-1)\n",
      "RealTimeBar(time=datetime.datetime(2018, 8, 8, 21, 41, 20, tzinfo=datetime.timezone.utc), open=110.919, high=110.919, low=110.919, close=110.919, volume=-1, wap=-1.0, count=-1)\n",
      "RealTimeBar(time=datetime.datetime(2018, 8, 8, 21, 41, 25, tzinfo=datetime.timezone.utc), open=110.919, high=110.919, low=110.919, close=110.919, volume=-1, wap=-1.0, count=-1)\n",
      "RealTimeBar(time=datetime.datetime(2018, 8, 8, 21, 41, 30, tzinfo=datetime.timezone.utc), open=110.919, high=110.929, low=110.919, close=110.9285, volume=-1, wap=-1.0, count=-1)\n",
      "RealTimeBar(time=datetime.datetime(2018, 8, 8, 21, 41, 35, tzinfo=datetime.timezone.utc), open=110.9285, high=110.929, low=110.9285, close=110.929, volume=-1, wap=-1.0, count=-1)\n",
      "RealTimeBar(time=datetime.datetime(2018, 8, 8, 21, 41, 40, tzinfo=datetime.timezone.utc), open=110.929, high=110.9335, low=110.9205, close=110.9325, volume=-1, wap=-1.0, count=-1)\n",
      "RealTimeBar(time=datetime.datetime(2018, 8, 8, 21, 41, 45, tzinfo=datetime.timezone.utc), open=110.9325, high=110.9345, low=110.9325, close=110.9335, volume=-1, wap=-1.0, count=-1)\n",
      "RealTimeBar(time=datetime.datetime(2018, 8, 8, 21, 41, 50, tzinfo=datetime.timezone.utc), open=110.9335, high=110.9345, low=110.9325, close=110.9345, volume=-1, wap=-1.0, count=-1)\n",
      "RealTimeBar(time=datetime.datetime(2018, 8, 8, 21, 41, 55, tzinfo=datetime.timezone.utc), open=110.9345, high=110.935, low=110.9325, close=110.933, volume=-1, wap=-1.0, count=-1)\n",
      "RealTimeBar(time=datetime.datetime(2018, 8, 8, 21, 42, tzinfo=datetime.timezone.utc), open=110.933, high=110.933, low=110.93, close=110.9305, volume=-1, wap=-1.0, count=-1)\n",
      "RealTimeBar(time=datetime.datetime(2018, 8, 8, 21, 42, 5, tzinfo=datetime.timezone.utc), open=110.9305, high=110.9335, low=110.93, close=110.9305, volume=-1, wap=-1.0, count=-1)\n",
      "RealTimeBar(time=datetime.datetime(2018, 8, 8, 21, 42, 10, tzinfo=datetime.timezone.utc), open=110.9305, high=110.9325, low=110.9235, close=110.925, volume=-1, wap=-1.0, count=-1)\n",
      "RealTimeBar(time=datetime.datetime(2018, 8, 8, 21, 42, 15, tzinfo=datetime.timezone.utc), open=110.925, high=110.9255, low=110.923, close=110.924, volume=-1, wap=-1.0, count=-1)\n",
      "RealTimeBar(time=datetime.datetime(2018, 8, 8, 21, 42, 20, tzinfo=datetime.timezone.utc), open=110.924, high=110.928, low=110.916, close=110.928, volume=-1, wap=-1.0, count=-1)\n",
      "RealTimeBar(time=datetime.datetime(2018, 8, 8, 21, 42, 25, tzinfo=datetime.timezone.utc), open=110.928, high=110.9285, low=110.9175, close=110.9235, volume=-1, wap=-1.0, count=-1)\n",
      "RealTimeBar(time=datetime.datetime(2018, 8, 8, 21, 42, 30, tzinfo=datetime.timezone.utc), open=110.9235, high=110.925, low=110.923, close=110.9245, volume=-1, wap=-1.0, count=-1)\n",
      "RealTimeBar(time=datetime.datetime(2018, 8, 8, 21, 42, 35, tzinfo=datetime.timezone.utc), open=110.9245, high=110.9255, low=110.9235, close=110.924, volume=-1, wap=-1.0, count=-1)\n",
      "RealTimeBar(time=datetime.datetime(2018, 8, 8, 21, 42, 40, tzinfo=datetime.timezone.utc), open=110.924, high=110.926, low=110.9235, close=110.9245, volume=-1, wap=-1.0, count=-1)\n",
      "RealTimeBar(time=datetime.datetime(2018, 8, 8, 21, 42, 45, tzinfo=datetime.timezone.utc), open=110.9245, high=110.9245, low=110.9235, close=110.9235, volume=-1, wap=-1.0, count=-1)\n",
      "RealTimeBar(time=datetime.datetime(2018, 8, 8, 21, 42, 50, tzinfo=datetime.timezone.utc), open=110.9235, high=110.924, low=110.9235, close=110.9235, volume=-1, wap=-1.0, count=-1)\n",
      "RealTimeBar(time=datetime.datetime(2018, 8, 8, 21, 42, 55, tzinfo=datetime.timezone.utc), open=110.9235, high=110.9245, low=110.9235, close=110.9245, volume=-1, wap=-1.0, count=-1)\n",
      "RealTimeBar(time=datetime.datetime(2018, 8, 8, 21, 43, tzinfo=datetime.timezone.utc), open=110.9245, high=110.925, low=110.9245, close=110.925, volume=-1, wap=-1.0, count=-1)\n"
     ]
    }
   ],
   "source": [
    "ib.qualifyContracts(tickers_data[0].contract)\n",
    "\n",
    "order = MarketOrder('BUY', 1)"
   ]
  },
  {
   "cell_type": "markdown",
   "metadata": {},
   "source": [
    "### placeOrder will place the order and return a Trade object right away (non-blocking)"
   ]
  },
  {
   "cell_type": "raw",
   "metadata": {},
   "source": [
    "trade = ib.placeOrder(tickers_data[8].contract, order)\n",
    "trade"
   ]
  },
  {
   "cell_type": "markdown",
   "metadata": {},
   "source": [
    "### trade contains the order and everything related to it. such as order status fills and a log. it live pdates with status changes or fill of order"
   ]
  },
  {
   "cell_type": "code",
   "execution_count": 104,
   "metadata": {},
   "outputs": [
    {
     "data": {
      "text/plain": [
       "[TradeLogEntry(time=datetime.datetime(2018, 8, 8, 21, 11, 4, 856067, tzinfo=datetime.timezone.utc), status='PendingSubmit', message=''),\n",
       " TradeLogEntry(time=datetime.datetime(2018, 8, 8, 21, 11, 5, 42918, tzinfo=datetime.timezone.utc), status='PreSubmitted', message=''),\n",
       " TradeLogEntry(time=datetime.datetime(2018, 8, 8, 21, 11, 43, 391946, tzinfo=datetime.timezone.utc), status='PreSubmitted', message='Modify'),\n",
       " TradeLogEntry(time=datetime.datetime(2018, 8, 8, 21, 15, 0, 810085, tzinfo=datetime.timezone.utc), status='PreSubmitted', message='Fill 10000.0@110.972'),\n",
       " TradeLogEntry(time=datetime.datetime(2018, 8, 8, 21, 15, 0, 810667, tzinfo=datetime.timezone.utc), status='Filled', message='')]"
      ]
     },
     "execution_count": 104,
     "metadata": {},
     "output_type": "execute_result"
    },
    {
     "name": "stdout",
     "output_type": "stream",
     "text": [
      "RealTimeBar(time=datetime.datetime(2018, 8, 8, 21, 52, 20, tzinfo=datetime.timezone.utc), open=110.9225, high=110.924, low=110.9225, close=110.9225, volume=-1, wap=-1.0, count=-1)\n",
      "RealTimeBar(time=datetime.datetime(2018, 8, 8, 21, 52, 25, tzinfo=datetime.timezone.utc), open=110.9225, high=110.924, low=110.9225, close=110.9225, volume=-1, wap=-1.0, count=-1)\n",
      "RealTimeBar(time=datetime.datetime(2018, 8, 8, 21, 52, 30, tzinfo=datetime.timezone.utc), open=110.9225, high=110.924, low=110.9225, close=110.924, volume=-1, wap=-1.0, count=-1)\n",
      "RealTimeBar(time=datetime.datetime(2018, 8, 8, 21, 52, 35, tzinfo=datetime.timezone.utc), open=110.924, high=110.9255, low=110.9225, close=110.923, volume=-1, wap=-1.0, count=-1)\n",
      "RealTimeBar(time=datetime.datetime(2018, 8, 8, 21, 52, 40, tzinfo=datetime.timezone.utc), open=110.923, high=110.926, low=110.923, close=110.9245, volume=-1, wap=-1.0, count=-1)\n",
      "RealTimeBar(time=datetime.datetime(2018, 8, 8, 21, 52, 45, tzinfo=datetime.timezone.utc), open=110.9245, high=110.926, low=110.9235, close=110.9235, volume=-1, wap=-1.0, count=-1)\n",
      "RealTimeBar(time=datetime.datetime(2018, 8, 8, 21, 52, 50, tzinfo=datetime.timezone.utc), open=110.9235, high=110.926, low=110.9205, close=110.9255, volume=-1, wap=-1.0, count=-1)\n",
      "RealTimeBar(time=datetime.datetime(2018, 8, 8, 21, 52, 55, tzinfo=datetime.timezone.utc), open=110.9255, high=110.9265, low=110.9255, close=110.926, volume=-1, wap=-1.0, count=-1)\n",
      "RealTimeBar(time=datetime.datetime(2018, 8, 8, 21, 53, tzinfo=datetime.timezone.utc), open=110.926, high=110.9265, low=110.92, close=110.92, volume=-1, wap=-1.0, count=-1)\n",
      "RealTimeBar(time=datetime.datetime(2018, 8, 8, 21, 53, 5, tzinfo=datetime.timezone.utc), open=110.92, high=110.9235, low=110.918, close=110.922, volume=-1, wap=-1.0, count=-1)\n",
      "RealTimeBar(time=datetime.datetime(2018, 8, 8, 21, 53, 10, tzinfo=datetime.timezone.utc), open=110.922, high=110.923, low=110.922, close=110.922, volume=-1, wap=-1.0, count=-1)\n",
      "RealTimeBar(time=datetime.datetime(2018, 8, 8, 21, 53, 15, tzinfo=datetime.timezone.utc), open=110.922, high=110.9245, low=110.922, close=110.9235, volume=-1, wap=-1.0, count=-1)\n",
      "RealTimeBar(time=datetime.datetime(2018, 8, 8, 21, 53, 20, tzinfo=datetime.timezone.utc), open=110.9235, high=110.9245, low=110.922, close=110.9225, volume=-1, wap=-1.0, count=-1)\n",
      "RealTimeBar(time=datetime.datetime(2018, 8, 8, 21, 53, 25, tzinfo=datetime.timezone.utc), open=110.9225, high=110.9265, low=110.922, close=110.925, volume=-1, wap=-1.0, count=-1)\n",
      "RealTimeBar(time=datetime.datetime(2018, 8, 8, 21, 53, 30, tzinfo=datetime.timezone.utc), open=110.925, high=110.9265, low=110.9235, close=110.926, volume=-1, wap=-1.0, count=-1)\n",
      "RealTimeBar(time=datetime.datetime(2018, 8, 8, 21, 53, 35, tzinfo=datetime.timezone.utc), open=110.926, high=110.9265, low=110.926, close=110.926, volume=-1, wap=-1.0, count=-1)\n",
      "RealTimeBar(time=datetime.datetime(2018, 8, 8, 21, 53, 40, tzinfo=datetime.timezone.utc), open=110.926, high=110.9265, low=110.926, close=110.926, volume=-1, wap=-1.0, count=-1)\n",
      "RealTimeBar(time=datetime.datetime(2018, 8, 8, 21, 53, 45, tzinfo=datetime.timezone.utc), open=110.926, high=110.9265, low=110.9255, close=110.9255, volume=-1, wap=-1.0, count=-1)\n",
      "RealTimeBar(time=datetime.datetime(2018, 8, 8, 21, 53, 50, tzinfo=datetime.timezone.utc), open=110.9255, high=110.9265, low=110.923, close=110.9255, volume=-1, wap=-1.0, count=-1)\n",
      "RealTimeBar(time=datetime.datetime(2018, 8, 8, 21, 53, 55, tzinfo=datetime.timezone.utc), open=110.9255, high=110.9265, low=110.923, close=110.9255, volume=-1, wap=-1.0, count=-1)\n"
     ]
    }
   ],
   "source": [
    "ib.sleep(1)\n",
    "trade.log"
   ]
  },
  {
   "cell_type": "code",
   "execution_count": 105,
   "metadata": {},
   "outputs": [],
   "source": [
    "ib.disconnect()"
   ]
  }
 ],
 "metadata": {
  "kernelspec": {
   "display_name": "Python 3",
   "language": "python",
   "name": "python3"
  },
  "language_info": {
   "codemirror_mode": {
    "name": "ipython",
    "version": 3
   },
   "file_extension": ".py",
   "mimetype": "text/x-python",
   "name": "python",
   "nbconvert_exporter": "python",
   "pygments_lexer": "ipython3",
   "version": "3.6.5"
  }
 },
 "nbformat": 4,
 "nbformat_minor": 2
}
