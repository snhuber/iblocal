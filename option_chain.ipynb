{
 "cells": [
  {
   "cell_type": "markdown",
   "metadata": {},
   "source": [
    "Option chains\n",
    "======="
   ]
  },
  {
   "cell_type": "code",
   "execution_count": 37,
   "metadata": {
    "scrolled": true
   },
   "outputs": [
    {
     "data": {
      "text/plain": [
       "<IB connected to 127.0.0.1:7497 clientId=9>"
      ]
     },
     "execution_count": 37,
     "metadata": {},
     "output_type": "execute_result"
    }
   ],
   "source": [
    "from ib_insync import *\n",
    "util.startLoop()\n",
    "\n",
    "ib = IB()\n",
    "ib.connect('127.0.0.1', 7497, clientId=9)"
   ]
  },
  {
   "cell_type": "markdown",
   "metadata": {},
   "source": [
    "Suppose we want to find the options on the SPX, with the following conditions:\n",
    "\n",
    "* Use the next three monthly expiries;\n",
    "* Use strike prices within +- 20 dollar of the current SPX value;\n",
    "* Use strike prices that are a multitude of 5 dollar."
   ]
  },
  {
   "cell_type": "markdown",
   "metadata": {},
   "source": [
    "To get the current market value, first create a contract for the underlyer (the S&P 500 index):"
   ]
  },
  {
   "cell_type": "code",
   "execution_count": 52,
   "metadata": {},
   "outputs": [
    {
     "name": "stdout",
     "output_type": "stream",
     "text": [
      "Index(symbol='SPX', exchange='CBOE')\n"
     ]
    },
    {
     "data": {
      "text/plain": [
       "[Index(conId=416904, symbol='SPX', exchange='CBOE', currency='USD', localSymbol='SPX')]"
      ]
     },
     "execution_count": 52,
     "metadata": {},
     "output_type": "execute_result"
    }
   ],
   "source": [
    "spx = Index('SPX', 'CBOE')\n",
    "print(spx)\n",
    "# help(Index())\n",
    "ib.qualifyContracts(spx)\n",
    "\n"
   ]
  },
  {
   "cell_type": "code",
   "execution_count": 61,
   "metadata": {},
   "outputs": [
    {
     "name": "stdout",
     "output_type": "stream",
     "text": [
      "Stock(symbol='IBM', exchange='SMART', currency='USD')\n"
     ]
    },
    {
     "data": {
      "text/plain": [
       "[Stock(conId=8314, symbol='IBM', exchange='SMART', primaryExchange='NYSE', currency='USD', localSymbol='IBM', tradingClass='IBM')]"
      ]
     },
     "execution_count": 61,
     "metadata": {},
     "output_type": "execute_result"
    }
   ],
   "source": [
    "ibm = Stock('IBM', 'SMART' ,'USD')\n",
    "print(ibm)\n",
    "# help(Index())\n",
    "ib.qualifyContracts(ibm)"
   ]
  },
  {
   "cell_type": "code",
   "execution_count": 65,
   "metadata": {},
   "outputs": [
    {
     "name": "stderr",
     "output_type": "stream",
     "text": [
      "ERROR:ib_insync.wrapper:Error 320, reqId 109: Error reading request:Message id 109.  Unable to parse data. java.lang.NumberFormatException: For input string: \"USD\", contract: Option(symbol='IBM', lastTradeDateOrContractMonth='SMART', strike='USD')\n",
      "ERROR:ib_insync.ib:Unknown contract: Option(symbol='IBM', lastTradeDateOrContractMonth='SMART', strike='USD')\n"
     ]
    },
    {
     "data": {
      "text/plain": [
       "[]"
      ]
     },
     "execution_count": 65,
     "metadata": {},
     "output_type": "execute_result"
    }
   ],
   "source": [
    "# ibmOptions = Option('IBM', 'SMART', 'USD')\n",
    "# ibmOptions\n",
    "# ib.qualifyContracts(ibmOptions)"
   ]
  },
  {
   "cell_type": "markdown",
   "metadata": {},
   "source": [
    "Then get the ticker. Requesting a ticker can take up to 11 seconds."
   ]
  },
  {
   "cell_type": "code",
   "execution_count": 66,
   "metadata": {
    "scrolled": true
   },
   "outputs": [
    {
     "data": {
      "text/plain": [
       "Ticker(contract=Stock(conId=8314, symbol='IBM', exchange='SMART', primaryExchange='NYSE', currency='USD', localSymbol='IBM', tradingClass='IBM'), time=datetime.datetime(2018, 8, 12, 19, 56, 13, 408476, tzinfo=datetime.timezone.utc), bid=-1.0, bidSize=0, ask=-1.0, askSize=0, close=144.77, ticks=[], tickByTicks=[], domBids=[], domAsks=[], domTicks=[])"
      ]
     },
     "execution_count": 66,
     "metadata": {},
     "output_type": "execute_result"
    }
   ],
   "source": [
    "[ticker] = ib.reqTickers(stx)\n",
    "ticker"
   ]
  },
  {
   "cell_type": "code",
   "execution_count": null,
   "metadata": {},
   "outputs": [],
   "source": [
    "[ticker] = ib.reqTickers(ibm)\n",
    "ticker"
   ]
  },
  {
   "cell_type": "markdown",
   "metadata": {},
   "source": [
    "Take the current market value of the ticker:"
   ]
  },
  {
   "cell_type": "code",
   "execution_count": 54,
   "metadata": {},
   "outputs": [
    {
     "data": {
      "text/plain": [
       "2853.58"
      ]
     },
     "execution_count": 54,
     "metadata": {},
     "output_type": "execute_result"
    }
   ],
   "source": [
    "spxValue = ticker.marketPrice()\n",
    "spxValue"
   ]
  },
  {
   "cell_type": "code",
   "execution_count": 67,
   "metadata": {},
   "outputs": [
    {
     "data": {
      "text/plain": [
       "144.77"
      ]
     },
     "execution_count": 67,
     "metadata": {},
     "output_type": "execute_result"
    }
   ],
   "source": [
    "ibmValue = ticker.marketPrice()\n",
    "ibmValue"
   ]
  },
  {
   "cell_type": "markdown",
   "metadata": {},
   "source": [
    "## NEW WAY . The following request fetches a list of option chains:"
   ]
  },
  {
   "cell_type": "code",
   "execution_count": 55,
   "metadata": {
    "scrolled": true
   },
   "outputs": [
    {
     "data": {
      "text/html": [
       "<div>\n",
       "<style scoped>\n",
       "    .dataframe tbody tr th:only-of-type {\n",
       "        vertical-align: middle;\n",
       "    }\n",
       "\n",
       "    .dataframe tbody tr th {\n",
       "        vertical-align: top;\n",
       "    }\n",
       "\n",
       "    .dataframe thead th {\n",
       "        text-align: right;\n",
       "    }\n",
       "</style>\n",
       "<table border=\"1\" class=\"dataframe\">\n",
       "  <thead>\n",
       "    <tr style=\"text-align: right;\">\n",
       "      <th></th>\n",
       "      <th>exchange</th>\n",
       "      <th>underlyingConId</th>\n",
       "      <th>tradingClass</th>\n",
       "      <th>multiplier</th>\n",
       "      <th>expirations</th>\n",
       "      <th>strikes</th>\n",
       "    </tr>\n",
       "  </thead>\n",
       "  <tbody>\n",
       "    <tr>\n",
       "      <th>0</th>\n",
       "      <td>SMART</td>\n",
       "      <td>416904</td>\n",
       "      <td>SPX</td>\n",
       "      <td>100</td>\n",
       "      <td>{20190314, 20190919, 20181115, 20200618, 20201...</td>\n",
       "      <td>{2560.0, 1025.0, 2050.0, 3075.0, 4100.0, 2565....</td>\n",
       "    </tr>\n",
       "    <tr>\n",
       "      <th>1</th>\n",
       "      <td>CBOE</td>\n",
       "      <td>416904</td>\n",
       "      <td>SPXW</td>\n",
       "      <td>100</td>\n",
       "      <td>{20190628, 20180824, 20180831, 20180917, 20180...</td>\n",
       "      <td>{2560.0, 1025.0, 2050.0, 3075.0, 4100.0, 2565....</td>\n",
       "    </tr>\n",
       "    <tr>\n",
       "      <th>2</th>\n",
       "      <td>SMART</td>\n",
       "      <td>416904</td>\n",
       "      <td>SPXW</td>\n",
       "      <td>100</td>\n",
       "      <td>{20190628, 20180824, 20180831, 20180917, 20180...</td>\n",
       "      <td>{2560.0, 1025.0, 2050.0, 3075.0, 4100.0, 2565....</td>\n",
       "    </tr>\n",
       "    <tr>\n",
       "      <th>3</th>\n",
       "      <td>CBOE</td>\n",
       "      <td>416904</td>\n",
       "      <td>SPX</td>\n",
       "      <td>100</td>\n",
       "      <td>{20190314, 20190919, 20181115, 20200618, 20201...</td>\n",
       "      <td>{2560.0, 1025.0, 2050.0, 3075.0, 4100.0, 2565....</td>\n",
       "    </tr>\n",
       "  </tbody>\n",
       "</table>\n",
       "</div>"
      ],
      "text/plain": [
       "  exchange  underlyingConId tradingClass multiplier  \\\n",
       "0    SMART           416904          SPX        100   \n",
       "1     CBOE           416904         SPXW        100   \n",
       "2    SMART           416904         SPXW        100   \n",
       "3     CBOE           416904          SPX        100   \n",
       "\n",
       "                                         expirations  \\\n",
       "0  {20190314, 20190919, 20181115, 20200618, 20201...   \n",
       "1  {20190628, 20180824, 20180831, 20180917, 20180...   \n",
       "2  {20190628, 20180824, 20180831, 20180917, 20180...   \n",
       "3  {20190314, 20190919, 20181115, 20200618, 20201...   \n",
       "\n",
       "                                             strikes  \n",
       "0  {2560.0, 1025.0, 2050.0, 3075.0, 4100.0, 2565....  \n",
       "1  {2560.0, 1025.0, 2050.0, 3075.0, 4100.0, 2565....  \n",
       "2  {2560.0, 1025.0, 2050.0, 3075.0, 4100.0, 2565....  \n",
       "3  {2560.0, 1025.0, 2050.0, 3075.0, 4100.0, 2565....  "
      ]
     },
     "execution_count": 55,
     "metadata": {},
     "output_type": "execute_result"
    }
   ],
   "source": [
    "chains = ib.reqSecDefOptParams(spx.symbol, '', spx.secType, spx.conId)\n",
    "\n",
    "util.df(chains)\n"
   ]
  },
  {
   "cell_type": "code",
   "execution_count": 68,
   "metadata": {},
   "outputs": [
    {
     "data": {
      "text/html": [
       "<div>\n",
       "<style scoped>\n",
       "    .dataframe tbody tr th:only-of-type {\n",
       "        vertical-align: middle;\n",
       "    }\n",
       "\n",
       "    .dataframe tbody tr th {\n",
       "        vertical-align: top;\n",
       "    }\n",
       "\n",
       "    .dataframe thead th {\n",
       "        text-align: right;\n",
       "    }\n",
       "</style>\n",
       "<table border=\"1\" class=\"dataframe\">\n",
       "  <thead>\n",
       "    <tr style=\"text-align: right;\">\n",
       "      <th></th>\n",
       "      <th>exchange</th>\n",
       "      <th>underlyingConId</th>\n",
       "      <th>tradingClass</th>\n",
       "      <th>multiplier</th>\n",
       "      <th>expirations</th>\n",
       "      <th>strikes</th>\n",
       "    </tr>\n",
       "  </thead>\n",
       "  <tbody>\n",
       "    <tr>\n",
       "      <th>0</th>\n",
       "      <td>NASDAQOM</td>\n",
       "      <td>8314</td>\n",
       "      <td>IBM</td>\n",
       "      <td>100</td>\n",
       "      <td>{20180824, 20180831, 20180914, 20181019, 20180...</td>\n",
       "      <td>{128.0, 129.0, 130.0, 131.0, 132.0, 133.0, 134...</td>\n",
       "    </tr>\n",
       "    <tr>\n",
       "      <th>1</th>\n",
       "      <td>PSE</td>\n",
       "      <td>8314</td>\n",
       "      <td>IBM</td>\n",
       "      <td>100</td>\n",
       "      <td>{20180824, 20180831, 20180914, 20181019, 20180...</td>\n",
       "      <td>{128.0, 129.0, 130.0, 131.0, 132.0, 133.0, 134...</td>\n",
       "    </tr>\n",
       "    <tr>\n",
       "      <th>2</th>\n",
       "      <td>PHLX</td>\n",
       "      <td>8314</td>\n",
       "      <td>IBM</td>\n",
       "      <td>100</td>\n",
       "      <td>{20180824, 20180831, 20180914, 20181019, 20180...</td>\n",
       "      <td>{128.0, 129.0, 130.0, 131.0, 132.0, 133.0, 134...</td>\n",
       "    </tr>\n",
       "    <tr>\n",
       "      <th>3</th>\n",
       "      <td>BOX</td>\n",
       "      <td>8314</td>\n",
       "      <td>IBM</td>\n",
       "      <td>100</td>\n",
       "      <td>{20180824, 20180831, 20180914, 20181019, 20180...</td>\n",
       "      <td>{128.0, 129.0, 130.0, 131.0, 132.0, 133.0, 134...</td>\n",
       "    </tr>\n",
       "    <tr>\n",
       "      <th>4</th>\n",
       "      <td>PEARL</td>\n",
       "      <td>8314</td>\n",
       "      <td>IBM</td>\n",
       "      <td>100</td>\n",
       "      <td>{20180824, 20180831, 20180914, 20181019, 20180...</td>\n",
       "      <td>{128.0, 129.0, 130.0, 131.0, 132.0, 133.0, 134...</td>\n",
       "    </tr>\n",
       "    <tr>\n",
       "      <th>5</th>\n",
       "      <td>CBOE2</td>\n",
       "      <td>8314</td>\n",
       "      <td>IBM</td>\n",
       "      <td>100</td>\n",
       "      <td>{20180824, 20180831, 20180914, 20181019, 20180...</td>\n",
       "      <td>{128.0, 129.0, 130.0, 131.0, 132.0, 133.0, 134...</td>\n",
       "    </tr>\n",
       "    <tr>\n",
       "      <th>6</th>\n",
       "      <td>EDGX</td>\n",
       "      <td>8314</td>\n",
       "      <td>IBM</td>\n",
       "      <td>100</td>\n",
       "      <td>{20180824, 20180831, 20180914, 20181019, 20180...</td>\n",
       "      <td>{128.0, 129.0, 130.0, 131.0, 132.0, 133.0, 134...</td>\n",
       "    </tr>\n",
       "    <tr>\n",
       "      <th>7</th>\n",
       "      <td>GEMINI</td>\n",
       "      <td>8314</td>\n",
       "      <td>IBM</td>\n",
       "      <td>100</td>\n",
       "      <td>{20180824, 20180831, 20180914, 20181019, 20180...</td>\n",
       "      <td>{128.0, 129.0, 130.0, 131.0, 132.0, 133.0, 134...</td>\n",
       "    </tr>\n",
       "    <tr>\n",
       "      <th>8</th>\n",
       "      <td>MERCURY</td>\n",
       "      <td>8314</td>\n",
       "      <td>IBM</td>\n",
       "      <td>100</td>\n",
       "      <td>{20180824, 20180831, 20180914, 20181019, 20180...</td>\n",
       "      <td>{128.0, 129.0, 130.0, 131.0, 132.0, 133.0, 134...</td>\n",
       "    </tr>\n",
       "    <tr>\n",
       "      <th>9</th>\n",
       "      <td>MIAX</td>\n",
       "      <td>8314</td>\n",
       "      <td>IBM</td>\n",
       "      <td>100</td>\n",
       "      <td>{20180824, 20180831, 20180914, 20181019, 20180...</td>\n",
       "      <td>{128.0, 129.0, 130.0, 131.0, 132.0, 133.0, 134...</td>\n",
       "    </tr>\n",
       "    <tr>\n",
       "      <th>10</th>\n",
       "      <td>CBOE</td>\n",
       "      <td>8314</td>\n",
       "      <td>IBM</td>\n",
       "      <td>100</td>\n",
       "      <td>{20180824, 20180831, 20180914, 20181019, 20180...</td>\n",
       "      <td>{128.0, 129.0, 130.0, 131.0, 132.0, 133.0, 134...</td>\n",
       "    </tr>\n",
       "    <tr>\n",
       "      <th>11</th>\n",
       "      <td>NASDAQBX</td>\n",
       "      <td>8314</td>\n",
       "      <td>IBM</td>\n",
       "      <td>100</td>\n",
       "      <td>{20180824, 20180831, 20180914, 20181019, 20180...</td>\n",
       "      <td>{128.0, 129.0, 130.0, 131.0, 132.0, 133.0, 134...</td>\n",
       "    </tr>\n",
       "    <tr>\n",
       "      <th>12</th>\n",
       "      <td>ISE</td>\n",
       "      <td>8314</td>\n",
       "      <td>IBM</td>\n",
       "      <td>100</td>\n",
       "      <td>{20180824, 20180831, 20180914, 20181019, 20180...</td>\n",
       "      <td>{128.0, 129.0, 130.0, 131.0, 132.0, 133.0, 134...</td>\n",
       "    </tr>\n",
       "    <tr>\n",
       "      <th>13</th>\n",
       "      <td>BATS</td>\n",
       "      <td>8314</td>\n",
       "      <td>IBM</td>\n",
       "      <td>100</td>\n",
       "      <td>{20180824, 20180831, 20180914, 20181019, 20180...</td>\n",
       "      <td>{128.0, 129.0, 130.0, 131.0, 132.0, 133.0, 134...</td>\n",
       "    </tr>\n",
       "    <tr>\n",
       "      <th>14</th>\n",
       "      <td>AMEX</td>\n",
       "      <td>8314</td>\n",
       "      <td>IBM</td>\n",
       "      <td>100</td>\n",
       "      <td>{20180824, 20180831, 20180914, 20181019, 20180...</td>\n",
       "      <td>{128.0, 129.0, 130.0, 131.0, 132.0, 133.0, 134...</td>\n",
       "    </tr>\n",
       "    <tr>\n",
       "      <th>15</th>\n",
       "      <td>SMART</td>\n",
       "      <td>8314</td>\n",
       "      <td>IBM</td>\n",
       "      <td>100</td>\n",
       "      <td>{20180824, 20180831, 20180914, 20181019, 20180...</td>\n",
       "      <td>{128.0, 129.0, 130.0, 131.0, 132.0, 133.0, 134...</td>\n",
       "    </tr>\n",
       "  </tbody>\n",
       "</table>\n",
       "</div>"
      ],
      "text/plain": [
       "    exchange  underlyingConId tradingClass multiplier  \\\n",
       "0   NASDAQOM             8314          IBM        100   \n",
       "1        PSE             8314          IBM        100   \n",
       "2       PHLX             8314          IBM        100   \n",
       "3        BOX             8314          IBM        100   \n",
       "4      PEARL             8314          IBM        100   \n",
       "5      CBOE2             8314          IBM        100   \n",
       "6       EDGX             8314          IBM        100   \n",
       "7     GEMINI             8314          IBM        100   \n",
       "8    MERCURY             8314          IBM        100   \n",
       "9       MIAX             8314          IBM        100   \n",
       "10      CBOE             8314          IBM        100   \n",
       "11  NASDAQBX             8314          IBM        100   \n",
       "12       ISE             8314          IBM        100   \n",
       "13      BATS             8314          IBM        100   \n",
       "14      AMEX             8314          IBM        100   \n",
       "15     SMART             8314          IBM        100   \n",
       "\n",
       "                                          expirations  \\\n",
       "0   {20180824, 20180831, 20180914, 20181019, 20180...   \n",
       "1   {20180824, 20180831, 20180914, 20181019, 20180...   \n",
       "2   {20180824, 20180831, 20180914, 20181019, 20180...   \n",
       "3   {20180824, 20180831, 20180914, 20181019, 20180...   \n",
       "4   {20180824, 20180831, 20180914, 20181019, 20180...   \n",
       "5   {20180824, 20180831, 20180914, 20181019, 20180...   \n",
       "6   {20180824, 20180831, 20180914, 20181019, 20180...   \n",
       "7   {20180824, 20180831, 20180914, 20181019, 20180...   \n",
       "8   {20180824, 20180831, 20180914, 20181019, 20180...   \n",
       "9   {20180824, 20180831, 20180914, 20181019, 20180...   \n",
       "10  {20180824, 20180831, 20180914, 20181019, 20180...   \n",
       "11  {20180824, 20180831, 20180914, 20181019, 20180...   \n",
       "12  {20180824, 20180831, 20180914, 20181019, 20180...   \n",
       "13  {20180824, 20180831, 20180914, 20181019, 20180...   \n",
       "14  {20180824, 20180831, 20180914, 20181019, 20180...   \n",
       "15  {20180824, 20180831, 20180914, 20181019, 20180...   \n",
       "\n",
       "                                              strikes  \n",
       "0   {128.0, 129.0, 130.0, 131.0, 132.0, 133.0, 134...  \n",
       "1   {128.0, 129.0, 130.0, 131.0, 132.0, 133.0, 134...  \n",
       "2   {128.0, 129.0, 130.0, 131.0, 132.0, 133.0, 134...  \n",
       "3   {128.0, 129.0, 130.0, 131.0, 132.0, 133.0, 134...  \n",
       "4   {128.0, 129.0, 130.0, 131.0, 132.0, 133.0, 134...  \n",
       "5   {128.0, 129.0, 130.0, 131.0, 132.0, 133.0, 134...  \n",
       "6   {128.0, 129.0, 130.0, 131.0, 132.0, 133.0, 134...  \n",
       "7   {128.0, 129.0, 130.0, 131.0, 132.0, 133.0, 134...  \n",
       "8   {128.0, 129.0, 130.0, 131.0, 132.0, 133.0, 134...  \n",
       "9   {128.0, 129.0, 130.0, 131.0, 132.0, 133.0, 134...  \n",
       "10  {128.0, 129.0, 130.0, 131.0, 132.0, 133.0, 134...  \n",
       "11  {128.0, 129.0, 130.0, 131.0, 132.0, 133.0, 134...  \n",
       "12  {128.0, 129.0, 130.0, 131.0, 132.0, 133.0, 134...  \n",
       "13  {128.0, 129.0, 130.0, 131.0, 132.0, 133.0, 134...  \n",
       "14  {128.0, 129.0, 130.0, 131.0, 132.0, 133.0, 134...  \n",
       "15  {128.0, 129.0, 130.0, 131.0, 132.0, 133.0, 134...  "
      ]
     },
     "execution_count": 68,
     "metadata": {},
     "output_type": "execute_result"
    }
   ],
   "source": [
    "chains = ib.reqSecDefOptParams(ibm.symbol, '', ibm.secType, ibm.conId)\n",
    "\n",
    "util.df(chains)"
   ]
  },
  {
   "cell_type": "markdown",
   "metadata": {},
   "source": [
    "These are four option chains that differ in ``exchange`` and ``tradingClass``. The latter is 'SPX' for the monthly and  'SPXW' for the weekly options. Note that the weekly expiries are disjoint from the monthly ones, so when interested in the weekly options the monthly options can be added as well.\n",
    "\n",
    "In this case we're only interested in the montly options trading on SMART:"
   ]
  },
  {
   "cell_type": "code",
   "execution_count": 69,
   "metadata": {},
   "outputs": [
    {
     "data": {
      "text/plain": [
       "OptionChain(exchange='SMART', underlyingConId=8314, tradingClass='IBM', multiplier='100', expirations={'20180824', '20180831', '20180914', '20181019', '20180921', '20180817', '20190118', '20190621', '20180928', '20181221', '20200117', '20181116', '20180907'}, strikes={128.0, 129.0, 130.0, 131.0, 132.0, 133.0, 134.0, 135.0, 136.0, 137.0, 138.0, 139.0, 140.0, 141.0, 142.0, 143.0, 144.0, 145.0, 146.0, 147.0, 148.0, 149.0, 150.0, 152.5, 155.0, 157.5, 160.0, 162.5, 165.0, 167.5, 170.0, 172.5, 175.0, 180.0, 185.0, 190.0, 195.0, 200.0, 75.0, 205.0, 80.0, 210.0, 85.0, 215.0, 90.0, 220.0, 95.0, 225.0, 100.0, 230.0, 105.0, 250.0, 235.0, 110.0, 240.0, 115.0, 120.0, 122.0, 123.0, 124.0, 125.0, 126.0, 127.0})"
      ]
     },
     "execution_count": 69,
     "metadata": {},
     "output_type": "execute_result"
    }
   ],
   "source": [
    "chain = next(c for c in chains if c.tradingClass == 'IBM' and c.exchange == 'SMART')\n",
    "chain"
   ]
  },
  {
   "cell_type": "markdown",
   "metadata": {},
   "source": [
    "What we have here is the full matrix of expirations x strikes. From this we can build all the option contracts that meet our conditions:"
   ]
  },
  {
   "cell_type": "code",
   "execution_count": 71,
   "metadata": {},
   "outputs": [
    {
     "data": {
      "text/plain": [
       "12"
      ]
     },
     "execution_count": 71,
     "metadata": {},
     "output_type": "execute_result"
    }
   ],
   "source": [
    "strikes = [strike for strike in chain.strikes\n",
    "        if strike % 5 == 0\n",
    "        and ibmValue - 5 < strike < ibmValue + 5]\n",
    "expirations = sorted(exp for exp in chain.expirations)[:3]\n",
    "rights = ['P', 'C']\n",
    "\n",
    "contracts = [Option('IBM', expiration, strike, right, 'SMART')\n",
    "        for right in rights\n",
    "        for expiration in expirations\n",
    "        for strike in strikes]\n",
    "\n",
    "ib.qualifyContracts(*contracts)\n",
    "len(contracts)"
   ]
  },
  {
   "cell_type": "code",
   "execution_count": 74,
   "metadata": {},
   "outputs": [
    {
     "data": {
      "text/plain": [
       "Option(conId=318440176, symbol='IBM', lastTradeDateOrContractMonth='20180817', strike=145.0, right='P', multiplier='100', exchange='SMART', currency='USD', localSymbol='IBM   180817P00145000', tradingClass='IBM')"
      ]
     },
     "execution_count": 74,
     "metadata": {},
     "output_type": "execute_result"
    }
   ],
   "source": [
    "contracts[1]"
   ]
  },
  {
   "cell_type": "markdown",
   "metadata": {},
   "source": [
    "Now to get the market data for all options in one go:"
   ]
  },
  {
   "cell_type": "code",
   "execution_count": 76,
   "metadata": {
    "scrolled": true
   },
   "outputs": [
    {
     "data": {
      "text/html": [
       "<div>\n",
       "<style scoped>\n",
       "    .dataframe tbody tr th:only-of-type {\n",
       "        vertical-align: middle;\n",
       "    }\n",
       "\n",
       "    .dataframe tbody tr th {\n",
       "        vertical-align: top;\n",
       "    }\n",
       "\n",
       "    .dataframe thead th {\n",
       "        text-align: right;\n",
       "    }\n",
       "</style>\n",
       "<table border=\"1\" class=\"dataframe\">\n",
       "  <thead>\n",
       "    <tr style=\"text-align: right;\">\n",
       "      <th></th>\n",
       "      <th>contract</th>\n",
       "      <th>time</th>\n",
       "      <th>bid</th>\n",
       "      <th>bidSize</th>\n",
       "      <th>ask</th>\n",
       "      <th>askSize</th>\n",
       "      <th>last</th>\n",
       "      <th>lastSize</th>\n",
       "      <th>prevBid</th>\n",
       "      <th>prevBidSize</th>\n",
       "      <th>...</th>\n",
       "      <th>dividends</th>\n",
       "      <th>ticks</th>\n",
       "      <th>tickByTicks</th>\n",
       "      <th>domBids</th>\n",
       "      <th>domAsks</th>\n",
       "      <th>domTicks</th>\n",
       "      <th>bidGreeks</th>\n",
       "      <th>askGreeks</th>\n",
       "      <th>lastGreeks</th>\n",
       "      <th>modelGreeks</th>\n",
       "    </tr>\n",
       "  </thead>\n",
       "  <tbody>\n",
       "    <tr>\n",
       "      <th>0</th>\n",
       "      <td>Option(conId=318440171, symbol='IBM', lastTrad...</td>\n",
       "      <td>2018-08-12 20:02:33.159453+00:00</td>\n",
       "      <td>-1.0</td>\n",
       "      <td>0</td>\n",
       "      <td>-1.0</td>\n",
       "      <td>0</td>\n",
       "      <td>NaN</td>\n",
       "      <td>NaN</td>\n",
       "      <td>NaN</td>\n",
       "      <td>NaN</td>\n",
       "      <td>...</td>\n",
       "      <td>None</td>\n",
       "      <td>[]</td>\n",
       "      <td>[]</td>\n",
       "      <td>[]</td>\n",
       "      <td>[]</td>\n",
       "      <td>[]</td>\n",
       "      <td>None</td>\n",
       "      <td>None</td>\n",
       "      <td>None</td>\n",
       "      <td>None</td>\n",
       "    </tr>\n",
       "    <tr>\n",
       "      <th>1</th>\n",
       "      <td>Option(conId=318440176, symbol='IBM', lastTrad...</td>\n",
       "      <td>2018-08-12 20:02:33.156672+00:00</td>\n",
       "      <td>-1.0</td>\n",
       "      <td>0</td>\n",
       "      <td>-1.0</td>\n",
       "      <td>0</td>\n",
       "      <td>NaN</td>\n",
       "      <td>NaN</td>\n",
       "      <td>NaN</td>\n",
       "      <td>NaN</td>\n",
       "      <td>...</td>\n",
       "      <td>None</td>\n",
       "      <td>[]</td>\n",
       "      <td>[]</td>\n",
       "      <td>[]</td>\n",
       "      <td>[]</td>\n",
       "      <td>[]</td>\n",
       "      <td>None</td>\n",
       "      <td>None</td>\n",
       "      <td>None</td>\n",
       "      <td>None</td>\n",
       "    </tr>\n",
       "    <tr>\n",
       "      <th>2</th>\n",
       "      <td>Option(conId=324898012, symbol='IBM', lastTrad...</td>\n",
       "      <td>2018-08-12 20:02:33.160773+00:00</td>\n",
       "      <td>-1.0</td>\n",
       "      <td>0</td>\n",
       "      <td>-1.0</td>\n",
       "      <td>0</td>\n",
       "      <td>NaN</td>\n",
       "      <td>NaN</td>\n",
       "      <td>NaN</td>\n",
       "      <td>NaN</td>\n",
       "      <td>...</td>\n",
       "      <td>None</td>\n",
       "      <td>[]</td>\n",
       "      <td>[]</td>\n",
       "      <td>[]</td>\n",
       "      <td>[]</td>\n",
       "      <td>[]</td>\n",
       "      <td>None</td>\n",
       "      <td>None</td>\n",
       "      <td>None</td>\n",
       "      <td>None</td>\n",
       "    </tr>\n",
       "    <tr>\n",
       "      <th>3</th>\n",
       "      <td>Option(conId=324898053, symbol='IBM', lastTrad...</td>\n",
       "      <td>2018-08-12 20:02:33.161618+00:00</td>\n",
       "      <td>-1.0</td>\n",
       "      <td>0</td>\n",
       "      <td>-1.0</td>\n",
       "      <td>0</td>\n",
       "      <td>NaN</td>\n",
       "      <td>NaN</td>\n",
       "      <td>NaN</td>\n",
       "      <td>NaN</td>\n",
       "      <td>...</td>\n",
       "      <td>None</td>\n",
       "      <td>[]</td>\n",
       "      <td>[]</td>\n",
       "      <td>[]</td>\n",
       "      <td>[]</td>\n",
       "      <td>[]</td>\n",
       "      <td>None</td>\n",
       "      <td>None</td>\n",
       "      <td>None</td>\n",
       "      <td>None</td>\n",
       "    </tr>\n",
       "    <tr>\n",
       "      <th>4</th>\n",
       "      <td>Option(conId=325662482, symbol='IBM', lastTrad...</td>\n",
       "      <td>2018-08-12 20:02:33.162234+00:00</td>\n",
       "      <td>-1.0</td>\n",
       "      <td>0</td>\n",
       "      <td>-1.0</td>\n",
       "      <td>0</td>\n",
       "      <td>NaN</td>\n",
       "      <td>NaN</td>\n",
       "      <td>NaN</td>\n",
       "      <td>NaN</td>\n",
       "      <td>...</td>\n",
       "      <td>None</td>\n",
       "      <td>[]</td>\n",
       "      <td>[]</td>\n",
       "      <td>[]</td>\n",
       "      <td>[]</td>\n",
       "      <td>[]</td>\n",
       "      <td>None</td>\n",
       "      <td>None</td>\n",
       "      <td>None</td>\n",
       "      <td>None</td>\n",
       "    </tr>\n",
       "    <tr>\n",
       "      <th>5</th>\n",
       "      <td>Option(conId=325662530, symbol='IBM', lastTrad...</td>\n",
       "      <td>2018-08-12 20:02:33.163655+00:00</td>\n",
       "      <td>-1.0</td>\n",
       "      <td>0</td>\n",
       "      <td>-1.0</td>\n",
       "      <td>0</td>\n",
       "      <td>NaN</td>\n",
       "      <td>NaN</td>\n",
       "      <td>NaN</td>\n",
       "      <td>NaN</td>\n",
       "      <td>...</td>\n",
       "      <td>None</td>\n",
       "      <td>[]</td>\n",
       "      <td>[]</td>\n",
       "      <td>[]</td>\n",
       "      <td>[]</td>\n",
       "      <td>[]</td>\n",
       "      <td>None</td>\n",
       "      <td>None</td>\n",
       "      <td>None</td>\n",
       "      <td>None</td>\n",
       "    </tr>\n",
       "    <tr>\n",
       "      <th>6</th>\n",
       "      <td>Option(conId=318439966, symbol='IBM', lastTrad...</td>\n",
       "      <td>2018-08-12 20:02:33.163412+00:00</td>\n",
       "      <td>-1.0</td>\n",
       "      <td>0</td>\n",
       "      <td>-1.0</td>\n",
       "      <td>0</td>\n",
       "      <td>NaN</td>\n",
       "      <td>NaN</td>\n",
       "      <td>NaN</td>\n",
       "      <td>NaN</td>\n",
       "      <td>...</td>\n",
       "      <td>None</td>\n",
       "      <td>[]</td>\n",
       "      <td>[]</td>\n",
       "      <td>[]</td>\n",
       "      <td>[]</td>\n",
       "      <td>[]</td>\n",
       "      <td>None</td>\n",
       "      <td>None</td>\n",
       "      <td>None</td>\n",
       "      <td>None</td>\n",
       "    </tr>\n",
       "    <tr>\n",
       "      <th>7</th>\n",
       "      <td>Option(conId=318439975, symbol='IBM', lastTrad...</td>\n",
       "      <td>2018-08-12 20:02:33.162433+00:00</td>\n",
       "      <td>-1.0</td>\n",
       "      <td>0</td>\n",
       "      <td>-1.0</td>\n",
       "      <td>0</td>\n",
       "      <td>NaN</td>\n",
       "      <td>NaN</td>\n",
       "      <td>NaN</td>\n",
       "      <td>NaN</td>\n",
       "      <td>...</td>\n",
       "      <td>None</td>\n",
       "      <td>[]</td>\n",
       "      <td>[]</td>\n",
       "      <td>[]</td>\n",
       "      <td>[]</td>\n",
       "      <td>[]</td>\n",
       "      <td>None</td>\n",
       "      <td>None</td>\n",
       "      <td>None</td>\n",
       "      <td>None</td>\n",
       "    </tr>\n",
       "    <tr>\n",
       "      <th>8</th>\n",
       "      <td>Option(conId=324897886, symbol='IBM', lastTrad...</td>\n",
       "      <td>2018-08-12 20:02:33.158092+00:00</td>\n",
       "      <td>-1.0</td>\n",
       "      <td>0</td>\n",
       "      <td>-1.0</td>\n",
       "      <td>0</td>\n",
       "      <td>NaN</td>\n",
       "      <td>NaN</td>\n",
       "      <td>NaN</td>\n",
       "      <td>NaN</td>\n",
       "      <td>...</td>\n",
       "      <td>None</td>\n",
       "      <td>[]</td>\n",
       "      <td>[]</td>\n",
       "      <td>[]</td>\n",
       "      <td>[]</td>\n",
       "      <td>[]</td>\n",
       "      <td>None</td>\n",
       "      <td>None</td>\n",
       "      <td>None</td>\n",
       "      <td>None</td>\n",
       "    </tr>\n",
       "    <tr>\n",
       "      <th>9</th>\n",
       "      <td>Option(conId=324897907, symbol='IBM', lastTrad...</td>\n",
       "      <td>2018-08-12 20:02:33.160927+00:00</td>\n",
       "      <td>-1.0</td>\n",
       "      <td>0</td>\n",
       "      <td>-1.0</td>\n",
       "      <td>0</td>\n",
       "      <td>NaN</td>\n",
       "      <td>NaN</td>\n",
       "      <td>NaN</td>\n",
       "      <td>NaN</td>\n",
       "      <td>...</td>\n",
       "      <td>None</td>\n",
       "      <td>[]</td>\n",
       "      <td>[]</td>\n",
       "      <td>[]</td>\n",
       "      <td>[]</td>\n",
       "      <td>[]</td>\n",
       "      <td>None</td>\n",
       "      <td>None</td>\n",
       "      <td>None</td>\n",
       "      <td>None</td>\n",
       "    </tr>\n",
       "    <tr>\n",
       "      <th>10</th>\n",
       "      <td>Option(conId=325662109, symbol='IBM', lastTrad...</td>\n",
       "      <td>2018-08-12 20:02:33.160462+00:00</td>\n",
       "      <td>-1.0</td>\n",
       "      <td>0</td>\n",
       "      <td>-1.0</td>\n",
       "      <td>0</td>\n",
       "      <td>NaN</td>\n",
       "      <td>NaN</td>\n",
       "      <td>NaN</td>\n",
       "      <td>NaN</td>\n",
       "      <td>...</td>\n",
       "      <td>None</td>\n",
       "      <td>[]</td>\n",
       "      <td>[]</td>\n",
       "      <td>[]</td>\n",
       "      <td>[]</td>\n",
       "      <td>[]</td>\n",
       "      <td>None</td>\n",
       "      <td>None</td>\n",
       "      <td>None</td>\n",
       "      <td>None</td>\n",
       "    </tr>\n",
       "    <tr>\n",
       "      <th>11</th>\n",
       "      <td>Option(conId=325662169, symbol='IBM', lastTrad...</td>\n",
       "      <td>2018-08-12 20:02:33.157301+00:00</td>\n",
       "      <td>-1.0</td>\n",
       "      <td>0</td>\n",
       "      <td>-1.0</td>\n",
       "      <td>0</td>\n",
       "      <td>NaN</td>\n",
       "      <td>NaN</td>\n",
       "      <td>NaN</td>\n",
       "      <td>NaN</td>\n",
       "      <td>...</td>\n",
       "      <td>None</td>\n",
       "      <td>[]</td>\n",
       "      <td>[]</td>\n",
       "      <td>[]</td>\n",
       "      <td>[]</td>\n",
       "      <td>[]</td>\n",
       "      <td>None</td>\n",
       "      <td>None</td>\n",
       "      <td>None</td>\n",
       "      <td>None</td>\n",
       "    </tr>\n",
       "  </tbody>\n",
       "</table>\n",
       "<p>12 rows × 46 columns</p>\n",
       "</div>"
      ],
      "text/plain": [
       "                                             contract  \\\n",
       "0   Option(conId=318440171, symbol='IBM', lastTrad...   \n",
       "1   Option(conId=318440176, symbol='IBM', lastTrad...   \n",
       "2   Option(conId=324898012, symbol='IBM', lastTrad...   \n",
       "3   Option(conId=324898053, symbol='IBM', lastTrad...   \n",
       "4   Option(conId=325662482, symbol='IBM', lastTrad...   \n",
       "5   Option(conId=325662530, symbol='IBM', lastTrad...   \n",
       "6   Option(conId=318439966, symbol='IBM', lastTrad...   \n",
       "7   Option(conId=318439975, symbol='IBM', lastTrad...   \n",
       "8   Option(conId=324897886, symbol='IBM', lastTrad...   \n",
       "9   Option(conId=324897907, symbol='IBM', lastTrad...   \n",
       "10  Option(conId=325662109, symbol='IBM', lastTrad...   \n",
       "11  Option(conId=325662169, symbol='IBM', lastTrad...   \n",
       "\n",
       "                               time  bid  bidSize  ask  askSize  last  \\\n",
       "0  2018-08-12 20:02:33.159453+00:00 -1.0        0 -1.0        0   NaN   \n",
       "1  2018-08-12 20:02:33.156672+00:00 -1.0        0 -1.0        0   NaN   \n",
       "2  2018-08-12 20:02:33.160773+00:00 -1.0        0 -1.0        0   NaN   \n",
       "3  2018-08-12 20:02:33.161618+00:00 -1.0        0 -1.0        0   NaN   \n",
       "4  2018-08-12 20:02:33.162234+00:00 -1.0        0 -1.0        0   NaN   \n",
       "5  2018-08-12 20:02:33.163655+00:00 -1.0        0 -1.0        0   NaN   \n",
       "6  2018-08-12 20:02:33.163412+00:00 -1.0        0 -1.0        0   NaN   \n",
       "7  2018-08-12 20:02:33.162433+00:00 -1.0        0 -1.0        0   NaN   \n",
       "8  2018-08-12 20:02:33.158092+00:00 -1.0        0 -1.0        0   NaN   \n",
       "9  2018-08-12 20:02:33.160927+00:00 -1.0        0 -1.0        0   NaN   \n",
       "10 2018-08-12 20:02:33.160462+00:00 -1.0        0 -1.0        0   NaN   \n",
       "11 2018-08-12 20:02:33.157301+00:00 -1.0        0 -1.0        0   NaN   \n",
       "\n",
       "    lastSize  prevBid  prevBidSize     ...       dividends  ticks  \\\n",
       "0        NaN      NaN          NaN     ...            None     []   \n",
       "1        NaN      NaN          NaN     ...            None     []   \n",
       "2        NaN      NaN          NaN     ...            None     []   \n",
       "3        NaN      NaN          NaN     ...            None     []   \n",
       "4        NaN      NaN          NaN     ...            None     []   \n",
       "5        NaN      NaN          NaN     ...            None     []   \n",
       "6        NaN      NaN          NaN     ...            None     []   \n",
       "7        NaN      NaN          NaN     ...            None     []   \n",
       "8        NaN      NaN          NaN     ...            None     []   \n",
       "9        NaN      NaN          NaN     ...            None     []   \n",
       "10       NaN      NaN          NaN     ...            None     []   \n",
       "11       NaN      NaN          NaN     ...            None     []   \n",
       "\n",
       "    tickByTicks  domBids  domAsks  domTicks  bidGreeks  askGreeks  lastGreeks  \\\n",
       "0            []       []       []        []       None       None        None   \n",
       "1            []       []       []        []       None       None        None   \n",
       "2            []       []       []        []       None       None        None   \n",
       "3            []       []       []        []       None       None        None   \n",
       "4            []       []       []        []       None       None        None   \n",
       "5            []       []       []        []       None       None        None   \n",
       "6            []       []       []        []       None       None        None   \n",
       "7            []       []       []        []       None       None        None   \n",
       "8            []       []       []        []       None       None        None   \n",
       "9            []       []       []        []       None       None        None   \n",
       "10           []       []       []        []       None       None        None   \n",
       "11           []       []       []        []       None       None        None   \n",
       "\n",
       "    modelGreeks  \n",
       "0          None  \n",
       "1          None  \n",
       "2          None  \n",
       "3          None  \n",
       "4          None  \n",
       "5          None  \n",
       "6          None  \n",
       "7          None  \n",
       "8          None  \n",
       "9          None  \n",
       "10         None  \n",
       "11         None  \n",
       "\n",
       "[12 rows x 46 columns]"
      ]
     },
     "execution_count": 76,
     "metadata": {},
     "output_type": "execute_result"
    }
   ],
   "source": [
    "tickers = ib.reqTickers(*contracts)\n",
    "\n",
    "tickers[0]\n",
    "util.df(tickers)"
   ]
  },
  {
   "cell_type": "markdown",
   "metadata": {},
   "source": [
    "The option greeks are available from the ``modelGreeks`` attribute, and if there is a bid, ask resp. last price available also from ``bidGreeks``, ``askGreeks`` and ``lastGreeks``. For streaming ticks the greek values will be kept up to date to the current market situation."
   ]
  },
  {
   "cell_type": "code",
   "execution_count": 10,
   "metadata": {},
   "outputs": [],
   "source": [
    "ib.disconnect()"
   ]
  },
  {
   "cell_type": "code",
   "execution_count": null,
   "metadata": {},
   "outputs": [],
   "source": []
  }
 ],
 "metadata": {
  "kernelspec": {
   "display_name": "Python 3",
   "language": "python",
   "name": "python3"
  },
  "language_info": {
   "codemirror_mode": {
    "name": "ipython",
    "version": 3
   },
   "file_extension": ".py",
   "mimetype": "text/x-python",
   "name": "python",
   "nbconvert_exporter": "python",
   "pygments_lexer": "ipython3",
   "version": "3.6.5"
  }
 },
 "nbformat": 4,
 "nbformat_minor": 2
}
