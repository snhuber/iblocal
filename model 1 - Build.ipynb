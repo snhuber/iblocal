{
 "cells": [
  {
   "cell_type": "markdown",
   "metadata": {},
   "source": [
    "# Connect to Trader Workstation \n",
    "** from Interactive Brokers (testing use port 7497 for paper trading account.) **"
   ]
  },
  {
   "cell_type": "code",
   "execution_count": 181,
   "metadata": {
    "scrolled": false
   },
   "outputs": [
    {
     "data": {
      "text/plain": [
       "<IB connected to 127.0.0.1:7497 clientId=3>"
      ]
     },
     "execution_count": 181,
     "metadata": {},
     "output_type": "execute_result"
    }
   ],
   "source": [
    "# common imports\n",
    "import numpy as np\n",
    "import os\n",
    "\n",
    "from ib_insync import *\n",
    "util.startLoop()\n",
    "\n",
    "ib = IB()\n",
    "ib.connect('127.0.0.1', 7497, clientId=3)"
   ]
  },
  {
   "cell_type": "markdown",
   "metadata": {},
   "source": [
    "Test for connection"
   ]
  },
  {
   "cell_type": "code",
   "execution_count": 182,
   "metadata": {},
   "outputs": [
    {
     "data": {
      "text/plain": [
       "True"
      ]
     },
     "execution_count": 182,
     "metadata": {},
     "output_type": "execute_result"
    }
   ],
   "source": [
    "ib.isConnected()"
   ]
  },
  {
   "cell_type": "markdown",
   "metadata": {},
   "source": [
    "Select the Stock we wish to model."
   ]
  },
  {
   "cell_type": "code",
   "execution_count": 183,
   "metadata": {
    "scrolled": true
   },
   "outputs": [
    {
     "data": {
      "text/plain": [
       "datetime.datetime(2010, 6, 29, 8, 0)"
      ]
     },
     "execution_count": 183,
     "metadata": {},
     "output_type": "execute_result"
    }
   ],
   "source": [
    "\n",
    "contract = Stock('TSLA', 'SMART', 'USD')\n",
    "# shows date of first available historical data (how far back we can model).\n",
    "ib.reqHeadTimeStamp(contract, whatToShow='TRADES', useRTH=True)"
   ]
  },
  {
   "cell_type": "code",
   "execution_count": 39,
   "metadata": {},
   "outputs": [],
   "source": [
    "# TRADES HISTORICAL_VOLATILITY OPTION_IMPLIED_VOLATILITY"
   ]
  },
  {
   "cell_type": "code",
   "execution_count": 184,
   "metadata": {},
   "outputs": [],
   "source": [
    "trade_data = ib.reqHistoricalData(\n",
    "        contract,\n",
    "        endDateTime='',\n",
    "        durationStr='90 D',\n",
    "        barSizeSetting='1 min',\n",
    "        whatToShow='TRADES',\n",
    "        useRTH=True,\n",
    "        formatDate=1)"
   ]
  },
  {
   "cell_type": "markdown",
   "metadata": {},
   "source": [
    " Option implied volitiilty data "
   ]
  },
  {
   "cell_type": "code",
   "execution_count": 185,
   "metadata": {},
   "outputs": [],
   "source": [
    "option_implied_vol = ib.reqHistoricalData(\n",
    "        contract,\n",
    "        endDateTime='',\n",
    "        durationStr='90 D',\n",
    "        barSizeSetting='1 min',\n",
    "        whatToShow='OPTION_IMPLIED_VOLATILITY',\n",
    "        useRTH=True,\n",
    "        formatDate=1)"
   ]
  },
  {
   "cell_type": "code",
   "execution_count": 186,
   "metadata": {
    "scrolled": false
   },
   "outputs": [
    {
     "data": {
      "text/plain": [
       "BarData(date=datetime.datetime(2018, 4, 10, 6, 30), open=0.62367767, high=0.62367767, low=0.60111999, close=0.60111999, average=0.62367767)"
      ]
     },
     "execution_count": 186,
     "metadata": {},
     "output_type": "execute_result"
    }
   ],
   "source": [
    "option_implied_vol[0]\n",
    "# trade_data[0]"
   ]
  },
  {
   "cell_type": "markdown",
   "metadata": {},
   "source": [
    "Helper function to ready data"
   ]
  },
  {
   "cell_type": "code",
   "execution_count": 187,
   "metadata": {
    "scrolled": true
   },
   "outputs": [],
   "source": [
    "def data_prep(trade_data, option_implied_vol):\n",
    "    # convert into dataframes \n",
    "    df_trades = util.df(trade_data)\n",
    "    df_optImpVol = util.df(option_implied_vol)\n",
    "    # remove empty colums (volume, barcount) and rename columns so they dont conflict with Trades\n",
    "    df_optImpVol.drop(columns=['volume', 'barCount'], inplace=True)\n",
    "    # Rename cols\n",
    "    df_optImpVol.rename(index=str, columns={\"open\": \"volOpen\", \"high\":\"volHigh\", \"low\":\"volLow\", \"close\":\"volClose\", \"average\":\"volAverage\"})\n",
    "    # Merge datasets\n",
    "    df_merged = df_trades.merge(df_optImpVol, left_on='date', right_on='date', how='outer')\n",
    "    #  add new columns and normalize data. \n",
    "    #  ROC_min = close_x - open_x / open_x * 100    # Rate of change per minute\n",
    "    df_merged['ROC_min'] = ( df_merged['close_x'] - df_merged['open_x'] ) / ( df_merged['open_x']  ) \n",
    "    #  perMinVol = high_x - low_x / low_x * 100     # intra minute spread volitity\n",
    "    df_merged['perMinVol'] = ( df_merged['high_x'] - df_merged['low_x'] ) / df_merged['low_x'] \n",
    "    # adding 7day rolling mean for price \n",
    "    df_merged['rollMean_7day'] = df_merged['close_x'].rolling(2940).mean()\n",
    "    # drop unwanted columns: open_x, high_x, low_x, average_x, open_y, hight_y, low_y, average_y \n",
    "    df_merged.drop(columns=['date','open_x', 'high_x', 'low_x', 'average_x', 'open_y', 'high_y', 'low_y', 'average_y'], inplace=True)\n",
    "#     # Rename cols\n",
    "#     df_merged.rename(index=str, columns={\"close_x\":\"price_close\", \"close_y\":\"avgMinVol\"})\n",
    "#     df_merged.head(3)\n",
    "\n",
    "    return df_merged\n",
    "\n"
   ]
  },
  {
   "cell_type": "code",
   "execution_count": 214,
   "metadata": {
    "scrolled": true
   },
   "outputs": [
    {
     "name": "stdout",
     "output_type": "stream",
     "text": [
      "(34920, 7)\n",
      "   close_x  volume  barCount   close_y   ROC_min  perMinVol  rollMean_7day\n",
      "0   297.58    1756       538  0.601120 -0.004050   0.007073            NaN\n",
      "1   294.97     930       484  0.601120 -0.007737   0.008515            NaN\n",
      "2   294.09     854       483  0.614582 -0.002747   0.006402            NaN\n",
      "(31970, 7)\n",
      "      close_x  volume  barCount   close_y   ROC_min  perMinVol  rollMean_7day\n",
      "2950   295.83     130        67  0.545797 -0.001957   0.002096     296.880895\n",
      "2951   295.38     118        83  0.545797 -0.001454   0.002712     296.880320\n",
      "2952   295.63     117        64  0.547718  0.000440   0.002237     296.879350\n"
     ]
    }
   ],
   "source": [
    "df = data_prep(trade_data, option_implied_vol)\n",
    "print(df.shape)\n",
    "print(df.head(3))\n",
    "# remove the NaN's from rollMean_7day\n",
    "df = df[2950 : ]\n",
    "print(df.shape)\n",
    "print(df.head(3))\n"
   ]
  },
  {
   "cell_type": "code",
   "execution_count": 311,
   "metadata": {
    "scrolled": true
   },
   "outputs": [
    {
     "name": "stdout",
     "output_type": "stream",
     "text": [
      "scaled [0.19425869 0.0108019  0.01710282 0.6464882  0.4806246  0.06093334\n",
      " 0.22548771]\n",
      "This is reframed.head     var1(t-1)  var2(t-1)  var3(t-1)  var4(t-1)  var5(t-1)  var6(t-1)  \\\n",
      "1   0.198270   0.011900   0.013806   0.646488   0.470348   0.047099   \n",
      "2   0.194259   0.010802   0.017103   0.646488   0.480625   0.060933   \n",
      "3   0.196487   0.010710   0.013188   0.652902   0.519303   0.050272   \n",
      "4   0.195953   0.004669   0.005976   0.652902   0.506172   0.017493   \n",
      "5   0.198359   0.007598   0.009685   0.648449   0.529668   0.028901   \n",
      "\n",
      "   var7(t-1)   var1(t)  \n",
      "1   0.225495  0.194259  \n",
      "2   0.225488  0.196487  \n",
      "3   0.225475  0.195953  \n",
      "4   0.225461  0.198359  \n",
      "5   0.225449  0.198538  \n",
      "reframed shape (31969, 8)\n"
     ]
    }
   ],
   "source": [
    "from math import sqrt\n",
    "from numpy import concatenate\n",
    "from matplotlib import pyplot\n",
    "from pandas import read_csv\n",
    "from pandas import DataFrame\n",
    "from pandas import concat\n",
    "from sklearn.preprocessing import MinMaxScaler\n",
    "from sklearn.preprocessing import LabelEncoder\n",
    "from sklearn.metrics import mean_squared_error\n",
    "from keras.models import Sequential\n",
    "from keras.layers import Dense\n",
    "from keras.layers import LSTM\n",
    " \n",
    "# convert series to supervised learning\n",
    "def series_to_supervised(data, n_in=1, n_out=1, dropnan=True):\n",
    "\tn_vars = 1 if type(data) is list else data.shape[1]\n",
    "\tdf = DataFrame(data)\n",
    "\tcols, names = list(), list()\n",
    "\t# input sequence (t-n, ... t-1)\n",
    "\tfor i in range(n_in, 0, -1):\n",
    "\t\tcols.append(df.shift(i))\n",
    "\t\tnames += [('var%d(t-%d)' % (j+1, i)) for j in range(n_vars)]\n",
    "\t# forecast sequence (t, t+1, ... t+n)\n",
    "\tfor i in range(0, n_out):\n",
    "\t\tcols.append(df.shift(-i))\n",
    "\t\tif i == 0:\n",
    "\t\t\tnames += [('var%d(t)' % (j+1)) for j in range(n_vars)]\n",
    "\t\telse:\n",
    "\t\t\tnames += [('var%d(t+%d)' % (j+1, i)) for j in range(n_vars)]\n",
    "\t# put it all together\n",
    "\tagg = concat(cols, axis=1)\n",
    "\tagg.columns = names\n",
    "\t# drop rows with NaN values\n",
    "\tif dropnan:\n",
    "\t\tagg.dropna(inplace=True)\n",
    "\treturn agg\n",
    " \n",
    "# load dataset\n",
    "# dataset = read_csv('/Users/lorinfields/Downloads/pollution.csv', header=0, index_col=0)\n",
    "dataset = df\n",
    "\n",
    "values = dataset.values\n",
    "# integer encode direction\n",
    "# encoder = LabelEncoder()\n",
    "# values[:,4] = encoder.fit_transform(values[:,4])\n",
    "# # ensure all data is float\n",
    "values = values.astype('float32')\n",
    "# normalize features\n",
    "scaler = MinMaxScaler(feature_range=(0, 1))\n",
    "scaled = scaler.fit_transform(values)\n",
    "print('scaled', scaled[1])\n",
    "# frame as supervised learning\n",
    "reframed = series_to_supervised(scaled, 1, 1)\n",
    "\n",
    "# drop columns we don't want to predict\n",
    "reframed.drop(reframed.columns[[8,9,10,11,12,13]], axis=1, inplace=True)\n",
    "print('This is reframed.head ', reframed.head())\n",
    "print('reframed shape', reframed.shape)"
   ]
  },
  {
   "cell_type": "code",
   "execution_count": null,
   "metadata": {},
   "outputs": [],
   "source": []
  },
  {
   "cell_type": "code",
   "execution_count": 312,
   "metadata": {
    "scrolled": true
   },
   "outputs": [
    {
     "name": "stdout",
     "output_type": "stream",
     "text": [
      "(31969, 8)\n",
      "[0.19827032 0.0119004  0.01380589 0.6464882  0.47034776 0.04709882\n",
      " 0.2254951  0.19425869]\n",
      "(25000, 1, 7) (25000,) (6969, 1, 7) (6969,)\n"
     ]
    }
   ],
   "source": [
    " \n",
    "# split into train and test sets\n",
    "values = reframed.values\n",
    "n_train_min = 25000\n",
    "print(values.shape)\n",
    "print(values[0])\n",
    "train = values[:n_train_min, :]\n",
    "test = values[n_train_min:, :]\n",
    "# split into input and outputs\n",
    "train_X, train_y = train[:, :-1], train[:, -1]\n",
    "test_X, test_y = test[:, :-1], test[:, -1]\n",
    "# reshape input to be 3D [samples, timesteps, features]\n",
    "train_X = train_X.reshape((train_X.shape[0], 1, train_X.shape[1]))\n",
    "test_X = test_X.reshape((test_X.shape[0], 1, test_X.shape[1]))\n",
    "print(train_X.shape, train_y.shape, test_X.shape, test_y.shape)\n"
   ]
  },
  {
   "cell_type": "code",
   "execution_count": 313,
   "metadata": {
    "scrolled": true
   },
   "outputs": [
    {
     "name": "stdout",
     "output_type": "stream",
     "text": [
      "Train on 25000 samples, validate on 6969 samples\n",
      "Epoch 1/50\n",
      " - 6s - loss: 0.0074 - val_loss: 0.0417\n",
      "Epoch 2/50\n",
      " - 1s - loss: 0.0065 - val_loss: 0.0223\n",
      "Epoch 3/50\n",
      " - 1s - loss: 0.0033 - val_loss: 0.0072\n",
      "Epoch 4/50\n",
      " - 1s - loss: 0.0013 - val_loss: 0.0024\n",
      "Epoch 5/50\n",
      " - 1s - loss: 7.9198e-04 - val_loss: 0.0075\n",
      "Epoch 6/50\n",
      " - 1s - loss: 7.9640e-04 - val_loss: 0.0124\n",
      "Epoch 7/50\n",
      " - 1s - loss: 6.7809e-04 - val_loss: 0.0130\n",
      "Epoch 8/50\n",
      " - 1s - loss: 4.7486e-04 - val_loss: 0.0103\n",
      "Epoch 9/50\n",
      " - 1s - loss: 2.8431e-04 - val_loss: 0.0065\n",
      "Epoch 10/50\n",
      " - 1s - loss: 1.6622e-04 - val_loss: 0.0034\n",
      "Epoch 11/50\n",
      " - 1s - loss: 1.4384e-04 - val_loss: 0.0018\n",
      "Epoch 12/50\n",
      " - 1s - loss: 1.9724e-04 - val_loss: 0.0016\n",
      "Epoch 13/50\n",
      " - 1s - loss: 2.6723e-04 - val_loss: 0.0021\n",
      "Epoch 14/50\n",
      " - 1s - loss: 3.0576e-04 - val_loss: 0.0023\n",
      "Epoch 15/50\n",
      " - 1s - loss: 2.9287e-04 - val_loss: 0.0021\n",
      "Epoch 16/50\n",
      " - 1s - loss: 2.3573e-04 - val_loss: 0.0015\n",
      "Epoch 17/50\n",
      " - 1s - loss: 1.5968e-04 - val_loss: 6.2143e-04\n",
      "Epoch 18/50\n",
      " - 1s - loss: 9.4970e-05 - val_loss: 1.5051e-04\n",
      "Epoch 19/50\n",
      " - 1s - loss: 5.8000e-05 - val_loss: 3.4350e-04\n",
      "Epoch 20/50\n",
      " - 1s - loss: 4.2925e-05 - val_loss: 7.6861e-04\n",
      "Epoch 21/50\n",
      " - 1s - loss: 3.6083e-05 - val_loss: 7.1318e-04\n",
      "Epoch 22/50\n",
      " - 1s - loss: 3.1227e-05 - val_loss: 4.3064e-04\n",
      "Epoch 23/50\n",
      " - 1s - loss: 2.9960e-05 - val_loss: 2.5713e-04\n",
      "Epoch 24/50\n",
      " - 1s - loss: 3.1745e-05 - val_loss: 1.9011e-04\n",
      "Epoch 25/50\n",
      " - 1s - loss: 3.4043e-05 - val_loss: 1.6390e-04\n",
      "Epoch 26/50\n",
      " - 1s - loss: 3.5742e-05 - val_loss: 1.4864e-04\n",
      "Epoch 27/50\n",
      " - 1s - loss: 3.6874e-05 - val_loss: 1.3716e-04\n",
      "Epoch 28/50\n",
      " - 2s - loss: 3.7414e-05 - val_loss: 1.2772e-04\n",
      "Epoch 29/50\n",
      " - 1s - loss: 3.7299e-05 - val_loss: 1.1948e-04\n",
      "Epoch 30/50\n",
      " - 1s - loss: 3.6676e-05 - val_loss: 1.1238e-04\n",
      "Epoch 31/50\n",
      " - 1s - loss: 3.5803e-05 - val_loss: 1.0659e-04\n",
      "Epoch 32/50\n",
      " - 1s - loss: 3.4874e-05 - val_loss: 1.0193e-04\n",
      "Epoch 33/50\n",
      " - 1s - loss: 3.3965e-05 - val_loss: 9.8239e-05\n",
      "Epoch 34/50\n",
      " - 1s - loss: 3.3130e-05 - val_loss: 9.5122e-05\n",
      "Epoch 35/50\n",
      " - 1s - loss: 3.2378e-05 - val_loss: 9.2262e-05\n",
      "Epoch 36/50\n",
      " - 1s - loss: 3.1709e-05 - val_loss: 8.9496e-05\n",
      "Epoch 37/50\n",
      " - 1s - loss: 3.1121e-05 - val_loss: 8.6847e-05\n",
      "Epoch 38/50\n",
      " - 1s - loss: 3.0616e-05 - val_loss: 8.4513e-05\n",
      "Epoch 39/50\n",
      " - 1s - loss: 3.0183e-05 - val_loss: 8.2518e-05\n",
      "Epoch 40/50\n",
      " - 1s - loss: 2.9822e-05 - val_loss: 8.1113e-05\n",
      "Epoch 41/50\n",
      " - 1s - loss: 2.9534e-05 - val_loss: 8.0285e-05\n",
      "Epoch 42/50\n",
      " - 1s - loss: 2.9306e-05 - val_loss: 7.9996e-05\n",
      "Epoch 43/50\n",
      " - 1s - loss: 2.9124e-05 - val_loss: 8.0116e-05\n",
      "Epoch 44/50\n",
      " - 1s - loss: 2.8975e-05 - val_loss: 8.0634e-05\n",
      "Epoch 45/50\n",
      " - 1s - loss: 2.8864e-05 - val_loss: 8.1472e-05\n",
      "Epoch 46/50\n",
      " - 1s - loss: 2.8777e-05 - val_loss: 8.2568e-05\n",
      "Epoch 47/50\n",
      " - 1s - loss: 2.8710e-05 - val_loss: 8.3851e-05\n",
      "Epoch 48/50\n",
      " - 1s - loss: 2.8663e-05 - val_loss: 8.5254e-05\n",
      "Epoch 49/50\n",
      " - 1s - loss: 2.8632e-05 - val_loss: 8.6711e-05\n",
      "Epoch 50/50\n",
      " - 1s - loss: 2.8612e-05 - val_loss: 8.8154e-05\n"
     ]
    },
    {
     "data": {
      "image/png": "[encoded data removed]",
      "text/plain": [
       "<Figure size 432x288 with 1 Axes>"
      ]
     },
     "metadata": {},
     "output_type": "display_data"
    }
   ],
   "source": [
    "# *** Now we can define and fit our LSTM model.\n",
    "# We will define the LSTM with 50 neurons in the first hidden layer and 1 neuron in the output layer for predicting pollution. The input shape will be 1 time step with 8 features.\n",
    "# We will use the Mean Absolute Error (MAE) loss function and the efficient Adam version of stochastic gradient descent.\n",
    "# The model will be fit for 50 training epochs with a batch size of 72. Remember that the internal state of the LSTM in Keras is reset at the end of each batch, so an internal state that is a function of a number of days may be helpful (try testing this).\n",
    "# Finally, we keep track of both the training and test loss during training by setting the validation_data argument in the fit() function. At the end of the run both the training and test loss are plotted.\n",
    "# ***\n",
    "# design network\n",
    "model = Sequential()\n",
    "model.add(LSTM(50, input_shape=(train_X.shape[1], train_X.shape[2])))\n",
    "model.add(Dense(1))\n",
    "# model.compile(loss='mae', optimizer='adam')\n",
    "model.compile(loss='mse', optimizer='adam')\n",
    "\n",
    "# fit network\n",
    "history = model.fit(train_X, train_y, epochs=50, batch_size=72, validation_data=(test_X, test_y), verbose=2, shuffle=False)\n",
    "# plot history\n",
    "pyplot.plot(history.history['loss'], label='train')\n",
    "pyplot.plot(history.history['val_loss'], label='test')\n",
    "pyplot.legend()\n",
    "pyplot.show()\n",
    " \n"
   ]
  },
  {
   "cell_type": "code",
   "execution_count": 314,
   "metadata": {
    "scrolled": false
   },
   "outputs": [
    {
     "name": "stdout",
     "output_type": "stream",
     "text": [
      "Test RMSE: 1.053\n",
      "(6969,)\n",
      "(6969,)\n",
      "296.633\n",
      "296.9\n",
      "6969\n",
      "totalGain 43.700164794921875\n",
      "totalBuys 1716\n"
     ]
    }
   ],
   "source": [
    "# make a prediction\n",
    "yhat = model.predict(test_X)\n",
    "test_X = test_X.reshape((test_X.shape[0], test_X.shape[2]))\n",
    "# invert scaling for forecast\n",
    "inv_yhat = concatenate((yhat, test_X[:, 1:]), axis=1)\n",
    "inv_yhat = scaler.inverse_transform(inv_yhat)\n",
    "inv_yhat = inv_yhat[:,0]\n",
    "# invert scaling for actual\n",
    "test_y = test_y.reshape((len(test_y), 1))\n",
    "inv_y = concatenate((test_y, test_X[:, 1:]), axis=1)\n",
    "inv_y = scaler.inverse_transform(inv_y)\n",
    "inv_y = inv_y[:,0]\n",
    "# calculate RMSE\n",
    "rmse = sqrt(mean_squared_error(inv_y, inv_yhat))\n",
    "print('Test RMSE: %.3f' % rmse)\n",
    "print(inv_yhat.shape)\n",
    "print(inv_y.shape)\n",
    "print(inv_yhat[500])\n",
    "print(inv_y[500])\n",
    "runs = len(inv_y)\n",
    "print(runs)\n",
    "# if the model predicts the stock is going up it buys a share and sells the following minute.\n",
    "# if the stock does indeed gain the net is added to total. If it loses the net loss is subtracted \n",
    "# from total.\n",
    "totalGain = 0\n",
    "totalBuys = 0\n",
    "for i in range(runs - 1):\n",
    "    if ((inv_yhat[i + 1] - inv_y[i]) > .3 ):\n",
    "        totalGain += inv_y[i + 1] - inv_y[i]\n",
    "        totalBuys += 1\n",
    "#         print('gain= ', inv_yhat[i + 1] - inv_y[i])\n",
    "#         print('% gain= ', ((inv_yhat[i + 1] - inv_y[i]) / inv_y[i]))\n",
    "              \n",
    "print('totalGain', totalGain)\n",
    "print('totalBuys', totalBuys)\n",
    "print('inv_y[])\n",
    "    \n",
    "    \n"
   ]
  },
  {
   "cell_type": "code",
   "execution_count": null,
   "metadata": {},
   "outputs": [],
   "source": []
  },
  {
   "cell_type": "code",
   "execution_count": null,
   "metadata": {},
   "outputs": [],
   "source": [
    " "
   ]
  },
  {
   "cell_type": "code",
   "execution_count": 310,
   "metadata": {},
   "outputs": [],
   "source": [
    "ib.disconnect()"
   ]
  }
 ],
 "metadata": {
  "kernelspec": {
   "display_name": "Python 3",
   "language": "python",
   "name": "python3"
  },
  "language_info": {
   "codemirror_mode": {
    "name": "ipython",
    "version": 3
   },
   "file_extension": ".py",
   "mimetype": "text/x-python",
   "name": "python",
   "nbconvert_exporter": "python",
   "pygments_lexer": "ipython3",
   "version": "3.6.5"
  }
 },
 "nbformat": 4,
 "nbformat_minor": 2
}
