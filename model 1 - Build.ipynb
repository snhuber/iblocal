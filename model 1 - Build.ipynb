{
 "cells": [
  {
   "cell_type": "markdown",
   "metadata": {},
   "source": [
    "# Connect to Trader Workstation \n",
    "** from Interactive Brokers (testing use port 7497 for paper trading account.) **"
   ]
  },
  {
   "cell_type": "code",
   "execution_count": 1,
   "metadata": {
    "scrolled": false
   },
   "outputs": [
    {
     "data": {
      "text/plain": [
       "<IB connected to 127.0.0.1:7497 clientId=3>"
      ]
     },
     "execution_count": 1,
     "metadata": {},
     "output_type": "execute_result"
    }
   ],
   "source": [
    "# common imports\n",
    "import numpy as np\n",
    "import os\n",
    "\n",
    "from ib_insync import *\n",
    "util.startLoop()\n",
    "\n",
    "ib = IB()\n",
    "ib.connect('127.0.0.1', 7497, clientId=3)"
   ]
  },
  {
   "cell_type": "markdown",
   "metadata": {},
   "source": [
    "Test for connection"
   ]
  },
  {
   "cell_type": "code",
   "execution_count": 2,
   "metadata": {},
   "outputs": [
    {
     "data": {
      "text/plain": [
       "True"
      ]
     },
     "execution_count": 2,
     "metadata": {},
     "output_type": "execute_result"
    }
   ],
   "source": [
    "ib.isConnected()"
   ]
  },
  {
   "cell_type": "markdown",
   "metadata": {},
   "source": [
    "Select the Stock we wish to model. Data pulled using Interactive Brokers API."
   ]
  },
  {
   "cell_type": "code",
   "execution_count": 3,
   "metadata": {
    "scrolled": true
   },
   "outputs": [
    {
     "data": {
      "text/plain": [
       "datetime.datetime(2010, 6, 29, 8, 0)"
      ]
     },
     "execution_count": 3,
     "metadata": {},
     "output_type": "execute_result"
    }
   ],
   "source": [
    "\n",
    "contract = Stock('TSLA', 'SMART', 'USD')\n",
    "# shows date of first available historical data (how far back we can model).\n",
    "ib.reqHeadTimeStamp(contract, whatToShow='TRADES', useRTH=True)"
   ]
  },
  {
   "cell_type": "code",
   "execution_count": 39,
   "metadata": {},
   "outputs": [],
   "source": [
    "# TRADES HISTORICAL_VOLATILITY OPTION_IMPLIED_VOLATILITY. 90 day sample"
   ]
  },
  {
   "cell_type": "code",
   "execution_count": 4,
   "metadata": {},
   "outputs": [],
   "source": [
    "trade_data = ib.reqHistoricalData(\n",
    "        contract,\n",
    "        endDateTime='',\n",
    "        durationStr='90 D',\n",
    "        barSizeSetting='1 min',\n",
    "        whatToShow='TRADES',\n",
    "        useRTH=True,\n",
    "        formatDate=1)"
   ]
  },
  {
   "cell_type": "code",
   "execution_count": 17,
   "metadata": {},
   "outputs": [],
   "source": [
    "trade_data[1]\n",
    "\n",
    "np.save('tsla_trades_90day', trade_data)"
   ]
  },
  {
   "cell_type": "markdown",
   "metadata": {},
   "source": [
    " Option implied volitiilty data "
   ]
  },
  {
   "cell_type": "code",
   "execution_count": 7,
   "metadata": {},
   "outputs": [],
   "source": [
    "option_implied_vol = ib.reqHistoricalData(\n",
    "        contract,\n",
    "        endDateTime='',\n",
    "        durationStr='90 D',\n",
    "        barSizeSetting='1 min',\n",
    "        whatToShow='OPTION_IMPLIED_VOLATILITY',\n",
    "        useRTH=True,\n",
    "        formatDate=1)"
   ]
  },
  {
   "cell_type": "code",
   "execution_count": 18,
   "metadata": {
    "scrolled": false
   },
   "outputs": [
    {
     "name": "stdout",
     "output_type": "stream",
     "text": [
      "34911\n",
      "BarData(date=datetime.datetime(2018, 5, 8, 6, 31), open=301.67, high=302.44, low=301.67, close=302.08, volume=385, barCount=225, average=302.058)\n",
      "BarData(date=datetime.datetime(2018, 5, 8, 6, 31), open=0.42740525, high=0.43219935, low=0.42740525, close=0.43219935, average=0.43219935)\n"
     ]
    }
   ],
   "source": [
    "option_implied_vol[0]\n",
    "print(len(trade_data))\n",
    "print(trade_data[1])\n",
    "print(option_implied_vol[1])\n",
    "# trade_data[0]\n",
    "np.save('tsla_opt_vol_90day', option_implied_vol)"
   ]
  },
  {
   "cell_type": "code",
   "execution_count": null,
   "metadata": {},
   "outputs": [],
   "source": [
    "trades_back = "
   ]
  },
  {
   "cell_type": "markdown",
   "metadata": {},
   "source": [
    "Helper function to ready data"
   ]
  },
  {
   "cell_type": "code",
   "execution_count": 19,
   "metadata": {
    "scrolled": true
   },
   "outputs": [],
   "source": [
    "def data_prep(trade_data, option_implied_vol):\n",
    "    # convert into dataframes \n",
    "    df_trades = util.df(trade_data)\n",
    "    df_optImpVol = util.df(option_implied_vol)\n",
    "    # remove empty colums (volume, barcount) and rename columns so they dont conflict with Trades\n",
    "    df_optImpVol.drop(columns=['volume', 'barCount'], inplace=True)\n",
    "    # Rename cols\n",
    "    df_optImpVol.rename(index=str, columns={\"open\": \"volOpen\", \"high\":\"volHigh\", \"low\":\"volLow\", \"close\":\"volClose\", \"average\":\"volAverage\"})\n",
    "    # Merge datasets\n",
    "    df_merged = df_trades.merge(df_optImpVol, left_on='date', right_on='date', how='outer')\n",
    "    #  add new columns and normalize data. \n",
    "    #  ROC_min = close_x - open_x / open_x * 100    # Rate of change per minute\n",
    "    df_merged['ROC_min'] = ( df_merged['close_x'] - df_merged['open_x'] ) / ( df_merged['open_x']  ) \n",
    "    #  perMinVol = high_x - low_x / low_x * 100     # intra minute spread volitity\n",
    "    df_merged['perMinVol'] = ( df_merged['high_x'] - df_merged['low_x'] ) / df_merged['low_x'] \n",
    "    # adding 7day rolling mean for price \n",
    "    df_merged['rollMean_7day'] = df_merged['close_x'].rolling(2940).mean()\n",
    "    # drop unwanted columns: open_x, high_x, low_x, average_x, open_y, hight_y, low_y, average_y \n",
    "    df_merged.drop(columns=['date','open_x', 'high_x', 'low_x', 'average_x', 'open_y', 'high_y', 'low_y', 'average_y'], inplace=True)\n",
    "#     # Rename cols\n",
    "#     df_merged.rename(index=str, columns={\"close_x\":\"price_close\", \"close_y\":\"avgMinVol\"})\n",
    "#     df_merged.head(3)\n",
    "    df_merged.dropna(inplace=True)\n",
    "\n",
    "    return df_merged\n",
    "\n"
   ]
  },
  {
   "cell_type": "code",
   "execution_count": 20,
   "metadata": {
    "scrolled": true
   },
   "outputs": [
    {
     "name": "stdout",
     "output_type": "stream",
     "text": [
      "(31972, 7)\n",
      "      close_x  volume  barCount   close_y   ROC_min  perMinVol  rollMean_7day\n",
      "2939   285.74    49.0      31.0  0.424627  0.000525   0.000735     296.530024\n",
      "2940   286.04   131.0      72.0  0.424373  0.001225   0.002067     296.524694\n",
      "2941   285.82    48.0      34.0  0.424373 -0.000420   0.000700     296.519163\n",
      "(29022, 7)\n",
      "      close_x  volume  barCount   close_y   ROC_min  perMinVol  rollMean_7day\n",
      "5889   285.41    68.0      24.0  0.416674  0.000070   0.000806     279.646238\n",
      "5890   285.65    80.0      38.0  0.416674  0.001402   0.001402     279.646194\n",
      "5891   285.97   389.0     151.0  0.415753  0.001085   0.001925     279.646296\n"
     ]
    }
   ],
   "source": [
    "df = data_prep(trade_data, option_implied_vol)\n",
    "print(df.shape)\n",
    "print(df.head(3))\n",
    "# remove the NaN's from rollMean_7day\n",
    "df = df[2950 : ]\n",
    "print(df.shape)\n",
    "print(df.head(3))\n"
   ]
  },
  {
   "cell_type": "code",
   "execution_count": 11,
   "metadata": {
    "scrolled": true
   },
   "outputs": [
    {
     "name": "stderr",
     "output_type": "stream",
     "text": [
      "/Users/lorinfields/anaconda3/lib/python3.6/site-packages/h5py/__init__.py:36: FutureWarning: Conversion of the second argument of issubdtype from `float` to `np.floating` is deprecated. In future, it will be treated as `np.float64 == np.dtype(float).type`.\n",
      "  from ._conv import register_converters as _register_converters\n",
      "Using TensorFlow backend.\n"
     ]
    },
    {
     "name": "stdout",
     "output_type": "stream",
     "text": [
      "scaled [2.4954998e-01 7.3233247e-03 7.8302082e-03 1.7473215e-01 5.3896075e-01\n",
      " 3.1511240e-02 1.3446808e-04]\n",
      "This is reframed.head     var1(t-1)  var2(t-1)  var3(t-1)  var4(t-1)  var5(t-1)  var6(t-1)  \\\n",
      "1   0.247751   0.006225   0.004945   0.174732   0.511749   0.018123   \n",
      "2   0.249550   0.007323   0.007830   0.174732   0.538961   0.031511   \n",
      "3   0.251949   0.035610   0.031115   0.172237   0.532484   0.043267   \n",
      "4   0.250300   0.013090   0.012776   0.172237   0.491035   0.036180   \n",
      "5   0.249325   0.010070   0.007418   0.173872   0.502453   0.027559   \n",
      "\n",
      "   var7(t-1)   var1(t)  \n",
      "1   0.000135  0.249550  \n",
      "2   0.000134  0.251949  \n",
      "3   0.000136  0.250300  \n",
      "4   0.000137  0.249325  \n",
      "5   0.000136  0.246102  \n",
      "reframed shape (29021, 8)\n"
     ]
    }
   ],
   "source": [
    "from math import sqrt\n",
    "from numpy import concatenate\n",
    "from matplotlib import pyplot\n",
    "from pandas import read_csv\n",
    "from pandas import DataFrame\n",
    "from pandas import concat\n",
    "from sklearn.preprocessing import MinMaxScaler\n",
    "from sklearn.preprocessing import LabelEncoder\n",
    "from sklearn.metrics import mean_squared_error\n",
    "from keras.models import Sequential\n",
    "from keras.layers import Dense\n",
    "from keras.layers import LSTM\n",
    " \n",
    "# convert series to supervised learning\n",
    "def series_to_supervised(data, n_in=1, n_out=1, dropnan=True):\n",
    "\tn_vars = 1 if type(data) is list else data.shape[1]\n",
    "\tdf = DataFrame(data)\n",
    "\tcols, names = list(), list()\n",
    "\t# input sequence (t-n, ... t-1)\n",
    "\tfor i in range(n_in, 0, -1):\n",
    "\t\tcols.append(df.shift(i))\n",
    "\t\tnames += [('var%d(t-%d)' % (j+1, i)) for j in range(n_vars)]\n",
    "\t# forecast sequence (t, t+1, ... t+n)\n",
    "\tfor i in range(0, n_out):\n",
    "\t\tcols.append(df.shift(-i))\n",
    "\t\tif i == 0:\n",
    "\t\t\tnames += [('var%d(t)' % (j+1)) for j in range(n_vars)]\n",
    "\t\telse:\n",
    "\t\t\tnames += [('var%d(t+%d)' % (j+1, i)) for j in range(n_vars)]\n",
    "\t# put it all together\n",
    "\tagg = concat(cols, axis=1)\n",
    "\tagg.columns = names\n",
    "\t# drop rows with NaN values\n",
    "\tif dropnan:\n",
    "\t\tagg.dropna(inplace=True)\n",
    "\treturn agg\n",
    " \n",
    "# load dataset\n",
    "# dataset = read_csv('/Users/lorinfields/Downloads/pollution.csv', header=0, index_col=0)\n",
    "dataset = df\n",
    "\n",
    "values = dataset.values\n",
    "# integer encode direction\n",
    "# encoder = LabelEncoder()\n",
    "# values[:,4] = encoder.fit_transform(values[:,4])\n",
    "# # ensure all data is float\n",
    "values = values.astype('float32')\n",
    "# normalize features\n",
    "scaler = MinMaxScaler(feature_range=(0, 1))\n",
    "scaled = scaler.fit_transform(values)\n",
    "print('scaled', scaled[1])\n",
    "# frame as supervised learning\n",
    "reframed = series_to_supervised(scaled, 1, 1)\n",
    "\n",
    "# drop columns we don't want to predict\n",
    "reframed.drop(reframed.columns[[8,9,10,11,12,13]], axis=1, inplace=True)\n",
    "print('This is reframed.head ', reframed.head())\n",
    "print('reframed shape', reframed.shape)"
   ]
  },
  {
   "cell_type": "code",
   "execution_count": 12,
   "metadata": {
    "scrolled": true
   },
   "outputs": [
    {
     "name": "stdout",
     "output_type": "stream",
     "text": [
      "(29021, 8)\n",
      "[2.4775112e-01 6.2248260e-03 4.9453946e-03 1.7473215e-01 5.1174867e-01\n",
      " 1.8122775e-02 1.3518333e-04 2.4954998e-01]\n",
      "(25000, 1, 7) (25000,) (4021, 1, 7) (4021,)\n"
     ]
    }
   ],
   "source": [
    " \n",
    "# split into train and test sets\n",
    "values = reframed.values\n",
    "n_train_min = 25000\n",
    "print(values.shape)\n",
    "print(values[0])\n",
    "train = values[:n_train_min, :]\n",
    "test = values[n_train_min:, :]\n",
    "# split into input and outputs\n",
    "train_X, train_y = train[:, :-1], train[:, -1]\n",
    "test_X, test_y = test[:, :-1], test[:, -1]\n",
    "# reshape input to be 3D [samples, timesteps, features]\n",
    "train_X = train_X.reshape((train_X.shape[0], 1, train_X.shape[1]))\n",
    "test_X = test_X.reshape((test_X.shape[0], 1, test_X.shape[1]))\n",
    "print(train_X.shape, train_y.shape, test_X.shape, test_y.shape)\n"
   ]
  },
  {
   "cell_type": "code",
   "execution_count": 13,
   "metadata": {
    "scrolled": true
   },
   "outputs": [
    {
     "name": "stdout",
     "output_type": "stream",
     "text": [
      "Train on 25000 samples, validate on 4021 samples\n",
      "Epoch 1/50\n",
      " - 3s - loss: 0.0114 - val_loss: 0.0286\n",
      "Epoch 2/50\n",
      " - 1s - loss: 0.0055 - val_loss: 0.0202\n",
      "Epoch 3/50\n",
      " - 1s - loss: 0.0038 - val_loss: 0.0104\n",
      "Epoch 4/50\n",
      " - 1s - loss: 0.0027 - val_loss: 0.0037\n",
      "Epoch 5/50\n",
      " - 1s - loss: 0.0022 - val_loss: 9.5614e-04\n",
      "Epoch 6/50\n",
      " - 1s - loss: 0.0019 - val_loss: 2.0426e-04\n",
      "Epoch 7/50\n",
      " - 1s - loss: 0.0017 - val_loss: 2.9302e-04\n",
      "Epoch 8/50\n",
      " - 1s - loss: 0.0015 - val_loss: 5.9860e-04\n",
      "Epoch 9/50\n",
      " - 1s - loss: 0.0012 - val_loss: 8.0506e-04\n",
      "Epoch 10/50\n",
      " - 1s - loss: 8.5931e-04 - val_loss: 8.4478e-04\n",
      "Epoch 11/50\n",
      " - 1s - loss: 6.2390e-04 - val_loss: 7.5181e-04\n",
      "Epoch 12/50\n",
      " - 1s - loss: 4.5531e-04 - val_loss: 5.8505e-04\n",
      "Epoch 13/50\n",
      " - 1s - loss: 3.4467e-04 - val_loss: 4.0694e-04\n",
      "Epoch 14/50\n",
      " - 1s - loss: 2.7861e-04 - val_loss: 2.7792e-04\n",
      "Epoch 15/50\n",
      " - 1s - loss: 2.4309e-04 - val_loss: 2.3155e-04\n",
      "Epoch 16/50\n",
      " - 1s - loss: 2.2423e-04 - val_loss: 2.5589e-04\n",
      "Epoch 17/50\n",
      " - 1s - loss: 2.1051e-04 - val_loss: 3.0345e-04\n",
      "Epoch 18/50\n",
      " - 1s - loss: 1.9633e-04 - val_loss: 3.3110e-04\n",
      "Epoch 19/50\n",
      " - 1s - loss: 1.8210e-04 - val_loss: 3.2878e-04\n",
      "Epoch 20/50\n",
      " - 1s - loss: 1.6981e-04 - val_loss: 3.0954e-04\n",
      "Epoch 21/50\n",
      " - 1s - loss: 1.5911e-04 - val_loss: 2.8642e-04\n",
      "Epoch 22/50\n",
      " - 1s - loss: 1.4940e-04 - val_loss: 2.6016e-04\n",
      "Epoch 23/50\n",
      " - 1s - loss: 1.4057e-04 - val_loss: 2.2258e-04\n",
      "Epoch 24/50\n",
      " - 1s - loss: 1.3216e-04 - val_loss: 1.7299e-04\n",
      "Epoch 25/50\n",
      " - 1s - loss: 1.2317e-04 - val_loss: 1.2320e-04\n",
      "Epoch 26/50\n",
      " - 1s - loss: 1.1244e-04 - val_loss: 8.7751e-05\n",
      "Epoch 27/50\n",
      " - 1s - loss: 9.9306e-05 - val_loss: 7.2131e-05\n",
      "Epoch 28/50\n",
      " - 1s - loss: 8.4177e-05 - val_loss: 7.1980e-05\n",
      "Epoch 29/50\n",
      " - 1s - loss: 6.8622e-05 - val_loss: 7.8949e-05\n",
      "Epoch 30/50\n",
      " - 1s - loss: 5.4541e-05 - val_loss: 8.6463e-05\n",
      "Epoch 31/50\n",
      " - 1s - loss: 4.3713e-05 - val_loss: 1.0564e-04\n",
      "Epoch 32/50\n",
      " - 1s - loss: 3.7261e-05 - val_loss: 1.7890e-04\n",
      "Epoch 33/50\n",
      " - 1s - loss: 3.5163e-05 - val_loss: 3.1093e-04\n",
      "Epoch 34/50\n",
      " - 1s - loss: 3.6783e-05 - val_loss: 4.4206e-04\n",
      "Epoch 35/50\n",
      " - 1s - loss: 4.0432e-05 - val_loss: 5.4096e-04\n",
      "Epoch 36/50\n",
      " - 1s - loss: 4.4949e-05 - val_loss: 6.0795e-04\n",
      "Epoch 37/50\n",
      " - 1s - loss: 4.9852e-05 - val_loss: 6.3573e-04\n",
      "Epoch 38/50\n",
      " - 1s - loss: 5.3838e-05 - val_loss: 6.1039e-04\n",
      "Epoch 39/50\n",
      " - 1s - loss: 5.5462e-05 - val_loss: 5.3636e-04\n",
      "Epoch 40/50\n",
      " - 1s - loss: 5.4830e-05 - val_loss: 4.4173e-04\n",
      "Epoch 41/50\n",
      " - 1s - loss: 5.2610e-05 - val_loss: 3.5628e-04\n",
      "Epoch 42/50\n",
      " - 1s - loss: 4.9343e-05 - val_loss: 2.9392e-04\n",
      "Epoch 43/50\n",
      " - 1s - loss: 4.5557e-05 - val_loss: 2.5565e-04\n",
      "Epoch 44/50\n",
      " - 1s - loss: 4.1822e-05 - val_loss: 2.3611e-04\n",
      "Epoch 45/50\n",
      " - 1s - loss: 3.8738e-05 - val_loss: 2.2830e-04\n",
      "Epoch 46/50\n",
      " - 1s - loss: 3.6612e-05 - val_loss: 2.2636e-04\n",
      "Epoch 47/50\n",
      " - 1s - loss: 3.5533e-05 - val_loss: 2.2892e-04\n",
      "Epoch 48/50\n",
      " - 1s - loss: 3.5379e-05 - val_loss: 2.3820e-04\n",
      "Epoch 49/50\n",
      " - 1s - loss: 3.6122e-05 - val_loss: 2.5985e-04\n",
      "Epoch 50/50\n",
      " - 1s - loss: 3.7855e-05 - val_loss: 3.0117e-04\n"
     ]
    },
    {
     "data": {
      "image/png": "[encoded data removed]",
      "text/plain": [
       "<Figure size 432x288 with 1 Axes>"
      ]
     },
     "metadata": {},
     "output_type": "display_data"
    }
   ],
   "source": [
    "# *** Now we can define and fit our LSTM model.\n",
    "# We will define the LSTM with 50 neurons in the first hidden layer and 1 neuron in the output layer for predicting pollution. The input shape will be 1 time step with 8 features.\n",
    "# We will use the Mean Absolute Error (MAE) loss function and the efficient Adam version of stochastic gradient descent.\n",
    "# The model will be fit for 50 training epochs with a batch size of 72. Remember that the internal state of the LSTM in Keras is reset at the end of each batch, so an internal state that is a function of a number of days may be helpful (try testing this).\n",
    "# Finally, we keep track of both the training and test loss during training by setting the validation_data argument in the fit() function. At the end of the run both the training and test loss are plotted.\n",
    "# ***\n",
    "# design network\n",
    "model = Sequential()\n",
    "model.add(LSTM(50, input_shape=(train_X.shape[1], train_X.shape[2])))\n",
    "model.add(Dense(1))\n",
    "# model.compile(loss='mae', optimizer='adam')\n",
    "model.compile(loss='mse', optimizer='adam')\n",
    "\n",
    "# fit network\n",
    "history = model.fit(train_X, train_y, epochs=50, batch_size=72, validation_data=(test_X, test_y), verbose=2, shuffle=False)\n",
    "# plot history\n",
    "pyplot.plot(history.history['loss'], label='train')\n",
    "pyplot.plot(history.history['val_loss'], label='test')\n",
    "pyplot.legend()\n",
    "pyplot.show()\n",
    " \n"
   ]
  },
  {
   "cell_type": "code",
   "execution_count": 14,
   "metadata": {
    "scrolled": false
   },
   "outputs": [
    {
     "name": "stdout",
     "output_type": "stream",
     "text": [
      "Test RMSE: 2.315\n",
      "(4021,)\n",
      "(4021,)\n",
      "301.3004\n",
      "301.07\n",
      "4021\n",
      "totalGain $ -24284.625127618023\n",
      "totalBuys 3866\n",
      "Annualized gain: $ -789250.3166475857\n"
     ]
    }
   ],
   "source": [
    "# make a prediction\n",
    "yhat = model.predict(test_X)\n",
    "test_X = test_X.reshape((test_X.shape[0], test_X.shape[2]))\n",
    "# invert scaling for forecast\n",
    "inv_yhat = concatenate((yhat, test_X[:, 1:]), axis=1)\n",
    "inv_yhat = scaler.inverse_transform(inv_yhat)\n",
    "inv_yhat = inv_yhat[:,0]\n",
    "# invert scaling for actual\n",
    "test_y = test_y.reshape((len(test_y), 1))\n",
    "inv_y = concatenate((test_y, test_X[:, 1:]), axis=1)\n",
    "inv_y = scaler.inverse_transform(inv_y)\n",
    "inv_y = inv_y[:,0]\n",
    "# calculate RMSE\n",
    "rmse = sqrt(mean_squared_error(inv_y, inv_yhat))\n",
    "print('Test RMSE: %.3f' % rmse)\n",
    "print(inv_yhat.shape)\n",
    "print(inv_y.shape)\n",
    "print(inv_yhat[500])\n",
    "print(inv_y[500])\n",
    "runs = len(inv_y)\n",
    "print(runs)\n",
    "# if the model predicts the stock is going up it buys $1M a minute worth of shares and sells the following minute.\n",
    "# if the stock does indeed gain the net is added to total. If it loses the net loss is subtracted \n",
    "# from total.\n",
    "totalGain = 0\n",
    "totalBuys = 0\n",
    "for i in range(runs - 1):\n",
    "    if ((inv_yhat[i + 1] - inv_y[i]) > .3 ):\n",
    "        shares = 1000000 / inv_y[i]\n",
    "        gainPerShare = inv_y[i + 1] - inv_y[i] \n",
    "        totalGain += shares * gainPerShare\n",
    "        totalBuys += 1\n",
    "#         print('gain= ', inv_yhat[i + 1] - inv_y[i])\n",
    "#         print('% gain= ', ((inv_yhat[i + 1] - inv_y[i]) / inv_y[i]))\n",
    "              \n",
    "print('totalGain $', totalGain)\n",
    "print('totalBuys', totalBuys)\n",
    "annGain = totalGain * 32.5\n",
    "print('Annualized gain: $', annGain)\n",
    "# print('real and proj', inv_y[20], inv_yhat[20])\n",
    "    \n",
    "    \n"
   ]
  },
  {
   "cell_type": "code",
   "execution_count": 15,
   "metadata": {},
   "outputs": [],
   "source": [
    "# save the trained model for export\n",
    "# save model to single file\n",
    "model.save('/Users/lorinfields/Dropbox/Lambda/mlai/iblocal/lstm_model.h5')"
   ]
  },
  {
   "cell_type": "code",
   "execution_count": 16,
   "metadata": {},
   "outputs": [],
   "source": [
    "ib.disconnect()"
   ]
  }
 ],
 "metadata": {
  "kernelspec": {
   "display_name": "Python 3",
   "language": "python",
   "name": "python3"
  },
  "language_info": {
   "codemirror_mode": {
    "name": "ipython",
    "version": 3
   },
   "file_extension": ".py",
   "mimetype": "text/x-python",
   "name": "python",
   "nbconvert_exporter": "python",
   "pygments_lexer": "ipython3",
   "version": "3.6.5"
  }
 },
 "nbformat": 4,
 "nbformat_minor": 2
}
